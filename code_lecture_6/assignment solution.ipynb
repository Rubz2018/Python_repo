{
 "cells": [
  {
   "cell_type": "markdown",
   "metadata": {},
   "source": [
    "## Class Assignment Problems:"
   ]
  },
  {
   "cell_type": "markdown",
   "metadata": {},
   "source": [
    "### 1. Bank Account Management System where we create a BankAccount class that allows a user to deposit and withdraw money. Possible variables are account_name, balance"
   ]
  },
  {
   "cell_type": "code",
   "execution_count": 4,
   "metadata": {},
   "outputs": [
    {
     "name": "stdout",
     "output_type": "stream",
     "text": [
      "$500 deposited. New balance: BDT 1500\n",
      "$300 withdrawn. Remaining balance: BDT 1200\n",
      "Final Balance: 1200\n"
     ]
    }
   ],
   "source": [
    "class BankAccount:\n",
    "    def __init__(self, account_name, balance=0):\n",
    "        self.account_name = account_name\n",
    "        self.balance = balance\n",
    "\n",
    "    def deposit(self, amount):\n",
    "        if amount > 0:\n",
    "            self.balance += amount\n",
    "            print(f\"${amount} deposited. New balance: BDT {self.balance}\")\n",
    "        else:\n",
    "            print(\"Invalid deposit amount.\")\n",
    "\n",
    "    def withdraw(self, amount):\n",
    "        if 0 < amount <= self.balance:\n",
    "            self.balance -= amount\n",
    "            print(f\"${amount} withdrawn. Remaining balance: BDT {self.balance}\")\n",
    "        else:\n",
    "            print(\"Invalid withdrawal amount or insufficient funds.\")\n",
    "\n",
    "    def get_balance(self):\n",
    "        return self.balance\n",
    "\n",
    "# Example usage:\n",
    "acc = BankAccount(\"Taukir\", 1000)\n",
    "acc.deposit(500)\n",
    "acc.withdraw(300)\n",
    "print(\"Final Balance:\", acc.get_balance())\n"
   ]
  },
  {
   "cell_type": "markdown",
   "metadata": {},
   "source": [
    "### 2. Hospital Management System :  This system has a base class Person and two subclasses: Doctor and Patient that inherit attributes and define additional ones.\n",
    "Base/parent class (Person) attributes : name , age, gender\n",
    "child/sub class Doctor attributes : name,age, gender, speciality, salary\n",
    "child/sub class Patient attributes : name,age, gender, Disease, Fee"
   ]
  },
  {
   "cell_type": "code",
   "execution_count": 5,
   "metadata": {},
   "outputs": [
    {
     "name": "stdout",
     "output_type": "stream",
     "text": [
      "Doctor: Dr. Sabur Khan, Age: 65, Gender: Male, Speciality: Cardiology, Salary: BDT 150000\n",
      "Patient: Taukir, Age: 27, Gender: Male, Disease: Fever, Fee: BDT 1000\n"
     ]
    }
   ],
   "source": [
    "# Base class\n",
    "class Person:\n",
    "    def __init__(self, name, age, gender):\n",
    "        self.name = name\n",
    "        self.age = age\n",
    "        self.gender = gender\n",
    "\n",
    "# Doctor subclass\n",
    "class Doctor(Person):\n",
    "    def __init__(self, name, age, gender, speciality, salary):\n",
    "        super().__init__(name, age, gender)\n",
    "        self.speciality = speciality\n",
    "        self.salary = salary\n",
    "\n",
    "    def display_info(self):\n",
    "        print(f\"Doctor: {self.name}, Age: {self.age}, Gender: {self.gender}, \"\n",
    "              f\"Speciality: {self.speciality}, Salary: BDT {self.salary}\")\n",
    "\n",
    "# Patient subclass\n",
    "class Patient(Person):\n",
    "    def __init__(self, name, age, gender, disease, fee):\n",
    "        super().__init__(name, age, gender)\n",
    "        self.disease = disease\n",
    "        self.fee = fee\n",
    "\n",
    "    def display_info(self):\n",
    "        print(f\"Patient: {self.name}, Age: {self.age}, Gender: {self.gender}, \"\n",
    "              f\"Disease: {self.disease}, Fee: BDT {self.fee}\")\n",
    "\n",
    "# Example usage:\n",
    "doc = Doctor(\"Dr. Sabur Khan\", 65, \"Male\", \"Cardiology\", 150000)\n",
    "pat = Patient(\"Taukir\", 27, \"Male\", \"Fever\", 1000)\n",
    "\n",
    "doc.display_info()\n",
    "pat.display_info()\n"
   ]
  },
  {
   "cell_type": "markdown",
   "metadata": {},
   "source": [
    "## Home Assignemnt"
   ]
  },
  {
   "cell_type": "markdown",
   "metadata": {},
   "source": [
    "### 1. A system where a SmartDevice class represents a smart home device (like a light bulb) that can be turned on or off."
   ]
  },
  {
   "cell_type": "code",
   "execution_count": null,
   "metadata": {},
   "outputs": [],
   "source": [
    "class SmartDevice:\n",
    "    def __init__(self, name):\n",
    "        self.name = name\n",
    "        self.status = False  # False means OFF, True means ON\n",
    "\n",
    "    def turn_on(self):\n",
    "        if not self.status:\n",
    "            self.status = True\n",
    "            print(f\"{self.name} is now ON.\")\n",
    "        else:\n",
    "            print(f\"{self.name} is already ON.\")\n",
    "\n",
    "    def turn_off(self):\n",
    "        if self.status:\n",
    "            self.status = False\n",
    "            print(f\"{self.name} is now OFF.\")\n",
    "        else:\n",
    "            print(f\"{self.name} is already OFF.\")\n",
    "\n",
    "    def check_status(self):\n",
    "        state = \"ON\" if self.status else \"OFF\"\n",
    "        print(f\"{self.name} is currently {state}.\")\n",
    "        return state\n",
    "\n",
    "# Example usage:\n",
    "light = SmartDevice(\"Living Room Light\")\n",
    "light.check_status()\n",
    "light.turn_on()\n",
    "light.check_status()\n",
    "light.turn_off()\n",
    "light.check_status()\n"
   ]
  },
  {
   "cell_type": "markdown",
   "metadata": {},
   "source": [
    "### 2. A system where a Book class manages book information and checks if a book is available for borrowing."
   ]
  },
  {
   "cell_type": "code",
   "execution_count": null,
   "metadata": {},
   "outputs": [],
   "source": [
    "class Book:\n",
    "    def __init__(self, title, author, total_copies):\n",
    "        self.title = title\n",
    "        self.author = author\n",
    "        self.total_copies = total_copies\n",
    "        self.borrowed_copies = 0\n",
    "\n",
    "    def is_available(self):\n",
    "        return self.total_copies > self.borrowed_copies\n",
    "\n",
    "    def borrow(self):\n",
    "        if self.is_available():\n",
    "            self.borrowed_copies += 1\n",
    "            print(f\"You have successfully borrowed '{self.title}'.\")\n",
    "        else:\n",
    "            print(f\"Sorry, '{self.title}' is currently not available.\")\n",
    "\n",
    "    def return_book(self):\n",
    "        if self.borrowed_copies > 0:\n",
    "            self.borrowed_copies -= 1\n",
    "            print(f\"You have successfully returned '{self.title}'.\")\n",
    "        else:\n",
    "            print(f\"No copies of '{self.title}' are currently borrowed.\")\n",
    "\n",
    "    def status(self):\n",
    "        available = self.total_copies - self.borrowed_copies\n",
    "        print(f\"'{self.title}' by {self.author} — Available: {available}/{self.total_copies}\")\n",
    "        return available\n",
    "\n",
    "# Example usage:\n",
    "book1 = Book(\"1984\", \"George Orwell\", 3)\n",
    "book1.status()\n",
    "book1.borrow()\n",
    "book1.status()\n",
    "book1.borrow()\n",
    "book1.borrow()\n",
    "book1.borrow()  # Should print not available\n",
    "book1.return_book()\n",
    "book1.status()\n"
   ]
  },
  {
   "cell_type": "markdown",
   "metadata": {},
   "source": [
    "### 3. Vehicle Management System: This system has a base class Vehicle and two subclasses: Car and Bike that inherit common attributes and define additional ones."
   ]
  },
  {
   "cell_type": "code",
   "execution_count": null,
   "metadata": {},
   "outputs": [],
   "source": [
    "# Base class\n",
    "class Vehicle:\n",
    "    def __init__(self, brand, model, year):\n",
    "        self.brand = brand\n",
    "        self.model = model\n",
    "        self.year = year\n",
    "\n",
    "    def display_info(self):\n",
    "        print(f\"Vehicle: {self.brand} {self.model}, Year: {self.year}\")\n",
    "\n",
    "# Subclass: Car\n",
    "class Car(Vehicle):\n",
    "    def __init__(self, brand, model, year, doors, fuel_type):\n",
    "        super().__init__(brand, model, year)\n",
    "        self.doors = doors\n",
    "        self.fuel_type = fuel_type\n",
    "\n",
    "    def display_info(self):\n",
    "        super().display_info()\n",
    "        print(f\"Car Details -> Doors: {self.doors}, Fuel: {self.fuel_type}\")\n",
    "\n",
    "# Subclass: Bike\n",
    "class Bike(Vehicle):\n",
    "    def __init__(self, brand, model, year, bike_type, has_carrier):\n",
    "        super().__init__(brand, model, year)\n",
    "        self.bike_type = bike_type  # e.g., sports, cruiser\n",
    "        self.has_carrier = has_carrier\n",
    "\n",
    "    def display_info(self):\n",
    "        super().display_info()\n",
    "        carrier_status = \"Yes\" if self.has_carrier else \"No\"\n",
    "        print(f\"Bike Details -> Type: {self.bike_type}, Carrier: {carrier_status}\")\n",
    "\n",
    "# Example usage:\n",
    "car1 = Car(\"Toyota\", \"Corolla\", 2022, 4, \"Petrol\")\n",
    "bike1 = Bike(\"Yamaha\", \"R15\", 2021, \"Sports\", False)\n",
    "\n",
    "car1.display_info()\n",
    "print()\n",
    "bike1.display_info()\n"
   ]
  }
 ],
 "metadata": {
  "kernelspec": {
   "display_name": "Python 3",
   "language": "python",
   "name": "python3"
  },
  "language_info": {
   "codemirror_mode": {
    "name": "ipython",
    "version": 3
   },
   "file_extension": ".py",
   "mimetype": "text/x-python",
   "name": "python",
   "nbconvert_exporter": "python",
   "pygments_lexer": "ipython3",
   "version": "3.11.9"
  }
 },
 "nbformat": 4,
 "nbformat_minor": 2
}
