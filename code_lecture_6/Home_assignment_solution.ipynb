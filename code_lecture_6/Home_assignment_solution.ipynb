{
 "cells": [
  {
   "cell_type": "markdown",
   "metadata": {},
   "source": [
    "### Smart Home Device Control System\n",
    "A system where a SmartDevice class represents a smart home device (like a light bulb) that can be turned on or off."
   ]
  },
  {
   "cell_type": "code",
   "execution_count": 1,
   "metadata": {},
   "outputs": [
    {
     "name": "stdout",
     "output_type": "stream",
     "text": [
      "Device: Living Room Light, Status: Off\n",
      "Living Room Light is now ON.\n",
      "Living Room Light is now OFF.\n"
     ]
    }
   ],
   "source": [
    "# Create a SmartDevice class\n",
    "class SmartDevice:\n",
    "    def __init__(self, device_name, status=\"Off\"):  # Constructor to initialize device name and status\n",
    "        self.device_name = device_name\n",
    "        self.status = status\n",
    "\n",
    "    def turn_on(self):  # Method to turn the device on\n",
    "        self.status = \"On\"\n",
    "        print(f\"{self.device_name} is now ON.\")\n",
    "\n",
    "    def turn_off(self):  # Method to turn the device off\n",
    "        self.status = \"Off\"\n",
    "        print(f\"{self.device_name} is now OFF.\")\n",
    "\n",
    "# Creating a smart device object\n",
    "light = SmartDevice(\"Living Room Light\")\n",
    "\n",
    "# Check initial status\n",
    "print(f\"Device: {light.device_name}, Status: {light.status}\")\n",
    "\n",
    "# Control the device\n",
    "light.turn_on()\n",
    "light.turn_off()\n"
   ]
  },
  {
   "cell_type": "markdown",
   "metadata": {},
   "source": [
    "### Library Book Management System\n",
    "A system where a Book class manages book information and checks if a book is available for borrowing.\n"
   ]
  },
  {
   "cell_type": "code",
   "execution_count": 2,
   "metadata": {},
   "outputs": [
    {
     "name": "stdout",
     "output_type": "stream",
     "text": [
      "Book: 1984, Available: True\n",
      "You have borrowed '1984' by George Orwell.\n",
      "Sorry, '1984' is already borrowed.\n",
      "'1984' has been returned and is now available.\n"
     ]
    }
   ],
   "source": [
    "# Create a Book class\n",
    "class Book:\n",
    "    def __init__(self, title, author, available=True):  # Constructor to initialize book details\n",
    "        self.title = title\n",
    "        self.author = author\n",
    "        self.available = available\n",
    "\n",
    "    def borrow(self):  # Method to borrow the book\n",
    "        if self.available:\n",
    "            self.available = False\n",
    "            print(f\"You have borrowed '{self.title}' by {self.author}.\")\n",
    "        else:\n",
    "            print(f\"Sorry, '{self.title}' is already borrowed.\")\n",
    "\n",
    "    def return_book(self):  # Method to return the book\n",
    "        self.available = True\n",
    "        print(f\"'{self.title}' has been returned and is now available.\")\n",
    "\n",
    "# Creating a book object\n",
    "book1 = Book(\"1984\", \"George Orwell\")\n",
    "\n",
    "# Check book availability\n",
    "print(f\"Book: {book1.title}, Available: {book1.available}\")\n",
    "\n",
    "# Borrow the book\n",
    "book1.borrow()\n",
    "book1.borrow()  # This should show that the book is already borrowed\n",
    "\n",
    "# Return the book\n",
    "book1.return_book()\n"
   ]
  },
  {
   "cell_type": "markdown",
   "metadata": {},
   "source": [
    "### Vehicle Management System\n",
    "This system has a base class Vehicle and two subclasses: Car and Bike that inherit common attributes and define additional ones."
   ]
  },
  {
   "cell_type": "code",
   "execution_count": 3,
   "metadata": {},
   "outputs": [
    {
     "name": "stdout",
     "output_type": "stream",
     "text": [
      "Car Details\n",
      "-----------\n",
      "Brand: Toyota\n",
      "Model: Camry\n",
      "Year: 2022\n",
      "Doors: 4\n",
      "Fuel Type: Petrol\n",
      "\n",
      "Bike Details\n",
      "------------\n",
      "Brand: Yamaha\n",
      "Model: R15\n",
      "Year: 2021\n",
      "Engine Capacity: 155cc\n",
      "Type: Sports\n"
     ]
    }
   ],
   "source": [
    "# Parent Class\n",
    "class Vehicle:\n",
    "    def __init__(self, brand, model, year):\n",
    "        self.brand = brand\n",
    "        self.model = model\n",
    "        self.year = year\n",
    "    \n",
    "    def VehicleInfo(self):\n",
    "        print(f\"Brand: {self.brand}\")\n",
    "        print(f\"Model: {self.model}\")\n",
    "        print(f\"Year: {self.year}\")\n",
    "\n",
    "# Child Class for Cars\n",
    "class Car(Vehicle):\n",
    "    def __init__(self, brand, model, year, doors, fuel_type):\n",
    "        super().__init__(brand, model, year)\n",
    "        self.doors = doors\n",
    "        self.fuel_type = fuel_type\n",
    "\n",
    "    def CarInfo(self):\n",
    "        print(f\"Doors: {self.doors}\")\n",
    "        print(f\"Fuel Type: {self.fuel_type}\")\n",
    "\n",
    "# Child Class for Bikes\n",
    "class Bike(Vehicle):\n",
    "    def __init__(self, brand, model, year, engine_capacity, type_bike):\n",
    "        super().__init__(brand, model, year)\n",
    "        self.engine_capacity = engine_capacity\n",
    "        self.type_bike = type_bike\n",
    "\n",
    "    def BikeInfo(self):\n",
    "        print(f\"Engine Capacity: {self.engine_capacity}cc\")\n",
    "        print(f\"Type: {self.type_bike}\")\n",
    "\n",
    "# Creating objects\n",
    "car1 = Car(\"Toyota\", \"Camry\", 2022, 4, \"Petrol\")\n",
    "print(\"Car Details\")\n",
    "print(\"-----------\")\n",
    "car1.VehicleInfo()\n",
    "car1.CarInfo()\n",
    "print()\n",
    "\n",
    "bike1 = Bike(\"Yamaha\", \"R15\", 2021, 155, \"Sports\")\n",
    "print(\"Bike Details\")\n",
    "print(\"------------\")\n",
    "bike1.VehicleInfo()\n",
    "bike1.BikeInfo()\n"
   ]
  }
 ],
 "metadata": {
  "kernelspec": {
   "display_name": "base",
   "language": "python",
   "name": "python3"
  },
  "language_info": {
   "codemirror_mode": {
    "name": "ipython",
    "version": 3
   },
   "file_extension": ".py",
   "mimetype": "text/x-python",
   "name": "python",
   "nbconvert_exporter": "python",
   "pygments_lexer": "ipython3",
   "version": "3.9.13"
  }
 },
 "nbformat": 4,
 "nbformat_minor": 2
}
