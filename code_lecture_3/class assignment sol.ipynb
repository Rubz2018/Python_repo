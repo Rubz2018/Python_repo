{
 "cells": [
  {
   "cell_type": "code",
   "execution_count": null,
   "metadata": {},
   "outputs": [],
   "source": [
    "# Looping Through Dictionary\n",
    "# 1. Loop through a dictionary and print each key and value\n",
    "data = {'a': 1, 'b': 2, 'c': 3}\n",
    "for key, value in data.items():\n",
    "    print(f\"{key}: {value}\")\n",
    "\n",
    "# 2. Find and print all keys that have values greater than a given number\n",
    "def find_keys_greater_than(dictionary, threshold):\n",
    "    return [key for key, value in dictionary.items() if value > threshold]\n",
    "\n",
    "threshold = 1\n",
    "print(find_keys_greater_than(data, threshold))\n",
    "\n",
    "# 3. Count the occurrences of each value in a dictionary without using special functions\n",
    "def count_value_occurrences(dictionary):\n",
    "    value_counts = {}\n",
    "    for value in dictionary.values():\n",
    "        if value in value_counts:\n",
    "            value_counts[value] += 1\n",
    "        else:\n",
    "            value_counts[value] = 1\n",
    "    return value_counts\n",
    "\n",
    "\n",
    "data = {'a': 1, 'b': 2, 'c': 2, 'd': 3}\n",
    "print(count_value_occurrences(data))\n",
    "\n",
    "# 4. Filter out dictionary items where values are less than a threshold\n",
    "def filter_dict_by_value(dictionary, min_value):\n",
    "    return {k: v for k, v in dictionary.items() if v >= min_value}\n",
    "\n",
    "print(filter_dict_by_value(data, 2))\n",
    "\n",
    "# 5. Print dictionary items in sorted order of their keys\n",
    "def sort_dict_by_keys(dictionary):\n",
    "    return dict(sorted(dictionary.items()))\n",
    "\n",
    "print(sort_dict_by_keys(data))\n"
   ]
  }
 ],
 "metadata": {
  "kernelspec": {
   "display_name": "base",
   "language": "python",
   "name": "python3"
  },
  "language_info": {
   "name": "python",
   "version": "3.9.13"
  }
 },
 "nbformat": 4,
 "nbformat_minor": 2
}
