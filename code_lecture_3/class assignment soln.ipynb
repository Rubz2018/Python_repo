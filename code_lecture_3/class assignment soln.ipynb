{
 "cells": [
  {
   "cell_type": "markdown",
   "id": "e0806967",
   "metadata": {},
   "source": [
    "Looping Through Dictionary"
   ]
  },
  {
   "cell_type": "code",
   "execution_count": null,
   "id": "c6c55d06",
   "metadata": {},
   "outputs": [],
   "source": [
    "# Loop through a dictionary and print each key and value.\n",
    "data = {'a': 10, 'b': 25, 'c': 5, 'd': 40}\n",
    "for key, value in data.items():\n",
    "    print(key, value)\n",
    "\n",
    "# Find and print all keys that have values greater than a given number.\n",
    "for key, value in data.items():\n",
    "    if value > 20:\n",
    "        print(\"Greater than 20:\", key)\n",
    "\n",
    "# Count the occurrences of each value in a dictionary.\n",
    "values = list(data.values())\n",
    "count_dict = {}\n",
    "for value in values:\n",
    "    count_dict[value] = count_dict.get(value, 0) + 1\n",
    "print(count_dict)\n",
    "\n",
    "# Filter out dictionary items where values are less than a threshold.\n",
    "filtered = {k: v for k, v in data.items() if v >= 20}\n",
    "print(\"Filtered:\", filtered)\n",
    "\n",
    "# Print dictionary items in sorted order of their keys.\n",
    "for key in sorted(data):\n",
    "    print(key, data[key])"
   ]
  },
  {
   "cell_type": "markdown",
   "id": "991183d1",
   "metadata": {},
   "source": [
    "String Slicing & Iteration"
   ]
  },
  {
   "cell_type": "code",
   "execution_count": null,
   "id": "fbf212b3",
   "metadata": {},
   "outputs": [],
   "source": [
    "text = \"PythonIsFunAndEasy\"\n",
    "\n",
    "# Extract the first 5 and last 5 characters from a given string.\n",
    "print(text[:5], text[-5:])\n",
    "\n",
    "# Remove every alternate character from a string.\n",
    "print(text[::2])\n",
    "\n",
    "# Extract the substring from index 2 to 7.\n",
    "print(text[2:8])\n",
    "\n",
    "# Iterate through a string and print each character.\n",
    "for ch in text:\n",
    "    print(ch)\n",
    "\n",
    "# Reverse a string using slicing.\n",
    "print(text[::-1])"
   ]
  },
  {
   "cell_type": "markdown",
   "id": "e2d4e300",
   "metadata": {},
   "source": [
    "String Strip Functions"
   ]
  },
  {
   "cell_type": "code",
   "execution_count": null,
   "id": "c7661538",
   "metadata": {},
   "outputs": [],
   "source": [
    "s = \"   Hello World   \"\n",
    "s2 = \"###Python###\"\n",
    "\n",
    "# Remove leading spaces using lstrip().\n",
    "print(s.lstrip())\n",
    "\n",
    "# Remove trailing spaces using rstrip().\n",
    "print(s.rstrip())\n",
    "\n",
    "# Strip both leading and trailing spaces from a string.\n",
    "print(s.strip())\n",
    "\n",
    "# Remove specific characters (e.g., #) from the start of a string.\n",
    "print(s2.lstrip('#'))\n",
    "\n",
    "# Remove specific characters from the end of a string.\n",
    "print(s2.rstrip('#'))\n",
    "\n",
    "# Using List comprehension: Generate a list of squares of numbers from 1 to 10.\n",
    "squares = [x*x for x in range(1, 11)]\n",
    "print(squares)\n",
    "\n",
    "# Using List Comprehension: Create a list of even numbers from 1 to 20.\n",
    "evens = [x for x in range(1, 21) if x % 2 == 0]\n",
    "print(evens)"
   ]
  },
  {
   "cell_type": "markdown",
   "id": "fcc34568",
   "metadata": {},
   "source": [
    "List Operations"
   ]
  },
  {
   "cell_type": "code",
   "execution_count": null,
   "id": "27f06a0e",
   "metadata": {},
   "outputs": [],
   "source": [
    "lst = [10, 20, 30, 40, 50, 60, 70]\n",
    "\n",
    "# Slice a list to extract the first 3 and last 3 elements.\n",
    "print(lst[:3], lst[-3:])\n",
    "\n",
    "# Add an item to a list, remove an item, and change an item at a given index.\n",
    "lst.append(80)\n",
    "lst.remove(40)\n",
    "lst[0] = 15\n",
    "print(lst)\n",
    "\n",
    "# Copy a list and verify that modifying the copy does not affect the original.\n",
    "copy_lst = lst.copy()\n",
    "copy_lst.append(99)\n",
    "print(\"Original:\", lst)\n",
    "print(\"Copy:\", copy_lst)\n",
    "\n",
    "# Join a list of words into a sentence using .join().\n",
    "words = [\"Python\", \"is\", \"fun\"]\n",
    "sentence = ' '.join(words)\n",
    "print(sentence)\n",
    "\n",
    "# Iterate through a list and print each element.\n",
    "for item in lst:\n",
    "    print(item)\n",
    "\n",
    "# Print only the even numbers from a list.\n",
    "for num in lst:\n",
    "    if num % 2 == 0:\n",
    "        print(\"Even:\", num)\n",
    "\n",
    "# Use all() to check if all numbers in a list are positive.\n",
    "print(all(x > 0 for x in lst))\n",
    "\n",
    "# Use any() to check if any number in a list is greater than 50.\n",
    "print(any(x > 50 for x in lst))\n",
    "\n",
    "# Use all() and any() to check conditions in a list of strings.\n",
    "names = [\"Alice\", \"Bob\", \"Charlie\"]\n",
    "print(all(len(name) > 2 for name in names))\n",
    "print(any(name.startswith(\"C\") for name in names))"
   ]
  },
  {
   "cell_type": "markdown",
   "id": "71b467a8",
   "metadata": {},
   "source": [
    "Built-in Functions"
   ]
  },
  {
   "cell_type": "code",
   "execution_count": 1,
   "id": "6f069db4",
   "metadata": {},
   "outputs": [
    {
     "name": "stdout",
     "output_type": "stream",
     "text": [
      "1 12 6 35\n",
      "banana\n",
      "18\n",
      "kiwi\n",
      "[(2, 1), (4, 2), (1, 3)]\n"
     ]
    }
   ],
   "source": [
    "nums = [4, 7, 1, 12, 9, 2]\n",
    "\n",
    "# Find the minimum, maximum, length, and sum of a list.\n",
    "print(min(nums), max(nums), len(nums), sum(nums))\n",
    "\n",
    "# Find the longest word in a list of words.\n",
    "words = [\"apple\", \"banana\", \"kiwi\"]\n",
    "print(max(words, key=len))\n",
    "\n",
    "# Compute the sum of even numbers in a list.\n",
    "even_sum = sum(x for x in nums if x % 2 == 0)\n",
    "print(even_sum)\n",
    "\n",
    "# Find the shortest string in a list.\n",
    "print(min(words, key=len))\n",
    "\n",
    "# Sort a list of tuples based on the second element.\n",
    "tuples = [(1, 3), (2, 1), (4, 2)]\n",
    "sorted_tuples = sorted(tuples, key=lambda x: x[1])\n",
    "print(sorted_tuples)"
   ]
  },
  {
   "cell_type": "markdown",
   "id": "5817740b",
   "metadata": {},
   "source": [
    "Dictionary Operation"
   ]
  },
  {
   "cell_type": "code",
   "execution_count": 2,
   "id": "ceb8c4e9",
   "metadata": {},
   "outputs": [
    {
     "name": "stdout",
     "output_type": "stream",
     "text": [
      "100\n",
      "{'x': 100, 'y': 200, 'z': 300}\n",
      "{'x': 100, 'z': 300}\n",
      "Original: {'x': 100, 'z': 300}\n",
      "Copy: {'x': 999, 'z': 300}\n",
      "x 100\n",
      "z 300\n"
     ]
    }
   ],
   "source": [
    "d = {'x': 100, 'y': 200}\n",
    "\n",
    "# Access an item in a dictionary by key.\n",
    "print(d['x'])\n",
    "\n",
    "# Add a new key-value pair to a dictionary.\n",
    "d['z'] = 300\n",
    "print(d)\n",
    "\n",
    "# Remove an item from a dictionary.\n",
    "del d['y']\n",
    "print(d)\n",
    "\n",
    "# Copy a dictionary and modify it without affecting the original.\n",
    "d2 = d.copy()\n",
    "d2['x'] = 999\n",
    "print(\"Original:\", d)\n",
    "print(\"Copy:\", d2)\n",
    "\n",
    "# Loop through a dictionary and print keys and values.\n",
    "for key, value in d.items():\n",
    "    print(key, value)"
   ]
  }
 ],
 "metadata": {
  "kernelspec": {
   "display_name": "Python 3",
   "language": "python",
   "name": "python3"
  },
  "language_info": {
   "codemirror_mode": {
    "name": "ipython",
    "version": 3
   },
   "file_extension": ".py",
   "mimetype": "text/x-python",
   "name": "python",
   "nbconvert_exporter": "python",
   "pygments_lexer": "ipython3",
   "version": "3.12.4"
  }
 },
 "nbformat": 4,
 "nbformat_minor": 5
}
