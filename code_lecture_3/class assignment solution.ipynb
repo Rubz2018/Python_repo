{
 "cells": [
  {
   "cell_type": "markdown",
   "metadata": {},
   "source": [
    "# Looping Through Dictionary\n"
   ]
  },
  {
   "cell_type": "code",
   "execution_count": 2,
   "metadata": {},
   "outputs": [
    {
     "name": "stdout",
     "output_type": "stream",
     "text": [
      "a: 10\n",
      "b: 25\n",
      "c: 15\n",
      "Key with value > 15: b\n",
      "Counter({10: 1, 25: 1, 15: 1})\n",
      "{'b': 25, 'c': 15}\n",
      "a: 10\n",
      "b: 25\n",
      "c: 15\n"
     ]
    }
   ],
   "source": [
    "### Loop through a dictionary and print each key and value\n",
    "my_dict = {'a': 10, 'b': 25, 'c': 15}\n",
    "for key, value in my_dict.items():\n",
    "    print(f\"{key}: {value}\")\n",
    "\n",
    "### Find and print all keys that have values greater than a given number\n",
    "threshold = 15\n",
    "for key, value in my_dict.items():\n",
    "    if value > threshold:\n",
    "        print(f\"Key with value > {threshold}: {key}\")\n",
    "\n",
    "### Count the occurrences of each value in a dictionary\n",
    "from collections import Counter\n",
    "value_counts = Counter(my_dict.values())\n",
    "print(value_counts)\n",
    "\n",
    "### Filter out dictionary items where values are less than a threshold\n",
    "filtered = {k: v for k, v in my_dict.items() if v >= threshold}\n",
    "print(filtered)\n",
    "\n",
    "### Print dictionary items in sorted order of their keys\n",
    "for key in sorted(my_dict.keys()):\n",
    "    print(f\"{key}: {my_dict[key]}\")\n"
   ]
  },
  {
   "cell_type": "markdown",
   "metadata": {},
   "source": [
    "# String Slicing & Iteration"
   ]
  },
  {
   "cell_type": "code",
   "execution_count": 3,
   "metadata": {},
   "outputs": [
    {
     "name": "stdout",
     "output_type": "stream",
     "text": [
      "First 5: Hello\n",
      "Last 5: ython\n",
      "Alternate characters removed: HloolPto\n",
      "Substring (2 to 7): lloWor\n",
      "H\n",
      "e\n",
      "l\n",
      "l\n",
      "o\n",
      "W\n",
      "o\n",
      "r\n",
      "l\n",
      "d\n",
      "P\n",
      "y\n",
      "t\n",
      "h\n",
      "o\n",
      "n\n",
      "Reversed string: nohtyPdlroWolleH\n"
     ]
    }
   ],
   "source": [
    "s = \"HelloWorldPython\"\n",
    "\n",
    "### Extract the first 5 and last 5 characters\n",
    "print(\"First 5:\", s[:5])\n",
    "print(\"Last 5:\", s[-5:])\n",
    "\n",
    "### Remove every alternate character\n",
    "print(\"Alternate characters removed:\", s[::2])\n",
    "\n",
    "### Extract the substring from index 2 to 7\n",
    "print(\"Substring (2 to 7):\", s[2:8])\n",
    "\n",
    "### Iterate through a string and print each character\n",
    "for char in s:\n",
    "    print(char)\n",
    "\n",
    "### Reverse a string using slicing\n",
    "print(\"Reversed string:\", s[::-1])"
   ]
  },
  {
   "cell_type": "markdown",
   "metadata": {},
   "source": [
    "# String Strip Functions"
   ]
  },
  {
   "cell_type": "code",
   "execution_count": 4,
   "metadata": {},
   "outputs": [
    {
     "name": "stdout",
     "output_type": "stream",
     "text": [
      "lstrip: Hello World!   \n",
      "rstrip:    Hello World!\n",
      "strip: Hello World!\n",
      "Remove # from start: Important###\n",
      "Remove # from end: ###Important\n",
      "Squares: [1, 4, 9, 16, 25, 36, 49, 64, 81, 100]\n",
      "Even numbers: [2]\n"
     ]
    }
   ],
   "source": [
    "text = \"   Hello World!   \"\n",
    "hash_text = \"###Important###\"\n",
    "\n",
    "### Remove leading spaces\n",
    "print(\"lstrip:\", text.lstrip())\n",
    "\n",
    "### Remove trailing spaces\n",
    "print(\"rstrip:\", text.rstrip())\n",
    "\n",
    "### Strip both leading and trailing spaces\n",
    "print(\"strip:\", text.strip())\n",
    "\n",
    "### Remove specific characters (e.g., #) from the start\n",
    "print(\"Remove # from start:\", hash_text.lstrip('#'))\n",
    "\n",
    "### Remove specific characters from the end\n",
    "print(\"Remove # from end:\", hash_text.rstrip('#'))\n",
    "\n",
    "### Using list comprehension - squares of numbers from 1 to 10\n",
    "squares = [x**2 for x in range(1, 11)]\n",
    "print(\"Squares:\", squares)\n",
    "\n",
    "### List of even numbers from 1 to 2\n",
    "evens = [x for x in range(1, 3) if x % 2 == 0]\n",
    "print(\"Even numbers:\", evens)"
   ]
  },
  {
   "cell_type": "markdown",
   "metadata": {},
   "source": [
    "# List Operations"
   ]
  },
  {
   "cell_type": "code",
   "execution_count": 5,
   "metadata": {},
   "outputs": [
    {
     "name": "stdout",
     "output_type": "stream",
     "text": [
      "First 3: [1, 2, 3]\n",
      "Last 3: [7, 8, 9]\n",
      "Modified list: [100, 3, 4, 5, 6, 7, 8, 9, 10]\n",
      "Original: [100, 3, 4, 5, 6, 7, 8, 9, 10]\n",
      "Copy: [999, 3, 4, 5, 6, 7, 8, 9, 10]\n",
      "Joined sentence: Python is fun\n",
      "100\n",
      "3\n",
      "4\n",
      "5\n",
      "6\n",
      "7\n",
      "8\n",
      "9\n",
      "10\n",
      "Even numbers: [100, 4, 6, 8, 10]\n",
      "All positive? True\n",
      "Any > 50? True\n",
      "All non-empty? True\n",
      "Any contains 'e'? True\n"
     ]
    }
   ],
   "source": [
    "nums = [1, 2, 3, 4, 5, 6, 7, 8, 9]\n",
    "words = [\"Python\", \"is\", \"fun\"]\n",
    "\n",
    "### Slice a list to extract the first 3 and last 3 elements\n",
    "print(\"First 3:\", nums[:3])\n",
    "print(\"Last 3:\", nums[-3:])\n",
    "\n",
    "### Add, remove, and change item\n",
    "nums.append(10)\n",
    "nums.remove(1)\n",
    "nums[0] = 100\n",
    "print(\"Modified list:\", nums)\n",
    "\n",
    "### Copy list and verify modification\n",
    "copy_nums = nums.copy()\n",
    "copy_nums[0] = 999\n",
    "print(\"Original:\", nums)\n",
    "print(\"Copy:\", copy_nums)\n",
    "\n",
    "### Join a list of words into a sentence\n",
    "sentence = \" \".join(words)\n",
    "print(\"Joined sentence:\", sentence)\n",
    "\n",
    "### Iterate and print each element\n",
    "for item in nums:\n",
    "    print(item)\n",
    "\n",
    "### Print only even numbers\n",
    "print(\"Even numbers:\", [x for x in nums if x % 2 == 0])\n",
    "\n",
    "### Use all() to check if all numbers are positive\n",
    "print(\"All positive?\", all(x > 0 for x in nums))\n",
    "\n",
    "### Use any() to check if any number > 50\n",
    "print(\"Any > 50?\", any(x > 50 for x in nums))\n",
    "\n",
    "### Use all() and any() with strings\n",
    "string_list = [\"hello\", \"hi\", \"hey\"]\n",
    "print(\"All non-empty?\", all(len(s) > 0 for s in string_list))\n",
    "print(\"Any contains 'e'?\", any('e' in s for s in string_list))\n"
   ]
  },
  {
   "cell_type": "markdown",
   "metadata": {},
   "source": [
    "# Built-in Functions"
   ]
  },
  {
   "cell_type": "code",
   "execution_count": 6,
   "metadata": {},
   "outputs": [
    {
     "name": "stdout",
     "output_type": "stream",
     "text": [
      "Min: 5\n",
      "Max: 20\n",
      "Length: 4\n",
      "Sum: 42\n",
      "Longest word: elephant\n",
      "Sum of evens: 30\n",
      "Shortest word: cat\n",
      "Sorted tuples: [(2, 1), (3, 2), (1, 3)]\n"
     ]
    }
   ],
   "source": [
    "numbers = [10, 5, 20, 7]\n",
    "\n",
    "### Min, max, length, sum\n",
    "print(\"Min:\", min(numbers))\n",
    "print(\"Max:\", max(numbers))\n",
    "print(\"Length:\", len(numbers))\n",
    "print(\"Sum:\", sum(numbers))\n",
    "\n",
    "### Find the longest word\n",
    "word_list = [\"cat\", \"elephant\", \"dog\"]\n",
    "longest = max(word_list, key=len)\n",
    "print(\"Longest word:\", longest)\n",
    "\n",
    "### Sum of even numbers\n",
    "even_sum = sum(x for x in numbers if x % 2 == 0)\n",
    "print(\"Sum of evens:\", even_sum)\n",
    "\n",
    "### Shortest string\n",
    "shortest = min(word_list, key=len)\n",
    "print(\"Shortest word:\", shortest)\n",
    "\n",
    "### Sort list of tuples by second element\n",
    "tuple_list = [(1, 3), (2, 1), (3, 2)]\n",
    "sorted_tuples = sorted(tuple_list, key=lambda x: x[1])\n",
    "print(\"Sorted tuples:\", sorted_tuples)\n"
   ]
  },
  {
   "cell_type": "markdown",
   "metadata": {},
   "source": [
    "# Dictionary Operations"
   ]
  },
  {
   "cell_type": "code",
   "execution_count": 7,
   "metadata": {},
   "outputs": [
    {
     "name": "stdout",
     "output_type": "stream",
     "text": [
      "Value of 'x': 100\n",
      "Added key 'z': {'x': 100, 'y': 200, 'z': 300}\n",
      "After removing 'x': {'y': 200, 'z': 300}\n",
      "Original dict: {'y': 200, 'z': 300}\n",
      "Modified copy: {'y': 999, 'z': 300}\n",
      "y: 200\n",
      "z: 300\n"
     ]
    }
   ],
   "source": [
    "d = {'x': 100, 'y': 200}\n",
    "\n",
    "### Access item by key\n",
    "print(\"Value of 'x':\", d['x'])\n",
    "\n",
    "### Add a new key-value pair\n",
    "d['z'] = 300\n",
    "print(\"Added key 'z':\", d)\n",
    "\n",
    "### Remove an item\n",
    "del d['x']\n",
    "print(\"After removing 'x':\", d)\n",
    "\n",
    "### Copy and modify without affecting original\n",
    "d_copy = d.copy()\n",
    "d_copy['y'] = 999\n",
    "print(\"Original dict:\", d)\n",
    "print(\"Modified copy:\", d_copy)\n",
    "\n",
    "### Loop and print keys and values\n",
    "for key, value in d.items():\n",
    "    print(f\"{key}: {value}\")\n"
   ]
  }
 ],
 "metadata": {
  "kernelspec": {
   "display_name": "Python 3",
   "language": "python",
   "name": "python3"
  },
  "language_info": {
   "codemirror_mode": {
    "name": "ipython",
    "version": 3
   },
   "file_extension": ".py",
   "mimetype": "text/x-python",
   "name": "python",
   "nbconvert_exporter": "python",
   "pygments_lexer": "ipython3",
   "version": "3.11.9"
  }
 },
 "nbformat": 4,
 "nbformat_minor": 2
}
