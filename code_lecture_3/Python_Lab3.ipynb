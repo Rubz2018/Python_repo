{
 "cells": [
  {
   "cell_type": "markdown",
   "metadata": {
    "id": "v23odpAkkybT"
   },
   "source": [
    "  \n",
    "<h1>Python Tutorial Lab 3</h1>\n",
    "</div>\n",
    "</body>\n",
    "</html>"
   ]
  },
  {
   "cell_type": "code",
   "execution_count": 9,
   "metadata": {},
   "outputs": [
    {
     "name": "stdout",
     "output_type": "stream",
     "text": [
      "key: a and vaalue: 1 \n",
      "key: b and vaalue: 2 \n",
      "key: c and vaalue: 3 \n"
     ]
    }
   ],
   "source": [
    "data = {'a': 1, 'b': 2, 'c': 3}\n",
    "for key, value in data.items():\n",
    "    print(f\"key: {key} and vaalue: {value} \")"
   ]
  },
  {
   "cell_type": "code",
   "execution_count": null,
   "metadata": {},
   "outputs": [
    {
     "name": "stdout",
     "output_type": "stream",
     "text": [
      "key: b, value 2\n",
      "key: c, value 3\n"
     ]
    }
   ],
   "source": [
    "threshold = int (input(\"Enter the threshold value\"))\n",
    "data = {'a': 1, 'b': 2, 'c': 3}\n",
    "for key , value in data.items():\n",
    "    if value > threshold:\n",
    "        print(f\"key: {key}, value {value}\")"
   ]
  },
  {
   "cell_type": "code",
   "execution_count": 13,
   "metadata": {},
   "outputs": [
    {
     "name": "stdout",
     "output_type": "stream",
     "text": [
      "key: a, value 1\n"
     ]
    }
   ],
   "source": [
    "threshold = int (input(\"Enter the threshold value\"))\n",
    "data = {'a': 1, 'b': 2, 'c': 3}\n",
    "for key , value in data.items():\n",
    "    if value < threshold:\n",
    "        print(f\"key: {key}, value {value}\")"
   ]
  },
  {
   "cell_type": "markdown",
   "metadata": {},
   "source": []
  },
  {
   "cell_type": "code",
   "execution_count": 12,
   "metadata": {},
   "outputs": [
    {
     "name": "stdout",
     "output_type": "stream",
     "text": [
      "{1: 1, 2: 1, 3: 1}\n"
     ]
    }
   ],
   "source": [
    "value_counts = {}\n",
    "for value in data.values():\n",
    "    if value in value_counts:\n",
    "        value_counts[value]+=1\n",
    "    else:\n",
    "        value_counts[value] =1\n",
    "print(value_counts)"
   ]
  },
  {
   "cell_type": "code",
   "execution_count": 16,
   "metadata": {},
   "outputs": [
    {
     "name": "stdout",
     "output_type": "stream",
     "text": [
      "{1: 'tuhin', 2: 'arka', 3: 'nisa', 4: 'wasiq', 5: 'tauqir'}\n"
     ]
    }
   ],
   "source": [
    "data1 = {5:'tauqir',3:'nisa',2:'arka',4:'wasiq',1:'tuhin'}\n",
    "sorted_dict = dict(sorted(data1.items()))\n",
    "print(sorted_dict)"
   ]
  },
  {
   "cell_type": "code",
   "execution_count": null,
   "metadata": {
    "colab": {
     "base_uri": "https://localhost:8080/"
    },
    "executionInfo": {
     "elapsed": 5619,
     "status": "ok",
     "timestamp": 1729271096016,
     "user": {
      "displayName": "Dr. Rubaiyat Islam",
      "userId": "00143020000614467639"
     },
     "user_tz": -360
    },
    "id": "rExgZVnFk_UH",
    "outputId": "b0d0b3b5-3549-476c-992f-99bb18af5a15"
   },
   "outputs": [],
   "source": [
    "# from google.colab import drive\n",
    "# drive.mount('/content/drive')"
   ]
  },
  {
   "cell_type": "code",
   "execution_count": null,
   "metadata": {
    "collapsed": true,
    "executionInfo": {
     "elapsed": 119,
     "status": "ok",
     "timestamp": 1729271096016,
     "user": {
      "displayName": "Dr. Rubaiyat Islam",
      "userId": "00143020000614467639"
     },
     "user_tz": -360
    },
    "id": "sEO0BWWFkybV"
   },
   "outputs": [],
   "source": [
    "import sys\n",
    "import keyword\n",
    "import operator\n",
    "from datetime import datetime\n",
    "import os"
   ]
  },
  {
   "cell_type": "markdown",
   "metadata": {
    "id": "yMbQSBfmkycB"
   },
   "source": [
    "# Operators"
   ]
  },
  {
   "cell_type": "markdown",
   "metadata": {
    "id": "IcNJaeLmkycB"
   },
   "source": [
    "- __Operators are special symbols in Python which are used to perform operations on variables/values.__"
   ]
  },
  {
   "cell_type": "markdown",
   "metadata": {
    "id": "TkFZ36AdkycB"
   },
   "source": [
    "### Arithmetic Operators"
   ]
  },
  {
   "cell_type": "code",
   "execution_count": null,
   "metadata": {
    "executionInfo": {
     "elapsed": 186,
     "status": "aborted",
     "timestamp": 1729271174694,
     "user": {
      "displayName": "Dr. Rubaiyat Islam",
      "userId": "00143020000614467639"
     },
     "user_tz": -360
    },
    "id": "sXGAw_R0kycB"
   },
   "outputs": [
    {
     "name": "stdout",
     "output_type": "stream",
     "text": [
      "Addition of 5 and 2 will give :- 7\n",
      "\n",
      "Concatenate string 'x' and 'y' using '+' operaotr :- RubaiyatIslam\n",
      "\n",
      "Subtracting 2 from 5 will give :- 3\n",
      "\n",
      "Multiplying 5 and 2 will give :- 10\n",
      "\n",
      "Dividing 5 by 2 will give :- 2.5\n",
      "\n",
      "Modulo of 5 , 2 will give :- 1\n",
      "\n",
      "5 raised to the power 2 will give :- 25\n",
      "\n",
      "Floor division of 5 by 2 will give :- 2\n",
      "\n"
     ]
    }
   ],
   "source": [
    "a = 5\n",
    "b = 2\n",
    "\n",
    "x = 'Rubaiyat'\n",
    "y = 'Islam'\n",
    "\n",
    "# Addition\n",
    "c = a + b\n",
    "print('Addition of {} and {} will give :- {}\\n'.format(a,b,c))\n",
    "\n",
    "#Concatenate string using plus operator\n",
    "z = x+y\n",
    "print ('Concatenate string \\'x\\' and \\'y\\' using \\'+\\' operaotr :- {}\\n'.format(z))\n",
    "\n",
    "# Subtraction\n",
    "c = a - b\n",
    "print('Subtracting {} from {} will give :- {}\\n'.format(b,a,c))\n",
    "\n",
    "# Multiplication\n",
    "c = a * b\n",
    "print('Multiplying {} and {} will give :- {}\\n'.format(a,b,c))\n",
    "\n",
    "# Division\n",
    "c = a / b\n",
    "print('Dividing {} by {} will give :- {}\\n'.format(a,b,c))\n",
    "\n",
    "# Modulo of both number\n",
    "c = a % b\n",
    "print('Modulo of {} , {} will give :- {}\\n'.format(a,b,c))\n",
    "\n",
    "# Power\n",
    "c = a ** b\n",
    "print('{} raised to the power {} will give :- {}\\n'.format(a,b,c))\n",
    "\n",
    "# Division(floor)\n",
    "c = a // b\n",
    "print('Floor division of {} by {} will give :- {}\\n'.format(a,b,c))"
   ]
  },
  {
   "cell_type": "markdown",
   "metadata": {
    "id": "Wj8IAcdWkycB"
   },
   "source": [
    "### Comparison Operators"
   ]
  },
  {
   "cell_type": "markdown",
   "metadata": {
    "id": "KeyZqN9FkycB"
   },
   "source": [
    "Comparison operators are used to compare values."
   ]
  },
  {
   "cell_type": "code",
   "execution_count": null,
   "metadata": {
    "executionInfo": {
     "elapsed": 186,
     "status": "aborted",
     "timestamp": 1729271174694,
     "user": {
      "displayName": "Dr. Rubaiyat Islam",
      "userId": "00143020000614467639"
     },
     "user_tz": -360
    },
    "id": "QQO_FtMykycB"
   },
   "outputs": [
    {
     "name": "stdout",
     "output_type": "stream",
     "text": [
      "Is x greater than y :-  False\n",
      "\n",
      "Is x less than  y :-  True\n",
      "\n",
      "Is x equal to  y :-  False\n",
      "\n",
      "Is x not equal to y :-  True\n",
      "\n",
      "Is x greater than or equal to y :-  False\n",
      "\n",
      "Is x less than or equal to y :-  True\n"
     ]
    }
   ],
   "source": [
    "x = 20\n",
    "y = 30\n",
    "\n",
    "print('Is x greater than y :- ',x>y)\n",
    "\n",
    "print('\\nIs x less than  y :- ',x<y)\n",
    "\n",
    "print('\\nIs x equal to  y :- ',x==y)\n",
    "\n",
    "print('\\nIs x not equal to y :- ',x!=y)\n",
    "\n",
    "print('\\nIs x greater than or equal to y :- ',x>=y)\n",
    "\n",
    "print('\\nIs x less than or equal to y :- ',x<=y)"
   ]
  },
  {
   "cell_type": "code",
   "execution_count": null,
   "metadata": {
    "executionInfo": {
     "elapsed": 186,
     "status": "aborted",
     "timestamp": 1729271174694,
     "user": {
      "displayName": "Dr. Rubaiyat Islam",
      "userId": "00143020000614467639"
     },
     "user_tz": -360
    },
    "id": "W3SpKSPtkycC"
   },
   "outputs": [
    {
     "data": {
      "text/plain": [
       "(False, True, True)"
      ]
     },
     "execution_count": 6,
     "metadata": {},
     "output_type": "execute_result"
    }
   ],
   "source": [
    "a = 'Rubaiyat'\n",
    "b = 'Islam'\n",
    "c = 'Rubaiyat'\n",
    "\n",
    "a == b , a ==c , a != b # Comparison operators on string"
   ]
  },
  {
   "cell_type": "markdown",
   "metadata": {
    "id": "pV8CLJmQkycC"
   },
   "source": [
    "### Logical Operators"
   ]
  },
  {
   "cell_type": "code",
   "execution_count": null,
   "metadata": {
    "executionInfo": {
     "elapsed": 186,
     "status": "aborted",
     "timestamp": 1729271174694,
     "user": {
      "displayName": "Dr. Rubaiyat Islam",
      "userId": "00143020000614467639"
     },
     "user_tz": -360
    },
    "id": "HuocsFIhkycC"
   },
   "outputs": [
    {
     "name": "stdout",
     "output_type": "stream",
     "text": [
      "Logical AND operation :-  False\n",
      "Logical OR operation :-  True\n",
      "NOT operation :-  False\n"
     ]
    }
   ],
   "source": [
    "x = True\n",
    "y = False\n",
    "\n",
    "print('Logical AND operation :- ',x and y) # True if both values are true\n",
    "print('Logical OR operation :- ',x or y) # True if either of the values is true\n",
    "print('NOT operation :- ',not x ) # True if operand is false"
   ]
  },
  {
   "cell_type": "markdown",
   "metadata": {
    "id": "svrFbbcmkycC"
   },
   "source": [
    "### Bitwise operators"
   ]
  },
  {
   "cell_type": "markdown",
   "metadata": {
    "id": "L84Sf6TGkycC"
   },
   "source": [
    "__Bitwise operators act on bits and performs bit by bit operation.__"
   ]
  },
  {
   "cell_type": "code",
   "execution_count": null,
   "metadata": {
    "executionInfo": {
     "elapsed": 186,
     "status": "aborted",
     "timestamp": 1729271174694,
     "user": {
      "displayName": "Dr. Rubaiyat Islam",
      "userId": "00143020000614467639"
     },
     "user_tz": -360
    },
    "id": "JKhl-JQjkycC"
   },
   "outputs": [
    {
     "name": "stdout",
     "output_type": "stream",
     "text": [
      "Bitwise AND operation - 2\n",
      "Bitwise OR operation - 22\n",
      "Bitwise XOR operation - 20\n",
      "Bitwise NOT operation - -19\n",
      "Bitwise right shift operation - 4\n",
      "Bitwise left shift operation - 72\n"
     ]
    }
   ],
   "source": [
    "x = 18  # binary form 10010\n",
    "y = 6  # binary form 00110\n",
    "\n",
    "print('Bitwise AND operation - {}'.format(x&y))\n",
    "print('Bitwise OR operation - {}'.format(x|y))\n",
    "print('Bitwise XOR operation - {}'.format(x^y))\n",
    "print('Bitwise NOT operation - {}'.format(~x))\n",
    "print('Bitwise right shift operation - {}'.format(x>>2))\n",
    "print('Bitwise left shift operation - {}'.format(x<<2))"
   ]
  },
  {
   "cell_type": "markdown",
   "metadata": {
    "id": "_gQfi5nMkycC"
   },
   "source": [
    "### Assignment Operators"
   ]
  },
  {
   "cell_type": "code",
   "execution_count": null,
   "metadata": {
    "executionInfo": {
     "elapsed": 186,
     "status": "aborted",
     "timestamp": 1729271174694,
     "user": {
      "displayName": "Dr. Rubaiyat Islam",
      "userId": "00143020000614467639"
     },
     "user_tz": -360
    },
    "id": "5_x8d5XXkycC"
   },
   "outputs": [
    {
     "name": "stdout",
     "output_type": "stream",
     "text": [
      "Initialize x with value 10 (x=10)) :-  10\n",
      "Add 20 to x :-  30\n",
      "subtract 20 from x :-  10\n",
      "Divide x by 10 :-  1.0\n",
      "Multiply x by 10 :-  10.0\n",
      "x raised to the power 2 :-  100\n",
      "Modulo Division :-  0\n",
      "Floor Division :-  6\n",
      "Bitwise AND :-  2\n",
      "Bitwise OR :-  2\n",
      "Bitwise XOR :-  0\n",
      "Bitwise left shift operation 40\n",
      "Bitwise right shift operation 10\n"
     ]
    }
   ],
   "source": [
    "x = 10\n",
    "\n",
    "print('Initialize x with value 10 (x=10)) :- ',x)\n",
    "\n",
    "\n",
    "x+=20 # x = x+20\n",
    "print ('Add 20 to x :- ',x)\n",
    "\n",
    "\n",
    "x-=20 # x = x-20\n",
    "print ('subtract 20 from x :- ',x)\n",
    "\n",
    "\n",
    "x/=10 # x = x/10\n",
    "print ('Divide x by 10 :- ',x)\n",
    "\n",
    "\n",
    "\n",
    "x*=10 # x = x/10\n",
    "print ('Multiply x by 10 :- ',x)\n",
    "\n",
    "x = int(x)\n",
    "\n",
    "\n",
    "x**=2 # x = x/10\n",
    "print ('x raised to the power 2 :- ',x)\n",
    "\n",
    "\n",
    "\n",
    "x%=2\n",
    "print ('Modulo Division :- ',x)\n",
    "\n",
    "\n",
    "x = 20\n",
    "\n",
    "\n",
    "x//=3\n",
    "print ('Floor Division :- ',x)\n",
    "\n",
    "\n",
    "x&=2\n",
    "print('Bitwise AND :- ',x)\n",
    "\n",
    "\n",
    "x|=2\n",
    "print('Bitwise OR :- ',x)\n",
    "\n",
    "\n",
    "x^=2\n",
    "print('Bitwise XOR :- ',x)\n",
    "\n",
    "\n",
    "x = 10\n",
    "\n",
    "\n",
    "x<<=2\n",
    "print('Bitwise left shift operation',x)\n",
    "\n",
    "\n",
    "x>>=2\n",
    "print('Bitwise right shift operation',x)"
   ]
  },
  {
   "cell_type": "markdown",
   "metadata": {
    "id": "ds27NRchkycC"
   },
   "source": [
    "### Membership Operators"
   ]
  },
  {
   "cell_type": "markdown",
   "metadata": {
    "id": "8QX4THgVkycC"
   },
   "source": [
    "__Membership Operators are used to test whether a value / variable is present in a sequence.__"
   ]
  },
  {
   "cell_type": "code",
   "execution_count": null,
   "metadata": {
    "executionInfo": {
     "elapsed": 186,
     "status": "aborted",
     "timestamp": 1729271174695,
     "user": {
      "displayName": "Dr. Rubaiyat Islam",
      "userId": "00143020000614467639"
     },
     "user_tz": -360
    },
    "id": "XgNF6fgIkycC"
   },
   "outputs": [
    {
     "data": {
      "text/plain": [
       "(True, False)"
      ]
     },
     "execution_count": 19,
     "metadata": {},
     "output_type": "execute_result"
    }
   ],
   "source": [
    "mystr = 'Dr Rubaiyat Islam '\n",
    "\n",
    "'Rubaiyat' in mystr , 'John' in mystr"
   ]
  },
  {
   "cell_type": "code",
   "execution_count": null,
   "metadata": {
    "executionInfo": {
     "elapsed": 186,
     "status": "aborted",
     "timestamp": 1729271174695,
     "user": {
      "displayName": "Dr. Rubaiyat Islam",
      "userId": "00143020000614467639"
     },
     "user_tz": -360
    },
    "id": "yGvhuAb-kycC"
   },
   "outputs": [
    {
     "data": {
      "text/plain": [
       "(False, True)"
      ]
     },
     "execution_count": 20,
     "metadata": {},
     "output_type": "execute_result"
    }
   ],
   "source": [
    "mystr = 'Dr Rubaiyat Islam'\n",
    "\n",
    "'Dr' not in mystr , 'John' not in mystr"
   ]
  },
  {
   "cell_type": "markdown",
   "metadata": {
    "id": "IRtW8uaAkycC"
   },
   "source": [
    "# Functions"
   ]
  },
  {
   "cell_type": "markdown",
   "metadata": {
    "id": "80iX9kJjkycC"
   },
   "source": [
    "- A function is a block of organized code written to carry out a specified task.\n",
    "\n",
    "- Functions help break our program into smaller and modular chunks for better readability.\n",
    "\n",
    "- Information can be passed into a function as arguments.\n",
    "\n",
    "- Parameters are specified after the function name inside the parentheses.\n",
    "\n",
    "- We can add as many parameters as we want. Parameters must be separated with a comma.\n",
    "\n",
    "- A function may or may not return data.\n",
    "\n",
    "- In Python a function is defined using the __def__ keyword\n",
    "\n",
    "### Parameter VS Argument\n",
    "\n",
    " - A parameter is the variable listed inside the parentheses in the function definition.\n",
    "\n",
    " - An argument is the value that is sent to the function when it is called.\n",
    "\n",
    "### Three types of functions in Python:-\n",
    "\n",
    "- __Built-in function :-__  Python predefined functions that are readily available for use like min() , max() , sum() , print() etc.\n",
    "\n",
    "- __User-Defined Functions:-__ Function that we define ourselves to perform a specific task.\n",
    "\n",
    "- __Anonymous functions :__ Function that is defined without a name. Anonymous functions are also called as lambda functions. They are not declared with the __def__ keyword.\n",
    "\n",
    "### Syntax"
   ]
  },
  {
   "cell_type": "markdown",
   "metadata": {
    "id": "TqHPiDe3kycC"
   },
   "source": [
    "<img src=\"functions.PNG\">"
   ]
  },
  {
   "cell_type": "markdown",
   "metadata": {
    "id": "C82tsZDMkycC"
   },
   "source": [
    "### Modularity"
   ]
  },
  {
   "cell_type": "markdown",
   "metadata": {
    "id": "3c1-9gAskycC"
   },
   "source": [
    "<img src=\"modularity.PNG\">"
   ]
  },
  {
   "cell_type": "code",
   "execution_count": null,
   "metadata": {
    "executionInfo": {
     "elapsed": 186,
     "status": "aborted",
     "timestamp": 1729271174695,
     "user": {
      "displayName": "Dr. Rubaiyat Islam",
      "userId": "00143020000614467639"
     },
     "user_tz": -360
    },
    "id": "FnvEX2K7kycC"
   },
   "outputs": [
    {
     "name": "stdout",
     "output_type": "stream",
     "text": [
      "Hello Python Lovers\n"
     ]
    }
   ],
   "source": [
    "def myfunc():\n",
    "  print(\"Hello Python Lovers\")\n",
    "\n",
    "myfunc()"
   ]
  },
  {
   "cell_type": "code",
   "execution_count": null,
   "metadata": {
    "executionInfo": {
     "elapsed": 186,
     "status": "aborted",
     "timestamp": 1729271174695,
     "user": {
      "displayName": "Dr. Rubaiyat Islam",
      "userId": "00143020000614467639"
     },
     "user_tz": -360
    },
    "id": "JbPSN_-ZkycD"
   },
   "outputs": [
    {
     "name": "stdout",
     "output_type": "stream",
     "text": [
      "Name :-  Rubaiyat\n",
      "User ID is :-  rubz2018\n",
      "Country :-  Bangladesh\n"
     ]
    }
   ],
   "source": [
    "def details(name,userid,country): # Function to print User details\n",
    "    print('Name :- ', name)\n",
    "    print('User ID is :- ', userid)\n",
    "    print('Country :- ',country)\n",
    "\n",
    "details('Rubaiyat' , 'rubz2018' , 'Bangladesh')"
   ]
  },
  {
   "cell_type": "code",
   "execution_count": null,
   "metadata": {
    "executionInfo": {
     "elapsed": 186,
     "status": "aborted",
     "timestamp": 1729271174695,
     "user": {
      "displayName": "Dr. Rubaiyat Islam",
      "userId": "00143020000614467639"
     },
     "user_tz": -360
    },
    "id": "100QCxi8kycD"
   },
   "outputs": [
    {
     "data": {
      "text/plain": [
       "100"
      ]
     },
     "execution_count": 23,
     "metadata": {},
     "output_type": "execute_result"
    }
   ],
   "source": [
    "def square (n): #function to find square of a number\n",
    "    n= n*n\n",
    "    return n\n",
    "\n",
    "square (10)"
   ]
  },
  {
   "cell_type": "code",
   "execution_count": null,
   "metadata": {
    "executionInfo": {
     "elapsed": 186,
     "status": "aborted",
     "timestamp": 1729271174695,
     "user": {
      "displayName": "Dr. Rubaiyat Islam",
      "userId": "00143020000614467639"
     },
     "user_tz": -360
    },
    "id": "jmus86RAkycD"
   },
   "outputs": [
    {
     "name": "stdout",
     "output_type": "stream",
     "text": [
      "3  is odd number\n",
      "4  is even number\n",
      " This function will check whether a number is even or odd\n"
     ]
    }
   ],
   "source": [
    "def even_odd (num): #Even odd test\n",
    "    \"\"\" This function will check whether a number is even or odd\"\"\"\n",
    "    if num % 2 ==0:\n",
    "        print (num, ' is even number')\n",
    "    else:\n",
    "        print (num, ' is odd number')\n",
    "\n",
    "even_odd(3)\n",
    "even_odd(4)\n",
    "print(even_odd.__doc__) # Print function documentation string"
   ]
  },
  {
   "cell_type": "code",
   "execution_count": null,
   "metadata": {
    "executionInfo": {
     "elapsed": 187,
     "status": "aborted",
     "timestamp": 1729271174696,
     "user": {
      "displayName": "Dr. Rubaiyat Islam",
      "userId": "00143020000614467639"
     },
     "user_tz": -360
    },
    "id": "I3iHWORDkycD"
   },
   "outputs": [
    {
     "name": "stdout",
     "output_type": "stream",
     "text": [
      "Rubaiyat  Islam\n"
     ]
    }
   ],
   "source": [
    "def fullname (firstname , middlename ,lastname): #Concatenate Strings\n",
    "    fullname = \"{} {} {}\".format(firstname,middlename,lastname)\n",
    "    print (fullname)\n",
    "\n",
    "fullname('Rubaiyat' , '' , 'Islam')"
   ]
  },
  {
   "cell_type": "code",
   "execution_count": null,
   "metadata": {
    "executionInfo": {
     "elapsed": 187,
     "status": "aborted",
     "timestamp": 1729271174696,
     "user": {
      "displayName": "Dr. Rubaiyat Islam",
      "userId": "00143020000614467639"
     },
     "user_tz": -360
    },
    "id": "CDZg0p_EkycD"
   },
   "outputs": [
    {
     "name": "stdout",
     "output_type": "stream",
     "text": [
      "Rubaiyat  Islam\n"
     ]
    }
   ],
   "source": [
    "def fullname (firstname , middlename ,lastname): #Concatenate Strings\n",
    "    fullname = \"{} {} {}\".format(firstname,middlename,lastname)\n",
    "    print (fullname)\n",
    "\n",
    "fullname(lastname = 'Islam' , middlename='' , firstname='Rubaiyat') # Keyword Arguments. Order of the arguments does not matter."
   ]
  },
  {
   "cell_type": "code",
   "execution_count": null,
   "metadata": {
    "executionInfo": {
     "elapsed": 187,
     "status": "aborted",
     "timestamp": 1729271174696,
     "user": {
      "displayName": "Dr. Rubaiyat Islam",
      "userId": "00143020000614467639"
     },
     "user_tz": -360
    },
    "id": "epF0a2FxkycD"
   },
   "outputs": [
    {
     "ename": "TypeError",
     "evalue": "fullname() missing 2 required positional arguments: 'middlename' and 'lastname'",
     "output_type": "error",
     "traceback": [
      "\u001b[0;31m---------------------------------------------------------------------------\u001b[0m",
      "\u001b[0;31mTypeError\u001b[0m                                 Traceback (most recent call last)",
      "Cell \u001b[0;32mIn[59], line 1\u001b[0m\n\u001b[0;32m----> 1\u001b[0m \u001b[43mfullname\u001b[49m\u001b[43m \u001b[49m\u001b[43m(\u001b[49m\u001b[38;5;124;43m'\u001b[39;49m\u001b[38;5;124;43mRubaiyat\u001b[39;49m\u001b[38;5;124;43m'\u001b[39;49m\u001b[43m)\u001b[49m \u001b[38;5;66;03m# This will throw error as function is expecting 3 arguments.\u001b[39;00m\n",
      "\u001b[0;31mTypeError\u001b[0m: fullname() missing 2 required positional arguments: 'middlename' and 'lastname'"
     ]
    }
   ],
   "source": [
    "fullname ('Rubaiyat') # This will throw error as function is expecting 3 arguments."
   ]
  },
  {
   "cell_type": "code",
   "execution_count": null,
   "metadata": {
    "executionInfo": {
     "elapsed": 187,
     "status": "aborted",
     "timestamp": 1729271174696,
     "user": {
      "displayName": "Dr. Rubaiyat Islam",
      "userId": "00143020000614467639"
     },
     "user_tz": -360
    },
    "id": "UuUtnavxkycE"
   },
   "outputs": [
    {
     "name": "stdout",
     "output_type": "stream",
     "text": [
      "Most Populous City :-  Dhaka\n"
     ]
    }
   ],
   "source": [
    "def myfunc(city = 'Dhaka'):\n",
    "    print('Most Populous City :- ', city)\n",
    "\n",
    "myfunc() # When a function is called without an argument it will use default value"
   ]
  },
  {
   "cell_type": "code",
   "execution_count": null,
   "metadata": {
    "executionInfo": {
     "elapsed": 187,
     "status": "aborted",
     "timestamp": 1729271174696,
     "user": {
      "displayName": "Dr. Rubaiyat Islam",
      "userId": "00143020000614467639"
     },
     "user_tz": -360
    },
    "id": "aC3872WrkycF"
   },
   "outputs": [
    {
     "name": "stdout",
     "output_type": "stream",
     "text": [
      "100\n",
      "100\n"
     ]
    }
   ],
   "source": [
    "var1 = 100 # Variable with Global scope.\n",
    "\n",
    "def myfunc():\n",
    "    print(var1) # Value 100 will be displayed due to global scope of var1\n",
    "\n",
    "\n",
    "myfunc()\n",
    "print(var1)"
   ]
  },
  {
   "cell_type": "code",
   "execution_count": null,
   "metadata": {
    "executionInfo": {
     "elapsed": 186,
     "status": "aborted",
     "timestamp": 1729271174696,
     "user": {
      "displayName": "Dr. Rubaiyat Islam",
      "userId": "00143020000614467639"
     },
     "user_tz": -360
    },
    "id": "_sTMXGZGkycF"
   },
   "outputs": [
    {
     "name": "stdout",
     "output_type": "stream",
     "text": [
      "10\n",
      "10\n",
      "None\n"
     ]
    }
   ],
   "source": [
    "\n",
    "def myfunc1():\n",
    "    var2 = 10  # Variable with Local scope\n",
    "    return var2\n",
    "\n",
    "\n",
    "def myfunc2():\n",
    "    print(var2) # This will throw error because var2 has a local scope. Var2 is only accessible in myfunc1()\n",
    "\n",
    "print(myfunc1())\n",
    "print(myfunc2())"
   ]
  },
  {
   "cell_type": "code",
   "execution_count": null,
   "metadata": {
    "executionInfo": {
     "elapsed": 186,
     "status": "aborted",
     "timestamp": 1729271174696,
     "user": {
      "displayName": "Dr. Rubaiyat Islam",
      "userId": "00143020000614467639"
     },
     "user_tz": -360
    },
    "id": "xyoMw4aYkycF"
   },
   "outputs": [
    {
     "name": "stdout",
     "output_type": "stream",
     "text": [
      "99\n",
      "100\n"
     ]
    }
   ],
   "source": [
    "var1 = 100 # Variable with Global scope.\n",
    "\n",
    "def myfunc():\n",
    "    var1 = 99  # Local scope\n",
    "    print(var1)\n",
    "\n",
    "\n",
    "myfunc()\n",
    "print(var1) # The original value of var1 (100) will be retained due to global scope."
   ]
  },
  {
   "cell_type": "code",
   "execution_count": null,
   "metadata": {
    "executionInfo": {
     "elapsed": 186,
     "status": "aborted",
     "timestamp": 1729271174696,
     "user": {
      "displayName": "Dr. Rubaiyat Islam",
      "userId": "00143020000614467639"
     },
     "user_tz": -360
    },
    "id": "ieTPd262kycF"
   },
   "outputs": [
    {
     "name": "stdout",
     "output_type": "stream",
     "text": [
      "\"List1\" before calling the function:-  [11, 22, 33, 44, 55]\n",
      "\"List1\" after calling the function:-  [22, 33, 44, 55]\n"
     ]
    }
   ],
   "source": [
    "list1 = [11,22,33,44,55]\n",
    "\n",
    "def myfunc(list1):\n",
    "    del list1[0]\n",
    "\n",
    "print('\"List1\" before calling the function:- ',list1)\n",
    "myfunc(list1)  # Pass by reference (Any change in the parameter within the function is reflected back in the calling function.)\n",
    "print('\"List1\" after calling the function:- ',list1)"
   ]
  },
  {
   "cell_type": "code",
   "execution_count": null,
   "metadata": {
    "executionInfo": {
     "elapsed": 186,
     "status": "aborted",
     "timestamp": 1729271174696,
     "user": {
      "displayName": "Dr. Rubaiyat Islam",
      "userId": "00143020000614467639"
     },
     "user_tz": -360
    },
    "id": "W5OnBbfakycG"
   },
   "outputs": [
    {
     "name": "stdout",
     "output_type": "stream",
     "text": [
      "\"List1\" before calling the function:-  [11, 22, 33, 44, 55]\n",
      "\"List1\" after calling the function:-  [11, 22, 33, 44, 55, 100]\n"
     ]
    }
   ],
   "source": [
    "list1 = [11,22,33,44,55]\n",
    "\n",
    "def myfunc(list1):\n",
    "    list1.append(100)\n",
    "\n",
    "print('\"List1\" before calling the function:- ',list1)\n",
    "myfunc(list1)  # Pass by reference (Any change in the parameter within the function is reflected back in the calling function.)\n",
    "print('\"List1\" after calling the function:- ',list1)"
   ]
  },
  {
   "cell_type": "code",
   "execution_count": null,
   "metadata": {
    "executionInfo": {
     "elapsed": 186,
     "status": "aborted",
     "timestamp": 1729271174696,
     "user": {
      "displayName": "Dr. Rubaiyat Islam",
      "userId": "00143020000614467639"
     },
     "user_tz": -360
    },
    "id": "vmyw-WFUkycG"
   },
   "outputs": [
    {
     "name": "stdout",
     "output_type": "stream",
     "text": [
      "\"List1\" before calling the function:-  [11, 22, 33, 44, 55]\n",
      "\"List1\" after calling the function:-  [11, 22, 33, 44, 55]\n"
     ]
    }
   ],
   "source": [
    "list1 = [11,22,33,44,55]\n",
    "\n",
    "def myfunc(list1):\n",
    "    list1 = [10,100,1000,10000] # link of 'list1' with previous object is broken now as new object is assigned to 'list1'.\n",
    "\n",
    "print('\"List1\" before calling the function:- ',list1)\n",
    "myfunc(list1)  # Pass by reference (Any change in the parameter within the function is reflected back in the calling function.)\n",
    "print('\"List1\" after calling the function:- ',list1)"
   ]
  },
  {
   "cell_type": "code",
   "execution_count": null,
   "metadata": {
    "executionInfo": {
     "elapsed": 186,
     "status": "aborted",
     "timestamp": 1729271174696,
     "user": {
      "displayName": "Dr. Rubaiyat Islam",
      "userId": "00143020000614467639"
     },
     "user_tz": -360
    },
    "id": "OI0tiFbXkycG"
   },
   "outputs": [
    {
     "data": {
      "text/plain": [
       "(10, 20)"
      ]
     },
     "execution_count": 67,
     "metadata": {},
     "output_type": "execute_result"
    }
   ],
   "source": [
    "def swap(a,b):\n",
    "    temp = a\n",
    "    a = b      # link of 'a' with previous object is broken now as new object is assigned to 'a'.\n",
    "    b = temp   # link of 'b' with previous object is broken now as new object is assigned to 'b'.\n",
    "\n",
    "a = 10\n",
    "b = 20\n",
    "swap(a,b)\n",
    "a,b"
   ]
  },
  {
   "cell_type": "code",
   "execution_count": null,
   "metadata": {
    "executionInfo": {
     "elapsed": 186,
     "status": "aborted",
     "timestamp": 1729271174696,
     "user": {
      "displayName": "Dr. Rubaiyat Islam",
      "userId": "00143020000614467639"
     },
     "user_tz": -360
    },
    "id": "BLcGYe_ekycG"
   },
   "outputs": [
    {
     "data": {
      "text/plain": [
       "24"
      ]
     },
     "execution_count": 68,
     "metadata": {},
     "output_type": "execute_result"
    }
   ],
   "source": [
    "def factorial(num):  # Calculate factorial of a number using recursive function call.\n",
    "    if num <=1 :\n",
    "        return 1\n",
    "    else:\n",
    "        return num * factorial(num-1)\n",
    "\n",
    "factorial(4)"
   ]
  },
  {
   "cell_type": "code",
   "execution_count": null,
   "metadata": {
    "executionInfo": {
     "elapsed": 186,
     "status": "aborted",
     "timestamp": 1729271174696,
     "user": {
      "displayName": "Dr. Rubaiyat Islam",
      "userId": "00143020000614467639"
     },
     "user_tz": -360
    },
    "id": "7D-e5VQFkycG"
   },
   "outputs": [
    {
     "data": {
      "text/plain": [
       "15"
      ]
     },
     "execution_count": 69,
     "metadata": {},
     "output_type": "execute_result"
    }
   ],
   "source": [
    "def add(num):  # Sum of first n natural numbers\n",
    "    if num == 0:\n",
    "        return 0\n",
    "    else:\n",
    "        return num + add(num-1)\n",
    "\n",
    "add(5) # Sum of first five natural numbers (1,2,3,4,5)"
   ]
  },
  {
   "cell_type": "code",
   "execution_count": null,
   "metadata": {
    "executionInfo": {
     "elapsed": 186,
     "status": "aborted",
     "timestamp": 1729271174696,
     "user": {
      "displayName": "Dr. Rubaiyat Islam",
      "userId": "00143020000614467639"
     },
     "user_tz": -360
    },
    "id": "rdCvd6DfkycG"
   },
   "outputs": [
    {
     "name": "stdout",
     "output_type": "stream",
     "text": [
      "0\n",
      "1\n",
      "1\n",
      "2\n",
      "3\n",
      "5\n",
      "8\n",
      "13\n",
      "21\n",
      "34\n",
      "55\n",
      "89\n",
      "144\n",
      "233\n",
      "377\n",
      "610\n",
      "987\n",
      "1597\n",
      "2584\n",
      "4181\n"
     ]
    }
   ],
   "source": [
    "def fiboacci(num):\n",
    "    if num <= 1:\n",
    "        return num\n",
    "    if num == 2:\n",
    "        return 1\n",
    "    else:\n",
    "        return(fiboacci(num-1) + fiboacci(num-2))\n",
    "\n",
    "nums = int(input(\"How many fibonacci numbers you want to generate -\"))\n",
    "\n",
    "\n",
    "\n",
    "for i in range(nums):\n",
    "    print(fiboacci(i))  # Generate Fibonacci series"
   ]
  },
  {
   "cell_type": "markdown",
   "metadata": {
    "id": "Dcqyn0R5kycG"
   },
   "source": [
    "# args & kwargs"
   ]
  },
  {
   "cell_type": "markdown",
   "metadata": {
    "id": "eG6ErN2GkycG"
   },
   "source": [
    " *__args__\n",
    "- When we are not sure about the number of arguments being passed to a function then we can use *args as function parameter.\n",
    "\n",
    "- *args allow us to pass the variable number of __Non Keyword Arguments__ to function.\n",
    "\n",
    "- We can simply use an asterisk * before the parameter name to pass variable length arguments.\n",
    "\n",
    "- The arguments are always passed as a tuple.\n",
    "\n",
    "- We can rename it to anything as long as it is preceded by a single asterisk (*). It's best practice to keep naming it args to make it immediately recognizable."
   ]
  },
  {
   "cell_type": "markdown",
   "metadata": {
    "id": "tWJjOuIYkycG"
   },
   "source": [
    "__**kwargs__\n",
    "- **kwargs allows us to pass the variable number of __Keyword Arguments__ to the function.\n",
    "\n",
    "- We can simply use an double asterisk ** before the parameter name to pass variable length arguments.\n",
    "\n",
    "- The arguments are passed as a dictionary.\n",
    "\n",
    "- We can rename it to anything as long as it is preceded by a double asterisk (**). It's best practice to keep naming it kwargs to make it immediately recognizable.\n",
    "\n"
   ]
  },
  {
   "cell_type": "markdown",
   "metadata": {
    "id": "3FFpfKoMkycG"
   },
   "source": [
    "<img src=\"argument.PNG\">"
   ]
  },
  {
   "cell_type": "code",
   "execution_count": null,
   "metadata": {
    "executionInfo": {
     "elapsed": 186,
     "status": "aborted",
     "timestamp": 1729271174696,
     "user": {
      "displayName": "Dr. Rubaiyat Islam",
      "userId": "00143020000614467639"
     },
     "user_tz": -360
    },
    "id": "LBkPSOntkycH"
   },
   "outputs": [
    {
     "name": "stdout",
     "output_type": "stream",
     "text": [
      "60\n"
     ]
    }
   ],
   "source": [
    "def add(a,b,c):\n",
    "    return a+b+c\n",
    "\n",
    "print(add(10,20,30)) # Sum of two numbers"
   ]
  },
  {
   "cell_type": "code",
   "execution_count": null,
   "metadata": {
    "executionInfo": {
     "elapsed": 186,
     "status": "aborted",
     "timestamp": 1729271174696,
     "user": {
      "displayName": "Dr. Rubaiyat Islam",
      "userId": "00143020000614467639"
     },
     "user_tz": -360
    },
    "id": "U_TVRgz4kycH"
   },
   "outputs": [
    {
     "ename": "SyntaxError",
     "evalue": "invalid syntax (<ipython-input-72-18aba0e761a4>, line 1)",
     "output_type": "error",
     "traceback": [
      "\u001b[0;36m  Cell \u001b[0;32mIn[72], line 1\u001b[0;36m\u001b[0m\n\u001b[0;31m    print(add(1,2,3,4)) '''This will throw below error as this function will only take two argumengts.\u001b[0m\n\u001b[0m                        ^\u001b[0m\n\u001b[0;31mSyntaxError\u001b[0m\u001b[0;31m:\u001b[0m invalid syntax\n"
     ]
    }
   ],
   "source": [
    "print(add(1,2,3,4)) '''This will throw below error as this function will only take two argumengts.\n",
    "If we want to make argument list dynamic then *args wil come in picture'''"
   ]
  },
  {
   "cell_type": "code",
   "execution_count": null,
   "metadata": {
    "executionInfo": {
     "elapsed": 185,
     "status": "aborted",
     "timestamp": 1729271174696,
     "user": {
      "displayName": "Dr. Rubaiyat Islam",
      "userId": "00143020000614467639"
     },
     "user_tz": -360
    },
    "id": "BFEDPNoykycH"
   },
   "outputs": [],
   "source": [
    "def some_args(arg_1, arg_2, arg_3):\n",
    "    print(\"arg_1:\", arg_1)\n",
    "    print(\"arg_2:\", arg_2)\n",
    "    print(\"arg_3:\", arg_3)\n",
    "\n",
    "my_list = [2, 3]\n",
    "some_args(1, *my_list)"
   ]
  },
  {
   "cell_type": "code",
   "execution_count": null,
   "metadata": {
    "executionInfo": {
     "elapsed": 185,
     "status": "aborted",
     "timestamp": 1729271174696,
     "user": {
      "displayName": "Dr. Rubaiyat Islam",
      "userId": "00143020000614467639"
     },
     "user_tz": -360
    },
    "id": "SvbCyo6-kycH"
   },
   "outputs": [],
   "source": [
    "def add1(*args):\n",
    "    return sum(args)\n",
    "\n",
    "print(add(1,2,3))\n",
    "print(add(1,2,3,4))  # *args will take dynamic argument list. So add() function will perform addition of any number of arguments\n",
    "print(add(1,2,3,4,5))\n",
    "print(add(1,2,3,4,5,6))\n",
    "print(add(1,2,3,4,5,6,7))"
   ]
  },
  {
   "cell_type": "code",
   "execution_count": null,
   "metadata": {
    "executionInfo": {
     "elapsed": 185,
     "status": "aborted",
     "timestamp": 1729271174696,
     "user": {
      "displayName": "Dr. Rubaiyat Islam",
      "userId": "00143020000614467639"
     },
     "user_tz": -360
    },
    "id": "oekPZ4tSkycH"
   },
   "outputs": [],
   "source": [
    "list1 = [1,2,3,4,5,6,7]\n",
    "tuple1 = (1,2,3,4,5,6,7)\n",
    "\n",
    "add1(*list1) , add1(*tuple1) #tuple & list items will be passed as argument list and sum will be returned for both cases."
   ]
  },
  {
   "cell_type": "code",
   "execution_count": null,
   "metadata": {
    "executionInfo": {
     "elapsed": 185,
     "status": "aborted",
     "timestamp": 1729271174696,
     "user": {
      "displayName": "Dr. Rubaiyat Islam",
      "userId": "00143020000614467639"
     },
     "user_tz": -360
    },
    "id": "3DL8uMvgkycH"
   },
   "outputs": [],
   "source": [
    "list1 = [1,2,3,4,5,6,7]\n",
    "list2 = [1,2,3,4,5,6,7]\n",
    "list3 = [1,2,3,4,5,6,7]\n",
    "list4 = [1,2,3,4,5,6,7]\n",
    "\n",
    "add1(*list1 , *list2 , *list3 , *list4 ) #All four lists are unpacked and each individual item is passed to add1() function"
   ]
  },
  {
   "cell_type": "code",
   "execution_count": null,
   "metadata": {
    "executionInfo": {
     "elapsed": 185,
     "status": "aborted",
     "timestamp": 1729271174696,
     "user": {
      "displayName": "Dr. Rubaiyat Islam",
      "userId": "00143020000614467639"
     },
     "user_tz": -360
    },
    "id": "iqit5o_4kycH"
   },
   "outputs": [],
   "source": [
    "def UserDetails(*args):\n",
    "    print(args)\n",
    "\n",
    "UserDetails('Asif' , 7412 , 41102 , 33 ,  'India' , 'Hindi')\n",
    "\n",
    "''' For the above example we have no idea about the parameters passed e.g 7412 , 41102 , 33 etc.\n",
    "    In such cases we can take help of Keyworded arguments (**kwargs) '''"
   ]
  },
  {
   "cell_type": "code",
   "execution_count": null,
   "metadata": {
    "executionInfo": {
     "elapsed": 185,
     "status": "aborted",
     "timestamp": 1729271174696,
     "user": {
      "displayName": "Dr. Rubaiyat Islam",
      "userId": "00143020000614467639"
     },
     "user_tz": -360
    },
    "id": "baezDztAkycH"
   },
   "outputs": [],
   "source": [
    "def UserDetails(**kwargs):\n",
    "    print(kwargs)\n",
    "\n",
    "UserDetails(Name='Asif' , ID=7412 , Pincode=41102 , Age= 33 ,  Country= 'India' , Language= 'Hindi')"
   ]
  },
  {
   "cell_type": "code",
   "execution_count": null,
   "metadata": {
    "executionInfo": {
     "elapsed": 185,
     "status": "aborted",
     "timestamp": 1729271174696,
     "user": {
      "displayName": "Dr. Rubaiyat Islam",
      "userId": "00143020000614467639"
     },
     "user_tz": -360
    },
    "id": "MdubWKBCkycH"
   },
   "outputs": [],
   "source": [
    "def UserDetails(**kwargs):\n",
    "    for key,val in kwargs.items():\n",
    "        print(\"{} :- {}\".format(key,val))\n",
    "\n",
    "UserDetails(Name='Asif' , ID=7412 , Pincode=41102 , Age= 33 ,  Country= 'India' , Language= 'Hindi')"
   ]
  },
  {
   "cell_type": "code",
   "execution_count": null,
   "metadata": {
    "executionInfo": {
     "elapsed": 186,
     "status": "aborted",
     "timestamp": 1729271174697,
     "user": {
      "displayName": "Dr. Rubaiyat Islam",
      "userId": "00143020000614467639"
     },
     "user_tz": -360
    },
    "id": "TqCzKR16kycH"
   },
   "outputs": [],
   "source": [
    "mydict = {'Name': 'Asif', 'ID': 7412, 'Pincode': 41102, 'Age': 33, 'Country': 'India', 'Language': 'Hindi'}\n",
    "\n",
    "UserDetails(**mydict)"
   ]
  },
  {
   "cell_type": "code",
   "execution_count": null,
   "metadata": {
    "executionInfo": {
     "elapsed": 186,
     "status": "aborted",
     "timestamp": 1729271174697,
     "user": {
      "displayName": "Dr. Rubaiyat Islam",
      "userId": "00143020000614467639"
     },
     "user_tz": -360
    },
    "id": "6W3ZpItikycH"
   },
   "outputs": [],
   "source": [
    "def UserDetails(licenseNo,  *args , phoneNo=0 , **kwargs): # Using all four arguments types\n",
    "    print('License No :- ', licenseNo)\n",
    "    j=''\n",
    "    for i in args:\n",
    "        j = j+i\n",
    "    print('Full Name :-',j)\n",
    "    print('Phone Number:- ',phoneNo)\n",
    "    for key,val in kwargs.items():\n",
    "        print(\"{} :- {}\".format(key,val))\n",
    "\n",
    "\n",
    "name = ['Asif' , ' ' , 'Ali' , ' ','Bhat']\n",
    "mydict = {'Name': 'Asif', 'ID': 7412, 'Pincode': 41102, 'Age': 33, 'Country': 'India', 'Language': 'Hindi'}\n",
    "\n",
    "UserDetails('BHT145' , *name , phoneNo=1234567890,**mydict )"
   ]
  },
  {
   "cell_type": "code",
   "execution_count": null,
   "metadata": {
    "collapsed": true,
    "executionInfo": {
     "elapsed": 186,
     "status": "aborted",
     "timestamp": 1729271174697,
     "user": {
      "displayName": "Dr. Rubaiyat Islam",
      "userId": "00143020000614467639"
     },
     "user_tz": -360
    },
    "id": "m1RGDZdTkycI"
   },
   "outputs": [],
   "source": [
    "def UserDetails(licenseNo, *args , phoneNo=0, **kwargs): # Using all four arguments types. CORRECT ORDER\n",
    "    print('Nothing')"
   ]
  },
  {
   "cell_type": "code",
   "execution_count": null,
   "metadata": {
    "executionInfo": {
     "elapsed": 186,
     "status": "aborted",
     "timestamp": 1729271174697,
     "user": {
      "displayName": "Dr. Rubaiyat Islam",
      "userId": "00143020000614467639"
     },
     "user_tz": -360
    },
    "id": "Nbzya85ukycI"
   },
   "outputs": [],
   "source": [
    "def UserDetails(licenseNo, **kwargs , *args): # This will fail. *args MUST come before **kwargs in the argument list\n",
    "    print('Nothing')"
   ]
  },
  {
   "cell_type": "code",
   "execution_count": null,
   "metadata": {
    "executionInfo": {
     "elapsed": 185,
     "status": "aborted",
     "timestamp": 1729271174697,
     "user": {
      "displayName": "Dr. Rubaiyat Islam",
      "userId": "00143020000614467639"
     },
     "user_tz": -360
    },
    "id": "tkECuXzhkycI"
   },
   "outputs": [],
   "source": [
    "#The below function will fail. Default argument/positional argument (licenseNo) MUST come before Keyword argument(ID)\n",
    "def UserDetails(ID = 1, licenseNo, *args):\n",
    "    print('Nothing')"
   ]
  },
  {
   "cell_type": "markdown",
   "metadata": {
    "id": "u3lrh-ytkycI"
   },
   "source": [
    "# Lambda, Filter, Map and Reduce"
   ]
  },
  {
   "cell_type": "markdown",
   "metadata": {
    "id": "q32pIxPrkycI"
   },
   "source": [
    "__Lambda__\n",
    "\n",
    "- A lambda function is an anonymous function (function without a name).\n",
    "\n",
    "\n",
    "- Lambda functions can have any number of arguments but only one expression. The expression is evaluated and returned.\n",
    "\n",
    "\n",
    "- We use lambda functions when we require a nameless function for a short period of time.\n",
    "\n",
    "\n",
    "__Syntax:-__"
   ]
  },
  {
   "cell_type": "markdown",
   "metadata": {
    "id": "bVfeDmJ2kycI"
   },
   "source": [
    "<img src=\"lambda1.PNG\">"
   ]
  },
  {
   "cell_type": "markdown",
   "metadata": {
    "id": "-XbFInC5kycI"
   },
   "source": [
    "__Filter__\n",
    "\n",
    "\n",
    "- It is used to filter the iterables/sequence as per the conditions.\n",
    "\n",
    "\n",
    "- Filter function filters the original iterable and passes the items that returns True for the function provided to filter.\n",
    "\n",
    "\n",
    "- It is normally used with Lambda functions to filter list, tuple, or sets.\n",
    "\n",
    "\n",
    "\n",
    "filter() method takes two parameters:\n",
    "\n",
    "- __function__ - function tests if elements of an iterable returns true or false\n",
    "\n",
    "- __iterable__ - Sequence which needs to be filtered, could be sets, lists, tuples, or any iterators\n",
    "\n",
    "\n",
    "\n",
    "\n",
    "__Syntax:__"
   ]
  },
  {
   "cell_type": "markdown",
   "metadata": {
    "id": "fz1M3JeKkycI"
   },
   "source": [
    "<img src=\"filter.PNG\">"
   ]
  },
  {
   "cell_type": "markdown",
   "metadata": {
    "id": "Y8acpz-MkycI"
   },
   "source": [
    "__Map__\n",
    "\n",
    "- The map() function applies a given function to each item of an iterable (list, tuple etc.) and returns a list of the results.\n",
    "\n",
    "\n",
    "\n",
    "\n",
    "map() function takes two Parameters :\n",
    "\n",
    "-   __function__ :  The function to execute for each item of given iterable.\n",
    "\n",
    "\n",
    "-   __iterable__ : It is a iterable which is to be mapped.\n",
    "\n",
    "\n",
    "__Returns__ : Returns a list of the results after applying the given function to each item of a given iterable (list, tuple etc.)\n",
    "\n",
    "__Syntax:__"
   ]
  },
  {
   "cell_type": "markdown",
   "metadata": {
    "id": "aAz_gqqdkycI"
   },
   "source": [
    "<img src=\"map.PNG\">"
   ]
  },
  {
   "cell_type": "markdown",
   "metadata": {
    "id": "h4ZnEruikycI"
   },
   "source": [
    "__Reduce__\n",
    "\n",
    "- The reduce() function is defined in the __functools__ python module.The reduce() function receives two arguments, a function and an iterable. However, it doesn't return another iterable, instead it returns a single value.\n",
    "\n",
    "\n",
    "__Working:__\n",
    "\n",
    " 1)  Apply a function to the first two items in an iterable and generate a partial result.\n",
    "\n",
    " 2)  The function is then called again with the result obtained in __step 1__ and the next value in the sequence. This process keeps on repeating until there are items in the sequence.\n",
    "\n",
    " 3)  The final returned result is returned and printed on console.\n",
    "\n",
    "\n",
    "\n",
    "__Syntax:__"
   ]
  },
  {
   "cell_type": "markdown",
   "metadata": {
    "id": "kbT-F9AHkycI"
   },
   "source": [
    "<img src=\"reduce.PNG\">"
   ]
  },
  {
   "cell_type": "code",
   "execution_count": null,
   "metadata": {
    "executionInfo": {
     "elapsed": 185,
     "status": "aborted",
     "timestamp": 1729271174697,
     "user": {
      "displayName": "Dr. Rubaiyat Islam",
      "userId": "00143020000614467639"
     },
     "user_tz": -360
    },
    "id": "IMt48i2qkycI"
   },
   "outputs": [],
   "source": [
    "addition = lambda a : a + 10  # This lambda function adds value 10 to an argument.\n",
    "print(addition(5))"
   ]
  },
  {
   "cell_type": "code",
   "execution_count": null,
   "metadata": {
    "executionInfo": {
     "elapsed": 185,
     "status": "aborted",
     "timestamp": 1729271174697,
     "user": {
      "displayName": "Dr. Rubaiyat Islam",
      "userId": "00143020000614467639"
     },
     "user_tz": -360
    },
    "id": "QE09i9AWkycI"
   },
   "outputs": [],
   "source": [
    "product = lambda a, b : a * b #This lambda function takes two arguments (a,b) and returns their product (a*b).\n",
    "print(product(5, 6))"
   ]
  },
  {
   "cell_type": "code",
   "execution_count": null,
   "metadata": {
    "executionInfo": {
     "elapsed": 185,
     "status": "aborted",
     "timestamp": 1729271174697,
     "user": {
      "displayName": "Dr. Rubaiyat Islam",
      "userId": "00143020000614467639"
     },
     "user_tz": -360
    },
    "id": "yWXU-GytkycI"
   },
   "outputs": [],
   "source": [
    "addition = lambda a, b, c : a + b + c  #This lambda function takes three arguments (a,b,c) and returns their sum (a+b+c).\n",
    "print(addition(5, 6, 2))"
   ]
  },
  {
   "cell_type": "code",
   "execution_count": null,
   "metadata": {
    "executionInfo": {
     "elapsed": 185,
     "status": "aborted",
     "timestamp": 1729271174697,
     "user": {
      "displayName": "Dr. Rubaiyat Islam",
      "userId": "00143020000614467639"
     },
     "user_tz": -360
    },
    "id": "ffePTFHskycJ"
   },
   "outputs": [],
   "source": [
    "res = (lambda *args: sum(args))  # This lambda function can take any number of arguments and return thier sum.\n",
    "res(10,20) , res(10,20,30,40) ,  res(10,20,30,40,50,60,70)"
   ]
  },
  {
   "cell_type": "code",
   "execution_count": null,
   "metadata": {
    "executionInfo": {
     "elapsed": 185,
     "status": "aborted",
     "timestamp": 1729271174697,
     "user": {
      "displayName": "Dr. Rubaiyat Islam",
      "userId": "00143020000614467639"
     },
     "user_tz": -360
    },
    "id": "BJFwnYEdkycJ"
   },
   "outputs": [],
   "source": [
    "res1 = (lambda **kwargs: sum(kwargs.values())) # This lambda function can take any number of arguments and return thier sum.\n",
    "res1(a = 10 , b= 20 , c = 30) , res1(a = 10 , b= 20 , c = 30, d = 40 , e = 50)"
   ]
  },
  {
   "cell_type": "code",
   "execution_count": null,
   "metadata": {
    "executionInfo": {
     "elapsed": 185,
     "status": "aborted",
     "timestamp": 1729271174697,
     "user": {
      "displayName": "Dr. Rubaiyat Islam",
      "userId": "00143020000614467639"
     },
     "user_tz": -360
    },
    "id": "G8g9ZhL-kycJ"
   },
   "outputs": [],
   "source": [
    "res1 = (lambda **kwargs: sum(kwargs.values())) # This lambda function can take any number of arguments and return thier sum.\n",
    "res1(a = 10 , b= 20 , c = 30) , res1(a = 10 , b= 20 , c = 30, d = 40 , e = 50)"
   ]
  },
  {
   "cell_type": "code",
   "execution_count": null,
   "metadata": {
    "executionInfo": {
     "elapsed": 185,
     "status": "aborted",
     "timestamp": 1729271174697,
     "user": {
      "displayName": "Dr. Rubaiyat Islam",
      "userId": "00143020000614467639"
     },
     "user_tz": -360
    },
    "id": "gk1DpKJfkycJ"
   },
   "outputs": [],
   "source": [
    "# User defined function to find product of numbers\n",
    "def product(nums):\n",
    "    total = 1\n",
    "    for i in nums:\n",
    "        total *= i\n",
    "    return total\n",
    "\n",
    "# This lambda function can take any number of arguments and return thier product.\n",
    "res1 = (lambda **kwargs: product(kwargs.values()))\n",
    "res1(a = 10 , b= 20 , c = 30) , res1(a = 10 , b= 20 , c = 30, d = 40 , e = 50)"
   ]
  },
  {
   "cell_type": "code",
   "execution_count": null,
   "metadata": {
    "executionInfo": {
     "elapsed": 184,
     "status": "aborted",
     "timestamp": 1729271174697,
     "user": {
      "displayName": "Dr. Rubaiyat Islam",
      "userId": "00143020000614467639"
     },
     "user_tz": -360
    },
    "id": "chsOcC2gkycJ"
   },
   "outputs": [],
   "source": [
    "def myfunc(n):\n",
    "  return lambda a : a + n\n",
    "\n",
    "add10 = myfunc(10)\n",
    "add20 = myfunc(20)\n",
    "add30 = myfunc(30)\n",
    "\n",
    "print(add10(5))\n",
    "print(add20(5))\n",
    "print(add30(5))"
   ]
  },
  {
   "cell_type": "code",
   "execution_count": null,
   "metadata": {
    "executionInfo": {
     "elapsed": 184,
     "status": "aborted",
     "timestamp": 1729271174697,
     "user": {
      "displayName": "Dr. Rubaiyat Islam",
      "userId": "00143020000614467639"
     },
     "user_tz": -360
    },
    "id": "TSYmf2qXkycJ"
   },
   "outputs": [],
   "source": [
    "list1 = [1,2,3,4,5,6,7,8,9]\n",
    "\n",
    "def odd(n):\n",
    "    if n%2 ==1: return True\n",
    "    else: return False\n",
    "\n",
    "odd_num = list(filter(odd,list1)) # This Filter function filters list1 and passes all odd numbers to filter().\n",
    "odd_num"
   ]
  },
  {
   "cell_type": "code",
   "execution_count": null,
   "metadata": {
    "executionInfo": {
     "elapsed": 184,
     "status": "aborted",
     "timestamp": 1729271174697,
     "user": {
      "displayName": "Dr. Rubaiyat Islam",
      "userId": "00143020000614467639"
     },
     "user_tz": -360
    },
    "id": "xz9zDXfVkycJ"
   },
   "outputs": [],
   "source": [
    "list1 = [1,2,3,4,5,6,7,8,9]\n",
    "# The below Filter function filters \"list1\" and passes all odd numbers using lambda function to filter().\n",
    "odd_num = list(filter(lambda n: n%2 ==1 ,list1))\n",
    "odd_num"
   ]
  },
  {
   "cell_type": "code",
   "execution_count": null,
   "metadata": {
    "executionInfo": {
     "elapsed": 184,
     "status": "aborted",
     "timestamp": 1729271174697,
     "user": {
      "displayName": "Dr. Rubaiyat Islam",
      "userId": "00143020000614467639"
     },
     "user_tz": -360
    },
    "id": "VsqiEmmWkycJ"
   },
   "outputs": [],
   "source": [
    "def twice(n):\n",
    "    return n*2\n",
    "\n",
    "doubles = list(map(twice,odd_num)) # The map function will apply user defined \"twice()\" function on all items of the list\n",
    "doubles"
   ]
  },
  {
   "cell_type": "code",
   "execution_count": null,
   "metadata": {
    "executionInfo": {
     "elapsed": 184,
     "status": "aborted",
     "timestamp": 1729271174697,
     "user": {
      "displayName": "Dr. Rubaiyat Islam",
      "userId": "00143020000614467639"
     },
     "user_tz": -360
    },
    "id": "KVTnD4NhkycJ"
   },
   "outputs": [],
   "source": [
    "doubles = list(map(lambda n:n*2,odd_num)) # This map function will double all items of the list using lambda function.\n",
    "doubles"
   ]
  },
  {
   "cell_type": "code",
   "execution_count": null,
   "metadata": {
    "executionInfo": {
     "elapsed": 184,
     "status": "aborted",
     "timestamp": 1729271174697,
     "user": {
      "displayName": "Dr. Rubaiyat Islam",
      "userId": "00143020000614467639"
     },
     "user_tz": -360
    },
    "id": "eMrq7YTOkycJ"
   },
   "outputs": [],
   "source": [
    "from functools import reduce\n",
    "\n",
    "def add(a,b):\n",
    "    return a+b\n",
    "\n",
    "sum_all = reduce(add,doubles) # This reduce function will perform sum of all items in the list using user defined \"add()\" func.\n",
    "sum_all"
   ]
  },
  {
   "cell_type": "code",
   "execution_count": null,
   "metadata": {
    "executionInfo": {
     "elapsed": 184,
     "status": "aborted",
     "timestamp": 1729271174697,
     "user": {
      "displayName": "Dr. Rubaiyat Islam",
      "userId": "00143020000614467639"
     },
     "user_tz": -360
    },
    "id": "USCc9wUzkycJ"
   },
   "outputs": [],
   "source": [
    "#The below reduce() function will perform sum of all items in the list using lambda function.\n",
    "sum_all = reduce(lambda a,b : a+b,doubles)\n",
    "sum_all"
   ]
  },
  {
   "cell_type": "code",
   "execution_count": null,
   "metadata": {
    "executionInfo": {
     "elapsed": 184,
     "status": "aborted",
     "timestamp": 1729271174697,
     "user": {
      "displayName": "Dr. Rubaiyat Islam",
      "userId": "00143020000614467639"
     },
     "user_tz": -360
    },
    "id": "2prL6ERpkycJ"
   },
   "outputs": [],
   "source": [
    "# Putting all together\n",
    "\n",
    "sum_all = reduce(lambda a,b : a+b,list(map(lambda n:n*2,list(filter(lambda n: n%2 ==1 ,list1)))))\n",
    "sum_all"
   ]
  },
  {
   "cell_type": "markdown",
   "metadata": {
    "id": "UwVFzH4CkycK"
   },
   "source": [
    "<img src=\"fmr.PNG\">"
   ]
  },
  {
   "cell_type": "code",
   "execution_count": null,
   "metadata": {
    "collapsed": true,
    "executionInfo": {
     "elapsed": 184,
     "status": "aborted",
     "timestamp": 1729271174697,
     "user": {
      "displayName": "Dr. Rubaiyat Islam",
      "userId": "00143020000614467639"
     },
     "user_tz": -360
    },
    "id": "16pn143jkycK"
   },
   "outputs": [],
   "source": [
    "# More examples on Map , Filter , Reduce"
   ]
  },
  {
   "cell_type": "code",
   "execution_count": null,
   "metadata": {
    "executionInfo": {
     "elapsed": 183,
     "status": "aborted",
     "timestamp": 1729271174697,
     "user": {
      "displayName": "Dr. Rubaiyat Islam",
      "userId": "00143020000614467639"
     },
     "user_tz": -360
    },
    "id": "t0en1TpbkycK"
   },
   "outputs": [],
   "source": [
    "list1 = [1,2,3,4,5,6,7,8,9,10]\n",
    "even = list(filter(lambda n: n%2 ==0 ,list1)) # Filter even numbers from the list\n",
    "odd =  list(filter(lambda n: n%2 !=0 ,list1))   # Filter odd numbers from the list\n",
    "\n",
    "print('--------')\n",
    "print(even)\n",
    "print(odd)\n",
    "print('--------')\n",
    "\n",
    "list2 = ['one' , 'TWO' , 'three' , 'FOUR']\n",
    "\n",
    "upper = list(filter(lambda x: x.isupper() , list2)) # filter uppercase strings from the list\n",
    "\n",
    "lower = list(filter(lambda x: x.islower() , list2)) # filter lowercase strings from the list\n",
    "\n",
    "\n",
    "print(upper)\n",
    "print(lower)\n",
    "print('--------')\n",
    "\n",
    "list3 = ['one' , 'two2' , 'three3' ,'88' , '99' , '102']\n",
    "\n",
    "numeric = list(filter(lambda x:x.isnumeric(), list3))  # filter numbers from the list\n",
    "\n",
    "alpha = list(filter(lambda x:x.isalpha(), list3))      # filter character strings from the list\n",
    "\n",
    "alphanum = list(filter(lambda x:x.isalnum(), list3)) # filtr numbers & character strings from the list\n",
    "\n",
    "\n",
    "print(alpha)\n",
    "print(numeric)\n",
    "print(alphanum)\n",
    "print('--------')\n",
    "\n",
    "\n",
    "#Vowel Test\n"
   ]
  },
  {
   "cell_type": "code",
   "execution_count": null,
   "metadata": {
    "executionInfo": {
     "elapsed": 183,
     "status": "aborted",
     "timestamp": 1729271174697,
     "user": {
      "displayName": "Dr. Rubaiyat Islam",
      "userId": "00143020000614467639"
     },
     "user_tz": -360
    },
    "id": "4cQ6-gSUkycK"
   },
   "outputs": [],
   "source": [
    "list1 = [1,2,3,4]\n",
    "list2 = [5,6,7,8]\n",
    "\n",
    "def double(x):\n",
    "    return x+x\n",
    "\n",
    "def add(x,y):\n",
    "    return x+y\n",
    "\n",
    "def square(x):\n",
    "    return x*x\n",
    "\n",
    "print('---------------')\n",
    "\n",
    "print(list(map(double, list1))) # Double each number using map & User defined function\n",
    "print(list(map(add, list1, list2))) # add two items  using map & User defined function\n",
    "print(list(map(square, list1))) #Square numbers using map & User defined function\n",
    "\n",
    "print('---------------')\n",
    "\n",
    "print(list(map(lambda x: x + x, list1))) # Double each number using map & lambda\n",
    "print(list(map(lambda x, y: x + y, list1, list2))) # add two items  using map & lambda\n",
    "print(list(map(lambda x: x*x, list1))) #Square numbers using map & lambda\n",
    "\n",
    "print('---------------')"
   ]
  },
  {
   "cell_type": "code",
   "execution_count": null,
   "metadata": {
    "executionInfo": {
     "elapsed": 183,
     "status": "aborted",
     "timestamp": 1729271174697,
     "user": {
      "displayName": "Dr. Rubaiyat Islam",
      "userId": "00143020000614467639"
     },
     "user_tz": -360
    },
    "id": "L-f3vKkkkycK"
   },
   "outputs": [],
   "source": [
    "list2 = [1,2,3,4]\n",
    "\n",
    "product = reduce (operator.mul,list2) # Product of all numbers in a list\n",
    "\n",
    "add = reduce(operator.add,list2) # Add all numbers in the list\n",
    "\n",
    "concat_str = reduce(operator.add , ['Python' , ' ' , 'Rocks']) # Concatenate string using reduce\n",
    "\n",
    "prod = reduce(operator.mul,['Hello ' , 3]) #Repeat a string multiple times\n",
    "\n",
    "min_num = reduce(lambda a, b: a if a < b else b, list2) # Minimum number in the list using reduce () & lambda\n",
    "\n",
    "max_num = reduce(lambda a, b: a if a > b else b, list2) # Maximum number in the list using reduce () & lambda\n",
    "\n",
    "print(product)\n",
    "\n",
    "print(add)\n",
    "\n",
    "print(concat_str)\n",
    "\n",
    "print(prod)\n",
    "\n",
    "print(min_num)\n",
    "\n",
    "print(max_num)"
   ]
  },
  {
   "cell_type": "code",
   "execution_count": null,
   "metadata": {
    "executionInfo": {
     "elapsed": 183,
     "status": "aborted",
     "timestamp": 1729271174697,
     "user": {
      "displayName": "Dr. Rubaiyat Islam",
      "userId": "00143020000614467639"
     },
     "user_tz": -360
    },
    "id": "WYqtu5OYkycK"
   },
   "outputs": [],
   "source": [
    "def min_func(a, b):\n",
    "        return a if a < b else b\n",
    "\n",
    "\n",
    "def max_func(a, b):\n",
    "    return a if a > b else b\n",
    "\n",
    "min_num = reduce(min_func, list2) # Minimum number in the list using reduce () & User defined min function\n",
    "\n",
    "max_num = reduce(max_func, list2) # Maximum number in the list using reduce () & User defined min function\n",
    "\n",
    "min_num , max_num"
   ]
  },
  {
   "cell_type": "code",
   "execution_count": null,
   "metadata": {
    "executionInfo": {
     "elapsed": 184,
     "status": "aborted",
     "timestamp": 1729271174698,
     "user": {
      "displayName": "Dr. Rubaiyat Islam",
      "userId": "00143020000614467639"
     },
     "user_tz": -360
    },
    "id": "kEYYPH3dkycK",
    "scrolled": true
   },
   "outputs": [],
   "source": [
    "print('------')\n",
    "print(reduce(lambda a, b: bool(a and b), [0, 0, 1, 0, 0])) # Returns True if all values in the list are True\n",
    "print(reduce(lambda a, b: bool(a and b), [2, 3, 1, 5, 6])) # Returns True if all items in the list are True\n",
    "print(reduce(lambda a, b: bool(a and b), [8, 9, 1, 0, 9])) # Returns True if all values in the list are True\n",
    "\n",
    "print('------')\n",
    "\n",
    "print(reduce(lambda a, b: bool(a or b), [0, 0, 0, 0, 0]))  # Returns True if any item in the list is True\n",
    "print(reduce(lambda a, b: bool(a or b), [2, 3, 1, 5, 6]))  # Returns True if any item in the list is True\n",
    "print(reduce(lambda a, b: bool(a or b), [8, 9, 1, 0, 9]))  # Returns True if any item in the list is True\n",
    "\n",
    "print('------')"
   ]
  },
  {
   "cell_type": "markdown",
   "metadata": {
    "id": "1Lm74TLpkycS"
   },
   "source": [
    "# END"
   ]
  }
 ],
 "metadata": {
  "colab": {
   "provenance": []
  },
  "kernelspec": {
   "display_name": "Python 3",
   "language": "python",
   "name": "python3"
  },
  "language_info": {
   "codemirror_mode": {
    "name": "ipython",
    "version": 3
   },
   "file_extension": ".py",
   "mimetype": "text/x-python",
   "name": "python",
   "nbconvert_exporter": "python",
   "pygments_lexer": "ipython3",
   "version": "3.12.4"
  }
 },
 "nbformat": 4,
 "nbformat_minor": 0
}
