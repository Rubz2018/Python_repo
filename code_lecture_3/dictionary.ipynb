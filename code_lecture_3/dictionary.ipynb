{
 "cells": [
  {
   "cell_type": "code",
   "execution_count": null,
   "metadata": {},
   "outputs": [],
   "source": [
    "Dictionary"
   ]
  },
  {
   "cell_type": "code",
   "execution_count": 1,
   "metadata": {},
   "outputs": [
    {
     "name": "stdout",
     "output_type": "stream",
     "text": [
      "key: a and value: 1\n",
      "key: b and value: 2\n",
      "key: c and value: 3\n"
     ]
    }
   ],
   "source": [
    "#loop through a dictionary\n",
    "\n",
    "data={'a':1, 'b':2, 'c':3}\n",
    "for key, value in data.items():\n",
    "    print(f\"key: {key} and value: {value}\")"
   ]
  },
  {
   "cell_type": "code",
   "execution_count": 2,
   "metadata": {},
   "outputs": [
    {
     "name": "stdout",
     "output_type": "stream",
     "text": [
      "key: temp and values: 25\n",
      "key: pressure and values: 100\n",
      "key: pH and values: 7.0\n"
     ]
    }
   ],
   "source": [
    "data={'temp':25, 'pressure':100, 'pH':7.0}\n",
    "for key, value in data.items():\n",
    "    print(f\"key: {key} and values: {value}\")"
   ]
  },
  {
   "cell_type": "code",
   "execution_count": 14,
   "metadata": {},
   "outputs": [
    {
     "name": "stdout",
     "output_type": "stream",
     "text": [
      "pressure has a value 100 which is greater than 34.0\n"
     ]
    }
   ],
   "source": [
    "data={'temp':25, 'pressure':100, 'pH':7.0}\n",
    "threshold=float(input(\"please insert the threshold value: \"))\n",
    "for key, value in data.items():\n",
    "    if value>threshold:\n",
    "         print(f\"{key} has a value {value} which is greater than {threshold}\")\n",
    "\n",
    "\n",
    "\n"
   ]
  },
  {
   "cell_type": "code",
   "execution_count": 13,
   "metadata": {},
   "outputs": [
    {
     "name": "stdout",
     "output_type": "stream",
     "text": [
      "{25: 1, 100: 1, 7.0: 1}\n"
     ]
    }
   ],
   "source": [
    "value_counts={}\n",
    "for value in data.values():\n",
    "    if value in value_counts:\n",
    "        value_counts[value]+=1\n",
    "    else:\n",
    "        value_counts[value]=1\n",
    "print(value_counts)"
   ]
  },
  {
   "cell_type": "code",
   "execution_count": 16,
   "metadata": {},
   "outputs": [
    {
     "name": "stdout",
     "output_type": "stream",
     "text": [
      "temp has a value 25 which is less than 66.0\n",
      "pH has a value 7.0 which is less than 66.0\n"
     ]
    }
   ],
   "source": [
    "threshold=float(input(\"please insert the threshold value: \"))\n",
    "for key, value in data.items():\n",
    "    if value<threshold:\n",
    "         print(f\"{key} has a value {value} which is less than {threshold}\")\n"
   ]
  },
  {
   "cell_type": "code",
   "execution_count": 15,
   "metadata": {},
   "outputs": [
    {
     "name": "stdout",
     "output_type": "stream",
     "text": [
      "{1: 'wasique', 2: 'taukir', 3: 'arka', 4: 'nisa', 5: 'tuhin'}\n"
     ]
    }
   ],
   "source": [
    "data1={2:'taukir', 4:'nisa', 1:'wasique', 5:'tuhin', 3:'arka'}\n",
    "sorted_dict=dict(sorted(data1.items()))\n",
    "print(sorted_dict)"
   ]
  }
 ],
 "metadata": {
  "kernelspec": {
   "display_name": "Python 3",
   "language": "python",
   "name": "python3"
  },
  "language_info": {
   "codemirror_mode": {
    "name": "ipython",
    "version": 3
   },
   "file_extension": ".py",
   "mimetype": "text/x-python",
   "name": "python",
   "nbconvert_exporter": "python",
   "pygments_lexer": "ipython3",
   "version": "3.12.4"
  }
 },
 "nbformat": 4,
 "nbformat_minor": 2
}
