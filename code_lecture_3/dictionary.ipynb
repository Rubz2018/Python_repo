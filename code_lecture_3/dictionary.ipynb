{
 "cells": [
  {
   "cell_type": "code",
   "execution_count": 31,
   "metadata": {},
   "outputs": [
    {
     "name": "stdout",
     "output_type": "stream",
     "text": [
      "key:a and value: 1\n",
      "key:b and value: 2\n",
      "key:c and value: 3\n"
     ]
    }
   ],
   "source": [
    "#Loop through a dictionary and print each key and value.\n",
    "data = {'a':1,'b':2, 'c':3}\n",
    "#print(data)\n",
    "for key, value in data.items():\n",
    "    print(f\"key:{key} and value: {value}\")\n",
    "    "
   ]
  },
  {
   "cell_type": "code",
   "execution_count": 32,
   "metadata": {},
   "outputs": [
    {
     "name": "stdout",
     "output_type": "stream",
     "text": [
      "temperature: 25\n",
      "pressure: 101.3\n",
      "pH: 7.0\n"
     ]
    }
   ],
   "source": [
    "data = {\n",
    "    \"temperature\": 25, \n",
    "    \"pressure\": 101.3, \n",
    "    \"pH\": 7.0  \n",
    "}\n",
    "\n",
    "for key, value in data.items():\n",
    "    print(f\"{key}: {value}\") #\n",
    "\n"
   ]
  },
  {
   "cell_type": "code",
   "execution_count": 34,
   "metadata": {},
   "outputs": [
    {
     "name": "stdout",
     "output_type": "stream",
     "text": [
      "pressure has a value greater than 40.0: 101\n"
     ]
    }
   ],
   "source": [
    "#Find and print all keys that have values greater than a given number.\n",
    "data = {\n",
    "    \"temperature\": 25,\n",
    "    \"pressure\": 101,\n",
    "    \"pH\": 7.0\n",
    "}\n",
    "\n",
    "threshold = float(input(\"Please Insert the theshold Value\"))  \n",
    "# threshold = 50\n",
    "\n",
    "for key, value in data.items():\n",
    "    if value > threshold:\n",
    "        print(f\"{key} has a value greater than {threshold}: {value}\")\n"
   ]
  },
  {
   "cell_type": "code",
   "execution_count": 35,
   "metadata": {},
   "outputs": [
    {
     "name": "stdout",
     "output_type": "stream",
     "text": [
      "{25: 1, 101: 1, 7.0: 1}\n"
     ]
    }
   ],
   "source": [
    "# Count the occurrences of each value in a dictionary.\n",
    "value_counts = {}\n",
    "for value in data.values():\n",
    "    if value in value_counts:\n",
    "        value_counts[value]+1\n",
    "    else:\n",
    "        value_counts[value]=1\n",
    "print(value_counts)"
   ]
  },
  {
   "cell_type": "code",
   "execution_count": 36,
   "metadata": {},
   "outputs": [
    {
     "name": "stdout",
     "output_type": "stream",
     "text": [
      "temperature has a value less than 40.0: 25\n",
      "pH has a value less than 40.0: 7.0\n"
     ]
    }
   ],
   "source": [
    "data = {\n",
    "    \"temperature\": 25,\n",
    "    \"pressure\": 101,\n",
    "    \"pH\": 7.0\n",
    "}\n",
    "\n",
    "threshold = float(input(\"Please Insert the theshold Value\"))  \n",
    "# threshold = 50\n",
    "\n",
    "for key, value in data.items():\n",
    "    if value < threshold:\n",
    "        print(f\"{key} has a value less than {threshold}: {value}\")"
   ]
  },
  {
   "cell_type": "code",
   "execution_count": 37,
   "metadata": {},
   "outputs": [
    {
     "name": "stdout",
     "output_type": "stream",
     "text": [
      "{1: 'Arka', 2: 'Nisa', 3: 'Taukir'}\n"
     ]
    }
   ],
   "source": [
    "#Print dictionary items in sorted order of their keys.\n",
    "data1={\n",
    "   3:\"Taukir\" , 2:\"Nisa\",1:\"Arka\" \n",
    "}\n",
    "sorted_dict= dict(sorted(data1.items()))\n",
    "print(sorted_dict)"
   ]
  },
  {
   "cell_type": "code",
   "execution_count": null,
   "metadata": {},
   "outputs": [],
   "source": [
    ".\n"
   ]
  }
 ],
 "metadata": {
  "kernelspec": {
   "display_name": "Python 3",
   "language": "python",
   "name": "python3"
  },
  "language_info": {
   "codemirror_mode": {
    "name": "ipython",
    "version": 3
   },
   "file_extension": ".py",
   "mimetype": "text/x-python",
   "name": "python",
   "nbconvert_exporter": "python",
   "pygments_lexer": "ipython3",
   "version": "3.12.8"
  }
 },
 "nbformat": 4,
 "nbformat_minor": 2
}
