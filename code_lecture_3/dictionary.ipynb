{
 "cells": [
  {
   "cell_type": "code",
   "execution_count": 2,
   "metadata": {},
   "outputs": [
    {
     "name": "stdout",
     "output_type": "stream",
     "text": [
      "key:a and value: 1\n",
      "key:b and value: 2\n",
      "key:c and value: 3\n"
     ]
    }
   ],
   "source": [
    "#Loop through a dictionary and print each key and value.\n",
    "data = {'a':1,'b':2, 'c':3}\n",
    "#print(data)\n",
    "for key, value in data.items():\n",
    "    print(f\"key:{key} and value: {value}\")\n",
    "    "
   ]
  },
  {
   "cell_type": "code",
   "execution_count": 5,
   "metadata": {},
   "outputs": [
    {
     "name": "stdout",
     "output_type": "stream",
     "text": [
      "temperature: 25\n",
      "pressure: 101.3\n",
      "pH: 7.0\n"
     ]
    }
   ],
   "source": [
    "data = {\n",
    "    \"temperature\": 25, \n",
    "    \"pressure\": 101.3, \n",
    "    \"pH\": 7.0  \n",
    "}\n",
    "\n",
    "for key, value in data.items():\n",
    "    print(f\"{key}: {value}\") #\n",
    "\n"
   ]
  },
  {
   "cell_type": "code",
   "execution_count": 17,
   "metadata": {},
   "outputs": [
    {
     "name": "stdout",
     "output_type": "stream",
     "text": [
      "temperature has a value less than 55.0: 25\n",
      "pH has a value less than 55.0: 7\n"
     ]
    }
   ],
   "source": [
    "#Find and print all keys that have values greater than a given number.\n",
    "data = {\n",
    "    \"temperature\": 25,\n",
    "    \"pressure\": 101,\n",
    "    \"pH\": 7.0\n",
    "}\n",
    "\n",
    "threshold = float(input(\"Please Insert the theshold Value\"))  \n",
    "# threshold = 50\n",
    "\n",
    "for key, value in data.items():\n",
    "    if value < threshold:\n",
    "        print(f\"{key} has a value less than {threshold}: {value}\")\n"
   ]
  },
  {
   "cell_type": "code",
   "execution_count": null,
   "metadata": {},
   "outputs": [],
   "source": []
  }
 ],
 "metadata": {
  "kernelspec": {
   "display_name": "Python 3",
   "language": "python",
   "name": "python3"
  },
  "language_info": {
   "codemirror_mode": {
    "name": "ipython",
    "version": 3
   },
   "file_extension": ".py",
   "mimetype": "text/x-python",
   "name": "python",
   "nbconvert_exporter": "python",
   "pygments_lexer": "ipython3",
   "version": "3.12.8"
  }
 },
 "nbformat": 4,
 "nbformat_minor": 2
}
