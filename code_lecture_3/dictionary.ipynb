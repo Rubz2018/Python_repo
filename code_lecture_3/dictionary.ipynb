{
 "cells": [
  {
<<<<<<< HEAD
=======
   "cell_type": "markdown",
   "metadata": {},
   "source": [
    "### Dictionary\n"
   ]
  },
  {
   "cell_type": "code",
   "execution_count": 10,
   "metadata": {},
   "outputs": [
    {
     "name": "stdout",
     "output_type": "stream",
     "text": [
      "key: a and value: 1 \n",
      "key: b and value: 2 \n",
      "key: c and value: 3 \n",
      "key: d and value: 3 \n"
     ]
    }
   ],
   "source": [
    "# loop through dictionary\n",
    "\n",
    "data =  {'a':1, 'b': 2 , 'c':3, 'd':3}\n",
    "#print(data)\n",
    "for key, value in data.items():\n",
    "    print(f\"key: {key} and value: {value} \")\n"
   ]
  },
  {
   "cell_type": "code",
   "execution_count": 7,
   "metadata": {},
   "outputs": [
    {
     "name": "stdout",
     "output_type": "stream",
     "text": [
      "key: c, value 3\n"
     ]
    }
   ],
   "source": [
    "threshold = int(input(\"Enter the threshold value\"))\n",
    "\n",
    "for key, value in data.items():\n",
    "    if value > threshold:\n",
    "        print(f\"key: {key}, value {value}\")\n"
   ]
  },
  {
   "cell_type": "code",
   "execution_count": 21,
   "metadata": {},
   "outputs": [
    {
     "name": "stdout",
     "output_type": "stream",
     "text": [
      "{1: 1, 2: 1, 3: 2}\n"
     ]
    }
   ],
   "source": [
    "value_counts = {}\n",
    "for value in data.values():\n",
    "    if value in value_counts:\n",
    "        value_counts[value]+=1\n",
    "    else:\n",
    "        value_counts[value] =1\n",
    "print(value_counts)\n"
   ]
  },
  {
   "cell_type": "code",
   "execution_count": 17,
   "metadata": {},
   "outputs": [
    {
     "name": "stdout",
     "output_type": "stream",
     "text": [
      "key: a, value 1\n",
      "key: b, value 2\n"
     ]
    }
   ],
   "source": [
    "threshold = int(input(\"Enter the threshold value\"))\n",
    "\n",
    "for key, value in data.items():\n",
    "    if value < threshold:\n",
    "        print(f\"key: {key}, value {value}\")"
   ]
  },
  {
   "cell_type": "code",
   "execution_count": 20,
   "metadata": {},
   "outputs": [
    {
     "name": "stdout",
     "output_type": "stream",
     "text": [
      "{1: 'Tuhin', 2: 'Nisa', 3: 'Arka', 4: 'taukir', 5: 'wasik'}\n"
     ]
    }
   ],
   "source": [
    "data1 = {4:'taukir', 2:'Nisa', 3: 'Arka', 5 :'wasik', 1: 'Tuhin'}\n",
    "\n",
    "sorted_dict = dict(sorted(data1.items()))\n",
    "print(sorted_dict)"
   ]
  },
  {
>>>>>>> b658b4787b505704ab1358ce478739c2309a68dc
   "cell_type": "code",
   "execution_count": null,
   "metadata": {},
   "outputs": [],
<<<<<<< HEAD
   "source": [
    "Dictionary"
   ]
  },
  {
   "cell_type": "code",
   "execution_count": 1,
   "metadata": {},
   "outputs": [
    {
     "name": "stdout",
     "output_type": "stream",
     "text": [
      "key: a and value: 1\n",
      "key: b and value: 2\n",
      "key: c and value: 3\n"
     ]
    }
   ],
   "source": [
    "#loop through a dictionary\n",
    "\n",
    "data={'a':1, 'b':2, 'c':3}\n",
    "for key, value in data.items():\n",
    "    print(f\"key: {key} and value: {value}\")"
   ]
  },
  {
   "cell_type": "code",
   "execution_count": 2,
   "metadata": {},
   "outputs": [
    {
     "name": "stdout",
     "output_type": "stream",
     "text": [
      "key: temp and values: 25\n",
      "key: pressure and values: 100\n",
      "key: pH and values: 7.0\n"
     ]
    }
   ],
   "source": [
    "data={'temp':25, 'pressure':100, 'pH':7.0}\n",
    "for key, value in data.items():\n",
    "    print(f\"key: {key} and values: {value}\")"
   ]
  },
  {
   "cell_type": "code",
   "execution_count": 14,
   "metadata": {},
   "outputs": [
    {
     "name": "stdout",
     "output_type": "stream",
     "text": [
      "pressure has a value 100 which is greater than 34.0\n"
     ]
    }
   ],
   "source": [
    "data={'temp':25, 'pressure':100, 'pH':7.0}\n",
    "threshold=float(input(\"please insert the threshold value: \"))\n",
    "for key, value in data.items():\n",
    "    if value>threshold:\n",
    "         print(f\"{key} has a value {value} which is greater than {threshold}\")\n",
    "\n",
    "\n",
    "\n"
   ]
  },
  {
   "cell_type": "code",
   "execution_count": 13,
   "metadata": {},
   "outputs": [
    {
     "name": "stdout",
     "output_type": "stream",
     "text": [
      "{25: 1, 100: 1, 7.0: 1}\n"
     ]
    }
   ],
   "source": [
    "value_counts={}\n",
    "for value in data.values():\n",
    "    if value in value_counts:\n",
    "        value_counts[value]+=1\n",
    "    else:\n",
    "        value_counts[value]=1\n",
    "print(value_counts)"
   ]
  },
  {
   "cell_type": "code",
   "execution_count": 16,
   "metadata": {},
   "outputs": [
    {
     "name": "stdout",
     "output_type": "stream",
     "text": [
      "temp has a value 25 which is less than 66.0\n",
      "pH has a value 7.0 which is less than 66.0\n"
     ]
    }
   ],
   "source": [
    "threshold=float(input(\"please insert the threshold value: \"))\n",
    "for key, value in data.items():\n",
    "    if value<threshold:\n",
    "         print(f\"{key} has a value {value} which is less than {threshold}\")\n"
   ]
  },
  {
   "cell_type": "code",
   "execution_count": 15,
   "metadata": {},
   "outputs": [
    {
     "name": "stdout",
     "output_type": "stream",
     "text": [
      "{1: 'wasique', 2: 'taukir', 3: 'arka', 4: 'nisa', 5: 'tuhin'}\n"
     ]
    }
   ],
   "source": [
    "data1={2:'taukir', 4:'nisa', 1:'wasique', 5:'tuhin', 3:'arka'}\n",
    "sorted_dict=dict(sorted(data1.items()))\n",
    "print(sorted_dict)"
   ]
=======
   "source": []
>>>>>>> b658b4787b505704ab1358ce478739c2309a68dc
  }
 ],
 "metadata": {
  "kernelspec": {
<<<<<<< HEAD
   "display_name": "Python 3",
=======
   "display_name": "base",
>>>>>>> b658b4787b505704ab1358ce478739c2309a68dc
   "language": "python",
   "name": "python3"
  },
  "language_info": {
   "codemirror_mode": {
    "name": "ipython",
    "version": 3
   },
   "file_extension": ".py",
   "mimetype": "text/x-python",
   "name": "python",
   "nbconvert_exporter": "python",
   "pygments_lexer": "ipython3",
<<<<<<< HEAD
   "version": "3.12.4"
=======
   "version": "3.9.13"
>>>>>>> b658b4787b505704ab1358ce478739c2309a68dc
  }
 },
 "nbformat": 4,
 "nbformat_minor": 2
}
