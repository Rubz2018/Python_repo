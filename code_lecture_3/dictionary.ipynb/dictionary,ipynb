data = {'a': 1, 'b': 2, 'c': 3}
for key, value in data.items():
    print(f"key: {key} and vaalue: {value} ")
