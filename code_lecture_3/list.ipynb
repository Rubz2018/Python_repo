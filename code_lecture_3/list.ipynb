{
 "cells": [
  {
   "cell_type": "markdown",
   "metadata": {},
   "source": [
    "- Using List comprehension Generate a list of squares of numbers from 1 to 10.\n",
    "- Using List Comprehension Create a list of even numbers from 1 to 20"
   ]
  },
  {
   "cell_type": "code",
   "execution_count": 77,
   "metadata": {},
   "outputs": [
    {
     "name": "stdout",
     "output_type": "stream",
     "text": [
      "[1, 4, 9, 16, 25, 36, 49, 64, 81, 100]\n"
     ]
    }
   ],
   "source": [
    "squares = [x**2 for x in range(1,11)]\n",
    "print(squares)\n"
   ]
  },
  {
   "cell_type": "code",
   "execution_count": 78,
   "metadata": {},
   "outputs": [
    {
     "name": "stdout",
     "output_type": "stream",
     "text": [
      "[2, 4, 6, 8, 10, 12, 14, 16, 18, 20]\n",
      "[1, 3, 5, 7, 9, 11, 13, 15, 17, 19]\n"
     ]
    }
   ],
   "source": [
    "evenNum = [x for x in range(1, 21) if x % 2 == 0]\n",
    "print(evenNum)\n",
    "oddNum = [x for x in range(1, 21) if x % 2 != 0]\n",
    "print(oddNum)"
   ]
  },
  {
   "cell_type": "code",
   "execution_count": 90,
   "metadata": {},
   "outputs": [
    {
     "name": "stdout",
     "output_type": "stream",
     "text": [
      "10\n",
      "80\n",
      "360\n"
     ]
    }
   ],
   "source": [
    "numbers=[10,20,30,40,50,60,70,80]\n",
    "minValue=min(numbers)\n",
    "maxValue=max(numbers)\n",
    "# length = len(numbers)\n",
    "total=sum(numbers)\n",
    "print(minValue)\n",
    "print(maxValue)\n",
    "# print(length)\n",
    "print(total)\n",
    "# print(len(numbers))\n"
   ]
  },
  {
   "cell_type": "code",
   "execution_count": 91,
   "metadata": {},
   "outputs": [
    {
     "name": "stdout",
     "output_type": "stream",
     "text": [
      "Minimum value: 10\n",
      "Maximum value: 50\n",
      "Sum of list: 150\n"
     ]
    }
   ],
   "source": [
    "numbers = [10, 20, 30, 40, 50]\n",
    "\n",
    "# Finding the minimum, maximum, length, and sum\n",
    "min_value = min(numbers)\n",
    "max_value = max(numbers)\n",
    "# length = len(numbers)\n",
    "total_sum = sum(numbers)\n",
    "\n",
    "# Printing the results\n",
    "print(\"Minimum value:\", min_value)\n",
    "print(\"Maximum value:\", max_value)\n",
    "# print(\"Length of list:\", length)\n",
    "print(\"Sum of list:\", total_sum)\n",
    "\n"
   ]
  }
 ],
 "metadata": {
  "kernelspec": {
   "display_name": "Python 3",
   "language": "python",
   "name": "python3"
  },
  "language_info": {
   "codemirror_mode": {
    "name": "ipython",
    "version": 3
   },
   "file_extension": ".py",
   "mimetype": "text/x-python",
   "name": "python",
   "nbconvert_exporter": "python",
   "pygments_lexer": "ipython3",
   "version": "3.12.8"
  }
 },
 "nbformat": 4,
 "nbformat_minor": 2
}
