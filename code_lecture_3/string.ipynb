{
 "cells": [
  {
   "cell_type": "code",
   "execution_count": 2,
   "metadata": {},
   "outputs": [
    {
     "name": "stdout",
     "output_type": "stream",
     "text": [
      "we lo\n",
      "ython\n"
     ]
    }
   ],
   "source": [
    "string = 'we love python'\n",
    "#print(string)\n",
    "first_five = string[:5]\n",
    "last_five = string[-5:]\n",
    "print(first_five)\n",
    "print(last_five)\n"
   ]
  },
  {
   "cell_type": "code",
   "execution_count": 4,
   "metadata": {},
   "outputs": [
    {
     "name": "stdout",
     "output_type": "stream",
     "text": [
      "we love python\n"
     ]
    }
   ],
   "source": [
    "alternative_reoved = string[::1]\n",
    "print(alternative_reoved)\n"
   ]
  },
  {
   "cell_type": "code",
   "execution_count": 15,
   "metadata": {},
   "outputs": [
    {
     "name": "stdout",
     "output_type": "stream",
     "text": [
      " love\n"
     ]
    }
   ],
   "source": [
    "string = 'we love python'\n",
    "#print(string)\n",
    "two_seven_str = string[2:7]\n",
    "print(two_seven_str)"
   ]
  },
  {
   "cell_type": "code",
   "execution_count": null,
   "metadata": {},
   "outputs": [],
   "source": []
  },
  {
   "cell_type": "code",
   "execution_count": 16,
   "metadata": {},
   "outputs": [
    {
     "name": "stdout",
     "output_type": "stream",
     "text": [
      "nohtyp evol ew\n"
     ]
    }
   ],
   "source": [
    "reverse_str = string[::-1]\n",
    "print(reverse_str)"
   ]
  },
  {
   "cell_type": "code",
   "execution_count": 17,
   "metadata": {},
   "outputs": [
    {
     "name": "stdout",
     "output_type": "stream",
     "text": [
      "after ls srip: this is a sentence  for checking\n"
     ]
    }
   ],
   "source": [
    "string = input(\"Enter a string with leading and trailing space: \")\n",
    "print('after ls srip:', string.lstrip())"
   ]
  },
  {
   "cell_type": "code",
   "execution_count": 18,
   "metadata": {},
   "outputs": [
    {
     "name": "stdout",
     "output_type": "stream",
     "text": [
      "after r srip: this is a sentence for testing\n"
     ]
    }
   ],
   "source": [
    "string = input(\"Enter a string with leading special charecter \")\n",
    "print('after r srip:', string.rstrip())"
   ]
  },
  {
   "cell_type": "code",
   "execution_count": null,
   "metadata": {},
   "outputs": [
    {
     "name": "stdout",
     "output_type": "stream",
     "text": [
      "after ls srip: gfgh\n"
     ]
    }
   ],
   "source": [
    "string = input(\"Enter a string with leading with #: \")\n",
    "print('after ls srip:', string.lstrip('#'))"
   ]
  },
  {
   "cell_type": "code",
   "execution_count": null,
   "metadata": {},
   "outputs": [
    {
     "name": "stdout",
     "output_type": "stream",
     "text": [
      "Email after stripping:  nisa#gfg\n"
     ]
    }
   ],
   "source": [
    "email = input('Enter email address')\n",
    "cleanned_email = email.strip('@','')\n",
    "print('Email after stripping: ', cleanned_email)"
   ]
  },
  {
   "cell_type": "code",
   "execution_count": null,
   "metadata": {},
   "outputs": [],
   "source": []
  }
 ],
 "metadata": {
  "kernelspec": {
   "display_name": "Python 3",
   "language": "python",
   "name": "python3"
  },
  "language_info": {
   "codemirror_mode": {
    "name": "ipython",
    "version": 3
   },
   "file_extension": ".py",
   "mimetype": "text/x-python",
   "name": "python",
   "nbconvert_exporter": "python",
   "pygments_lexer": "ipython3",
   "version": "3.12.4"
  }
 },
 "nbformat": 4,
 "nbformat_minor": 2
}
