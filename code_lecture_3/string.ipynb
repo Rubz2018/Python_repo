{
 "cells": [
  {
   "cell_type": "markdown",
   "metadata": {},
   "source": [
    "String Manipulation"
   ]
  },
  {
   "cell_type": "code",
   "execution_count": 10,
   "metadata": {},
   "outputs": [
    {
     "name": "stdout",
     "output_type": "stream",
     "text": [
      "We Lo ython\n"
     ]
    }
   ],
   "source": [
    "# Extract the first 5 and last 5 characters from a given string\n",
    "string = \"We Love Python\"\n",
    "\n",
    "firstFive=string[:5]\n",
    "lastFiver=string[-5:]\n",
    "print(firstFive,lastFiver)\n"
   ]
  },
  {
   "cell_type": "code",
   "execution_count": 11,
   "metadata": {},
   "outputs": [
    {
     "name": "stdout",
     "output_type": "stream",
     "text": [
      "W oePto\n"
     ]
    }
   ],
   "source": [
    "#Remove every alternate character from a string.\n",
    "alternateRemove=string[::2]\n",
    "print(alternateRemove)"
   ]
  },
  {
   "cell_type": "code",
   "execution_count": 21,
   "metadata": {},
   "outputs": [
    {
     "name": "stdout",
     "output_type": "stream",
     "text": [
      "Love\n"
     ]
    }
   ],
   "source": [
    "#Extract the substring from index 2 to 7.\n",
    "subStringIndex=string[3:7]\n",
    "print(subStringIndex)"
   ]
  },
  {
   "cell_type": "code",
   "execution_count": 23,
   "metadata": {},
   "outputs": [
    {
     "name": "stdout",
     "output_type": "stream",
     "text": [
      "W\n",
      "e\n",
      " \n",
      "L\n",
      "o\n",
      "v\n",
      "e\n",
      " \n",
      "P\n",
      "y\n",
      "t\n",
      "h\n",
      "o\n",
      "n\n"
     ]
    }
   ],
   "source": [
    "#Iterate through a string and print each character.\n",
    "for iterateChar in string:\n",
    "    print(iterateChar)"
   ]
  },
  {
   "cell_type": "code",
   "execution_count": 30,
   "metadata": {},
   "outputs": [
    {
     "name": "stdout",
     "output_type": "stream",
     "text": [
      "nohtyP evoL eW\n"
     ]
    }
   ],
   "source": [
    "#Reverse a string using slicing.\n",
    "reverseString=string[::-1]\n",
    "print(reverseString)"
   ]
  },
  {
   "cell_type": "markdown",
   "metadata": {},
   "source": [
    "String Strip Functions"
   ]
  },
  {
   "cell_type": "code",
   "execution_count": 40,
   "metadata": {},
   "outputs": [
    {
     "name": "stdout",
     "output_type": "stream",
     "text": [
      "we Love Python\n",
      "we Love Python   \n",
      "   we Love Python\n"
     ]
    }
   ],
   "source": [
    "#Remove leading spaces using lstrip().\n",
    "string1 = \"    we Love Python   \"\n",
    "string2 = \"   we Love Python   \" # String with leading spaces\n",
    "\n",
    "\n",
    "print(string1.strip())#Strip both leading and trailing spaces from a string.\n",
    "print(string1.lstrip())# Removes spaces from the left side\n",
    "print(string2.rstrip())# Removes spaces from the right side\n",
    "\n"
   ]
  },
  {
   "cell_type": "code",
   "execution_count": 53,
   "metadata": {},
   "outputs": [
    {
     "name": "stdout",
     "output_type": "stream",
     "text": [
      "kjdgfdghksjdhfkjfh\n"
     ]
    }
   ],
   "source": [
    "# Remove specific characters (e.g., #) from the start of a string.\n",
    "string= input(\"enter a string with leading with @:\")\n",
    "print(string.replace(\"@\",\"\"))"
   ]
  }
 ],
 "metadata": {
  "kernelspec": {
   "display_name": "Python 3",
   "language": "python",
   "name": "python3"
  },
  "language_info": {
   "codemirror_mode": {
    "name": "ipython",
    "version": 3
   },
   "file_extension": ".py",
   "mimetype": "text/x-python",
   "name": "python",
   "nbconvert_exporter": "python",
   "pygments_lexer": "ipython3",
   "version": "3.12.8"
  }
 },
 "nbformat": 4,
 "nbformat_minor": 2
}
