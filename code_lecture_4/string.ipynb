{
 "cells": [
  {
   "cell_type": "markdown",
   "metadata": {},
   "source": [
    "#### String Manipulation"
   ]
  },
  {
   "cell_type": "markdown",
   "metadata": {},
   "source": [
    "- Extract the first 5 and last 5 characters from a given string.\n",
    "- Remove every alternate character from a string.\n",
    "- Extract the substring from index 2 to 7.\n",
    "- Iterate through a string and print each character.\n",
    "- Reverse a string using slicing."
   ]
  },
  {
   "cell_type": "code",
   "execution_count": 2,
   "metadata": {},
   "outputs": [
    {
     "name": "stdout",
     "output_type": "stream",
     "text": [
      "We lo\n",
      "ython\n"
     ]
    }
   ],
   "source": [
    "string = 'We love python'\n",
    "#print(string)\n",
    "\n",
    "first_five = string[:5]\n",
    "last_five = string[-5:]\n",
    "print(first_five)\n",
    "print(last_five)"
   ]
  },
  {
   "cell_type": "code",
   "execution_count": 6,
   "metadata": {},
   "outputs": [
    {
     "name": "stdout",
     "output_type": "stream",
     "text": [
      "W oepto\n"
     ]
    }
   ],
   "source": [
    "alternate_removed = string[::2]\n",
    "print(alternate_removed)"
   ]
  },
  {
   "cell_type": "code",
   "execution_count": 7,
   "metadata": {},
   "outputs": [
    {
     "name": "stdout",
     "output_type": "stream",
     "text": [
      " love \n"
     ]
    }
   ],
   "source": [
    "two_seven_str = string[2:8]\n",
    "print(two_seven_str)"
   ]
  },
  {
   "cell_type": "code",
   "execution_count": 8,
   "metadata": {},
   "outputs": [
    {
     "name": "stdout",
     "output_type": "stream",
     "text": [
      "W\n",
      "e\n",
      " \n",
      "l\n",
      "o\n",
      "v\n",
      "e\n",
      " \n",
      "p\n",
      "y\n",
      "t\n",
      "h\n",
      "o\n",
      "n\n"
     ]
    }
   ],
   "source": [
    "for char in string:\n",
    "    print(char)"
   ]
  },
  {
   "cell_type": "code",
   "execution_count": 9,
   "metadata": {},
   "outputs": [
    {
     "name": "stdout",
     "output_type": "stream",
     "text": [
      "nohtyp evol eW\n"
     ]
    }
   ],
   "source": [
    "reverse_str = string[::-1]\n",
    "print(reverse_str)"
   ]
  },
  {
   "cell_type": "code",
   "execution_count": null,
   "metadata": {},
   "outputs": [],
   "source": []
  },
  {
   "cell_type": "markdown",
   "metadata": {},
   "source": [
    "### String \n",
    "- Remove leading spaces using lstrip().\n",
    "- Remove trailing spaces using rstrip().\n",
    "- Strip both leading and trailing spaces from a string.\n",
    "- Remove specific characters (e.g., #) from the start of a string.\n",
    "- Remove specific characters from the end of a string.\n"
   ]
  },
  {
   "cell_type": "code",
   "execution_count": 12,
   "metadata": {},
   "outputs": [
    {
     "name": "stdout",
     "output_type": "stream",
     "text": [
      "after ls strip: This is a test\n"
     ]
    }
   ],
   "source": [
    "string  =  input(\"Enter a string with leading spaces: \")\n",
    "print('after ls strip:', string.lstrip())\n"
   ]
  },
  {
   "cell_type": "code",
   "execution_count": 13,
   "metadata": {},
   "outputs": [
    {
     "name": "stdout",
     "output_type": "stream",
     "text": [
      "after r strip: this is another test.\n"
     ]
    }
   ],
   "source": [
    "string  =  input(\"Enter a string with trailing with spaces: \")\n",
    "print('after r strip:', string.rstrip())"
   ]
  },
  {
   "cell_type": "code",
   "execution_count": 14,
   "metadata": {},
   "outputs": [
    {
     "name": "stdout",
     "output_type": "stream",
     "text": [
      "after ls strip: This is a hash\n"
     ]
    }
   ],
   "source": [
    "string  =  input(\"Enter a string with leading with #: \")\n",
    "print('after ls strip:', string.lstrip('#'))"
   ]
  },
  {
   "cell_type": "code",
   "execution_count": 15,
   "metadata": {},
   "outputs": [
    {
     "name": "stdout",
     "output_type": "stream",
     "text": [
      "Email after stripping: rubz@yahoo.com\n"
     ]
    }
   ],
   "source": [
    "email  = input('Enter email address')\n",
    "cleaned_email = email.strip('@')\n",
    "print('Email after stripping:', cleaned_email)"
   ]
  },
  {
   "cell_type": "code",
   "execution_count": 16,
   "metadata": {},
   "outputs": [
    {
     "name": "stdout",
     "output_type": "stream",
     "text": [
      "Email after stripping '@': rubz@yahoo.com\n"
     ]
    }
   ],
   "source": [
    "email = input(\"Enter an email address: \")\n",
    "cleaned_email = email.strip('@')\n",
    "print(\"Email after stripping '@':\", cleaned_email)"
   ]
  },
  {
   "cell_type": "code",
   "execution_count": 19,
   "metadata": {},
   "outputs": [
    {
     "name": "stdout",
     "output_type": "stream",
     "text": [
      "Email after stripping '@': rubz yahoo.com\n"
     ]
    }
   ],
   "source": [
    "# Strip '@' from the start and end of an email address\n",
    "email = input(\"Enter an email address: \")\n",
    "cleaned_email = email.replace('@', ' ')\n",
    "print(\"Email after stripping '@':\", cleaned_email)\n"
   ]
  },
  {
   "cell_type": "code",
   "execution_count": null,
   "metadata": {},
   "outputs": [],
   "source": []
  }
 ],
 "metadata": {
  "kernelspec": {
   "display_name": "base",
   "language": "python",
   "name": "python3"
  },
  "language_info": {
   "codemirror_mode": {
    "name": "ipython",
    "version": 3
   },
   "file_extension": ".py",
   "mimetype": "text/x-python",
   "name": "python",
   "nbconvert_exporter": "python",
   "pygments_lexer": "ipython3",
   "version": "3.9.13"
  }
 },
 "nbformat": 4,
 "nbformat_minor": 2
}
