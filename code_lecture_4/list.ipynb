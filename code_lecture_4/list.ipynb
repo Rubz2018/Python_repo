{
 "cells": [
  {
   "cell_type": "markdown",
   "metadata": {},
   "source": [
    "### List"
   ]
  },
  {
   "cell_type": "markdown",
   "metadata": {},
   "source": [
    " - Using List comprehension Generate a list of squares of numbers from 1 to 10.\n",
    "- Using List Comprehension Create a list of even numbers from 1 to 20\n",
    "### Built-in Functions\n",
    "- Find the minimum, maximum, length, and sum of a list.\n",
    "- Find the longest word in a list of words.\n",
    "- Compute the sum of even numbers in a list.\n",
    "- Find the shortest string in a list.\n",
    "- Sort a list of tuples based on the second element."
   ]
  },
  {
   "cell_type": "code",
   "execution_count": null,
   "metadata": {},
   "outputs": [],
   "source": []
  },
  {
   "cell_type": "code",
   "execution_count": 18,
   "metadata": {},
   "outputs": [
    {
     "name": "stdout",
     "output_type": "stream",
     "text": [
      "[1, 4, 9, 16, 25, 36, 49, 64, 81, 100]\n"
     ]
    }
   ],
   "source": [
    "squared_num_list = [item**2 for item in range(1,11)]\n",
    "print(squared_num_list)"
   ]
  },
  {
   "cell_type": "code",
   "execution_count": 19,
   "metadata": {},
   "outputs": [
    {
     "name": "stdout",
     "output_type": "stream",
     "text": [
      "[2, 4, 6, 8, 10]\n"
     ]
    }
   ],
   "source": [
    "even_num_list = [item for item in range(1,11) if item % 2 == 0]\n",
    "print(even_num_list)"
   ]
  },
  {
   "cell_type": "code",
   "execution_count": 20,
   "metadata": {},
   "outputs": [
    {
     "name": "stdout",
     "output_type": "stream",
     "text": [
      "[2, 4, 6, 8, 10]\n"
     ]
    }
   ],
   "source": [
    "even_num_list = []\n",
    "for item in range(1,11):\n",
    "    if item % 2 == 0:\n",
    "        even_num_list.append(item)\n",
    "print(even_num_list)"
   ]
  },
  {
   "cell_type": "code",
   "execution_count": 25,
   "metadata": {},
   "outputs": [
    {
     "name": "stdout",
     "output_type": "stream",
     "text": [
      "Minimum: 1\n",
      "Maximum: 43\n",
      "Length: 4\n",
      "Sum: 88\n"
     ]
    }
   ],
   "source": [
    "numbers = [int(x) for x in input(\"Enter numbers separated by spaces: \").split()]\n",
    "print(\"Minimum:\", min(numbers))\n",
    "print(\"Maximum:\", max(numbers))\n",
    "print(\"Length:\", len(numbers))\n",
    "print(\"Sum:\", sum(numbers))"
   ]
  },
  {
   "cell_type": "code",
   "execution_count": 27,
   "metadata": {},
   "outputs": [
    {
     "name": "stdout",
     "output_type": "stream",
     "text": [
      "Longest word: this\n"
     ]
    }
   ],
   "source": [
    "# Find the longest word in a list of words using list comprehension\n",
    "words = [word.strip() for word in input(\"Enter words separated by commas: \").split(',')]\n",
    "longest_word = max(words, key=len)\n",
    "print(\"Longest word:\", longest_word)\n",
    "\n",
    "\n"
   ]
  },
  {
   "cell_type": "code",
   "execution_count": 29,
   "metadata": {},
   "outputs": [
    {
     "name": "stdout",
     "output_type": "stream",
     "text": [
      "Sum of even numbers: 20\n"
     ]
    }
   ],
   "source": [
    "# Compute the sum of even numbers in a list using list comprehension\n",
    "even_sum = sum([x for x in range(10) if x % 2 == 0])\n",
    "print(\"Sum of even numbers:\", even_sum)"
   ]
  },
  {
   "cell_type": "code",
   "execution_count": null,
   "metadata": {},
   "outputs": [],
   "source": [
    "# Sort a list of tuples based on the second element using list comprehension\n",
    "tuples_list = [(x.split()[0], int(x.split()[1])) for x in input(\"Enter tuples (word number) separated by commas: \").split(',')]\n",
    "sorted_tuples = sorted([tup for tup in tuples_list], key=lambda x: x[1])\n",
    "print(\"Sorted tuples:\", sorted_tuples)"
   ]
  },
  {
   "cell_type": "code",
   "execution_count": 30,
   "metadata": {},
   "outputs": [
    {
     "name": "stdout",
     "output_type": "stream",
     "text": [
      "Shortest string: a\n"
     ]
    }
   ],
   "source": [
    "# Find the shortest string in a list using list comprehension\n",
    "shortest_string = min(words, key=len)\n",
    "print(\"Shortest string:\", shortest_string)"
   ]
  }
 ],
 "metadata": {
  "kernelspec": {
   "display_name": "base",
   "language": "python",
   "name": "python3"
  },
  "language_info": {
   "codemirror_mode": {
    "name": "ipython",
    "version": 3
   },
   "file_extension": ".py",
   "mimetype": "text/x-python",
   "name": "python",
   "nbconvert_exporter": "python",
   "pygments_lexer": "ipython3",
   "version": "3.9.13"
  }
 },
 "nbformat": 4,
 "nbformat_minor": 2
}
