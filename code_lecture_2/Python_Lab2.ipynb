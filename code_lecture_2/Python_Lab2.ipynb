{
 "cells": [
  {
   "cell_type": "markdown",
   "metadata": {
    "id": "v23odpAkkybT"
   },
   "source": [
    "  \n",
    "<h1>Python Tutorial Lab 2</h1>\n",
    "</div>\n",
    "</body>\n",
    "</html>"
   ]
  },
  {
   "cell_type": "code",
   "execution_count": 1,
   "metadata": {
    "colab": {
     "base_uri": "https://localhost:8080/"
    },
    "executionInfo": {
     "elapsed": 5619,
     "status": "ok",
     "timestamp": 1729271096016,
     "user": {
      "displayName": "Dr. Rubaiyat Islam",
      "userId": "00143020000614467639"
     },
     "user_tz": -360
    },
    "id": "rExgZVnFk_UH",
    "outputId": "b0d0b3b5-3549-476c-992f-99bb18af5a15"
   },
   "outputs": [],
   "source": [
    "# from google.colab import drive\n",
    "# drive.mount('/content/drive')"
   ]
  },
  {
   "cell_type": "code",
   "execution_count": 2,
   "metadata": {
    "collapsed": true,
    "executionInfo": {
     "elapsed": 119,
     "status": "ok",
     "timestamp": 1729271096016,
     "user": {
      "displayName": "Dr. Rubaiyat Islam",
      "userId": "00143020000614467639"
     },
     "user_tz": -360
    },
    "id": "sEO0BWWFkybV"
   },
   "outputs": [],
   "source": [
    "import sys\n",
    "import keyword\n",
    "import operator\n",
    "from datetime import datetime\n",
    "import os"
   ]
  },
  {
   "cell_type": "markdown",
   "metadata": {
    "id": "NavHf6KPkybW"
   },
   "source": [
    "### Keywords"
   ]
  },
  {
   "cell_type": "markdown",
   "metadata": {
    "id": "gWl0ajMwkybW"
   },
   "source": [
    "Keywords are the reserved words in Python and can't be used as an identifier"
   ]
  },
  {
   "cell_type": "code",
   "execution_count": 3,
   "metadata": {
    "colab": {
     "base_uri": "https://localhost:8080/"
    },
    "executionInfo": {
     "elapsed": 118,
     "status": "ok",
     "timestamp": 1729271096016,
     "user": {
      "displayName": "Dr. Rubaiyat Islam",
      "userId": "00143020000614467639"
     },
     "user_tz": -360
    },
    "id": "zmEMg7-PkybX",
    "outputId": "9ab91a35-c4b8-4439-c1a7-02013e83ecde"
   },
   "outputs": [
    {
     "name": "stdout",
     "output_type": "stream",
     "text": [
      "['False', 'None', 'True', '__peg_parser__', 'and', 'as', 'assert', 'async', 'await', 'break', 'class', 'continue', 'def', 'del', 'elif', 'else', 'except', 'finally', 'for', 'from', 'global', 'if', 'import', 'in', 'is', 'lambda', 'nonlocal', 'not', 'or', 'pass', 'raise', 'return', 'try', 'while', 'with', 'yield']\n"
     ]
    }
   ],
   "source": [
    "print(keyword.kwlist) # List all Python Keywords"
   ]
  },
  {
   "cell_type": "code",
   "execution_count": 4,
   "metadata": {
    "colab": {
     "base_uri": "https://localhost:8080/"
    },
    "executionInfo": {
     "elapsed": 111,
     "status": "ok",
     "timestamp": 1729271096017,
     "user": {
      "displayName": "Dr. Rubaiyat Islam",
      "userId": "00143020000614467639"
     },
     "user_tz": -360
    },
    "id": "Z_a8yzBLkybX",
    "outputId": "5669ee8f-7c93-4584-edc2-0d19f4ed2bad"
   },
   "outputs": [
    {
     "data": {
      "text/plain": [
       "36"
      ]
     },
     "execution_count": 4,
     "metadata": {},
     "output_type": "execute_result"
    }
   ],
   "source": [
    "len(keyword.kwlist) # Python contains 35 keywords"
   ]
  },
  {
   "cell_type": "markdown",
   "metadata": {
    "id": "tSTTUY1skybX"
   },
   "source": [
    "## Identifiers"
   ]
  },
  {
   "cell_type": "markdown",
   "metadata": {
    "id": "x29vnIYDkybY"
   },
   "source": [
    "An identifier is a name given to entities like class, functions, variables, etc. It helps to differentiate one entity from another."
   ]
  },
  {
   "cell_type": "code",
   "execution_count": 5,
   "metadata": {
    "colab": {
     "base_uri": "https://localhost:8080/",
     "height": 106
    },
    "executionInfo": {
     "elapsed": 105,
     "status": "error",
     "timestamp": 1729271096017,
     "user": {
      "displayName": "Dr. Rubaiyat Islam",
      "userId": "00143020000614467639"
     },
     "user_tz": -360
    },
    "id": "Ik8nJn9OkybY",
    "outputId": "f09b18b4-d61c-48e2-eebf-ec77747ae9cd"
   },
   "outputs": [
    {
     "ename": "SyntaxError",
     "evalue": "invalid syntax (<ipython-input-5-e48c1c8cefcf>, line 1)",
     "output_type": "error",
     "traceback": [
      "\u001b[0;36m  Cell \u001b[0;32mIn[5], line 1\u001b[0;36m\u001b[0m\n\u001b[0;31m    1var = 10 # Identifier can't start with a digit\u001b[0m\n\u001b[0m     ^\u001b[0m\n\u001b[0;31mSyntaxError\u001b[0m\u001b[0;31m:\u001b[0m invalid syntax\n"
     ]
    }
   ],
   "source": [
    "1var = 10 # Identifier can't start with a digit"
   ]
  },
  {
   "cell_type": "code",
   "execution_count": 13,
   "metadata": {},
   "outputs": [
    {
     "name": "stdout",
     "output_type": "stream",
     "text": [
      "10.5\n",
      "<class 'float'>\n"
     ]
    }
   ],
   "source": [
    "var1 =10.5\n",
    "print(var1)\n",
    "print(type(var1))"
   ]
  },
  {
   "cell_type": "code",
   "execution_count": 14,
   "metadata": {
    "colab": {
     "base_uri": "https://localhost:8080/",
     "height": 106
    },
    "executionInfo": {
     "elapsed": 904,
     "status": "error",
     "timestamp": 1729271135672,
     "user": {
      "displayName": "Dr. Rubaiyat Islam",
      "userId": "00143020000614467639"
     },
     "user_tz": -360
    },
    "id": "EU8hrPJIkybY",
    "outputId": "b593b9d6-f914-4a35-f35f-c08e948ce893"
   },
   "outputs": [
    {
     "ename": "SyntaxError",
     "evalue": "invalid syntax (<ipython-input-14-7251d6d88b33>, line 1)",
     "output_type": "error",
     "traceback": [
      "\u001b[0;36m  Cell \u001b[0;32mIn[14], line 1\u001b[0;36m\u001b[0m\n\u001b[0;31m    val2@ = 35 # Identifier can't use special symbols\u001b[0m\n\u001b[0m          ^\u001b[0m\n\u001b[0;31mSyntaxError\u001b[0m\u001b[0;31m:\u001b[0m invalid syntax\n"
     ]
    }
   ],
   "source": [
    "val2@ = 35 # Identifier can't use special symbols"
   ]
  },
  {
   "cell_type": "code",
   "execution_count": 6,
   "metadata": {},
   "outputs": [],
   "source": [
    "val2 =35"
   ]
  },
  {
   "cell_type": "code",
   "execution_count": 7,
   "metadata": {
    "colab": {
     "base_uri": "https://localhost:8080/",
     "height": 106
    },
    "executionInfo": {
     "elapsed": 19,
     "status": "error",
     "timestamp": 1729271139767,
     "user": {
      "displayName": "Dr. Rubaiyat Islam",
      "userId": "00143020000614467639"
     },
     "user_tz": -360
    },
    "id": "8OuyO2L7kybY",
    "outputId": "9a764167-b6dd-4e50-f754-fa29c3d850c3"
   },
   "outputs": [
    {
     "ename": "SyntaxError",
     "evalue": "invalid syntax (<ipython-input-7-f7061d4fc9ba>, line 1)",
     "output_type": "error",
     "traceback": [
      "\u001b[0;36m  Cell \u001b[0;32mIn[7], line 1\u001b[0;36m\u001b[0m\n\u001b[0;31m    import = 125 # Keywords can't be used as identifiers\u001b[0m\n\u001b[0m           ^\u001b[0m\n\u001b[0;31mSyntaxError\u001b[0m\u001b[0;31m:\u001b[0m invalid syntax\n"
     ]
    }
   ],
   "source": [
    "import = 125 # Keywords can't be used as identifiers"
   ]
  },
  {
   "cell_type": "code",
   "execution_count": 18,
   "metadata": {},
   "outputs": [
    {
     "ename": "SyntaxError",
     "evalue": "invalid syntax (<ipython-input-18-8c1eb9692d83>, line 1)",
     "output_type": "error",
     "traceback": [
      "\u001b[0;36m  Cell \u001b[0;32mIn[18], line 1\u001b[0;36m\u001b[0m\n\u001b[0;31m    for =125\u001b[0m\n\u001b[0m        ^\u001b[0m\n\u001b[0;31mSyntaxError\u001b[0m\u001b[0;31m:\u001b[0m invalid syntax\n"
     ]
    }
   ],
   "source": [
    "for =125"
   ]
  },
  {
   "cell_type": "code",
   "execution_count": 8,
   "metadata": {
    "colab": {
     "base_uri": "https://localhost:8080/"
    },
    "executionInfo": {
     "elapsed": 19,
     "status": "ok",
     "timestamp": 1729271139768,
     "user": {
      "displayName": "Dr. Rubaiyat Islam",
      "userId": "00143020000614467639"
     },
     "user_tz": -360
    },
    "id": "utUiIat3kybY",
    "outputId": "f2de5346-c3fd-4527-f3a0-abb49a45c7a7"
   },
   "outputs": [
    {
     "name": "stdout",
     "output_type": "stream",
     "text": [
      "10\n"
     ]
    }
   ],
   "source": [
    "\"\"\"\n",
    "Correct way of defining an identifier\n",
    "(Identifiers can be a combination of letters in lowercase (a to z) or uppercase (A to Z) or digits (0 to 9) or an underscore)\n",
    "\"\"\"\n",
    "\n",
    "val2 = 10\n",
    "print(val2)"
   ]
  },
  {
   "cell_type": "code",
   "execution_count": 9,
   "metadata": {
    "colab": {
     "base_uri": "https://localhost:8080/"
    },
    "executionInfo": {
     "elapsed": 10,
     "status": "ok",
     "timestamp": 1729271139768,
     "user": {
      "displayName": "Dr. Rubaiyat Islam",
      "userId": "00143020000614467639"
     },
     "user_tz": -360
    },
    "id": "utguMmXAkybZ",
    "outputId": "07a9f9d9-2327-48a4-f544-145c214bc4ae"
   },
   "outputs": [
    {
     "name": "stdout",
     "output_type": "stream",
     "text": [
      "99\n"
     ]
    }
   ],
   "source": [
    "val_ = 99\n",
    "print(val_)"
   ]
  },
  {
   "cell_type": "markdown",
   "metadata": {
    "id": "Yzfedo8MkybZ"
   },
   "source": [
    "# Comments in Python"
   ]
  },
  {
   "cell_type": "markdown",
   "metadata": {
    "id": "Occ3QetIkybZ"
   },
   "source": [
    "Comments can be used to explain the code for more readabilty."
   ]
  },
  {
   "cell_type": "code",
   "execution_count": 10,
   "metadata": {
    "collapsed": true,
    "executionInfo": {
     "elapsed": 7,
     "status": "ok",
     "timestamp": 1729271139768,
     "user": {
      "displayName": "Dr. Rubaiyat Islam",
      "userId": "00143020000614467639"
     },
     "user_tz": -360
    },
    "id": "_8zyyEJukybZ"
   },
   "outputs": [
    {
     "name": "stdout",
     "output_type": "stream",
     "text": [
      "0\n",
      "1\n",
      "2\n",
      "3\n",
      "3\n",
      "4\n"
     ]
    }
   ],
   "source": [
    "# defining a variable val1 with initial\n",
    "for i in range(5):\n",
    "    if i ==3:\n",
    "        \n",
    "\n",
    "        print(i)\n",
    "    print(i)"
   ]
  },
  {
   "cell_type": "code",
   "execution_count": 11,
   "metadata": {},
   "outputs": [
    {
     "data": {
      "text/plain": [
       "\"\\nfrom google.colab import drive\\ndrive.mount('/content/drive')\\n\\n\""
      ]
     },
     "execution_count": 11,
     "metadata": {},
     "output_type": "execute_result"
    }
   ],
   "source": [
    "'''\n",
    "from google.colab import drive\n",
    "drive.mount('/content/drive')\n",
    "\n",
    "'''"
   ]
  },
  {
   "cell_type": "code",
   "execution_count": 12,
   "metadata": {
    "collapsed": true,
    "executionInfo": {
     "elapsed": 6,
     "status": "ok",
     "timestamp": 1729271139768,
     "user": {
      "displayName": "Dr. Rubaiyat Islam",
      "userId": "00143020000614467639"
     },
     "user_tz": -360
    },
    "id": "UgTNl0yPkybZ"
   },
   "outputs": [],
   "source": [
    "# Multiple\n",
    "# line\n",
    "# comment\n",
    "val1  = 10"
   ]
  },
  {
   "cell_type": "code",
   "execution_count": 13,
   "metadata": {
    "collapsed": true,
    "executionInfo": {
     "elapsed": 2359,
     "status": "ok",
     "timestamp": 1729271143742,
     "user": {
      "displayName": "Dr. Rubaiyat Islam",
      "userId": "00143020000614467639"
     },
     "user_tz": -360
    },
    "id": "7xVnymUFkybZ"
   },
   "outputs": [],
   "source": [
    "'''\n",
    "Multiple\n",
    "line\n",
    "comment\n",
    "'''\n",
    "val1  = 10"
   ]
  },
  {
   "cell_type": "code",
   "execution_count": 14,
   "metadata": {
    "collapsed": true,
    "executionInfo": {
     "elapsed": 291,
     "status": "ok",
     "timestamp": 1729271143742,
     "user": {
      "displayName": "Dr. Rubaiyat Islam",
      "userId": "00143020000614467639"
     },
     "user_tz": -360
    },
    "id": "9fJ-E-2KkybZ"
   },
   "outputs": [],
   "source": [
    "\"\"\"\n",
    "Multiple\n",
    "line\n",
    "comment\n",
    "\"\"\"\n",
    "val1  = 10"
   ]
  },
  {
   "cell_type": "markdown",
   "metadata": {
    "id": "fkbovcJ2kybZ"
   },
   "source": [
    "## Statements"
   ]
  },
  {
   "cell_type": "markdown",
   "metadata": {
    "id": "_jcUYWPskybZ"
   },
   "source": [
    "Instructions that a Python interpreter can execute."
   ]
  },
  {
   "cell_type": "code",
   "execution_count": 15,
   "metadata": {
    "colab": {
     "base_uri": "https://localhost:8080/"
    },
    "executionInfo": {
     "elapsed": 291,
     "status": "ok",
     "timestamp": 1729271143742,
     "user": {
      "displayName": "Dr. Rubaiyat Islam",
      "userId": "00143020000614467639"
     },
     "user_tz": -360
    },
    "id": "21ijTxLpkybZ",
    "outputId": "3cb6c9d8-6588-4fc7-f11c-f9ae9e6f1cd0"
   },
   "outputs": [
    {
     "name": "stdout",
     "output_type": "stream",
     "text": [
      "30\n",
      "<class 'int'>\n"
     ]
    }
   ],
   "source": [
    "# Single line statement\n",
    "p1 = 10 + 20\n",
    "print(p1)\n",
    "print(type(p1))"
   ]
  },
  {
   "cell_type": "code",
   "execution_count": 16,
   "metadata": {
    "colab": {
     "base_uri": "https://localhost:8080/"
    },
    "executionInfo": {
     "elapsed": 284,
     "status": "ok",
     "timestamp": 1729271143742,
     "user": {
      "displayName": "Dr. Rubaiyat Islam",
      "userId": "00143020000614467639"
     },
     "user_tz": -360
    },
    "id": "XT8blzKlkybZ",
    "outputId": "af988e38-bb2b-4a92-c824-05339f9769fd"
   },
   "outputs": [
    {
     "name": "stdout",
     "output_type": "stream",
     "text": [
      "<class 'list'>\n"
     ]
    }
   ],
   "source": [
    "# Single line statement\n",
    "p2 = ['a' , 3 , 'c' , 'd']\n",
    "p2\n",
    "print(type(p2))"
   ]
  },
  {
   "cell_type": "code",
   "execution_count": 17,
   "metadata": {
    "colab": {
     "base_uri": "https://localhost:8080/"
    },
    "executionInfo": {
     "elapsed": 276,
     "status": "ok",
     "timestamp": 1729271143742,
     "user": {
      "displayName": "Dr. Rubaiyat Islam",
      "userId": "00143020000614467639"
     },
     "user_tz": -360
    },
    "id": "NF6DjWihkybZ",
    "outputId": "ad0d4ac3-9d6b-4659-c165-643dead6571c"
   },
   "outputs": [
    {
     "data": {
      "text/plain": [
       "290"
      ]
     },
     "execution_count": 17,
     "metadata": {},
     "output_type": "execute_result"
    }
   ],
   "source": [
    "# Multiple line statement\n",
    "p1 = 20 + 30 \\\n",
    "     + 40 + 50 +\\\n",
    "     + 70 + 80\n",
    "p1"
   ]
  },
  {
   "cell_type": "code",
   "execution_count": 18,
   "metadata": {
    "colab": {
     "base_uri": "https://localhost:8080/"
    },
    "executionInfo": {
     "elapsed": 273,
     "status": "ok",
     "timestamp": 1729271143743,
     "user": {
      "displayName": "Dr. Rubaiyat Islam",
      "userId": "00143020000614467639"
     },
     "user_tz": -360
    },
    "id": "cEft08qZkyba",
    "outputId": "30f82e91-b20d-49e4-f502-4f5f405f44ba"
   },
   "outputs": [
    {
     "data": {
      "text/plain": [
       "['a', 'b', 'c', 'd']"
      ]
     },
     "execution_count": 18,
     "metadata": {},
     "output_type": "execute_result"
    }
   ],
   "source": [
    "# Multiple line statement\n",
    "p2 = ['a' ,\n",
    "      'b' ,\n",
    "      'c' ,\n",
    "      'd'\n",
    "     ]\n",
    "p2"
   ]
  },
  {
   "cell_type": "markdown",
   "metadata": {
    "id": "b6hBNUM7kyba"
   },
   "source": [
    "## Indentation"
   ]
  },
  {
   "cell_type": "markdown",
   "metadata": {
    "id": "09D87VAYkyba"
   },
   "source": [
    "Indentation refers to the spaces at the beginning of a code line. It is very important as Python uses indentation to indicate a block of code.If the indentation is not correct we will endup with <b>IndentationError</b> error."
   ]
  },
  {
   "cell_type": "code",
   "execution_count": 19,
   "metadata": {
    "colab": {
     "base_uri": "https://localhost:8080/"
    },
    "executionInfo": {
     "elapsed": 265,
     "status": "ok",
     "timestamp": 1729271143743,
     "user": {
      "displayName": "Dr. Rubaiyat Islam",
      "userId": "00143020000614467639"
     },
     "user_tz": -360
    },
    "id": "KbOUA1-ekyba",
    "outputId": "292c45ad-3fc0-4b04-8339-0de4fa945445"
   },
   "outputs": [
    {
     "name": "stdout",
     "output_type": "stream",
     "text": [
      "P is equal to 10\n"
     ]
    }
   ],
   "source": [
    "p = 10\n",
    "if p == 10:\n",
    "    print ('P is equal to 10') # correct indentation"
   ]
  },
  {
   "cell_type": "code",
   "execution_count": 20,
   "metadata": {
    "colab": {
     "base_uri": "https://localhost:8080/",
     "height": 106
    },
    "executionInfo": {
     "elapsed": 259,
     "status": "error",
     "timestamp": 1729271143743,
     "user": {
      "displayName": "Dr. Rubaiyat Islam",
      "userId": "00143020000614467639"
     },
     "user_tz": -360
    },
    "id": "1s9ipPSnkyba",
    "outputId": "feabb296-1967-48cc-e928-dc74a2900893"
   },
   "outputs": [
    {
     "ename": "IndentationError",
     "evalue": "expected an indented block (<ipython-input-20-46f06de8bc08>, line 4)",
     "output_type": "error",
     "traceback": [
      "\u001b[0;36m  Cell \u001b[0;32mIn[20], line 4\u001b[0;36m\u001b[0m\n\u001b[0;31m    print ('P is equal to 10')\u001b[0m\n\u001b[0m    ^\u001b[0m\n\u001b[0;31mIndentationError\u001b[0m\u001b[0;31m:\u001b[0m expected an indented block\n"
     ]
    }
   ],
   "source": [
    "# if indentation is skipped we will encounter \"IndentationError: expected an indented block\"\n",
    "p = 10\n",
    "if p == 10:\n",
    "print ('P is equal to 10')"
   ]
  },
  {
   "cell_type": "code",
   "execution_count": 21,
   "metadata": {
    "colab": {
     "base_uri": "https://localhost:8080/"
    },
    "executionInfo": {
     "elapsed": 817,
     "status": "ok",
     "timestamp": 1729271167298,
     "user": {
      "displayName": "Dr. Rubaiyat Islam",
      "userId": "00143020000614467639"
     },
     "user_tz": -360
    },
    "id": "iJv3ZXy9kyba",
    "outputId": "b80af188-a221-4964-8451-a83702910efd"
   },
   "outputs": [
    {
     "name": "stdout",
     "output_type": "stream",
     "text": [
      "0\n",
      "1\n",
      "2\n",
      "3\n",
      "4\n"
     ]
    }
   ],
   "source": [
    "for i in range(0,5):\n",
    "    print(i)               # correct indentation"
   ]
  },
  {
   "cell_type": "code",
   "execution_count": 23,
   "metadata": {
    "colab": {
     "base_uri": "https://localhost:8080/",
     "height": 106
    },
    "executionInfo": {
     "elapsed": 13,
     "status": "error",
     "timestamp": 1729271170856,
     "user": {
      "displayName": "Dr. Rubaiyat Islam",
      "userId": "00143020000614467639"
     },
     "user_tz": -360
    },
    "id": "8p3hE4_vkyba",
    "outputId": "d9b0d147-50df-4945-9413-2991afdca182"
   },
   "outputs": [
    {
     "ename": "IndentationError",
     "evalue": "expected an indented block (<ipython-input-23-ccea5fe20089>, line 3)",
     "output_type": "error",
     "traceback": [
      "\u001b[0;36m  Cell \u001b[0;32mIn[23], line 3\u001b[0;36m\u001b[0m\n\u001b[0;31m    print(i)\u001b[0m\n\u001b[0m    ^\u001b[0m\n\u001b[0;31mIndentationError\u001b[0m\u001b[0;31m:\u001b[0m expected an indented block\n"
     ]
    }
   ],
   "source": [
    "# if indentation is skipped we will encounter \"IndentationError: expected an indented block\"\n",
    "for i in range(0,5):\n",
    "print(i)"
   ]
  },
  {
   "cell_type": "code",
   "execution_count": 24,
   "metadata": {
    "executionInfo": {
     "elapsed": 13,
     "status": "aborted",
     "timestamp": 1729271170857,
     "user": {
      "displayName": "Dr. Rubaiyat Islam",
      "userId": "00143020000614467639"
     },
     "user_tz": -360
    },
    "id": "o3ZP8h_vkyba"
   },
   "outputs": [
    {
     "name": "stdout",
     "output_type": "stream",
     "text": [
      "0\n",
      "1\n",
      "2\n",
      "3\n",
      "4\n"
     ]
    }
   ],
   "source": [
    "for i in range(0,5): print(i)  # correct indentation but less readable"
   ]
  },
  {
   "cell_type": "code",
   "execution_count": 25,
   "metadata": {
    "executionInfo": {
     "elapsed": 13,
     "status": "aborted",
     "timestamp": 1729271170857,
     "user": {
      "displayName": "Dr. Rubaiyat Islam",
      "userId": "00143020000614467639"
     },
     "user_tz": -360
    },
    "id": "6o52m2emkyba"
   },
   "outputs": [
    {
     "name": "stdout",
     "output_type": "stream",
     "text": [
      "0\n",
      "1\n",
      "2\n",
      "3\n",
      "4\n",
      "20\n"
     ]
    }
   ],
   "source": [
    "j=20\n",
    "for i in range(0,5):\n",
    "    print(i) # inside the for loop\n",
    "print(j) # outside the for loop"
   ]
  },
  {
   "cell_type": "markdown",
   "metadata": {
    "id": "LRDlK4M2kyba"
   },
   "source": [
    "## Docstrings"
   ]
  },
  {
   "cell_type": "markdown",
   "metadata": {
    "id": "loXwFblGkyba"
   },
   "source": [
    "1) Docstrings provide a convenient way of associating documentation with functions, classes, methods or modules.\n",
    "\n",
    "2) They appear right after the definition of a function, method, class, or module."
   ]
  },
  {
   "cell_type": "code",
   "execution_count": 26,
   "metadata": {
    "collapsed": true,
    "executionInfo": {
     "elapsed": 13,
     "status": "aborted",
     "timestamp": 1729271170857,
     "user": {
      "displayName": "Dr. Rubaiyat Islam",
      "userId": "00143020000614467639"
     },
     "user_tz": -360
    },
    "id": "YJlvlVOokyba"
   },
   "outputs": [],
   "source": [
    "def square(num):\n",
    "    '''Square Function :- This function will return the square of a number'''\n",
    "    return num**2"
   ]
  },
  {
   "cell_type": "code",
   "execution_count": 27,
   "metadata": {},
   "outputs": [
    {
     "data": {
      "text/plain": [
       "3.0"
      ]
     },
     "execution_count": 27,
     "metadata": {},
     "output_type": "execute_result"
    }
   ],
   "source": [
    "def cube_rt(num):\n",
    "    ''' \n",
    "    square Function : - This function returns the cuberoot of a \n",
    "    number\n",
    "    '''\n",
    "    return num**(1/3)\n",
    "cube_rt(27)"
   ]
  },
  {
   "cell_type": "code",
   "execution_count": 28,
   "metadata": {},
   "outputs": [
    {
     "data": {
      "text/plain": [
       "7"
      ]
     },
     "execution_count": 28,
     "metadata": {},
     "output_type": "execute_result"
    }
   ],
   "source": [
    "def sum(num1,num2):\n",
    "    \n",
    "    return num1+ num2\n",
    "sum(3,4)"
   ]
  },
  {
   "cell_type": "code",
   "execution_count": 29,
   "metadata": {
    "executionInfo": {
     "elapsed": 7777,
     "status": "aborted",
     "timestamp": 1729271170857,
     "user": {
      "displayName": "Dr. Rubaiyat Islam",
      "userId": "00143020000614467639"
     },
     "user_tz": -360
    },
    "id": "RS8oXrTXkyba"
   },
   "outputs": [
    {
     "data": {
      "text/plain": [
       "4"
      ]
     },
     "execution_count": 29,
     "metadata": {},
     "output_type": "execute_result"
    }
   ],
   "source": [
    "square(2)"
   ]
  },
  {
   "cell_type": "code",
   "execution_count": 30,
   "metadata": {
    "executionInfo": {
     "elapsed": 7770,
     "status": "aborted",
     "timestamp": 1729271170857,
     "user": {
      "displayName": "Dr. Rubaiyat Islam",
      "userId": "00143020000614467639"
     },
     "user_tz": -360
    },
    "id": "1ZCpR8oZkyba"
   },
   "outputs": [],
   "source": [
    "sum.__doc__  # We can access the Docstring using __doc__ method"
   ]
  },
  {
   "cell_type": "code",
   "execution_count": 31,
   "metadata": {
    "collapsed": true,
    "executionInfo": {
     "elapsed": 200,
     "status": "ok",
     "timestamp": 1729271172536,
     "user": {
      "displayName": "Dr. Rubaiyat Islam",
      "userId": "00143020000614467639"
     },
     "user_tz": -360
    },
    "id": "hFODRmgokybb"
   },
   "outputs": [],
   "source": [
    "def evenodd(num):\n",
    "    '''evenodd Function :- This function will test whether a numbr is Even or Odd'''\n",
    "    if num % 2 == 0:\n",
    "        print(\"Even Number\")\n",
    "    else:\n",
    "        print(\"Odd Number\")"
   ]
  },
  {
   "cell_type": "code",
   "execution_count": 32,
   "metadata": {
    "colab": {
     "base_uri": "https://localhost:8080/"
    },
    "executionInfo": {
     "elapsed": 200,
     "status": "ok",
     "timestamp": 1729271172536,
     "user": {
      "displayName": "Dr. Rubaiyat Islam",
      "userId": "00143020000614467639"
     },
     "user_tz": -360
    },
    "id": "ppA1X-aSkybe",
    "outputId": "d27adb97-019c-4e4f-941e-489b03b3feb0"
   },
   "outputs": [
    {
     "name": "stdout",
     "output_type": "stream",
     "text": [
      "Odd Number\n"
     ]
    }
   ],
   "source": [
    "evenodd(3)"
   ]
  },
  {
   "cell_type": "code",
   "execution_count": 33,
   "metadata": {
    "colab": {
     "base_uri": "https://localhost:8080/"
    },
    "executionInfo": {
     "elapsed": 195,
     "status": "ok",
     "timestamp": 1729271172544,
     "user": {
      "displayName": "Dr. Rubaiyat Islam",
      "userId": "00143020000614467639"
     },
     "user_tz": -360
    },
    "id": "wt2kA6dZkybe",
    "outputId": "7f779bab-9de3-498f-cb02-3ba0ea83616a"
   },
   "outputs": [
    {
     "name": "stdout",
     "output_type": "stream",
     "text": [
      "Even Number\n"
     ]
    }
   ],
   "source": [
    "evenodd(2)"
   ]
  },
  {
   "cell_type": "code",
   "execution_count": 34,
   "metadata": {
    "colab": {
     "base_uri": "https://localhost:8080/",
     "height": 36
    },
    "executionInfo": {
     "elapsed": 191,
     "status": "ok",
     "timestamp": 1729271172544,
     "user": {
      "displayName": "Dr. Rubaiyat Islam",
      "userId": "00143020000614467639"
     },
     "user_tz": -360
    },
    "id": "beKpRB5wkybe",
    "outputId": "668bf1dc-83d8-4d1a-edc1-c22b51f47bf4"
   },
   "outputs": [
    {
     "data": {
      "text/plain": [
       "'evenodd Function :- This function will test whether a numbr is Even or Odd'"
      ]
     },
     "execution_count": 34,
     "metadata": {},
     "output_type": "execute_result"
    }
   ],
   "source": [
    "evenodd.__doc__"
   ]
  },
  {
   "cell_type": "markdown",
   "metadata": {
    "id": "ULQVebLpkybf"
   },
   "source": [
    "## Variables"
   ]
  },
  {
   "cell_type": "markdown",
   "metadata": {
    "id": "exKyZQ-Gkybf"
   },
   "source": [
    "A Python variable is a reserved memory location to store values.A variable is created the moment you first assign a value to it."
   ]
  },
  {
   "cell_type": "code",
   "execution_count": 35,
   "metadata": {
    "collapsed": true,
    "executionInfo": {
     "elapsed": 190,
     "status": "ok",
     "timestamp": 1729271172544,
     "user": {
      "displayName": "Dr. Rubaiyat Islam",
      "userId": "00143020000614467639"
     },
     "user_tz": -360
    },
    "id": "io-lymf9kybf"
   },
   "outputs": [],
   "source": [
    "p = 30"
   ]
  },
  {
   "cell_type": "code",
   "execution_count": 36,
   "metadata": {
    "colab": {
     "base_uri": "https://localhost:8080/"
    },
    "executionInfo": {
     "elapsed": 189,
     "status": "ok",
     "timestamp": 1729271172544,
     "user": {
      "displayName": "Dr. Rubaiyat Islam",
      "userId": "00143020000614467639"
     },
     "user_tz": -360
    },
    "id": "pQOidqYqkybf",
    "outputId": "8279ce26-6f0b-445b-c018-43f9f7c683a5"
   },
   "outputs": [
    {
     "data": {
      "text/plain": [
       "140540725357776"
      ]
     },
     "execution_count": 36,
     "metadata": {},
     "output_type": "execute_result"
    }
   ],
   "source": [
    "'''\n",
    "id() function returns the “identity” of the object.\n",
    "The identity of an object - Is an integer\n",
    "                          - Guaranteed to be unique\n",
    "                          - Constant for this object during its lifetime.\n",
    "'''\n",
    "id(p)"
   ]
  },
  {
   "cell_type": "code",
   "execution_count": 37,
   "metadata": {
    "colab": {
     "base_uri": "https://localhost:8080/",
     "height": 36
    },
    "executionInfo": {
     "elapsed": 185,
     "status": "ok",
     "timestamp": 1729271172544,
     "user": {
      "displayName": "Dr. Rubaiyat Islam",
      "userId": "00143020000614467639"
     },
     "user_tz": -360
    },
    "id": "H0l4MTQdkybf",
    "outputId": "24e0ee58-0be3-46a4-86f3-cb9ce06d7447"
   },
   "outputs": [
    {
     "data": {
      "text/plain": [
       "'0x7fd23002ecd0'"
      ]
     },
     "execution_count": 37,
     "metadata": {},
     "output_type": "execute_result"
    }
   ],
   "source": [
    "hex(id(p)) # Memory address of the variable"
   ]
  },
  {
   "cell_type": "code",
   "execution_count": 38,
   "metadata": {
    "colab": {
     "base_uri": "https://localhost:8080/"
    },
    "executionInfo": {
     "elapsed": 185,
     "status": "ok",
     "timestamp": 1729271172544,
     "user": {
      "displayName": "Dr. Rubaiyat Islam",
      "userId": "00143020000614467639"
     },
     "user_tz": -360
    },
    "id": "TR4MGK3Vkybf",
    "outputId": "76093463-2fd5-4279-fe31-365bd110ec5c"
   },
   "outputs": [
    {
     "data": {
      "text/plain": [
       "(20, int, '0x7fd23002eb90')"
      ]
     },
     "execution_count": 38,
     "metadata": {},
     "output_type": "execute_result"
    }
   ],
   "source": [
    "p = 20  #Creates an integer object with value 20 and assigns the variable p to point to that object.\n",
    "q = 20  # Create new reference q which will point to value 20. p & q will be pointing to same memory location.\n",
    "r = q  # variable r will also point to the same location where p & q are pointing/\n",
    "p , type(p), hex(id(p)) # Variable P is pointing to memory location '0x7fff6d71a3f0' where value 20 is stored"
   ]
  },
  {
   "cell_type": "code",
   "execution_count": 39,
   "metadata": {
    "colab": {
     "base_uri": "https://localhost:8080/"
    },
    "executionInfo": {
     "elapsed": 180,
     "status": "ok",
     "timestamp": 1729271172544,
     "user": {
      "displayName": "Dr. Rubaiyat Islam",
      "userId": "00143020000614467639"
     },
     "user_tz": -360
    },
    "id": "ee7G_2LTkybf",
    "outputId": "92e5f263-d55f-46e9-d638-00ca254c6009"
   },
   "outputs": [
    {
     "data": {
      "text/plain": [
       "(20, int, '0x7fd23002eb90')"
      ]
     },
     "execution_count": 39,
     "metadata": {},
     "output_type": "execute_result"
    }
   ],
   "source": [
    "q , type(q), hex(id(q))"
   ]
  },
  {
   "cell_type": "code",
   "execution_count": 40,
   "metadata": {
    "colab": {
     "base_uri": "https://localhost:8080/"
    },
    "executionInfo": {
     "elapsed": 176,
     "status": "ok",
     "timestamp": 1729271172544,
     "user": {
      "displayName": "Dr. Rubaiyat Islam",
      "userId": "00143020000614467639"
     },
     "user_tz": -360
    },
    "id": "mE9q6XEYkybf",
    "outputId": "db46e868-b015-40a1-eefc-483ce067f908"
   },
   "outputs": [
    {
     "data": {
      "text/plain": [
       "(20, int, '0x7fd23002eb90')"
      ]
     },
     "execution_count": 40,
     "metadata": {},
     "output_type": "execute_result"
    }
   ],
   "source": [
    "r , type(r), hex(id(r))"
   ]
  },
  {
   "cell_type": "markdown",
   "metadata": {
    "id": "eIXOtJ0Rkybf"
   },
   "source": [
    "<img src=\"variable.PNG\">"
   ]
  },
  {
   "cell_type": "code",
   "execution_count": 41,
   "metadata": {
    "colab": {
     "base_uri": "https://localhost:8080/"
    },
    "executionInfo": {
     "elapsed": 172,
     "status": "ok",
     "timestamp": 1729271172544,
     "user": {
      "displayName": "Dr. Rubaiyat Islam",
      "userId": "00143020000614467639"
     },
     "user_tz": -360
    },
    "id": "wtDf-aHKkybf",
    "outputId": "329d742f-b9d9-4618-cd0b-1e5470943f38"
   },
   "outputs": [
    {
     "data": {
      "text/plain": [
       "30"
      ]
     },
     "execution_count": 41,
     "metadata": {},
     "output_type": "execute_result"
    }
   ],
   "source": [
    "p = 20\n",
    "p = p + 10 # Variable Overwriting\n",
    "p"
   ]
  },
  {
   "cell_type": "markdown",
   "metadata": {
    "id": "1JxOoaIjkybf"
   },
   "source": [
    "### Variable Assigment"
   ]
  },
  {
   "cell_type": "code",
   "execution_count": 42,
   "metadata": {
    "colab": {
     "base_uri": "https://localhost:8080/"
    },
    "executionInfo": {
     "elapsed": 168,
     "status": "ok",
     "timestamp": 1729271172544,
     "user": {
      "displayName": "Dr. Rubaiyat Islam",
      "userId": "00143020000614467639"
     },
     "user_tz": -360
    },
    "id": "QnBEnXewkybf",
    "outputId": "1b61b9d4-ae5b-40ca-8528-4a65e0092c5b"
   },
   "outputs": [
    {
     "name": "stdout",
     "output_type": "stream",
     "text": [
      "10\n",
      "2.57\n",
      "Python Language\n",
      "<class 'int'>\n"
     ]
    }
   ],
   "source": [
    "var = 10 # Integer variable\n",
    "floatvar = 2.57 # Float Variable\n",
    "strvar = \"Python Language\" # String variable\n",
    "\n",
    "print(var)\n",
    "print(floatvar)\n",
    "print(strvar)\n",
    "print(type(var))"
   ]
  },
  {
   "cell_type": "markdown",
   "metadata": {
    "id": "mBEmHWGukybf"
   },
   "source": [
    "### Multiple Assignments"
   ]
  },
  {
   "cell_type": "code",
   "execution_count": 43,
   "metadata": {
    "colab": {
     "base_uri": "https://localhost:8080/"
    },
    "executionInfo": {
     "elapsed": 164,
     "status": "ok",
     "timestamp": 1729271172544,
     "user": {
      "displayName": "Dr. Rubaiyat Islam",
      "userId": "00143020000614467639"
     },
     "user_tz": -360
    },
    "id": "r3hNhKLpkybf",
    "outputId": "fa928d31-f148-4ad9-d87f-18cc9b1c65ea"
   },
   "outputs": [
    {
     "name": "stdout",
     "output_type": "stream",
     "text": [
      "10\n",
      "2.57\n",
      "Python Language\n"
     ]
    }
   ],
   "source": [
    "intvar , floatvar , strvar = 10,2.57,\"Python Language\" # Using commas to separate variables and their corresponding values.\n",
    "print(intvar)\n",
    "print(floatvar)\n",
    "print(strvar)"
   ]
  },
  {
   "cell_type": "code",
   "execution_count": 44,
   "metadata": {
    "colab": {
     "base_uri": "https://localhost:8080/"
    },
    "executionInfo": {
     "elapsed": 157,
     "status": "ok",
     "timestamp": 1729271172544,
     "user": {
      "displayName": "Dr. Rubaiyat Islam",
      "userId": "00143020000614467639"
     },
     "user_tz": -360
    },
    "id": "19LiBtkSkybg",
    "outputId": "80aa8069-9be1-4d5c-eec3-c24cbce33195"
   },
   "outputs": [
    {
     "name": "stdout",
     "output_type": "stream",
     "text": [
      "44 44 44 44\n"
     ]
    }
   ],
   "source": [
    "p1 = p2 = p3 = p4 = 44 # All variables pointing to same value\n",
    "print(p1,p2,p3,p4)"
   ]
  },
  {
   "cell_type": "markdown",
   "metadata": {
    "id": "JMkGWuj_kybg"
   },
   "source": [
    "# Data Types"
   ]
  },
  {
   "cell_type": "markdown",
   "metadata": {
    "id": "GFBi0_v7kybg"
   },
   "source": [
    "## Numeric"
   ]
  },
  {
   "cell_type": "code",
   "execution_count": 45,
   "metadata": {
    "colab": {
     "base_uri": "https://localhost:8080/"
    },
    "executionInfo": {
     "elapsed": 154,
     "status": "ok",
     "timestamp": 1729271172545,
     "user": {
      "displayName": "Dr. Rubaiyat Islam",
      "userId": "00143020000614467639"
     },
     "user_tz": -360
    },
    "id": "xWCxJAwRkybg",
    "outputId": "91bce096-f473-47a9-803d-648c6bb36979"
   },
   "outputs": [
    {
     "name": "stdout",
     "output_type": "stream",
     "text": [
      "10\n",
      "<class 'int'>\n",
      "28\n",
      "10  is Integer? True\n"
     ]
    }
   ],
   "source": [
    "val1 = 10  # Integer data type\n",
    "print(val1)\n",
    "print(type(val1)) # type of object\n",
    "print(sys.getsizeof(val1)) # size of integer object in bytes\n",
    "print(val1, \" is Integer?\", isinstance(val1, int)) # val1 is an instance of int class"
   ]
  },
  {
   "cell_type": "code",
   "execution_count": 46,
   "metadata": {
    "colab": {
     "base_uri": "https://localhost:8080/"
    },
    "executionInfo": {
     "elapsed": 150,
     "status": "ok",
     "timestamp": 1729271172545,
     "user": {
      "displayName": "Dr. Rubaiyat Islam",
      "userId": "00143020000614467639"
     },
     "user_tz": -360
    },
    "id": "gesONPbmkybg",
    "outputId": "5b60a167-7a61-402c-fb2c-94415ff85bf5"
   },
   "outputs": [
    {
     "name": "stdout",
     "output_type": "stream",
     "text": [
      "92.78\n",
      "<class 'float'>\n",
      "24\n",
      "92.78  is float? True\n"
     ]
    }
   ],
   "source": [
    "val2 = 92.78 # Float data type\n",
    "print(val2)\n",
    "print(type(val2)) # type of object\n",
    "print(sys.getsizeof(val2)) # size of float object in bytes\n",
    "print(val2, \" is float?\", isinstance(val2, float)) # Val2 is an instance of float class"
   ]
  },
  {
   "cell_type": "code",
   "execution_count": 47,
   "metadata": {
    "colab": {
     "base_uri": "https://localhost:8080/"
    },
    "executionInfo": {
     "elapsed": 147,
     "status": "ok",
     "timestamp": 1729271172545,
     "user": {
      "displayName": "Dr. Rubaiyat Islam",
      "userId": "00143020000614467639"
     },
     "user_tz": -360
    },
    "id": "ygiWSQIkkybg",
    "outputId": "fec18038-bc03-4723-80d0-b1c7da712cca"
   },
   "outputs": [
    {
     "name": "stdout",
     "output_type": "stream",
     "text": [
      "(25+10j)\n",
      "<class 'complex'>\n",
      "32\n",
      "(25+10j)  is complex? True\n"
     ]
    }
   ],
   "source": [
    "val3 = 25 + 10j # Complex data type\n",
    "print(val3)\n",
    "print(type(val3)) # type of object\n",
    "print(sys.getsizeof(val3)) # size of float object in bytes\n",
    "print(val3, \" is complex?\", isinstance(val3, complex)) # val3 is an instance of complex class"
   ]
  },
  {
   "cell_type": "code",
   "execution_count": 48,
   "metadata": {
    "colab": {
     "base_uri": "https://localhost:8080/"
    },
    "executionInfo": {
     "elapsed": 143,
     "status": "ok",
     "timestamp": 1729271172545,
     "user": {
      "displayName": "Dr. Rubaiyat Islam",
      "userId": "00143020000614467639"
     },
     "user_tz": -360
    },
    "id": "xcPCcWj1kybg",
    "outputId": "7e5ec16f-246b-4ef7-d9e9-b5d643301e1f",
    "scrolled": true
   },
   "outputs": [
    {
     "data": {
      "text/plain": [
       "24"
      ]
     },
     "execution_count": 48,
     "metadata": {},
     "output_type": "execute_result"
    }
   ],
   "source": [
    "sys.getsizeof(int()) # size of integer object in bytes"
   ]
  },
  {
   "cell_type": "code",
   "execution_count": 49,
   "metadata": {
    "colab": {
     "base_uri": "https://localhost:8080/"
    },
    "executionInfo": {
     "elapsed": 139,
     "status": "ok",
     "timestamp": 1729271172545,
     "user": {
      "displayName": "Dr. Rubaiyat Islam",
      "userId": "00143020000614467639"
     },
     "user_tz": -360
    },
    "id": "-JZsRpTQkybg",
    "outputId": "3e722f71-1a11-4aa6-f2e1-eb38a7a64179"
   },
   "outputs": [
    {
     "data": {
      "text/plain": [
       "24"
      ]
     },
     "execution_count": 49,
     "metadata": {},
     "output_type": "execute_result"
    }
   ],
   "source": [
    "sys.getsizeof(float())  # size of float object in bytes"
   ]
  },
  {
   "cell_type": "code",
   "execution_count": 50,
   "metadata": {
    "colab": {
     "base_uri": "https://localhost:8080/"
    },
    "executionInfo": {
     "elapsed": 136,
     "status": "ok",
     "timestamp": 1729271172545,
     "user": {
      "displayName": "Dr. Rubaiyat Islam",
      "userId": "00143020000614467639"
     },
     "user_tz": -360
    },
    "id": "EjCLjBY6kybg",
    "outputId": "ac38dff2-8007-4202-9f12-6e70d14ea0df"
   },
   "outputs": [
    {
     "data": {
      "text/plain": [
       "32"
      ]
     },
     "execution_count": 50,
     "metadata": {},
     "output_type": "execute_result"
    }
   ],
   "source": [
    "sys.getsizeof(complex()) # size of complex object in bytes"
   ]
  },
  {
   "cell_type": "markdown",
   "metadata": {
    "id": "kCeURdeNkybg"
   },
   "source": [
    "## Boolean"
   ]
  },
  {
   "cell_type": "markdown",
   "metadata": {
    "id": "pHbg2zJekybg"
   },
   "source": [
    "Boolean data type can have only two possible values __true__ or __false__."
   ]
  },
  {
   "cell_type": "code",
   "execution_count": 51,
   "metadata": {
    "collapsed": true,
    "executionInfo": {
     "elapsed": 132,
     "status": "ok",
     "timestamp": 1729271172545,
     "user": {
      "displayName": "Dr. Rubaiyat Islam",
      "userId": "00143020000614467639"
     },
     "user_tz": -360
    },
    "id": "toC0p-jFkybg"
   },
   "outputs": [],
   "source": [
    "bool1 = True"
   ]
  },
  {
   "cell_type": "code",
   "execution_count": 52,
   "metadata": {
    "collapsed": true,
    "executionInfo": {
     "elapsed": 132,
     "status": "ok",
     "timestamp": 1729271172545,
     "user": {
      "displayName": "Dr. Rubaiyat Islam",
      "userId": "00143020000614467639"
     },
     "user_tz": -360
    },
    "id": "WBBoIvBbkybg"
   },
   "outputs": [],
   "source": [
    "bool2 = False"
   ]
  },
  {
   "cell_type": "code",
   "execution_count": 53,
   "metadata": {
    "colab": {
     "base_uri": "https://localhost:8080/"
    },
    "executionInfo": {
     "elapsed": 132,
     "status": "ok",
     "timestamp": 1729271172545,
     "user": {
      "displayName": "Dr. Rubaiyat Islam",
      "userId": "00143020000614467639"
     },
     "user_tz": -360
    },
    "id": "yhwluEibkybg",
    "outputId": "b27fa1b3-059c-4f69-e21b-0c89a02802ce"
   },
   "outputs": [
    {
     "name": "stdout",
     "output_type": "stream",
     "text": [
      "<class 'bool'>\n"
     ]
    }
   ],
   "source": [
    "print(type(bool1))"
   ]
  },
  {
   "cell_type": "code",
   "execution_count": 54,
   "metadata": {
    "colab": {
     "base_uri": "https://localhost:8080/"
    },
    "executionInfo": {
     "elapsed": 129,
     "status": "ok",
     "timestamp": 1729271172545,
     "user": {
      "displayName": "Dr. Rubaiyat Islam",
      "userId": "00143020000614467639"
     },
     "user_tz": -360
    },
    "id": "QCZZ1rnQkybg",
    "outputId": "851e8ced-5662-452b-d524-55062c54edba"
   },
   "outputs": [
    {
     "name": "stdout",
     "output_type": "stream",
     "text": [
      "<class 'bool'>\n"
     ]
    }
   ],
   "source": [
    "print(type(bool2))"
   ]
  },
  {
   "cell_type": "code",
   "execution_count": 55,
   "metadata": {
    "colab": {
     "base_uri": "https://localhost:8080/"
    },
    "executionInfo": {
     "elapsed": 125,
     "status": "ok",
     "timestamp": 1729271172545,
     "user": {
      "displayName": "Dr. Rubaiyat Islam",
      "userId": "00143020000614467639"
     },
     "user_tz": -360
    },
    "id": "SeaMruHqkybh",
    "outputId": "7f4438c7-96bd-4b65-f5ea-a92b6e5e376e"
   },
   "outputs": [
    {
     "data": {
      "text/plain": [
       "True"
      ]
     },
     "execution_count": 55,
     "metadata": {},
     "output_type": "execute_result"
    }
   ],
   "source": [
    "isinstance(bool1, bool)"
   ]
  },
  {
   "cell_type": "code",
   "execution_count": 56,
   "metadata": {
    "colab": {
     "base_uri": "https://localhost:8080/"
    },
    "executionInfo": {
     "elapsed": 123,
     "status": "ok",
     "timestamp": 1729271172545,
     "user": {
      "displayName": "Dr. Rubaiyat Islam",
      "userId": "00143020000614467639"
     },
     "user_tz": -360
    },
    "id": "n6DahFHQkybh",
    "outputId": "f824ac5b-5c92-4e9b-c017-49a69748df76",
    "scrolled": true
   },
   "outputs": [
    {
     "data": {
      "text/plain": [
       "False"
      ]
     },
     "execution_count": 56,
     "metadata": {},
     "output_type": "execute_result"
    }
   ],
   "source": [
    "bool(0)"
   ]
  },
  {
   "cell_type": "code",
   "execution_count": 57,
   "metadata": {
    "colab": {
     "base_uri": "https://localhost:8080/"
    },
    "executionInfo": {
     "elapsed": 120,
     "status": "ok",
     "timestamp": 1729271172545,
     "user": {
      "displayName": "Dr. Rubaiyat Islam",
      "userId": "00143020000614467639"
     },
     "user_tz": -360
    },
    "id": "ALhCvl2qkybh",
    "outputId": "1a10b7f6-52cc-43fb-ff3d-0d6cf6d72a4d"
   },
   "outputs": [
    {
     "data": {
      "text/plain": [
       "True"
      ]
     },
     "execution_count": 57,
     "metadata": {},
     "output_type": "execute_result"
    }
   ],
   "source": [
    "bool(1)"
   ]
  },
  {
   "cell_type": "code",
   "execution_count": 58,
   "metadata": {
    "colab": {
     "base_uri": "https://localhost:8080/"
    },
    "executionInfo": {
     "elapsed": 117,
     "status": "ok",
     "timestamp": 1729271172545,
     "user": {
      "displayName": "Dr. Rubaiyat Islam",
      "userId": "00143020000614467639"
     },
     "user_tz": -360
    },
    "id": "2O-BsQshkybh",
    "outputId": "34ddc4b7-c47e-4803-a9c3-538e839b976d"
   },
   "outputs": [
    {
     "data": {
      "text/plain": [
       "False"
      ]
     },
     "execution_count": 58,
     "metadata": {},
     "output_type": "execute_result"
    }
   ],
   "source": [
    "bool(None)"
   ]
  },
  {
   "cell_type": "code",
   "execution_count": 59,
   "metadata": {
    "colab": {
     "base_uri": "https://localhost:8080/"
    },
    "executionInfo": {
     "elapsed": 115,
     "status": "ok",
     "timestamp": 1729271172545,
     "user": {
      "displayName": "Dr. Rubaiyat Islam",
      "userId": "00143020000614467639"
     },
     "user_tz": -360
    },
    "id": "oXtyOi0tkybh",
    "outputId": "53259615-9e6b-4209-887f-f142399b7e32",
    "scrolled": true
   },
   "outputs": [
    {
     "data": {
      "text/plain": [
       "False"
      ]
     },
     "execution_count": 59,
     "metadata": {},
     "output_type": "execute_result"
    }
   ],
   "source": [
    "bool (False)"
   ]
  },
  {
   "cell_type": "markdown",
   "metadata": {
    "id": "fpDGXiXTkybh"
   },
   "source": [
    "## Strings"
   ]
  },
  {
   "cell_type": "markdown",
   "metadata": {
    "id": "9qF3NFMXkybh"
   },
   "source": [
    "### String Creation"
   ]
  },
  {
   "cell_type": "code",
   "execution_count": 60,
   "metadata": {
    "colab": {
     "base_uri": "https://localhost:8080/"
    },
    "executionInfo": {
     "elapsed": 112,
     "status": "ok",
     "timestamp": 1729271172545,
     "user": {
      "displayName": "Dr. Rubaiyat Islam",
      "userId": "00143020000614467639"
     },
     "user_tz": -360
    },
    "id": "aS8qiTtAkybh",
    "outputId": "ac56244c-b17e-470c-8006-a48fb5a8d6f3"
   },
   "outputs": [
    {
     "name": "stdout",
     "output_type": "stream",
     "text": [
      "HELLO PYTHON\n"
     ]
    }
   ],
   "source": [
    "str1 = \"HELLO PYTHON\"\n",
    "\n",
    "print(str1)"
   ]
  },
  {
   "cell_type": "code",
   "execution_count": 61,
   "metadata": {
    "colab": {
     "base_uri": "https://localhost:8080/"
    },
    "executionInfo": {
     "elapsed": 111,
     "status": "ok",
     "timestamp": 1729271172546,
     "user": {
      "displayName": "Dr. Rubaiyat Islam",
      "userId": "00143020000614467639"
     },
     "user_tz": -360
    },
    "id": "f9rRoAszkybh",
    "outputId": "b834dbd6-4d0d-4af9-807a-a37eccea9486"
   },
   "outputs": [
    {
     "name": "stdout",
     "output_type": "stream",
     "text": [
      "Hello World\n"
     ]
    }
   ],
   "source": [
    "mystr = 'Hello World' # Define string using single quotes\n",
    "print(mystr)"
   ]
  },
  {
   "cell_type": "code",
   "execution_count": 62,
   "metadata": {
    "colab": {
     "base_uri": "https://localhost:8080/"
    },
    "executionInfo": {
     "elapsed": 108,
     "status": "ok",
     "timestamp": 1729271172546,
     "user": {
      "displayName": "Dr. Rubaiyat Islam",
      "userId": "00143020000614467639"
     },
     "user_tz": -360
    },
    "id": "gdB6I7izkybh",
    "outputId": "ef3b36f1-5fd1-4e8c-e45f-5ef52bb15812"
   },
   "outputs": [
    {
     "name": "stdout",
     "output_type": "stream",
     "text": [
      "Hello World\n"
     ]
    }
   ],
   "source": [
    "mystr = \"Hello World\" # Define string using double quotes\n",
    "print(mystr)"
   ]
  },
  {
   "cell_type": "code",
   "execution_count": 63,
   "metadata": {
    "colab": {
     "base_uri": "https://localhost:8080/"
    },
    "executionInfo": {
     "elapsed": 105,
     "status": "ok",
     "timestamp": 1729271172546,
     "user": {
      "displayName": "Dr. Rubaiyat Islam",
      "userId": "00143020000614467639"
     },
     "user_tz": -360
    },
    "id": "-EhNkUYGkybh",
    "outputId": "6f1c9bc4-ebda-4f1b-da00-ff55820fce2a"
   },
   "outputs": [
    {
     "name": "stdout",
     "output_type": "stream",
     "text": [
      "Hello World \n"
     ]
    }
   ],
   "source": [
    "mystr = '''Hello World '''   # Define string using triple quotes\n",
    "print(mystr)"
   ]
  },
  {
   "cell_type": "code",
   "execution_count": 64,
   "metadata": {
    "colab": {
     "base_uri": "https://localhost:8080/"
    },
    "executionInfo": {
     "elapsed": 101,
     "status": "ok",
     "timestamp": 1729271172546,
     "user": {
      "displayName": "Dr. Rubaiyat Islam",
      "userId": "00143020000614467639"
     },
     "user_tz": -360
    },
    "id": "mo5-Vs8Tkybh",
    "outputId": "cb62ac22-149d-47fb-bafb-280cca5b35cf"
   },
   "outputs": [
    {
     "name": "stdout",
     "output_type": "stream",
     "text": [
      "Hello World\n"
     ]
    }
   ],
   "source": [
    "mystr = \"\"\"Hello World\"\"\"  # Define string using triple quotes\n",
    "print(mystr)"
   ]
  },
  {
   "cell_type": "code",
   "execution_count": 65,
   "metadata": {
    "colab": {
     "base_uri": "https://localhost:8080/"
    },
    "executionInfo": {
     "elapsed": 98,
     "status": "ok",
     "timestamp": 1729271172546,
     "user": {
      "displayName": "Dr. Rubaiyat Islam",
      "userId": "00143020000614467639"
     },
     "user_tz": -360
    },
    "id": "E4cm7l5Bkybh",
    "outputId": "bbb498a7-3431-48f7-9936-539aa46a291a"
   },
   "outputs": [
    {
     "name": "stdout",
     "output_type": "stream",
     "text": [
      "Happy Monday Everyone\n"
     ]
    }
   ],
   "source": [
    "mystr = ('Happy '\n",
    "         'Monday '\n",
    "         'Everyone')\n",
    "print(mystr)"
   ]
  },
  {
   "cell_type": "code",
   "execution_count": 66,
   "metadata": {
    "colab": {
     "base_uri": "https://localhost:8080/",
     "height": 36
    },
    "executionInfo": {
     "elapsed": 95,
     "status": "ok",
     "timestamp": 1729271172546,
     "user": {
      "displayName": "Dr. Rubaiyat Islam",
      "userId": "00143020000614467639"
     },
     "user_tz": -360
    },
    "id": "b9TjVGE2kybh",
    "outputId": "544e5e3f-b3f1-488e-db17-32b98f8374c0"
   },
   "outputs": [
    {
     "data": {
      "text/plain": [
       "'Woohoo Woohoo Woohoo Woohoo Woohoo 5'"
      ]
     },
     "execution_count": 66,
     "metadata": {},
     "output_type": "execute_result"
    }
   ],
   "source": [
    "mystr2 = 'Woohoo '\n",
    "mystr2 = mystr2* 5 + '5'\n",
    "mystr2"
   ]
  },
  {
   "cell_type": "code",
   "execution_count": 67,
   "metadata": {
    "colab": {
     "base_uri": "https://localhost:8080/"
    },
    "executionInfo": {
     "elapsed": 94,
     "status": "ok",
     "timestamp": 1729271172546,
     "user": {
      "displayName": "Dr. Rubaiyat Islam",
      "userId": "00143020000614467639"
     },
     "user_tz": -360
    },
    "id": "G8fUrKWJkybh",
    "outputId": "053e23d0-7d1c-4326-be4d-1d4d115ef9af"
   },
   "outputs": [
    {
     "data": {
      "text/plain": [
       "36"
      ]
     },
     "execution_count": 67,
     "metadata": {},
     "output_type": "execute_result"
    }
   ],
   "source": [
    "len(mystr2) # Length of string"
   ]
  },
  {
   "cell_type": "markdown",
   "metadata": {
    "id": "_1nHtV8qkybi"
   },
   "source": [
    "### String Indexing"
   ]
  },
  {
   "cell_type": "markdown",
   "metadata": {
    "id": "7N6Bd0Pfkybi"
   },
   "source": [
    "<img src=\"string.PNG\">"
   ]
  },
  {
   "cell_type": "code",
   "execution_count": 68,
   "metadata": {
    "colab": {
     "base_uri": "https://localhost:8080/",
     "height": 36
    },
    "executionInfo": {
     "elapsed": 89,
     "status": "ok",
     "timestamp": 1729271172546,
     "user": {
      "displayName": "Dr. Rubaiyat Islam",
      "userId": "00143020000614467639"
     },
     "user_tz": -360
    },
    "id": "WsT4vpNskybi",
    "outputId": "2cc23a98-a21b-48c5-8a95-244df8d72774"
   },
   "outputs": [],
   "source": [
    "str1 = \"HELLO PYTHON\""
   ]
  },
  {
   "cell_type": "code",
   "execution_count": 69,
   "metadata": {
    "colab": {
     "base_uri": "https://localhost:8080/",
     "height": 36
    },
    "executionInfo": {
     "elapsed": 88,
     "status": "ok",
     "timestamp": 1729271172546,
     "user": {
      "displayName": "Dr. Rubaiyat Islam",
      "userId": "00143020000614467639"
     },
     "user_tz": -360
    },
    "id": "SS3zzEtVkybi",
    "outputId": "77527892-395b-4c6a-8f0e-65e0de969ee7"
   },
   "outputs": [
    {
     "data": {
      "text/plain": [
       "' '"
      ]
     },
     "execution_count": 69,
     "metadata": {},
     "output_type": "execute_result"
    }
   ],
   "source": [
    "str1[5] # First character in string \"str1\""
   ]
  },
  {
   "cell_type": "code",
   "execution_count": 70,
   "metadata": {
    "colab": {
     "base_uri": "https://localhost:8080/",
     "height": 36
    },
    "executionInfo": {
     "elapsed": 88,
     "status": "ok",
     "timestamp": 1729271172546,
     "user": {
      "displayName": "Dr. Rubaiyat Islam",
      "userId": "00143020000614467639"
     },
     "user_tz": -360
    },
    "id": "n34qcfaokybi",
    "outputId": "48508f55-56ec-495b-8750-08afb52b708b"
   },
   "outputs": [
    {
     "data": {
      "text/plain": [
       "'N'"
      ]
     },
     "execution_count": 70,
     "metadata": {},
     "output_type": "execute_result"
    }
   ],
   "source": [
    "str1[len(str1)-1] # Last character in string using len function"
   ]
  },
  {
   "cell_type": "code",
   "execution_count": 71,
   "metadata": {
    "colab": {
     "base_uri": "https://localhost:8080/",
     "height": 36
    },
    "executionInfo": {
     "elapsed": 87,
     "status": "ok",
     "timestamp": 1729271172546,
     "user": {
      "displayName": "Dr. Rubaiyat Islam",
      "userId": "00143020000614467639"
     },
     "user_tz": -360
    },
    "id": "jeNoE5qpkybi",
    "outputId": "3d0d586f-99ee-458e-a916-a8cac4cfe015"
   },
   "outputs": [
    {
     "data": {
      "text/plain": [
       "'N'"
      ]
     },
     "execution_count": 71,
     "metadata": {},
     "output_type": "execute_result"
    }
   ],
   "source": [
    "str1[-1] # Last character in string"
   ]
  },
  {
   "cell_type": "code",
   "execution_count": 72,
   "metadata": {
    "colab": {
     "base_uri": "https://localhost:8080/",
     "height": 36
    },
    "executionInfo": {
     "elapsed": 87,
     "status": "ok",
     "timestamp": 1729271172546,
     "user": {
      "displayName": "Dr. Rubaiyat Islam",
      "userId": "00143020000614467639"
     },
     "user_tz": -360
    },
    "id": "P700gTD0kybi",
    "outputId": "85425dc1-5899-4633-d70b-b99723bc7d37"
   },
   "outputs": [
    {
     "data": {
      "text/plain": [
       "'P'"
      ]
     },
     "execution_count": 72,
     "metadata": {},
     "output_type": "execute_result"
    }
   ],
   "source": [
    "str1[6] #Fetch 7th element of the string"
   ]
  },
  {
   "cell_type": "code",
   "execution_count": 73,
   "metadata": {
    "colab": {
     "base_uri": "https://localhost:8080/",
     "height": 36
    },
    "executionInfo": {
     "elapsed": 86,
     "status": "ok",
     "timestamp": 1729271172546,
     "user": {
      "displayName": "Dr. Rubaiyat Islam",
      "userId": "00143020000614467639"
     },
     "user_tz": -360
    },
    "id": "S4fGr9-Qkybi",
    "outputId": "b557c32f-bb30-427a-9106-09f3e2bb7a56"
   },
   "outputs": [
    {
     "data": {
      "text/plain": [
       "' '"
      ]
     },
     "execution_count": 73,
     "metadata": {},
     "output_type": "execute_result"
    }
   ],
   "source": [
    "str1[5]"
   ]
  },
  {
   "cell_type": "markdown",
   "metadata": {
    "id": "_SpXyvUHkybi"
   },
   "source": [
    "### String Slicing"
   ]
  },
  {
   "cell_type": "code",
   "execution_count": 74,
   "metadata": {
    "colab": {
     "base_uri": "https://localhost:8080/",
     "height": 36
    },
    "executionInfo": {
     "elapsed": 86,
     "status": "ok",
     "timestamp": 1729271172546,
     "user": {
      "displayName": "Dr. Rubaiyat Islam",
      "userId": "00143020000614467639"
     },
     "user_tz": -360
    },
    "id": "s46u0pX3kybi",
    "outputId": "affee38a-e4b7-45e4-fa20-e1760dc6fdce"
   },
   "outputs": [
    {
     "data": {
      "text/plain": [
       "'HELLO '"
      ]
     },
     "execution_count": 74,
     "metadata": {},
     "output_type": "execute_result"
    }
   ],
   "source": [
    "str1[0:6] # String slicing - Fetch all characters from 0 to 5 index location excluding the character at loc 5."
   ]
  },
  {
   "cell_type": "code",
   "execution_count": 75,
   "metadata": {
    "colab": {
     "base_uri": "https://localhost:8080/",
     "height": 36
    },
    "executionInfo": {
     "elapsed": 86,
     "status": "ok",
     "timestamp": 1729271172546,
     "user": {
      "displayName": "Dr. Rubaiyat Islam",
      "userId": "00143020000614467639"
     },
     "user_tz": -360
    },
    "id": "f-LqL2AEkybi",
    "outputId": "01322294-830f-4145-c604-1badcf99ac6f"
   },
   "outputs": [
    {
     "data": {
      "text/plain": [
       "' PYTHON'"
      ]
     },
     "execution_count": 75,
     "metadata": {},
     "output_type": "execute_result"
    }
   ],
   "source": [
    "str1[5:12] # String slicing - Retreive all characters between 6 - 12 index loc excluding index loc 12."
   ]
  },
  {
   "cell_type": "code",
   "execution_count": 76,
   "metadata": {
    "colab": {
     "base_uri": "https://localhost:8080/",
     "height": 36
    },
    "executionInfo": {
     "elapsed": 86,
     "status": "ok",
     "timestamp": 1729271172547,
     "user": {
      "displayName": "Dr. Rubaiyat Islam",
      "userId": "00143020000614467639"
     },
     "user_tz": -360
    },
    "id": "_dEQkajFkybi",
    "outputId": "fd8ecaef-e1cb-4d02-e208-d369668446ab"
   },
   "outputs": [
    {
     "data": {
      "text/plain": [
       "'THON'"
      ]
     },
     "execution_count": 76,
     "metadata": {},
     "output_type": "execute_result"
    }
   ],
   "source": [
    "str1[-4:] # Retreive last four characters of the string"
   ]
  },
  {
   "cell_type": "code",
   "execution_count": 77,
   "metadata": {
    "colab": {
     "base_uri": "https://localhost:8080/",
     "height": 36
    },
    "executionInfo": {
     "elapsed": 85,
     "status": "ok",
     "timestamp": 1729271172547,
     "user": {
      "displayName": "Dr. Rubaiyat Islam",
      "userId": "00143020000614467639"
     },
     "user_tz": -360
    },
    "id": "eP0K6DBrkybi",
    "outputId": "f9e25661-7a62-4169-a9df-6a53508ccd4e"
   },
   "outputs": [
    {
     "data": {
      "text/plain": [
       "'PYTHON'"
      ]
     },
     "execution_count": 77,
     "metadata": {},
     "output_type": "execute_result"
    }
   ],
   "source": [
    "str1[-6:12] # Retreive last six characters of the string"
   ]
  },
  {
   "cell_type": "code",
   "execution_count": 78,
   "metadata": {
    "colab": {
     "base_uri": "https://localhost:8080/",
     "height": 36
    },
    "executionInfo": {
     "elapsed": 85,
     "status": "ok",
     "timestamp": 1729271172547,
     "user": {
      "displayName": "Dr. Rubaiyat Islam",
      "userId": "00143020000614467639"
     },
     "user_tz": -360
    },
    "id": "7yqVt5pDkybi",
    "outputId": "fd4dfd21-50a2-4a7e-dcb1-83e7a2eb4aad"
   },
   "outputs": [
    {
     "data": {
      "text/plain": [
       "'HELL'"
      ]
     },
     "execution_count": 78,
     "metadata": {},
     "output_type": "execute_result"
    }
   ],
   "source": [
    "str1[:4] # Retreive first four characters of the string"
   ]
  },
  {
   "cell_type": "code",
   "execution_count": 79,
   "metadata": {
    "colab": {
     "base_uri": "https://localhost:8080/",
     "height": 36
    },
    "executionInfo": {
     "elapsed": 84,
     "status": "ok",
     "timestamp": 1729271172547,
     "user": {
      "displayName": "Dr. Rubaiyat Islam",
      "userId": "00143020000614467639"
     },
     "user_tz": -360
    },
    "id": "2flvoRxKkybi",
    "outputId": "84b388fa-5920-4afe-957a-bf4466a9090d"
   },
   "outputs": [
    {
     "data": {
      "text/plain": [
       "'HELLO '"
      ]
     },
     "execution_count": 79,
     "metadata": {},
     "output_type": "execute_result"
    }
   ],
   "source": [
    "str1[:6] # Retreive first six characters of the string"
   ]
  },
  {
   "cell_type": "markdown",
   "metadata": {
    "id": "qPyhBx1Ikybi"
   },
   "source": [
    "### Update & Delete String"
   ]
  },
  {
   "cell_type": "code",
   "execution_count": 80,
   "metadata": {
    "colab": {
     "base_uri": "https://localhost:8080/",
     "height": 36
    },
    "executionInfo": {
     "elapsed": 84,
     "status": "ok",
     "timestamp": 1729271172547,
     "user": {
      "displayName": "Dr. Rubaiyat Islam",
      "userId": "00143020000614467639"
     },
     "user_tz": -360
    },
    "id": "nglQ8dcCkybi",
    "outputId": "78275e22-907a-42a4-fd4d-fa37054e4b01"
   },
   "outputs": [
    {
     "data": {
      "text/plain": [
       "'HELLO PYTHON'"
      ]
     },
     "execution_count": 80,
     "metadata": {},
     "output_type": "execute_result"
    }
   ],
   "source": [
    "str1"
   ]
  },
  {
   "cell_type": "code",
   "execution_count": 81,
   "metadata": {
    "colab": {
     "base_uri": "https://localhost:8080/",
     "height": 158
    },
    "executionInfo": {
     "elapsed": 83,
     "status": "error",
     "timestamp": 1729271172547,
     "user": {
      "displayName": "Dr. Rubaiyat Islam",
      "userId": "00143020000614467639"
     },
     "user_tz": -360
    },
    "id": "BAh_7os8kybj",
    "outputId": "4a3484a1-74f5-4fdc-ba7b-19e7b1e0b916"
   },
   "outputs": [
    {
     "ename": "TypeError",
     "evalue": "'str' object does not support item assignment",
     "output_type": "error",
     "traceback": [
      "\u001b[0;31m---------------------------------------------------------------------------\u001b[0m",
      "\u001b[0;31mTypeError\u001b[0m                                 Traceback (most recent call last)",
      "Cell \u001b[0;32mIn[81], line 2\u001b[0m\n\u001b[1;32m      1\u001b[0m \u001b[38;5;66;03m#Strings are immutable which means elements of a string cannot be changed once they have been assigned.\u001b[39;00m\n\u001b[0;32m----> 2\u001b[0m \u001b[43mstr1\u001b[49m\u001b[43m[\u001b[49m\u001b[38;5;241;43m0\u001b[39;49m\u001b[43m:\u001b[49m\u001b[38;5;241;43m5\u001b[39;49m\u001b[43m]\u001b[49m \u001b[38;5;241m=\u001b[39m \u001b[38;5;124m'\u001b[39m\u001b[38;5;124mHOLAA\u001b[39m\u001b[38;5;124m'\u001b[39m\n",
      "\u001b[0;31mTypeError\u001b[0m: 'str' object does not support item assignment"
     ]
    }
   ],
   "source": [
    "#Strings are immutable which means elements of a string cannot be changed once they have been assigned.\n",
    "str1[0:5] = 'HOLAA'"
   ]
  },
  {
   "cell_type": "code",
   "execution_count": 90,
   "metadata": {
    "executionInfo": {
     "elapsed": 83,
     "status": "aborted",
     "timestamp": 1729271172547,
     "user": {
      "displayName": "Dr. Rubaiyat Islam",
      "userId": "00143020000614467639"
     },
     "user_tz": -360
    },
    "id": "f0M_x-q6kybj"
   },
   "outputs": [
    {
     "ename": "NameError",
     "evalue": "name 'srt1' is not defined",
     "output_type": "error",
     "traceback": [
      "\u001b[0;31m---------------------------------------------------------------------------\u001b[0m",
      "\u001b[0;31mNameError\u001b[0m                                 Traceback (most recent call last)",
      "Cell \u001b[0;32mIn[90], line 2\u001b[0m\n\u001b[1;32m      1\u001b[0m \u001b[38;5;28;01mdel\u001b[39;00m str1 \u001b[38;5;66;03m# Delete a string\u001b[39;00m\n\u001b[0;32m----> 2\u001b[0m \u001b[38;5;28mprint\u001b[39m(\u001b[43msrt1\u001b[49m)\n",
      "\u001b[0;31mNameError\u001b[0m: name 'srt1' is not defined"
     ]
    }
   ],
   "source": [
    "del str1 # Delete a string\n",
    "print(srt1)"
   ]
  },
  {
   "cell_type": "markdown",
   "metadata": {
    "id": "-w9OCvfdkybj"
   },
   "source": [
    "### String concatenation"
   ]
  },
  {
   "cell_type": "code",
   "execution_count": 82,
   "metadata": {
    "executionInfo": {
     "elapsed": 83,
     "status": "aborted",
     "timestamp": 1729271172547,
     "user": {
      "displayName": "Dr. Rubaiyat Islam",
      "userId": "00143020000614467639"
     },
     "user_tz": -360
    },
    "id": "pFaP566Lkybj"
   },
   "outputs": [
    {
     "name": "stdout",
     "output_type": "stream",
     "text": [
      "HelloAsif\n"
     ]
    }
   ],
   "source": [
    "# String concatenation\n",
    "s1 = \"Hello\"\n",
    "s2 = \"Asif\"\n",
    "s3 = s1 + s2\n",
    "print(s3)"
   ]
  },
  {
   "cell_type": "code",
   "execution_count": 83,
   "metadata": {
    "executionInfo": {
     "elapsed": 82,
     "status": "aborted",
     "timestamp": 1729271172547,
     "user": {
      "displayName": "Dr. Rubaiyat Islam",
      "userId": "00143020000614467639"
     },
     "user_tz": -360
    },
    "id": "de8hSYBDkybj"
   },
   "outputs": [
    {
     "name": "stdout",
     "output_type": "stream",
     "text": [
      "Hello Asif\n"
     ]
    }
   ],
   "source": [
    "# String concatenation\n",
    "s1 = \"Hello\"\n",
    "s2 = \"Asif\"\n",
    "s3 = s1 + \" \" + s2\n",
    "print(s3)"
   ]
  },
  {
   "cell_type": "markdown",
   "metadata": {
    "id": "vQO518iMkybj"
   },
   "source": [
    "### Iterating through a String"
   ]
  },
  {
   "cell_type": "code",
   "execution_count": 84,
   "metadata": {
    "collapsed": true,
    "executionInfo": {
     "elapsed": 82,
     "status": "aborted",
     "timestamp": 1729271172547,
     "user": {
      "displayName": "Dr. Rubaiyat Islam",
      "userId": "00143020000614467639"
     },
     "user_tz": -360
    },
    "id": "scJLpeuxkybj"
   },
   "outputs": [],
   "source": [
    "mystr1 = \"Hello Everyone\""
   ]
  },
  {
   "cell_type": "code",
   "execution_count": 85,
   "metadata": {
    "executionInfo": {
     "elapsed": 82,
     "status": "aborted",
     "timestamp": 1729271172547,
     "user": {
      "displayName": "Dr. Rubaiyat Islam",
      "userId": "00143020000614467639"
     },
     "user_tz": -360
    },
    "id": "TGI__qwKkybj"
   },
   "outputs": [
    {
     "name": "stdout",
     "output_type": "stream",
     "text": [
      "H\n",
      "e\n",
      "l\n",
      "l\n",
      "o\n",
      " \n",
      "E\n",
      "v\n",
      "e\n",
      "r\n",
      "y\n",
      "o\n",
      "n\n",
      "e\n"
     ]
    }
   ],
   "source": [
    "# Iteration\n",
    "for i in mystr1:\n",
    "    print(i)"
   ]
  },
  {
   "cell_type": "code",
   "execution_count": 86,
   "metadata": {
    "executionInfo": {
     "elapsed": 82,
     "status": "aborted",
     "timestamp": 1729271172547,
     "user": {
      "displayName": "Dr. Rubaiyat Islam",
      "userId": "00143020000614467639"
     },
     "user_tz": -360
    },
    "id": "c9XZDXZokybj"
   },
   "outputs": [
    {
     "name": "stdout",
     "output_type": "stream",
     "text": [
      "(0, 'H')\n",
      "(1, 'e')\n",
      "(2, 'l')\n",
      "(3, 'l')\n",
      "(4, 'o')\n",
      "(5, ' ')\n",
      "(6, 'E')\n",
      "(7, 'v')\n",
      "(8, 'e')\n",
      "(9, 'r')\n",
      "(10, 'y')\n",
      "(11, 'o')\n",
      "(12, 'n')\n",
      "(13, 'e')\n"
     ]
    }
   ],
   "source": [
    "for i in enumerate(mystr1):\n",
    "    print(i)"
   ]
  },
  {
   "cell_type": "code",
   "execution_count": 87,
   "metadata": {
    "executionInfo": {
     "elapsed": 82,
     "status": "aborted",
     "timestamp": 1729271172547,
     "user": {
      "displayName": "Dr. Rubaiyat Islam",
      "userId": "00143020000614467639"
     },
     "user_tz": -360
    },
    "id": "68WeLppnkybj"
   },
   "outputs": [
    {
     "data": {
      "text/plain": [
       "[(0, 'H'),\n",
       " (1, 'e'),\n",
       " (2, 'l'),\n",
       " (3, 'l'),\n",
       " (4, 'o'),\n",
       " (5, ' '),\n",
       " (6, 'E'),\n",
       " (7, 'v'),\n",
       " (8, 'e'),\n",
       " (9, 'r'),\n",
       " (10, 'y'),\n",
       " (11, 'o'),\n",
       " (12, 'n'),\n",
       " (13, 'e')]"
      ]
     },
     "execution_count": 87,
     "metadata": {},
     "output_type": "execute_result"
    }
   ],
   "source": [
    "list(enumerate(mystr1)) # Enumerate method adds a counter to an iterable and returns it in a form of enumerate object."
   ]
  },
  {
   "cell_type": "markdown",
   "metadata": {
    "id": "bymRzYoakybj"
   },
   "source": [
    "### String Membership"
   ]
  },
  {
   "cell_type": "code",
   "execution_count": 88,
   "metadata": {
    "executionInfo": {
     "elapsed": 82,
     "status": "aborted",
     "timestamp": 1729271172547,
     "user": {
      "displayName": "Dr. Rubaiyat Islam",
      "userId": "00143020000614467639"
     },
     "user_tz": -360
    },
    "id": "O9iiySnukybj"
   },
   "outputs": [
    {
     "name": "stdout",
     "output_type": "stream",
     "text": [
      "True\n",
      "True\n",
      "False\n"
     ]
    }
   ],
   "source": [
    "# String membership\n",
    "\n",
    "mystr1 = \"Hello Everyone\"\n",
    "\n",
    "print ('Hello' in mystr1) # Check whether substring \"Hello\" is present in string \"mysrt1\"\n",
    "print ('Everyone' in mystr1) # Check whether substring \"Everyone\" is present in string \"mysrt1\"\n",
    "print ('Hi' in mystr1) # Check whether substring \"Hi\" is present in string \"mysrt1\""
   ]
  },
  {
   "cell_type": "markdown",
   "metadata": {
    "id": "H7aWo1Eakybj"
   },
   "source": [
    "### String Partitioning"
   ]
  },
  {
   "cell_type": "code",
   "execution_count": 89,
   "metadata": {
    "executionInfo": {
     "elapsed": 82,
     "status": "aborted",
     "timestamp": 1729271172547,
     "user": {
      "displayName": "Dr. Rubaiyat Islam",
      "userId": "00143020000614467639"
     },
     "user_tz": -360
    },
    "id": "SHyB3_YAkybj"
   },
   "outputs": [
    {
     "name": "stdout",
     "output_type": "stream",
     "text": [
      "('Natural language processing with Python ', 'and', ' R and Java')\n"
     ]
    }
   ],
   "source": [
    "\"\"\"\n",
    "The partition() method searches for a specified string and splits the string into a tuple containing three elements.\n",
    "\n",
    " - The first element contains the part before the argument string.\n",
    "\n",
    " - The second element contains the argument string.\n",
    "\n",
    " - The third element contains the part after the argument string.\n",
    "\"\"\"\n",
    "\n",
    "str5 = \"Natural language processing with Python and R and Java\"\n",
    "L = str5.partition(\"and\")\n",
    "print(L)"
   ]
  },
  {
   "cell_type": "code",
   "execution_count": 90,
   "metadata": {
    "executionInfo": {
     "elapsed": 82,
     "status": "aborted",
     "timestamp": 1729271172547,
     "user": {
      "displayName": "Dr. Rubaiyat Islam",
      "userId": "00143020000614467639"
     },
     "user_tz": -360
    },
    "id": "I3Za5rQLkybj"
   },
   "outputs": [
    {
     "name": "stdout",
     "output_type": "stream",
     "text": [
      "('Natural language processing with Python and R ', 'and', ' Java')\n"
     ]
    }
   ],
   "source": [
    "\"\"\"\n",
    "The rpartition() method searches for the last occurence of the specified string and splits the string into a tuple\n",
    "containing three elements.\n",
    "\n",
    " - The first element contains the part before the argument string.\n",
    "\n",
    " - The second element contains the argument string.\n",
    "\n",
    " - The third element contains the part after the argument string.\n",
    "\"\"\"\n",
    "\n",
    "str5 = \"Natural language processing with Python and R and Java\"\n",
    "L = str5.rpartition(\"and\")\n",
    "print(L)"
   ]
  },
  {
   "cell_type": "markdown",
   "metadata": {
    "id": "wZVFWIpckybj"
   },
   "source": [
    "### String Functions"
   ]
  },
  {
   "cell_type": "code",
   "execution_count": 91,
   "metadata": {
    "executionInfo": {
     "elapsed": 82,
     "status": "aborted",
     "timestamp": 1729271172547,
     "user": {
      "displayName": "Dr. Rubaiyat Islam",
      "userId": "00143020000614467639"
     },
     "user_tz": -360
    },
    "id": "FjtM_Z0fkybj"
   },
   "outputs": [
    {
     "data": {
      "text/plain": [
       "'   Hello Everyone  '"
      ]
     },
     "execution_count": 91,
     "metadata": {},
     "output_type": "execute_result"
    }
   ],
   "source": [
    "mystr2 = \"   Hello Everyone  \"\n",
    "mystr2"
   ]
  },
  {
   "cell_type": "code",
   "execution_count": 92,
   "metadata": {
    "executionInfo": {
     "elapsed": 81,
     "status": "aborted",
     "timestamp": 1729271172547,
     "user": {
      "displayName": "Dr. Rubaiyat Islam",
      "userId": "00143020000614467639"
     },
     "user_tz": -360
    },
    "id": "dWPsJW0xkybk"
   },
   "outputs": [
    {
     "data": {
      "text/plain": [
       "'Hello Everyone'"
      ]
     },
     "execution_count": 92,
     "metadata": {},
     "output_type": "execute_result"
    }
   ],
   "source": [
    "mystr2.strip() # Removes white space from begining & end"
   ]
  },
  {
   "cell_type": "code",
   "execution_count": 93,
   "metadata": {
    "executionInfo": {
     "elapsed": 81,
     "status": "aborted",
     "timestamp": 1729271172547,
     "user": {
      "displayName": "Dr. Rubaiyat Islam",
      "userId": "00143020000614467639"
     },
     "user_tz": -360
    },
    "id": "PwPJcmqXkybk"
   },
   "outputs": [
    {
     "data": {
      "text/plain": [
       "'   Hello Everyone'"
      ]
     },
     "execution_count": 93,
     "metadata": {},
     "output_type": "execute_result"
    }
   ],
   "source": [
    "mystr2.rstrip() # Removes all whitespaces at the end of the string"
   ]
  },
  {
   "cell_type": "code",
   "execution_count": 94,
   "metadata": {
    "executionInfo": {
     "elapsed": 81,
     "status": "aborted",
     "timestamp": 1729271172547,
     "user": {
      "displayName": "Dr. Rubaiyat Islam",
      "userId": "00143020000614467639"
     },
     "user_tz": -360
    },
    "id": "oyOKiSyLkybk"
   },
   "outputs": [
    {
     "data": {
      "text/plain": [
       "'Hello Everyone  '"
      ]
     },
     "execution_count": 94,
     "metadata": {},
     "output_type": "execute_result"
    }
   ],
   "source": [
    "mystr2.lstrip() # Removes all whitespaces at the begining of the string"
   ]
  },
  {
   "cell_type": "code",
   "execution_count": 95,
   "metadata": {
    "executionInfo": {
     "elapsed": 81,
     "status": "aborted",
     "timestamp": 1729271172547,
     "user": {
      "displayName": "Dr. Rubaiyat Islam",
      "userId": "00143020000614467639"
     },
     "user_tz": -360
    },
    "id": "l4O5WlEOkybk"
   },
   "outputs": [
    {
     "data": {
      "text/plain": [
       "'*********Hello Everyone***********All the Best**********'"
      ]
     },
     "execution_count": 95,
     "metadata": {},
     "output_type": "execute_result"
    }
   ],
   "source": [
    "mystr2 = \"*********Hello Everyone***********All the Best**********\"\n",
    "mystr2"
   ]
  },
  {
   "cell_type": "code",
   "execution_count": 96,
   "metadata": {
    "executionInfo": {
     "elapsed": 82,
     "status": "aborted",
     "timestamp": 1729271172548,
     "user": {
      "displayName": "Dr. Rubaiyat Islam",
      "userId": "00143020000614467639"
     },
     "user_tz": -360
    },
    "id": "DoVujQgOkybk"
   },
   "outputs": [
    {
     "data": {
      "text/plain": [
       "'Hello Everyone***********All the Best'"
      ]
     },
     "execution_count": 96,
     "metadata": {},
     "output_type": "execute_result"
    }
   ],
   "source": [
    "mystr2.strip('*') # Removes all '*' characters from begining & end of the string"
   ]
  },
  {
   "cell_type": "code",
   "execution_count": 97,
   "metadata": {
    "executionInfo": {
     "elapsed": 82,
     "status": "aborted",
     "timestamp": 1729271172548,
     "user": {
      "displayName": "Dr. Rubaiyat Islam",
      "userId": "00143020000614467639"
     },
     "user_tz": -360
    },
    "id": "_TX0HF4Xkybk"
   },
   "outputs": [
    {
     "data": {
      "text/plain": [
       "'*********Hello Everyone***********All the Best'"
      ]
     },
     "execution_count": 97,
     "metadata": {},
     "output_type": "execute_result"
    }
   ],
   "source": [
    "mystr2.rstrip('*') # Removes all '*' characters at the end of the string"
   ]
  },
  {
   "cell_type": "code",
   "execution_count": 98,
   "metadata": {
    "executionInfo": {
     "elapsed": 82,
     "status": "aborted",
     "timestamp": 1729271172548,
     "user": {
      "displayName": "Dr. Rubaiyat Islam",
      "userId": "00143020000614467639"
     },
     "user_tz": -360
    },
    "id": "V85Cg2nwkybk"
   },
   "outputs": [
    {
     "data": {
      "text/plain": [
       "'Hello Everyone***********All the Best**********'"
      ]
     },
     "execution_count": 98,
     "metadata": {},
     "output_type": "execute_result"
    }
   ],
   "source": [
    "mystr2.lstrip('*') # Removes all '*' characters at the begining of the string"
   ]
  },
  {
   "cell_type": "code",
   "execution_count": 99,
   "metadata": {
    "collapsed": true,
    "executionInfo": {
     "elapsed": 82,
     "status": "aborted",
     "timestamp": 1729271172548,
     "user": {
      "displayName": "Dr. Rubaiyat Islam",
      "userId": "00143020000614467639"
     },
     "user_tz": -360
    },
    "id": "c6Wz2YNckybk"
   },
   "outputs": [],
   "source": [
    "mystr2 = \"   Hello Everyone  \""
   ]
  },
  {
   "cell_type": "code",
   "execution_count": 100,
   "metadata": {
    "executionInfo": {
     "elapsed": 82,
     "status": "aborted",
     "timestamp": 1729271172548,
     "user": {
      "displayName": "Dr. Rubaiyat Islam",
      "userId": "00143020000614467639"
     },
     "user_tz": -360
    },
    "id": "Te7hHa7Zkybk"
   },
   "outputs": [
    {
     "data": {
      "text/plain": [
       "'   hello everyone  '"
      ]
     },
     "execution_count": 100,
     "metadata": {},
     "output_type": "execute_result"
    }
   ],
   "source": [
    "mystr2.lower() # Return whole string in lowercase"
   ]
  },
  {
   "cell_type": "code",
   "execution_count": 101,
   "metadata": {
    "executionInfo": {
     "elapsed": 82,
     "status": "aborted",
     "timestamp": 1729271172548,
     "user": {
      "displayName": "Dr. Rubaiyat Islam",
      "userId": "00143020000614467639"
     },
     "user_tz": -360
    },
    "id": "xa3ZonBmkybk"
   },
   "outputs": [
    {
     "data": {
      "text/plain": [
       "'   HELLO EVERYONE  '"
      ]
     },
     "execution_count": 101,
     "metadata": {},
     "output_type": "execute_result"
    }
   ],
   "source": [
    "mystr2.upper() # Return whole string in uppercase"
   ]
  },
  {
   "cell_type": "code",
   "execution_count": 102,
   "metadata": {
    "executionInfo": {
     "elapsed": 82,
     "status": "aborted",
     "timestamp": 1729271172548,
     "user": {
      "displayName": "Dr. Rubaiyat Islam",
      "userId": "00143020000614467639"
     },
     "user_tz": -360
    },
    "id": "xL4RK5tOkybk"
   },
   "outputs": [
    {
     "data": {
      "text/plain": [
       "'   Hollo Everyone  '"
      ]
     },
     "execution_count": 102,
     "metadata": {},
     "output_type": "execute_result"
    }
   ],
   "source": [
    "mystr2.replace(\"He\" , \"Ho\") #Replace substring \"He\" with \"Ho\""
   ]
  },
  {
   "cell_type": "code",
   "execution_count": 103,
   "metadata": {
    "executionInfo": {
     "elapsed": 81,
     "status": "aborted",
     "timestamp": 1729271172548,
     "user": {
      "displayName": "Dr. Rubaiyat Islam",
      "userId": "00143020000614467639"
     },
     "user_tz": -360
    },
    "id": "LM23-jPUkybk"
   },
   "outputs": [
    {
     "data": {
      "text/plain": [
       "'HelloEveryone'"
      ]
     },
     "execution_count": 103,
     "metadata": {},
     "output_type": "execute_result"
    }
   ],
   "source": [
    "mystr2.replace(\" \" , \"\") # Remove all whitespaces using replace function"
   ]
  },
  {
   "cell_type": "code",
   "execution_count": 104,
   "metadata": {
    "collapsed": true,
    "executionInfo": {
     "elapsed": 81,
     "status": "aborted",
     "timestamp": 1729271172548,
     "user": {
      "displayName": "Dr. Rubaiyat Islam",
      "userId": "00143020000614467639"
     },
     "user_tz": -360
    },
    "id": "VaqxEYfrkybk"
   },
   "outputs": [],
   "source": [
    "mystr5 = \"one two Three one two two three\""
   ]
  },
  {
   "cell_type": "code",
   "execution_count": 105,
   "metadata": {
    "executionInfo": {
     "elapsed": 81,
     "status": "aborted",
     "timestamp": 1729271172548,
     "user": {
      "displayName": "Dr. Rubaiyat Islam",
      "userId": "00143020000614467639"
     },
     "user_tz": -360
    },
    "id": "dt1IUGzfkybk"
   },
   "outputs": [
    {
     "data": {
      "text/plain": [
       "2"
      ]
     },
     "execution_count": 105,
     "metadata": {},
     "output_type": "execute_result"
    }
   ],
   "source": [
    "mystr5.count(\"one\") # Number of times substring \"one\" occurred in string."
   ]
  },
  {
   "cell_type": "code",
   "execution_count": 106,
   "metadata": {
    "executionInfo": {
     "elapsed": 81,
     "status": "aborted",
     "timestamp": 1729271172548,
     "user": {
      "displayName": "Dr. Rubaiyat Islam",
      "userId": "00143020000614467639"
     },
     "user_tz": -360
    },
    "id": "7-iVzs_Ikybk"
   },
   "outputs": [
    {
     "data": {
      "text/plain": [
       "3"
      ]
     },
     "execution_count": 106,
     "metadata": {},
     "output_type": "execute_result"
    }
   ],
   "source": [
    "mystr5.count(\"two\") # Number of times substring \"two\" occurred in string."
   ]
  },
  {
   "cell_type": "code",
   "execution_count": 107,
   "metadata": {
    "executionInfo": {
     "elapsed": 81,
     "status": "aborted",
     "timestamp": 1729271172548,
     "user": {
      "displayName": "Dr. Rubaiyat Islam",
      "userId": "00143020000614467639"
     },
     "user_tz": -360
    },
    "id": "HFAgxWUjkybl"
   },
   "outputs": [
    {
     "data": {
      "text/plain": [
       "True"
      ]
     },
     "execution_count": 107,
     "metadata": {},
     "output_type": "execute_result"
    }
   ],
   "source": [
    "mystr5.startswith(\"one\")  # Return boolean value True if string starts with \"one\""
   ]
  },
  {
   "cell_type": "code",
   "execution_count": 108,
   "metadata": {
    "executionInfo": {
     "elapsed": 81,
     "status": "aborted",
     "timestamp": 1729271172548,
     "user": {
      "displayName": "Dr. Rubaiyat Islam",
      "userId": "00143020000614467639"
     },
     "user_tz": -360
    },
    "id": "AJstvR3Nkybl"
   },
   "outputs": [
    {
     "data": {
      "text/plain": [
       "True"
      ]
     },
     "execution_count": 108,
     "metadata": {},
     "output_type": "execute_result"
    }
   ],
   "source": [
    "mystr5.endswith(\"three\") # Return boolean value True if string ends with \"three\""
   ]
  },
  {
   "cell_type": "code",
   "execution_count": 109,
   "metadata": {
    "collapsed": true,
    "executionInfo": {
     "elapsed": 81,
     "status": "aborted",
     "timestamp": 1729271172548,
     "user": {
      "displayName": "Dr. Rubaiyat Islam",
      "userId": "00143020000614467639"
     },
     "user_tz": -360
    },
    "id": "zjehXnuwkybl"
   },
   "outputs": [],
   "source": [
    "mystr4 = \"one two three four one two two three five five six seven six seven one one one ten eight ten nine eleven ten ten nine\""
   ]
  },
  {
   "cell_type": "code",
   "execution_count": 110,
   "metadata": {
    "executionInfo": {
     "elapsed": 81,
     "status": "aborted",
     "timestamp": 1729271172548,
     "user": {
      "displayName": "Dr. Rubaiyat Islam",
      "userId": "00143020000614467639"
     },
     "user_tz": -360
    },
    "id": "OHaXH5WJkybl"
   },
   "outputs": [
    {
     "data": {
      "text/plain": [
       "['one',\n",
       " 'two',\n",
       " 'three',\n",
       " 'four',\n",
       " 'one',\n",
       " 'two',\n",
       " 'two',\n",
       " 'three',\n",
       " 'five',\n",
       " 'five',\n",
       " 'six',\n",
       " 'seven',\n",
       " 'six',\n",
       " 'seven',\n",
       " 'one',\n",
       " 'one',\n",
       " 'one',\n",
       " 'ten',\n",
       " 'eight',\n",
       " 'ten',\n",
       " 'nine',\n",
       " 'eleven',\n",
       " 'ten',\n",
       " 'ten',\n",
       " 'nine']"
      ]
     },
     "execution_count": 110,
     "metadata": {},
     "output_type": "execute_result"
    }
   ],
   "source": [
    "mylist = mystr4.split() # Split String into substrings\n",
    "mylist"
   ]
  },
  {
   "cell_type": "code",
   "execution_count": 111,
   "metadata": {
    "executionInfo": {
     "elapsed": 81,
     "status": "aborted",
     "timestamp": 1729271172548,
     "user": {
      "displayName": "Dr. Rubaiyat Islam",
      "userId": "00143020000614467639"
     },
     "user_tz": -360
    },
    "id": "NOhxFOzOkybl"
   },
   "outputs": [
    {
     "name": "stdout",
     "output_type": "stream",
     "text": [
      "Cost of item1 , item2 and item3 are 40 , 55 and 77\n"
     ]
    }
   ],
   "source": [
    "# Combining string & numbers using format method\n",
    "item1 = 40\n",
    "item2 = 55\n",
    "item3 = 77\n",
    "\n",
    "res = \"Cost of item1 , item2 and item3 are {} , {} and {}\"\n",
    "\n",
    "print(res.format(item1,item2,item3))"
   ]
  },
  {
   "cell_type": "code",
   "execution_count": 112,
   "metadata": {
    "executionInfo": {
     "elapsed": 81,
     "status": "aborted",
     "timestamp": 1729271172548,
     "user": {
      "displayName": "Dr. Rubaiyat Islam",
      "userId": "00143020000614467639"
     },
     "user_tz": -360
    },
    "id": "faoqPKOckybl"
   },
   "outputs": [
    {
     "name": "stdout",
     "output_type": "stream",
     "text": [
      "Cost of item3 , item2 and item1 are 77 , 55 and 40\n"
     ]
    }
   ],
   "source": [
    "# Combining string & numbers using format method\n",
    "item1 = 40\n",
    "item2 = 55\n",
    "item3 = 77\n",
    "\n",
    "res = \"Cost of item3 , item2 and item1 are {2} , {1} and {0}\"\n",
    "\n",
    "print(res.format(item1,item2,item3))"
   ]
  },
  {
   "cell_type": "code",
   "execution_count": 113,
   "metadata": {
    "executionInfo": {
     "elapsed": 81,
     "status": "aborted",
     "timestamp": 1729271172548,
     "user": {
      "displayName": "Dr. Rubaiyat Islam",
      "userId": "00143020000614467639"
     },
     "user_tz": -360
    },
    "id": "i1naItJFkybl"
   },
   "outputs": [
    {
     "name": "stdout",
     "output_type": "stream",
     "text": [
      "                                          WELCOME EVERYONE                                          \n"
     ]
    }
   ],
   "source": [
    "str2 = \" WELCOME EVERYONE \"\n",
    "str2 = str2.center(100) # center align the string using a specific character as the fill character.\n",
    "print(str2)"
   ]
  },
  {
   "cell_type": "code",
   "execution_count": 114,
   "metadata": {
    "executionInfo": {
     "elapsed": 81,
     "status": "aborted",
     "timestamp": 1729271172548,
     "user": {
      "displayName": "Dr. Rubaiyat Islam",
      "userId": "00143020000614467639"
     },
     "user_tz": -360
    },
    "id": "OrwilODckybl"
   },
   "outputs": [
    {
     "name": "stdout",
     "output_type": "stream",
     "text": [
      "***************************************** WELCOME EVERYONE *****************************************\n"
     ]
    }
   ],
   "source": [
    "str2 = \" WELCOME EVERYONE \"\n",
    "str2 = str2.center(100,'*') # center align the string using a specific character ('*') as the fill character.\n",
    "print(str2)"
   ]
  },
  {
   "cell_type": "code",
   "execution_count": 115,
   "metadata": {
    "executionInfo": {
     "elapsed": 80,
     "status": "aborted",
     "timestamp": 1729271172548,
     "user": {
      "displayName": "Dr. Rubaiyat Islam",
      "userId": "00143020000614467639"
     },
     "user_tz": -360
    },
    "id": "PGPLcamgkybl"
   },
   "outputs": [
    {
     "name": "stdout",
     "output_type": "stream",
     "text": [
      "                                 WELCOME EVERYONE \n"
     ]
    }
   ],
   "source": [
    "str2 = \" WELCOME EVERYONE \"\n",
    "str2 = str2.rjust(50) # Right align the string using a specific character as the fill character.\n",
    "print(str2)"
   ]
  },
  {
   "cell_type": "code",
   "execution_count": 116,
   "metadata": {
    "executionInfo": {
     "elapsed": 80,
     "status": "aborted",
     "timestamp": 1729271172548,
     "user": {
      "displayName": "Dr. Rubaiyat Islam",
      "userId": "00143020000614467639"
     },
     "user_tz": -360
    },
    "id": "TqxIL7y0kybl"
   },
   "outputs": [
    {
     "name": "stdout",
     "output_type": "stream",
     "text": [
      "******************************** WELCOME EVERYONE \n"
     ]
    }
   ],
   "source": [
    "str2 = \" WELCOME EVERYONE \"\n",
    "str2 = str2.rjust(50,'*') # Right align the string using a specific character ('*') as the fill character.\n",
    "print(str2)"
   ]
  },
  {
   "cell_type": "code",
   "execution_count": 117,
   "metadata": {
    "executionInfo": {
     "elapsed": 80,
     "status": "aborted",
     "timestamp": 1729271172548,
     "user": {
      "displayName": "Dr. Rubaiyat Islam",
      "userId": "00143020000614467639"
     },
     "user_tz": -360
    },
    "id": "2QG0DmKDkybl"
   },
   "outputs": [
    {
     "name": "stdout",
     "output_type": "stream",
     "text": [
      "19\n"
     ]
    }
   ],
   "source": [
    "str4 = \"one two three four five six seven\"\n",
    "loc = str4.find(\"five\") # Find the location of word 'five' in the string \"str4\"\n",
    "print(loc)"
   ]
  },
  {
   "cell_type": "code",
   "execution_count": 118,
   "metadata": {
    "executionInfo": {
     "elapsed": 81,
     "status": "aborted",
     "timestamp": 1729271172549,
     "user": {
      "displayName": "Dr. Rubaiyat Islam",
      "userId": "00143020000614467639"
     },
     "user_tz": -360
    },
    "id": "tbMTrtwvkybl"
   },
   "outputs": [
    {
     "name": "stdout",
     "output_type": "stream",
     "text": [
      "19\n"
     ]
    }
   ],
   "source": [
    "str4 = \"one two three four five six seven\"\n",
    "loc = str4.index(\"five\") # Find the location of word 'five' in the string \"str4\"\n",
    "print(loc)"
   ]
  },
  {
   "cell_type": "code",
   "execution_count": 119,
   "metadata": {
    "executionInfo": {
     "elapsed": 81,
     "status": "aborted",
     "timestamp": 1729271172549,
     "user": {
      "displayName": "Dr. Rubaiyat Islam",
      "userId": "00143020000614467639"
     },
     "user_tz": -360
    },
    "id": "ED-isiQSkybl"
   },
   "outputs": [
    {
     "name": "stdout",
     "output_type": "stream",
     "text": [
      "False\n",
      "True\n",
      "True\n",
      "True\n"
     ]
    }
   ],
   "source": [
    "mystr6 = '123456789'\n",
    "print(mystr6.isalpha()) # returns True if all the characters in the text are letters\n",
    "print(mystr6.isalnum())  # returns True if a string contains only letters or numbers or both\n",
    "print(mystr6.isdecimal()) # returns True if all the characters are decimals (0-9)\n",
    "print(mystr6.isnumeric()) # returns True if all the characters are numeric (0-9)"
   ]
  },
  {
   "cell_type": "code",
   "execution_count": 120,
   "metadata": {
    "executionInfo": {
     "elapsed": 81,
     "status": "aborted",
     "timestamp": 1729271172549,
     "user": {
      "displayName": "Dr. Rubaiyat Islam",
      "userId": "00143020000614467639"
     },
     "user_tz": -360
    },
    "id": "gMyQQR1okybl"
   },
   "outputs": [
    {
     "name": "stdout",
     "output_type": "stream",
     "text": [
      "True\n",
      "True\n",
      "False\n",
      "False\n"
     ]
    }
   ],
   "source": [
    "mystr6 = 'abcde'\n",
    "print(mystr6.isalpha()) # returns True if all the characters in the text are letters\n",
    "print(mystr6.isalnum())  # returns True if a string contains only letters or numbers or both\n",
    "print(mystr6.isdecimal()) # returns True if all the characters are decimals (0-9)\n",
    "print(mystr6.isnumeric()) # returns True if all the characters are numeric (0-9)"
   ]
  },
  {
   "cell_type": "code",
   "execution_count": 121,
   "metadata": {
    "executionInfo": {
     "elapsed": 81,
     "status": "aborted",
     "timestamp": 1729271172549,
     "user": {
      "displayName": "Dr. Rubaiyat Islam",
      "userId": "00143020000614467639"
     },
     "user_tz": -360
    },
    "id": "scM8S-Jjkybl"
   },
   "outputs": [
    {
     "name": "stdout",
     "output_type": "stream",
     "text": [
      "False\n",
      "True\n",
      "False\n",
      "False\n"
     ]
    }
   ],
   "source": [
    "mystr6 = 'abc12309'\n",
    "print(mystr6.isalpha()) # returns True if all the characters in the text are letters\n",
    "print(mystr6.isalnum())  # returns True if a string contains only letters or numbers or both\n",
    "print(mystr6.isdecimal()) # returns True if all the characters are decimals (0-9)\n",
    "print(mystr6.isnumeric()) # returns True if all the characters are numeric (0-9)"
   ]
  },
  {
   "cell_type": "code",
   "execution_count": 122,
   "metadata": {
    "executionInfo": {
     "elapsed": 81,
     "status": "aborted",
     "timestamp": 1729271172549,
     "user": {
      "displayName": "Dr. Rubaiyat Islam",
      "userId": "00143020000614467639"
     },
     "user_tz": -360
    },
    "id": "Kq8keEFqkybm"
   },
   "outputs": [
    {
     "name": "stdout",
     "output_type": "stream",
     "text": [
      "True\n",
      "False\n"
     ]
    }
   ],
   "source": [
    "mystr7 = 'ABCDEF'\n",
    "print(mystr7.isupper())  # Returns True if all the characters are in upper case\n",
    "print(mystr7.islower())  # Returns True if all the characters are in lower case"
   ]
  },
  {
   "cell_type": "code",
   "execution_count": 123,
   "metadata": {
    "executionInfo": {
     "elapsed": 81,
     "status": "aborted",
     "timestamp": 1729271172549,
     "user": {
      "displayName": "Dr. Rubaiyat Islam",
      "userId": "00143020000614467639"
     },
     "user_tz": -360
    },
    "id": "mgiqTNUSkybm"
   },
   "outputs": [
    {
     "name": "stdout",
     "output_type": "stream",
     "text": [
      "False\n",
      "True\n"
     ]
    }
   ],
   "source": [
    "mystr8 = 'abcdef'\n",
    "print(mystr8.isupper())  # Returns True if all the characters are in upper case\n",
    "print(mystr8.islower())  # Returns True if all the characters are in lower case"
   ]
  },
  {
   "cell_type": "code",
   "execution_count": 124,
   "metadata": {
    "executionInfo": {
     "elapsed": 81,
     "status": "aborted",
     "timestamp": 1729271172549,
     "user": {
      "displayName": "Dr. Rubaiyat Islam",
      "userId": "00143020000614467639"
     },
     "user_tz": -360
    },
    "id": "_cL_knW4kybm"
   },
   "outputs": [
    {
     "name": "stdout",
     "output_type": "stream",
     "text": [
      "51\n"
     ]
    }
   ],
   "source": [
    "str6 = \"one two three four one two two three five five six one ten eight ten nine eleven ten ten nine\"\n",
    "\n",
    "loc = str6.rfind(\"one\") # last occurrence of word 'one' in string \"str6\"\n",
    "print(loc)"
   ]
  },
  {
   "cell_type": "code",
   "execution_count": 125,
   "metadata": {
    "executionInfo": {
     "elapsed": 81,
     "status": "aborted",
     "timestamp": 1729271172549,
     "user": {
      "displayName": "Dr. Rubaiyat Islam",
      "userId": "00143020000614467639"
     },
     "user_tz": -360
    },
    "id": "1OzV2MXckybm"
   },
   "outputs": [
    {
     "name": "stdout",
     "output_type": "stream",
     "text": [
      "51\n"
     ]
    }
   ],
   "source": [
    "loc = str6.rindex(\"one\") # last occurrence of word 'one' in string \"str6\"\n",
    "\n",
    "print(loc)"
   ]
  },
  {
   "cell_type": "code",
   "execution_count": 126,
   "metadata": {
    "executionInfo": {
     "elapsed": 80,
     "status": "aborted",
     "timestamp": 1729271172549,
     "user": {
      "displayName": "Dr. Rubaiyat Islam",
      "userId": "00143020000614467639"
     },
     "user_tz": -360
    },
    "id": "5Zilrwh_kybm"
   },
   "outputs": [
    {
     "data": {
      "text/plain": [
       "'   abc def ghi'"
      ]
     },
     "execution_count": 126,
     "metadata": {},
     "output_type": "execute_result"
    }
   ],
   "source": [
    "txt = \"   abc def ghi   \"\n",
    "\n",
    "txt.rstrip()"
   ]
  },
  {
   "cell_type": "code",
   "execution_count": 127,
   "metadata": {
    "executionInfo": {
     "elapsed": 80,
     "status": "aborted",
     "timestamp": 1729271172549,
     "user": {
      "displayName": "Dr. Rubaiyat Islam",
      "userId": "00143020000614467639"
     },
     "user_tz": -360
    },
    "id": "Zaf33Ncbkybm"
   },
   "outputs": [
    {
     "data": {
      "text/plain": [
       "'abc def ghi   '"
      ]
     },
     "execution_count": 127,
     "metadata": {},
     "output_type": "execute_result"
    }
   ],
   "source": [
    "txt = \"   abc def ghi   \"\n",
    "\n",
    "txt.lstrip()"
   ]
  },
  {
   "cell_type": "code",
   "execution_count": 128,
   "metadata": {
    "executionInfo": {
     "elapsed": 80,
     "status": "aborted",
     "timestamp": 1729271172549,
     "user": {
      "displayName": "Dr. Rubaiyat Islam",
      "userId": "00143020000614467639"
     },
     "user_tz": -360
    },
    "id": "_nZnomn1kybm"
   },
   "outputs": [
    {
     "data": {
      "text/plain": [
       "'abc def ghi'"
      ]
     },
     "execution_count": 128,
     "metadata": {},
     "output_type": "execute_result"
    }
   ],
   "source": [
    "txt = \"   abc def ghi   \"\n",
    "\n",
    "txt.strip()"
   ]
  },
  {
   "cell_type": "markdown",
   "metadata": {
    "id": "qFpjLYi1kybm"
   },
   "source": [
    "### Using Escape Character"
   ]
  },
  {
   "cell_type": "code",
   "execution_count": 129,
   "metadata": {
    "executionInfo": {
     "elapsed": 80,
     "status": "aborted",
     "timestamp": 1729271172549,
     "user": {
      "displayName": "Dr. Rubaiyat Islam",
      "userId": "00143020000614467639"
     },
     "user_tz": -360
    },
    "id": "XMsQdYWJkybm"
   },
   "outputs": [
    {
     "ename": "SyntaxError",
     "evalue": "invalid syntax (<ipython-input-129-0fa35a74da86>, line 2)",
     "output_type": "error",
     "traceback": [
      "\u001b[0;36m  Cell \u001b[0;32mIn[129], line 2\u001b[0;36m\u001b[0m\n\u001b[0;31m    mystr = \"My favourite TV Series is \"Game of Thrones\"\"\u001b[0m\n\u001b[0m                                        ^\u001b[0m\n\u001b[0;31mSyntaxError\u001b[0m\u001b[0;31m:\u001b[0m invalid syntax\n"
     ]
    }
   ],
   "source": [
    "#Using double quotes in the string is not allowed.\n",
    "mystr = \"My favourite TV Series is \"Game of Thrones\"\""
   ]
  },
  {
   "cell_type": "code",
   "execution_count": null,
   "metadata": {
    "executionInfo": {
     "elapsed": 80,
     "status": "aborted",
     "timestamp": 1729271172549,
     "user": {
      "displayName": "Dr. Rubaiyat Islam",
      "userId": "00143020000614467639"
     },
     "user_tz": -360
    },
    "id": "NKk6sOU6kybm"
   },
   "outputs": [],
   "source": [
    "#Using escape character to allow illegal characters\n",
    "mystr = \"My favourite series is \\\"Game of Thrones\\\"\"\n",
    "print(mystr)"
   ]
  },
  {
   "cell_type": "markdown",
   "metadata": {
    "id": "pc3KMSgikybm"
   },
   "source": [
    "# List"
   ]
  },
  {
   "cell_type": "markdown",
   "metadata": {
    "id": "a1kqeowVkybm"
   },
   "source": [
    "1) List is an ordered sequence of items.\n",
    "\n",
    "2) We can have different data types under a list. E.g we can have integer, float and string items in a same list."
   ]
  },
  {
   "cell_type": "markdown",
   "metadata": {
    "id": "Mfc5C2E_kybm"
   },
   "source": [
    "### List Creation"
   ]
  },
  {
   "cell_type": "code",
   "execution_count": 105,
   "metadata": {
    "collapsed": true,
    "executionInfo": {
     "elapsed": 80,
     "status": "aborted",
     "timestamp": 1729271172549,
     "user": {
      "displayName": "Dr. Rubaiyat Islam",
      "userId": "00143020000614467639"
     },
     "user_tz": -360
    },
    "id": "tHMBdEwpkybm"
   },
   "outputs": [],
   "source": [
    "list1 = []      # Empty List"
   ]
  },
  {
   "cell_type": "code",
   "execution_count": 106,
   "metadata": {
    "executionInfo": {
     "elapsed": 80,
     "status": "aborted",
     "timestamp": 1729271172549,
     "user": {
      "displayName": "Dr. Rubaiyat Islam",
      "userId": "00143020000614467639"
     },
     "user_tz": -360
    },
    "id": "fq-uX_tpkybm"
   },
   "outputs": [
    {
     "name": "stdout",
     "output_type": "stream",
     "text": [
      "<class 'list'>\n"
     ]
    }
   ],
   "source": [
    "print(type(list1))"
   ]
  },
  {
   "cell_type": "code",
   "execution_count": 107,
   "metadata": {
    "collapsed": true,
    "executionInfo": {
     "elapsed": 80,
     "status": "aborted",
     "timestamp": 1729271172549,
     "user": {
      "displayName": "Dr. Rubaiyat Islam",
      "userId": "00143020000614467639"
     },
     "user_tz": -360
    },
    "id": "gFR0xMcxkybm"
   },
   "outputs": [],
   "source": [
    "list2 = [10,30,60]      # List of integers numbers"
   ]
  },
  {
   "cell_type": "code",
   "execution_count": 108,
   "metadata": {
    "collapsed": true,
    "executionInfo": {
     "elapsed": 80,
     "status": "aborted",
     "timestamp": 1729271172549,
     "user": {
      "displayName": "Dr. Rubaiyat Islam",
      "userId": "00143020000614467639"
     },
     "user_tz": -360
    },
    "id": "G6T21KaMkybm"
   },
   "outputs": [],
   "source": [
    "list3 = [10.77,30.66,60.89]       # List of float numbers"
   ]
  },
  {
   "cell_type": "code",
   "execution_count": 109,
   "metadata": {
    "collapsed": true,
    "executionInfo": {
     "elapsed": 80,
     "status": "aborted",
     "timestamp": 1729271172549,
     "user": {
      "displayName": "Dr. Rubaiyat Islam",
      "userId": "00143020000614467639"
     },
     "user_tz": -360
    },
    "id": "OQ3uwy4Wkybm"
   },
   "outputs": [],
   "source": [
    "list4 = ['one','two' , \"three\"]   # List of strings"
   ]
  },
  {
   "cell_type": "code",
   "execution_count": 112,
   "metadata": {
    "collapsed": true,
    "executionInfo": {
     "elapsed": 80,
     "status": "aborted",
     "timestamp": 1729271172549,
     "user": {
      "displayName": "Dr. Rubaiyat Islam",
      "userId": "00143020000614467639"
     },
     "user_tz": -360
    },
    "id": "KDdPd2jjkybn"
   },
   "outputs": [],
   "source": [
    "list5 = ['Asif', 25 ,[50, 100],[150, 90]]    # Nested Lists"
   ]
  },
  {
   "cell_type": "code",
   "execution_count": 115,
   "metadata": {},
   "outputs": [
    {
     "data": {
      "text/plain": [
       "50"
      ]
     },
     "execution_count": 115,
     "metadata": {},
     "output_type": "execute_result"
    }
   ],
   "source": [
    "list5[2][0]"
   ]
  },
  {
   "cell_type": "code",
   "execution_count": null,
   "metadata": {
    "collapsed": true,
    "executionInfo": {
     "elapsed": 80,
     "status": "aborted",
     "timestamp": 1729271172549,
     "user": {
      "displayName": "Dr. Rubaiyat Islam",
      "userId": "00143020000614467639"
     },
     "user_tz": -360
    },
    "id": "WR0Av_kTkybn"
   },
   "outputs": [],
   "source": [
    "list6 = [100, 'Asif', 17.765]   # List of mixed data types"
   ]
  },
  {
   "cell_type": "code",
   "execution_count": null,
   "metadata": {
    "collapsed": true,
    "executionInfo": {
     "elapsed": 81,
     "status": "aborted",
     "timestamp": 1729271172550,
     "user": {
      "displayName": "Dr. Rubaiyat Islam",
      "userId": "00143020000614467639"
     },
     "user_tz": -360
    },
    "id": "QWQqKw7Zkybn"
   },
   "outputs": [],
   "source": [
    "list7 = ['Asif', 25 ,[50, 100],[150, 90] , {'John' , 'David'}]"
   ]
  },
  {
   "cell_type": "code",
   "execution_count": null,
   "metadata": {
    "executionInfo": {
     "elapsed": 81,
     "status": "aborted",
     "timestamp": 1729271172550,
     "user": {
      "displayName": "Dr. Rubaiyat Islam",
      "userId": "00143020000614467639"
     },
     "user_tz": -360
    },
    "id": "NByh2eV4kybn"
   },
   "outputs": [],
   "source": [
    "len(list6) #Length of list"
   ]
  },
  {
   "cell_type": "markdown",
   "metadata": {
    "id": "5PtqVSxtkybn"
   },
   "source": [
    "### List Indexing"
   ]
  },
  {
   "cell_type": "markdown",
   "metadata": {
    "id": "89e71pN0kybn"
   },
   "source": [
    "<img src=\"list.PNG\">"
   ]
  },
  {
   "cell_type": "code",
   "execution_count": null,
   "metadata": {
    "executionInfo": {
     "elapsed": 90,
     "status": "aborted",
     "timestamp": 1729271172560,
     "user": {
      "displayName": "Dr. Rubaiyat Islam",
      "userId": "00143020000614467639"
     },
     "user_tz": -360
    },
    "id": "J1QsX8yMkybn"
   },
   "outputs": [],
   "source": [
    "list2[0] # Retreive first element of the list"
   ]
  },
  {
   "cell_type": "code",
   "execution_count": null,
   "metadata": {
    "executionInfo": {
     "elapsed": 8616,
     "status": "aborted",
     "timestamp": 1729271172560,
     "user": {
      "displayName": "Dr. Rubaiyat Islam",
      "userId": "00143020000614467639"
     },
     "user_tz": -360
    },
    "id": "aZuQ-v4Lkybn"
   },
   "outputs": [],
   "source": [
    "list4[0] # Retreive first element of the list"
   ]
  },
  {
   "cell_type": "code",
   "execution_count": null,
   "metadata": {
    "executionInfo": {
     "elapsed": 8612,
     "status": "aborted",
     "timestamp": 1729271172561,
     "user": {
      "displayName": "Dr. Rubaiyat Islam",
      "userId": "00143020000614467639"
     },
     "user_tz": -360
    },
    "id": "D3kWhCxbkybn"
   },
   "outputs": [],
   "source": [
    "list4[0][0] # Nested indexing - Access the first character of the first list element"
   ]
  },
  {
   "cell_type": "code",
   "execution_count": null,
   "metadata": {
    "executionInfo": {
     "elapsed": 8607,
     "status": "aborted",
     "timestamp": 1729271172561,
     "user": {
      "displayName": "Dr. Rubaiyat Islam",
      "userId": "00143020000614467639"
     },
     "user_tz": -360
    },
    "id": "YRjWbSmokybn"
   },
   "outputs": [],
   "source": [
    "list4[-1] # Last item of the list"
   ]
  },
  {
   "cell_type": "code",
   "execution_count": null,
   "metadata": {
    "executionInfo": {
     "elapsed": 8601,
     "status": "aborted",
     "timestamp": 1729271172561,
     "user": {
      "displayName": "Dr. Rubaiyat Islam",
      "userId": "00143020000614467639"
     },
     "user_tz": -360
    },
    "id": "4xFVxbyWkybn"
   },
   "outputs": [],
   "source": [
    "list5[-1]  # Last item of the list"
   ]
  },
  {
   "cell_type": "markdown",
   "metadata": {
    "id": "DShKfp8jkybn"
   },
   "source": [
    "### List Slicing"
   ]
  },
  {
   "cell_type": "code",
   "execution_count": 117,
   "metadata": {
    "collapsed": true,
    "executionInfo": {
     "elapsed": 8596,
     "status": "aborted",
     "timestamp": 1729271172561,
     "user": {
      "displayName": "Dr. Rubaiyat Islam",
      "userId": "00143020000614467639"
     },
     "user_tz": -360
    },
    "id": "wgbkUM3Qkybn"
   },
   "outputs": [],
   "source": [
    "mylist = ['one' , 'two' , 'three' , 'four' , 'five' , 'six' , 'seven' , 'eight']"
   ]
  },
  {
   "cell_type": "code",
   "execution_count": null,
   "metadata": {
    "executionInfo": {
     "elapsed": 8590,
     "status": "aborted",
     "timestamp": 1729271172561,
     "user": {
      "displayName": "Dr. Rubaiyat Islam",
      "userId": "00143020000614467639"
     },
     "user_tz": -360
    },
    "id": "K-tF27aZkybn"
   },
   "outputs": [],
   "source": [
    "mylist[0:3] # Return all items from 0th to 3rd index location excluding the item at loc 3."
   ]
  },
  {
   "cell_type": "code",
   "execution_count": null,
   "metadata": {
    "executionInfo": {
     "elapsed": 8584,
     "status": "aborted",
     "timestamp": 1729271172561,
     "user": {
      "displayName": "Dr. Rubaiyat Islam",
      "userId": "00143020000614467639"
     },
     "user_tz": -360
    },
    "id": "8XaKJE0Skybn"
   },
   "outputs": [],
   "source": [
    "mylist[2:5] # List all items from 2nd to 5th index location excluding the item at loc 5."
   ]
  },
  {
   "cell_type": "code",
   "execution_count": null,
   "metadata": {
    "executionInfo": {
     "elapsed": 8578,
     "status": "aborted",
     "timestamp": 1729271172561,
     "user": {
      "displayName": "Dr. Rubaiyat Islam",
      "userId": "00143020000614467639"
     },
     "user_tz": -360
    },
    "id": "HjfZU76bkybn"
   },
   "outputs": [],
   "source": [
    "mylist[:3] # Return first three items"
   ]
  },
  {
   "cell_type": "code",
   "execution_count": null,
   "metadata": {
    "executionInfo": {
     "elapsed": 8573,
     "status": "aborted",
     "timestamp": 1729271172561,
     "user": {
      "displayName": "Dr. Rubaiyat Islam",
      "userId": "00143020000614467639"
     },
     "user_tz": -360
    },
    "id": "TweJhROnkybo"
   },
   "outputs": [],
   "source": [
    "mylist[:2]  # Return first two items"
   ]
  },
  {
   "cell_type": "code",
   "execution_count": null,
   "metadata": {
    "executionInfo": {
     "elapsed": 8567,
     "status": "aborted",
     "timestamp": 1729271172561,
     "user": {
      "displayName": "Dr. Rubaiyat Islam",
      "userId": "00143020000614467639"
     },
     "user_tz": -360
    },
    "id": "MzwWtTbikybo"
   },
   "outputs": [],
   "source": [
    "mylist[-3:] # Return last three items"
   ]
  },
  {
   "cell_type": "code",
   "execution_count": null,
   "metadata": {
    "executionInfo": {
     "elapsed": 8562,
     "status": "aborted",
     "timestamp": 1729271172561,
     "user": {
      "displayName": "Dr. Rubaiyat Islam",
      "userId": "00143020000614467639"
     },
     "user_tz": -360
    },
    "id": "Toio6eDMkybo"
   },
   "outputs": [],
   "source": [
    "mylist[-2:] # Return last two items"
   ]
  },
  {
   "cell_type": "code",
   "execution_count": null,
   "metadata": {
    "executionInfo": {
     "elapsed": 8557,
     "status": "aborted",
     "timestamp": 1729271172561,
     "user": {
      "displayName": "Dr. Rubaiyat Islam",
      "userId": "00143020000614467639"
     },
     "user_tz": -360
    },
    "id": "0WLAtBS5kybo"
   },
   "outputs": [],
   "source": [
    "mylist[-1] # Return last item of the list"
   ]
  },
  {
   "cell_type": "code",
   "execution_count": null,
   "metadata": {
    "executionInfo": {
     "elapsed": 8551,
     "status": "aborted",
     "timestamp": 1729271172561,
     "user": {
      "displayName": "Dr. Rubaiyat Islam",
      "userId": "00143020000614467639"
     },
     "user_tz": -360
    },
    "id": "t96s2D4Ckybo"
   },
   "outputs": [],
   "source": [
    "mylist[:] # Return whole list"
   ]
  },
  {
   "cell_type": "markdown",
   "metadata": {
    "id": "Qwamm6pakybo"
   },
   "source": [
    "### Add , Remove & Change Items"
   ]
  },
  {
   "cell_type": "code",
   "execution_count": 118,
   "metadata": {
    "executionInfo": {
     "elapsed": 8546,
     "status": "aborted",
     "timestamp": 1729271172561,
     "user": {
      "displayName": "Dr. Rubaiyat Islam",
      "userId": "00143020000614467639"
     },
     "user_tz": -360
    },
    "id": "pVmF4kYpkybo"
   },
   "outputs": [
    {
     "data": {
      "text/plain": [
       "['one', 'two', 'three', 'four', 'five', 'six', 'seven', 'eight']"
      ]
     },
     "execution_count": 118,
     "metadata": {},
     "output_type": "execute_result"
    }
   ],
   "source": [
    "mylist"
   ]
  },
  {
   "cell_type": "code",
   "execution_count": 119,
   "metadata": {
    "executionInfo": {
     "elapsed": 8542,
     "status": "aborted",
     "timestamp": 1729271172562,
     "user": {
      "displayName": "Dr. Rubaiyat Islam",
      "userId": "00143020000614467639"
     },
     "user_tz": -360
    },
    "id": "0B5GSqYDkybo"
   },
   "outputs": [
    {
     "data": {
      "text/plain": [
       "['one', 'two', 'three', 'four', 'five', 'six', 'seven', 'eight', 'nine']"
      ]
     },
     "execution_count": 119,
     "metadata": {},
     "output_type": "execute_result"
    }
   ],
   "source": [
    "mylist.append('nine') # Add an item to the end of the list\n",
    "mylist"
   ]
  },
  {
   "cell_type": "code",
   "execution_count": 120,
   "metadata": {
    "executionInfo": {
     "elapsed": 8536,
     "status": "aborted",
     "timestamp": 1729271172562,
     "user": {
      "displayName": "Dr. Rubaiyat Islam",
      "userId": "00143020000614467639"
     },
     "user_tz": -360
    },
    "id": "oAg3MZyrkybo"
   },
   "outputs": [
    {
     "data": {
      "text/plain": [
       "['one', 'two', 'three', 'four', 'five', 'six', 'seven', 'eight', 'nine', 'ten']"
      ]
     },
     "execution_count": 120,
     "metadata": {},
     "output_type": "execute_result"
    }
   ],
   "source": [
    "mylist.insert(9,'ten') # Add item at index location 9\n",
    "mylist"
   ]
  },
  {
   "cell_type": "code",
   "execution_count": 122,
   "metadata": {},
   "outputs": [
    {
     "data": {
      "text/plain": [
       "['one',\n",
       " 'two',\n",
       " 'three',\n",
       " 'four',\n",
       " 'five',\n",
       " 'six',\n",
       " 'seven',\n",
       " 'eight',\n",
       " 'nine',\n",
       " 'ten',\n",
       " 'Eleven',\n",
       " 'Eleven']"
      ]
     },
     "execution_count": 122,
     "metadata": {},
     "output_type": "execute_result"
    }
   ],
   "source": [
    "mylist.insert(10,'Eleven') # Add item at index location 9\n",
    "mylist"
   ]
  },
  {
   "cell_type": "code",
   "execution_count": 123,
   "metadata": {
    "executionInfo": {
     "elapsed": 8531,
     "status": "aborted",
     "timestamp": 1729271172562,
     "user": {
      "displayName": "Dr. Rubaiyat Islam",
      "userId": "00143020000614467639"
     },
     "user_tz": -360
    },
    "id": "ubTV63V1kybo"
   },
   "outputs": [
    {
     "data": {
      "text/plain": [
       "['one',\n",
       " 'ONE',\n",
       " 'two',\n",
       " 'three',\n",
       " 'four',\n",
       " 'five',\n",
       " 'six',\n",
       " 'seven',\n",
       " 'eight',\n",
       " 'nine',\n",
       " 'ten',\n",
       " 'Eleven',\n",
       " 'Eleven']"
      ]
     },
     "execution_count": 123,
     "metadata": {},
     "output_type": "execute_result"
    }
   ],
   "source": [
    "mylist.insert(1,'ONE') # Add item at index location 1\n",
    "mylist"
   ]
  },
  {
   "cell_type": "code",
   "execution_count": null,
   "metadata": {
    "executionInfo": {
     "elapsed": 8527,
     "status": "aborted",
     "timestamp": 1729271172563,
     "user": {
      "displayName": "Dr. Rubaiyat Islam",
      "userId": "00143020000614467639"
     },
     "user_tz": -360
    },
    "id": "npGGzTorkybo"
   },
   "outputs": [],
   "source": [
    "mylist.remove('ONE') # Remove item \"ONE\"\n",
    "mylist"
   ]
  },
  {
   "cell_type": "code",
   "execution_count": null,
   "metadata": {
    "executionInfo": {
     "elapsed": 8521,
     "status": "aborted",
     "timestamp": 1729271172563,
     "user": {
      "displayName": "Dr. Rubaiyat Islam",
      "userId": "00143020000614467639"
     },
     "user_tz": -360
    },
    "id": "ILY0ZL6hkybo"
   },
   "outputs": [],
   "source": [
    "mylist.pop() # Remove last item of the list\n",
    "mylist"
   ]
  },
  {
   "cell_type": "code",
   "execution_count": null,
   "metadata": {
    "executionInfo": {
     "elapsed": 8516,
     "status": "aborted",
     "timestamp": 1729271172563,
     "user": {
      "displayName": "Dr. Rubaiyat Islam",
      "userId": "00143020000614467639"
     },
     "user_tz": -360
    },
    "id": "q5OIexwekybo"
   },
   "outputs": [],
   "source": [
    "mylist.pop(8) # Remove item at index location 8\n",
    "mylist"
   ]
  },
  {
   "cell_type": "code",
   "execution_count": null,
   "metadata": {
    "executionInfo": {
     "elapsed": 8509,
     "status": "aborted",
     "timestamp": 1729271172563,
     "user": {
      "displayName": "Dr. Rubaiyat Islam",
      "userId": "00143020000614467639"
     },
     "user_tz": -360
    },
    "id": "RWftZD_1kybo"
   },
   "outputs": [],
   "source": [
    "del mylist[7] # Remove item at index location 7\n",
    "mylist"
   ]
  },
  {
   "cell_type": "code",
   "execution_count": null,
   "metadata": {
    "executionInfo": {
     "elapsed": 8504,
     "status": "aborted",
     "timestamp": 1729271172564,
     "user": {
      "displayName": "Dr. Rubaiyat Islam",
      "userId": "00143020000614467639"
     },
     "user_tz": -360
    },
    "id": "xTf1vzZ3kybp"
   },
   "outputs": [],
   "source": [
    "# Change value of the string\n",
    "mylist[0] = 1\n",
    "mylist[1] = 2\n",
    "mylist[2] = 3\n",
    "mylist"
   ]
  },
  {
   "cell_type": "code",
   "execution_count": null,
   "metadata": {
    "executionInfo": {
     "elapsed": 8496,
     "status": "aborted",
     "timestamp": 1729271172564,
     "user": {
      "displayName": "Dr. Rubaiyat Islam",
      "userId": "00143020000614467639"
     },
     "user_tz": -360
    },
    "id": "Z2l34z1Fkybp"
   },
   "outputs": [],
   "source": [
    "mylist.clear()  # Empty List / Delete all items in the list\n",
    "mylist"
   ]
  },
  {
   "cell_type": "code",
   "execution_count": null,
   "metadata": {
    "executionInfo": {
     "elapsed": 8489,
     "status": "aborted",
     "timestamp": 1729271172564,
     "user": {
      "displayName": "Dr. Rubaiyat Islam",
      "userId": "00143020000614467639"
     },
     "user_tz": -360
    },
    "id": "FOywfi5Qkybp"
   },
   "outputs": [],
   "source": [
    "del mylist # Delete the whole list\n",
    "mylist"
   ]
  },
  {
   "cell_type": "markdown",
   "metadata": {
    "id": "MYzIv8Zzkybp"
   },
   "source": [
    "### Copy List"
   ]
  },
  {
   "cell_type": "code",
   "execution_count": null,
   "metadata": {
    "collapsed": true,
    "executionInfo": {
     "elapsed": 8482,
     "status": "aborted",
     "timestamp": 1729271172564,
     "user": {
      "displayName": "Dr. Rubaiyat Islam",
      "userId": "00143020000614467639"
     },
     "user_tz": -360
    },
    "id": "Lox3aS0ckybp"
   },
   "outputs": [],
   "source": [
    "mylist = ['one', 'two', 'three', 'four', 'five', 'six', 'seven', 'eight', 'nine', 'ten']"
   ]
  },
  {
   "cell_type": "code",
   "execution_count": 124,
   "metadata": {
    "collapsed": true,
    "executionInfo": {
     "elapsed": 8475,
     "status": "aborted",
     "timestamp": 1729271172564,
     "user": {
      "displayName": "Dr. Rubaiyat Islam",
      "userId": "00143020000614467639"
     },
     "user_tz": -360
    },
    "id": "NKTNEjgvkybp"
   },
   "outputs": [],
   "source": [
    "mylist1 = mylist # Create a new reference \"mylist1\""
   ]
  },
  {
   "cell_type": "code",
   "execution_count": 125,
   "metadata": {
    "executionInfo": {
     "elapsed": 8469,
     "status": "aborted",
     "timestamp": 1729271172564,
     "user": {
      "displayName": "Dr. Rubaiyat Islam",
      "userId": "00143020000614467639"
     },
     "user_tz": -360
    },
    "id": "vMdchAgkkybp"
   },
   "outputs": [
    {
     "data": {
      "text/plain": [
       "(140328264170304, 140328264170304)"
      ]
     },
     "execution_count": 125,
     "metadata": {},
     "output_type": "execute_result"
    }
   ],
   "source": [
    "id(mylist) , id(mylist1) # The address of both mylist & mylist1 will be the same as both are pointing to same list."
   ]
  },
  {
   "cell_type": "code",
   "execution_count": 126,
   "metadata": {
    "collapsed": true,
    "executionInfo": {
     "elapsed": 8463,
     "status": "aborted",
     "timestamp": 1729271172564,
     "user": {
      "displayName": "Dr. Rubaiyat Islam",
      "userId": "00143020000614467639"
     },
     "user_tz": -360
    },
    "id": "kKHUHFe6kybp"
   },
   "outputs": [],
   "source": [
    "mylist2 = mylist.copy() # Create a copy of the list"
   ]
  },
  {
   "cell_type": "code",
   "execution_count": 127,
   "metadata": {
    "executionInfo": {
     "elapsed": 8456,
     "status": "aborted",
     "timestamp": 1729271172564,
     "user": {
      "displayName": "Dr. Rubaiyat Islam",
      "userId": "00143020000614467639"
     },
     "user_tz": -360
    },
    "id": "8xj_9L87kybp"
   },
   "outputs": [
    {
     "data": {
      "text/plain": [
       "140328799281408"
      ]
     },
     "execution_count": 127,
     "metadata": {},
     "output_type": "execute_result"
    }
   ],
   "source": [
    "id(mylist2) # The address of mylist2 will be different from mylist because mylist2 is pointing to the copy of the existing list"
   ]
  },
  {
   "cell_type": "code",
   "execution_count": null,
   "metadata": {
    "collapsed": true,
    "executionInfo": {
     "elapsed": 8450,
     "status": "aborted",
     "timestamp": 1729271172564,
     "user": {
      "displayName": "Dr. Rubaiyat Islam",
      "userId": "00143020000614467639"
     },
     "user_tz": -360
    },
    "id": "N24ySlqEkybq"
   },
   "outputs": [],
   "source": [
    "mylist[0] = 1"
   ]
  },
  {
   "cell_type": "code",
   "execution_count": null,
   "metadata": {
    "executionInfo": {
     "elapsed": 202,
     "status": "aborted",
     "timestamp": 1729271174678,
     "user": {
      "displayName": "Dr. Rubaiyat Islam",
      "userId": "00143020000614467639"
     },
     "user_tz": -360
    },
    "id": "ERoutOdgkybq"
   },
   "outputs": [],
   "source": [
    "mylist"
   ]
  },
  {
   "cell_type": "code",
   "execution_count": null,
   "metadata": {
    "executionInfo": {
     "elapsed": 202,
     "status": "aborted",
     "timestamp": 1729271174678,
     "user": {
      "displayName": "Dr. Rubaiyat Islam",
      "userId": "00143020000614467639"
     },
     "user_tz": -360
    },
    "id": "iL6aspuykybq"
   },
   "outputs": [],
   "source": [
    "mylist1 # mylist1 will be also impacted as it is pointing to the same list"
   ]
  },
  {
   "cell_type": "code",
   "execution_count": null,
   "metadata": {
    "executionInfo": {
     "elapsed": 202,
     "status": "aborted",
     "timestamp": 1729271174679,
     "user": {
      "displayName": "Dr. Rubaiyat Islam",
      "userId": "00143020000614467639"
     },
     "user_tz": -360
    },
    "id": "4lQP5W9Rkybq"
   },
   "outputs": [],
   "source": [
    "mylist2 # Copy of list won't be impacted due to changes made on the original list"
   ]
  },
  {
   "cell_type": "markdown",
   "metadata": {
    "id": "Iu_1a63zkybq"
   },
   "source": [
    "### Join Lists"
   ]
  },
  {
   "cell_type": "code",
   "execution_count": null,
   "metadata": {
    "collapsed": true,
    "executionInfo": {
     "elapsed": 202,
     "status": "aborted",
     "timestamp": 1729271174679,
     "user": {
      "displayName": "Dr. Rubaiyat Islam",
      "userId": "00143020000614467639"
     },
     "user_tz": -360
    },
    "id": "azY-3iLJkybq"
   },
   "outputs": [],
   "source": [
    "list1 = ['one', 'two', 'three', 'four']\n",
    "list2 = ['five', 'six', 'seven', 'eight']"
   ]
  },
  {
   "cell_type": "code",
   "execution_count": null,
   "metadata": {
    "executionInfo": {
     "elapsed": 202,
     "status": "aborted",
     "timestamp": 1729271174679,
     "user": {
      "displayName": "Dr. Rubaiyat Islam",
      "userId": "00143020000614467639"
     },
     "user_tz": -360
    },
    "id": "TD04rrjHkybq"
   },
   "outputs": [],
   "source": [
    "list3 = list1 + list2 # Join two lists by '+' operator\n",
    "list3"
   ]
  },
  {
   "cell_type": "code",
   "execution_count": null,
   "metadata": {
    "executionInfo": {
     "elapsed": 202,
     "status": "aborted",
     "timestamp": 1729271174679,
     "user": {
      "displayName": "Dr. Rubaiyat Islam",
      "userId": "00143020000614467639"
     },
     "user_tz": -360
    },
    "id": "UPpeAudOkybq"
   },
   "outputs": [],
   "source": [
    "list1.extend(list2) #Append list2 with list1\n",
    "list1"
   ]
  },
  {
   "cell_type": "markdown",
   "metadata": {
    "id": "quPxHqZXkybq"
   },
   "source": [
    "### List Membership"
   ]
  },
  {
   "cell_type": "code",
   "execution_count": null,
   "metadata": {
    "executionInfo": {
     "elapsed": 202,
     "status": "aborted",
     "timestamp": 1729271174679,
     "user": {
      "displayName": "Dr. Rubaiyat Islam",
      "userId": "00143020000614467639"
     },
     "user_tz": -360
    },
    "id": "ub-u4iVEkybq"
   },
   "outputs": [],
   "source": [
    "list1"
   ]
  },
  {
   "cell_type": "code",
   "execution_count": null,
   "metadata": {
    "executionInfo": {
     "elapsed": 202,
     "status": "aborted",
     "timestamp": 1729271174679,
     "user": {
      "displayName": "Dr. Rubaiyat Islam",
      "userId": "00143020000614467639"
     },
     "user_tz": -360
    },
    "id": "EAfvTYf2kybq"
   },
   "outputs": [],
   "source": [
    "'one' in list1 # Check if 'one' exist in the list"
   ]
  },
  {
   "cell_type": "code",
   "execution_count": null,
   "metadata": {
    "executionInfo": {
     "elapsed": 201,
     "status": "aborted",
     "timestamp": 1729271174679,
     "user": {
      "displayName": "Dr. Rubaiyat Islam",
      "userId": "00143020000614467639"
     },
     "user_tz": -360
    },
    "id": "pDCAHyg_kybq"
   },
   "outputs": [],
   "source": [
    "'ten' in list1 # Check if 'ten' exist in the list"
   ]
  },
  {
   "cell_type": "code",
   "execution_count": null,
   "metadata": {
    "executionInfo": {
     "elapsed": 201,
     "status": "aborted",
     "timestamp": 1729271174679,
     "user": {
      "displayName": "Dr. Rubaiyat Islam",
      "userId": "00143020000614467639"
     },
     "user_tz": -360
    },
    "id": "bWbZaPC5kybq"
   },
   "outputs": [],
   "source": [
    "if 'three' in list1: # Check if 'three' exist in the list\n",
    "    print('Three is present in the list')\n",
    "else:\n",
    "    print('Three is not present in the list')"
   ]
  },
  {
   "cell_type": "code",
   "execution_count": null,
   "metadata": {
    "executionInfo": {
     "elapsed": 201,
     "status": "aborted",
     "timestamp": 1729271174679,
     "user": {
      "displayName": "Dr. Rubaiyat Islam",
      "userId": "00143020000614467639"
     },
     "user_tz": -360
    },
    "id": "rO2Uz3Sgkybq"
   },
   "outputs": [],
   "source": [
    "if 'eleven' in list1:  # Check if 'eleven' exist in the list\n",
    "    print('eleven is present in the list')\n",
    "else:\n",
    "    print('eleven is not present in the list')"
   ]
  },
  {
   "cell_type": "markdown",
   "metadata": {
    "id": "_rUZgwHlkybq"
   },
   "source": [
    "### Reverse & Sort List"
   ]
  },
  {
   "cell_type": "code",
   "execution_count": 128,
   "metadata": {
    "executionInfo": {
     "elapsed": 201,
     "status": "aborted",
     "timestamp": 1729271174679,
     "user": {
      "displayName": "Dr. Rubaiyat Islam",
      "userId": "00143020000614467639"
     },
     "user_tz": -360
    },
    "id": "euY2l3l6kybr"
   },
   "outputs": [
    {
     "data": {
      "text/plain": [
       "[]"
      ]
     },
     "execution_count": 128,
     "metadata": {},
     "output_type": "execute_result"
    }
   ],
   "source": [
    "list1"
   ]
  },
  {
   "cell_type": "code",
   "execution_count": null,
   "metadata": {
    "executionInfo": {
     "elapsed": 201,
     "status": "aborted",
     "timestamp": 1729271174679,
     "user": {
      "displayName": "Dr. Rubaiyat Islam",
      "userId": "00143020000614467639"
     },
     "user_tz": -360
    },
    "id": "s1pjhidckybr"
   },
   "outputs": [],
   "source": [
    "list1.reverse() # Reverse the list\n",
    "list1"
   ]
  },
  {
   "cell_type": "code",
   "execution_count": null,
   "metadata": {
    "executionInfo": {
     "elapsed": 201,
     "status": "aborted",
     "timestamp": 1729271174679,
     "user": {
      "displayName": "Dr. Rubaiyat Islam",
      "userId": "00143020000614467639"
     },
     "user_tz": -360
    },
    "id": "7KvEnUc3kybr"
   },
   "outputs": [],
   "source": [
    "list1 = list1[::-1] # Reverse the list\n",
    "list1"
   ]
  },
  {
   "cell_type": "code",
   "execution_count": null,
   "metadata": {
    "executionInfo": {
     "elapsed": 200,
     "status": "aborted",
     "timestamp": 1729271174679,
     "user": {
      "displayName": "Dr. Rubaiyat Islam",
      "userId": "00143020000614467639"
     },
     "user_tz": -360
    },
    "id": "ms_XftYskybr"
   },
   "outputs": [],
   "source": [
    "mylist3 = [9,5,2,99,12,88,34]\n",
    "mylist3.sort()   # Sort list in ascending order\n",
    "mylist3"
   ]
  },
  {
   "cell_type": "code",
   "execution_count": null,
   "metadata": {
    "executionInfo": {
     "elapsed": 200,
     "status": "aborted",
     "timestamp": 1729271174679,
     "user": {
      "displayName": "Dr. Rubaiyat Islam",
      "userId": "00143020000614467639"
     },
     "user_tz": -360
    },
    "id": "cVorY1ntkybr"
   },
   "outputs": [],
   "source": [
    "mylist3 = [9,5,2,99,12,88,34]\n",
    "mylist3.sort(reverse=True)  # Sort list in descending order\n",
    "mylist3"
   ]
  },
  {
   "cell_type": "code",
   "execution_count": null,
   "metadata": {
    "executionInfo": {
     "elapsed": 200,
     "status": "aborted",
     "timestamp": 1729271174679,
     "user": {
      "displayName": "Dr. Rubaiyat Islam",
      "userId": "00143020000614467639"
     },
     "user_tz": -360
    },
    "id": "r6aNg3O7kybr"
   },
   "outputs": [],
   "source": [
    "mylist4 = [88,65,33,21,11,98]\n",
    "sorted(mylist4)        # Returns a new sorted list and doesn't change original list"
   ]
  },
  {
   "cell_type": "code",
   "execution_count": null,
   "metadata": {
    "executionInfo": {
     "elapsed": 200,
     "status": "aborted",
     "timestamp": 1729271174679,
     "user": {
      "displayName": "Dr. Rubaiyat Islam",
      "userId": "00143020000614467639"
     },
     "user_tz": -360
    },
    "id": "fFiv1SnWkybr"
   },
   "outputs": [],
   "source": [
    "mylist4"
   ]
  },
  {
   "cell_type": "markdown",
   "metadata": {
    "id": "kl6WeAzkkybr"
   },
   "source": [
    "### Loop through a list"
   ]
  },
  {
   "cell_type": "code",
   "execution_count": null,
   "metadata": {
    "executionInfo": {
     "elapsed": 200,
     "status": "aborted",
     "timestamp": 1729271174679,
     "user": {
      "displayName": "Dr. Rubaiyat Islam",
      "userId": "00143020000614467639"
     },
     "user_tz": -360
    },
    "id": "zLu9Dtqskybr"
   },
   "outputs": [],
   "source": [
    "list1"
   ]
  },
  {
   "cell_type": "code",
   "execution_count": null,
   "metadata": {
    "executionInfo": {
     "elapsed": 200,
     "status": "aborted",
     "timestamp": 1729271174679,
     "user": {
      "displayName": "Dr. Rubaiyat Islam",
      "userId": "00143020000614467639"
     },
     "user_tz": -360
    },
    "id": "EQ5-tAX_kybr"
   },
   "outputs": [],
   "source": [
    "for i in list1:\n",
    "    print(i)"
   ]
  },
  {
   "cell_type": "code",
   "execution_count": null,
   "metadata": {
    "executionInfo": {
     "elapsed": 200,
     "status": "aborted",
     "timestamp": 1729271174679,
     "user": {
      "displayName": "Dr. Rubaiyat Islam",
      "userId": "00143020000614467639"
     },
     "user_tz": -360
    },
    "id": "AQsp-CjBkybr"
   },
   "outputs": [],
   "source": [
    "for i in enumerate(list1):\n",
    "    print(i)"
   ]
  },
  {
   "cell_type": "markdown",
   "metadata": {
    "id": "NmHRQzeBkybr"
   },
   "source": [
    "### Count"
   ]
  },
  {
   "cell_type": "code",
   "execution_count": null,
   "metadata": {
    "collapsed": true,
    "executionInfo": {
     "elapsed": 199,
     "status": "aborted",
     "timestamp": 1729271174679,
     "user": {
      "displayName": "Dr. Rubaiyat Islam",
      "userId": "00143020000614467639"
     },
     "user_tz": -360
    },
    "id": "HEX49QItkybr"
   },
   "outputs": [],
   "source": [
    "list10 =['one', 'two', 'three', 'four', 'one', 'one', 'two', 'three']"
   ]
  },
  {
   "cell_type": "code",
   "execution_count": null,
   "metadata": {
    "executionInfo": {
     "elapsed": 199,
     "status": "aborted",
     "timestamp": 1729271174679,
     "user": {
      "displayName": "Dr. Rubaiyat Islam",
      "userId": "00143020000614467639"
     },
     "user_tz": -360
    },
    "id": "mhQLFx4Ukybr"
   },
   "outputs": [],
   "source": [
    "list10.count('one') # Number of times item \"one\" occurred in the list."
   ]
  },
  {
   "cell_type": "code",
   "execution_count": null,
   "metadata": {
    "executionInfo": {
     "elapsed": 199,
     "status": "aborted",
     "timestamp": 1729271174679,
     "user": {
      "displayName": "Dr. Rubaiyat Islam",
      "userId": "00143020000614467639"
     },
     "user_tz": -360
    },
    "id": "YwIBlXSgkybr"
   },
   "outputs": [],
   "source": [
    "list10.count('two') # Occurence of item 'two' in the list"
   ]
  },
  {
   "cell_type": "code",
   "execution_count": null,
   "metadata": {
    "executionInfo": {
     "elapsed": 199,
     "status": "aborted",
     "timestamp": 1729271174679,
     "user": {
      "displayName": "Dr. Rubaiyat Islam",
      "userId": "00143020000614467639"
     },
     "user_tz": -360
    },
    "id": "kutdJuoEkybr"
   },
   "outputs": [],
   "source": [
    "list10.count('four') #Occurence of item 'four' in the list"
   ]
  },
  {
   "cell_type": "markdown",
   "metadata": {
    "id": "TzmsrRAVkybs"
   },
   "source": [
    "### All / Any"
   ]
  },
  {
   "cell_type": "markdown",
   "metadata": {
    "id": "askpVk6Wkybs"
   },
   "source": [
    "The __all()__ method returns:\n",
    "\n",
    "- __True__ - If all elements in a list are true\n",
    "- __False__ - If any element in a list is false\n",
    "\n",
    "\n",
    "The __any()__ function returns True if any element in the list is True. If not, any() returns False."
   ]
  },
  {
   "cell_type": "code",
   "execution_count": 132,
   "metadata": {
    "collapsed": true,
    "executionInfo": {
     "elapsed": 200,
     "status": "aborted",
     "timestamp": 1729271174680,
     "user": {
      "displayName": "Dr. Rubaiyat Islam",
      "userId": "00143020000614467639"
     },
     "user_tz": -360
    },
    "id": "M5LDLO4Qkybu"
   },
   "outputs": [],
   "source": [
    "L1 = [1,2,3,4,0]"
   ]
  },
  {
   "cell_type": "code",
   "execution_count": 136,
   "metadata": {},
   "outputs": [
    {
     "data": {
      "text/plain": [
       "[1, 2, 3, 4, 0]"
      ]
     },
     "execution_count": 136,
     "metadata": {},
     "output_type": "execute_result"
    }
   ],
   "source": [
    "L1"
   ]
  },
  {
   "cell_type": "code",
   "execution_count": 137,
   "metadata": {
    "executionInfo": {
     "elapsed": 200,
     "status": "aborted",
     "timestamp": 1729271174680,
     "user": {
      "displayName": "Dr. Rubaiyat Islam",
      "userId": "00143020000614467639"
     },
     "user_tz": -360
    },
    "id": "yDmKB4jXkybv"
   },
   "outputs": [
    {
     "data": {
      "text/plain": [
       "False"
      ]
     },
     "execution_count": 137,
     "metadata": {},
     "output_type": "execute_result"
    }
   ],
   "source": [
    "all(L1) # Will Return false as one value is false (Value 0)"
   ]
  },
  {
   "cell_type": "code",
   "execution_count": 138,
   "metadata": {
    "executionInfo": {
     "elapsed": 200,
     "status": "aborted",
     "timestamp": 1729271174680,
     "user": {
      "displayName": "Dr. Rubaiyat Islam",
      "userId": "00143020000614467639"
     },
     "user_tz": -360
    },
    "id": "1NV1yMNBkybv"
   },
   "outputs": [
    {
     "data": {
      "text/plain": [
       "True"
      ]
     },
     "execution_count": 138,
     "metadata": {},
     "output_type": "execute_result"
    }
   ],
   "source": [
    "any(L1)  # Will Return True as we have items in the list with True value"
   ]
  },
  {
   "cell_type": "code",
   "execution_count": 139,
   "metadata": {
    "collapsed": true,
    "executionInfo": {
     "elapsed": 200,
     "status": "aborted",
     "timestamp": 1729271174680,
     "user": {
      "displayName": "Dr. Rubaiyat Islam",
      "userId": "00143020000614467639"
     },
     "user_tz": -360
    },
    "id": "UUy-QEqDkybv"
   },
   "outputs": [],
   "source": [
    "L2 = [1,2,3,4,True,False]"
   ]
  },
  {
   "cell_type": "code",
   "execution_count": 140,
   "metadata": {
    "executionInfo": {
     "elapsed": 200,
     "status": "aborted",
     "timestamp": 1729271174680,
     "user": {
      "displayName": "Dr. Rubaiyat Islam",
      "userId": "00143020000614467639"
     },
     "user_tz": -360
    },
    "id": "tfyYo6Xckybv"
   },
   "outputs": [
    {
     "data": {
      "text/plain": [
       "False"
      ]
     },
     "execution_count": 140,
     "metadata": {},
     "output_type": "execute_result"
    }
   ],
   "source": [
    "all(L2) # Returns false as one value is false"
   ]
  },
  {
   "cell_type": "code",
   "execution_count": 141,
   "metadata": {
    "executionInfo": {
     "elapsed": 200,
     "status": "aborted",
     "timestamp": 1729271174680,
     "user": {
      "displayName": "Dr. Rubaiyat Islam",
      "userId": "00143020000614467639"
     },
     "user_tz": -360
    },
    "id": "thb5r-eAkybv"
   },
   "outputs": [
    {
     "data": {
      "text/plain": [
       "True"
      ]
     },
     "execution_count": 141,
     "metadata": {},
     "output_type": "execute_result"
    }
   ],
   "source": [
    "any(L2)  # Will Return True as we have items in the list with True value"
   ]
  },
  {
   "cell_type": "code",
   "execution_count": null,
   "metadata": {
    "collapsed": true,
    "executionInfo": {
     "elapsed": 199,
     "status": "aborted",
     "timestamp": 1729271174680,
     "user": {
      "displayName": "Dr. Rubaiyat Islam",
      "userId": "00143020000614467639"
     },
     "user_tz": -360
    },
    "id": "WFTiW-hEkybv"
   },
   "outputs": [],
   "source": [
    "L3 = [1,2,3,True]"
   ]
  },
  {
   "cell_type": "code",
   "execution_count": null,
   "metadata": {
    "executionInfo": {
     "elapsed": 199,
     "status": "aborted",
     "timestamp": 1729271174680,
     "user": {
      "displayName": "Dr. Rubaiyat Islam",
      "userId": "00143020000614467639"
     },
     "user_tz": -360
    },
    "id": "peiReCXtkybv"
   },
   "outputs": [],
   "source": [
    "all(L3) # Will return True as all items in the list are True"
   ]
  },
  {
   "cell_type": "code",
   "execution_count": null,
   "metadata": {
    "executionInfo": {
     "elapsed": 199,
     "status": "aborted",
     "timestamp": 1729271174680,
     "user": {
      "displayName": "Dr. Rubaiyat Islam",
      "userId": "00143020000614467639"
     },
     "user_tz": -360
    },
    "id": "0DLhQ1tkkybv"
   },
   "outputs": [],
   "source": [
    "any(L3) # Will Return True as we have items in the list with True value"
   ]
  },
  {
   "cell_type": "markdown",
   "metadata": {
    "id": "N2buZ5DQkybv"
   },
   "source": [
    "### List Comprehensions"
   ]
  },
  {
   "cell_type": "markdown",
   "metadata": {
    "id": "egBrR5mbkybv"
   },
   "source": [
    "- List Comprehensions provide an elegant way to create new lists.\n",
    "\n",
    "- It consists of brackets containing an expression followed by a for clause, then zero or more for or if clauses."
   ]
  },
  {
   "cell_type": "code",
   "execution_count": null,
   "metadata": {
    "executionInfo": {
     "elapsed": 199,
     "status": "aborted",
     "timestamp": 1729271174680,
     "user": {
      "displayName": "Dr. Rubaiyat Islam",
      "userId": "00143020000614467639"
     },
     "user_tz": -360
    },
    "id": "SavsEEBOkybv"
   },
   "outputs": [],
   "source": [
    "mystring = \"WELCOME\"\n",
    "mylist = [ i for i in mystring ] # Iterating through a string Using List Comprehension\n",
    "mylist"
   ]
  },
  {
   "cell_type": "code",
   "execution_count": null,
   "metadata": {
    "executionInfo": {
     "elapsed": 199,
     "status": "aborted",
     "timestamp": 1729271174680,
     "user": {
      "displayName": "Dr. Rubaiyat Islam",
      "userId": "00143020000614467639"
     },
     "user_tz": -360
    },
    "id": "uBmHCU_zkybv"
   },
   "outputs": [],
   "source": [
    "mylist1 = [ i for i in range(40) if i % 2 == 0] # Display all even numbers between 0 - 40 using List Comprehension\n",
    "mylist1"
   ]
  },
  {
   "cell_type": "code",
   "execution_count": null,
   "metadata": {
    "executionInfo": {
     "elapsed": 199,
     "status": "aborted",
     "timestamp": 1729271174680,
     "user": {
      "displayName": "Dr. Rubaiyat Islam",
      "userId": "00143020000614467639"
     },
     "user_tz": -360
    },
    "id": "CGpnTKdwkybw"
   },
   "outputs": [],
   "source": [
    "mylist2 = [ i for i in range(40) if i % 2 == 1] # Display all odd numbers between 0 - 40 using List Comprehension\n",
    "mylist2"
   ]
  },
  {
   "cell_type": "code",
   "execution_count": null,
   "metadata": {
    "executionInfo": {
     "elapsed": 199,
     "status": "aborted",
     "timestamp": 1729271174680,
     "user": {
      "displayName": "Dr. Rubaiyat Islam",
      "userId": "00143020000614467639"
     },
     "user_tz": -360
    },
    "id": "zTUizzS7kybw"
   },
   "outputs": [],
   "source": [
    "mylist3 = [num**2 for num in range(10)] # calculate square of all numbers between 0 - 10 using List Comprehension\n",
    "mylist3"
   ]
  },
  {
   "cell_type": "markdown",
   "metadata": {
    "id": "vJisVp_pkybw"
   },
   "source": [
    "<img src=\"Lcomprehension.PNG\">"
   ]
  },
  {
   "cell_type": "code",
   "execution_count": 142,
   "metadata": {
    "executionInfo": {
     "elapsed": 199,
     "status": "aborted",
     "timestamp": 1729271174680,
     "user": {
      "displayName": "Dr. Rubaiyat Islam",
      "userId": "00143020000614467639"
     },
     "user_tz": -360
    },
    "id": "cteNHosukybw"
   },
   "outputs": [
    {
     "data": {
      "text/plain": [
       "[4, 9, 16, 25, 36, 49, 64]"
      ]
     },
     "execution_count": 142,
     "metadata": {},
     "output_type": "execute_result"
    }
   ],
   "source": [
    "# Multiple whole list by 10\n",
    "list1 = [2,3,4,5,6,7,8]\n",
    "list1 = [i**2 for i in list1]\n",
    "list1"
   ]
  },
  {
   "cell_type": "code",
   "execution_count": 144,
   "metadata": {
    "executionInfo": {
     "elapsed": 199,
     "status": "aborted",
     "timestamp": 1729271174680,
     "user": {
      "displayName": "Dr. Rubaiyat Islam",
      "userId": "00143020000614467639"
     },
     "user_tz": -360
    },
    "id": "9k6IBbrakybw"
   },
   "outputs": [
    {
     "data": {
      "text/plain": [
       "[0, 36, 72, 108, 144, 180]"
      ]
     },
     "execution_count": 144,
     "metadata": {},
     "output_type": "execute_result"
    }
   ],
   "source": [
    "#List all numbers divisible by 3 , 9 & 12 using nested \"if\" with List Comprehension\n",
    "mylist4 = [i for i in range(200) if i % 3 == 0  if i % 9 == 0  if i % 12 == 0]\n",
    "mylist4"
   ]
  },
  {
   "cell_type": "code",
   "execution_count": null,
   "metadata": {
    "executionInfo": {
     "elapsed": 199,
     "status": "aborted",
     "timestamp": 1729271174680,
     "user": {
      "displayName": "Dr. Rubaiyat Islam",
      "userId": "00143020000614467639"
     },
     "user_tz": -360
    },
    "id": "bbdWmtq4kybw"
   },
   "outputs": [],
   "source": [
    "# Odd even test\n",
    "l1 = [print(\"{} is Even Number\".format(i)) if i%2==0 else print(\"{} is odd number\".format(i)) for i in range(10)]"
   ]
  },
  {
   "cell_type": "code",
   "execution_count": null,
   "metadata": {
    "executionInfo": {
     "elapsed": 198,
     "status": "aborted",
     "timestamp": 1729271174680,
     "user": {
      "displayName": "Dr. Rubaiyat Islam",
      "userId": "00143020000614467639"
     },
     "user_tz": -360
    },
    "id": "f7HQ89rIkybw"
   },
   "outputs": [],
   "source": [
    "# Extract numbers from a string\n",
    "mystr = \"One 1 two 2 three 3 four 4 five 5 six 6789\"\n",
    "numbers = [i for i in mystr if i.isdigit()]\n",
    "numbers"
   ]
  },
  {
   "cell_type": "code",
   "execution_count": null,
   "metadata": {
    "executionInfo": {
     "elapsed": 198,
     "status": "aborted",
     "timestamp": 1729271174680,
     "user": {
      "displayName": "Dr. Rubaiyat Islam",
      "userId": "00143020000614467639"
     },
     "user_tz": -360
    },
    "id": "wcaHpJjTkybw"
   },
   "outputs": [],
   "source": [
    "# Extract letters from a string\n",
    "\n",
    "mystr = \"One 1 two 2 three 3 four 4 five 5 six 6789\"\n",
    "numbers = [i for i in mystr if i.isalpha()]\n",
    "numbers"
   ]
  },
  {
   "cell_type": "markdown",
   "metadata": {
    "id": "fydUDxhhkybw"
   },
   "source": [
    "# Tuples"
   ]
  },
  {
   "cell_type": "markdown",
   "metadata": {
    "id": "aPnYVlmXkybx"
   },
   "source": [
    "1. Tuple is similar to List except that the objects in tuple are immutable which means we cannot change the elements of a tuple once assigned.\n",
    "\n",
    "2. When we do not want to change the data over time, tuple is a preferred data type.\n",
    "\n",
    "3. Iterating over the elements of a tuple is faster compared to iterating over a list."
   ]
  },
  {
   "cell_type": "markdown",
   "metadata": {
    "id": "4S7k_he7kybx"
   },
   "source": [
    "### Tuple Creation"
   ]
  },
  {
   "cell_type": "code",
   "execution_count": null,
   "metadata": {
    "collapsed": true,
    "executionInfo": {
     "elapsed": 198,
     "status": "aborted",
     "timestamp": 1729271174680,
     "user": {
      "displayName": "Dr. Rubaiyat Islam",
      "userId": "00143020000614467639"
     },
     "user_tz": -360
    },
    "id": "Fldh9XNvkybx"
   },
   "outputs": [],
   "source": [
    "tup1 = ()      # Empty tuple"
   ]
  },
  {
   "cell_type": "code",
   "execution_count": null,
   "metadata": {
    "collapsed": true,
    "executionInfo": {
     "elapsed": 198,
     "status": "aborted",
     "timestamp": 1729271174680,
     "user": {
      "displayName": "Dr. Rubaiyat Islam",
      "userId": "00143020000614467639"
     },
     "user_tz": -360
    },
    "id": "c57_2P_ikybx"
   },
   "outputs": [],
   "source": [
    "tup2 = (10,30,60)      # tuple of integers numbers"
   ]
  },
  {
   "cell_type": "code",
   "execution_count": null,
   "metadata": {
    "collapsed": true,
    "executionInfo": {
     "elapsed": 198,
     "status": "aborted",
     "timestamp": 1729271174680,
     "user": {
      "displayName": "Dr. Rubaiyat Islam",
      "userId": "00143020000614467639"
     },
     "user_tz": -360
    },
    "id": "es-gDCG5kybx"
   },
   "outputs": [],
   "source": [
    "tup3 = (10.77,30.66,60.89)       # tuple of float numbers"
   ]
  },
  {
   "cell_type": "code",
   "execution_count": null,
   "metadata": {
    "collapsed": true,
    "executionInfo": {
     "elapsed": 198,
     "status": "aborted",
     "timestamp": 1729271174680,
     "user": {
      "displayName": "Dr. Rubaiyat Islam",
      "userId": "00143020000614467639"
     },
     "user_tz": -360
    },
    "id": "2fpPlxS_kybx"
   },
   "outputs": [],
   "source": [
    "tup4 = ('one','two' , \"three\")   # tuple of strings"
   ]
  },
  {
   "cell_type": "code",
   "execution_count": null,
   "metadata": {
    "collapsed": true,
    "executionInfo": {
     "elapsed": 199,
     "status": "aborted",
     "timestamp": 1729271174681,
     "user": {
      "displayName": "Dr. Rubaiyat Islam",
      "userId": "00143020000614467639"
     },
     "user_tz": -360
    },
    "id": "lAZLwzMBkybx"
   },
   "outputs": [],
   "source": [
    "tup5 = ('Asif', 25 ,(50, 100),(150, 90))   # Nested tuples"
   ]
  },
  {
   "cell_type": "code",
   "execution_count": null,
   "metadata": {
    "collapsed": true,
    "executionInfo": {
     "elapsed": 199,
     "status": "aborted",
     "timestamp": 1729271174681,
     "user": {
      "displayName": "Dr. Rubaiyat Islam",
      "userId": "00143020000614467639"
     },
     "user_tz": -360
    },
    "id": "pZthcs97kybx"
   },
   "outputs": [],
   "source": [
    "tup6 = (100, 'Asif', 17.765)   # Tuple of mixed data types"
   ]
  },
  {
   "cell_type": "code",
   "execution_count": null,
   "metadata": {
    "collapsed": true,
    "executionInfo": {
     "elapsed": 199,
     "status": "aborted",
     "timestamp": 1729271174681,
     "user": {
      "displayName": "Dr. Rubaiyat Islam",
      "userId": "00143020000614467639"
     },
     "user_tz": -360
    },
    "id": "Ai29vNMGkybx"
   },
   "outputs": [],
   "source": [
    "tup7 = ('Asif', 25 ,[50, 100],[150, 90] , {'John' , 'David'} , (99,22,33))"
   ]
  },
  {
   "cell_type": "code",
   "execution_count": null,
   "metadata": {
    "executionInfo": {
     "elapsed": 199,
     "status": "aborted",
     "timestamp": 1729271174681,
     "user": {
      "displayName": "Dr. Rubaiyat Islam",
      "userId": "00143020000614467639"
     },
     "user_tz": -360
    },
    "id": "wD7QGSwVkybx"
   },
   "outputs": [],
   "source": [
    "len(tup7) #Length of list"
   ]
  },
  {
   "cell_type": "markdown",
   "metadata": {
    "id": "D5RDJindkybx"
   },
   "source": [
    "### Tuple Indexing"
   ]
  },
  {
   "cell_type": "code",
   "execution_count": null,
   "metadata": {
    "executionInfo": {
     "elapsed": 199,
     "status": "aborted",
     "timestamp": 1729271174681,
     "user": {
      "displayName": "Dr. Rubaiyat Islam",
      "userId": "00143020000614467639"
     },
     "user_tz": -360
    },
    "id": "lSKndPInkybx"
   },
   "outputs": [],
   "source": [
    "tup2[0] # Retreive first element of the tuple"
   ]
  },
  {
   "cell_type": "code",
   "execution_count": null,
   "metadata": {
    "executionInfo": {
     "elapsed": 199,
     "status": "aborted",
     "timestamp": 1729271174681,
     "user": {
      "displayName": "Dr. Rubaiyat Islam",
      "userId": "00143020000614467639"
     },
     "user_tz": -360
    },
    "id": "izHphGNJkybx"
   },
   "outputs": [],
   "source": [
    "tup4[0] # Retreive first element of the tuple"
   ]
  },
  {
   "cell_type": "code",
   "execution_count": null,
   "metadata": {
    "executionInfo": {
     "elapsed": 198,
     "status": "aborted",
     "timestamp": 1729271174681,
     "user": {
      "displayName": "Dr. Rubaiyat Islam",
      "userId": "00143020000614467639"
     },
     "user_tz": -360
    },
    "id": "-N4rADbbkybx"
   },
   "outputs": [],
   "source": [
    "tup4[0][0] # Nested indexing - Access the first character of the first tuple element"
   ]
  },
  {
   "cell_type": "code",
   "execution_count": null,
   "metadata": {
    "executionInfo": {
     "elapsed": 198,
     "status": "aborted",
     "timestamp": 1729271174681,
     "user": {
      "displayName": "Dr. Rubaiyat Islam",
      "userId": "00143020000614467639"
     },
     "user_tz": -360
    },
    "id": "pkEZSP61kybx"
   },
   "outputs": [],
   "source": [
    "tup4[-1] # Last item of the tuple"
   ]
  },
  {
   "cell_type": "code",
   "execution_count": null,
   "metadata": {
    "executionInfo": {
     "elapsed": 198,
     "status": "aborted",
     "timestamp": 1729271174681,
     "user": {
      "displayName": "Dr. Rubaiyat Islam",
      "userId": "00143020000614467639"
     },
     "user_tz": -360
    },
    "id": "1HVZ_531kybx"
   },
   "outputs": [],
   "source": [
    "tup5[-1]  # Last item of the tuple"
   ]
  },
  {
   "cell_type": "markdown",
   "metadata": {
    "id": "pF8rS9d8kybx"
   },
   "source": [
    "### Tuple Slicing"
   ]
  },
  {
   "cell_type": "code",
   "execution_count": null,
   "metadata": {
    "collapsed": true,
    "executionInfo": {
     "elapsed": 198,
     "status": "aborted",
     "timestamp": 1729271174681,
     "user": {
      "displayName": "Dr. Rubaiyat Islam",
      "userId": "00143020000614467639"
     },
     "user_tz": -360
    },
    "id": "Fk8hPiwPkybx"
   },
   "outputs": [],
   "source": [
    "mytuple = ('one' , 'two' , 'three' , 'four' , 'five' , 'six' , 'seven' , 'eight')"
   ]
  },
  {
   "cell_type": "code",
   "execution_count": null,
   "metadata": {
    "executionInfo": {
     "elapsed": 198,
     "status": "aborted",
     "timestamp": 1729271174681,
     "user": {
      "displayName": "Dr. Rubaiyat Islam",
      "userId": "00143020000614467639"
     },
     "user_tz": -360
    },
    "id": "sinDwhemkybx"
   },
   "outputs": [],
   "source": [
    "mytuple[0:3] # Return all items from 0th to 3rd index location excluding the item at loc 3."
   ]
  },
  {
   "cell_type": "code",
   "execution_count": null,
   "metadata": {
    "executionInfo": {
     "elapsed": 198,
     "status": "aborted",
     "timestamp": 1729271174681,
     "user": {
      "displayName": "Dr. Rubaiyat Islam",
      "userId": "00143020000614467639"
     },
     "user_tz": -360
    },
    "id": "XzkjuavRkyby"
   },
   "outputs": [],
   "source": [
    "mytuple[2:5] # List all items from 2nd to 5th index location excluding the item at loc 5."
   ]
  },
  {
   "cell_type": "code",
   "execution_count": null,
   "metadata": {
    "executionInfo": {
     "elapsed": 197,
     "status": "aborted",
     "timestamp": 1729271174681,
     "user": {
      "displayName": "Dr. Rubaiyat Islam",
      "userId": "00143020000614467639"
     },
     "user_tz": -360
    },
    "id": "OX3a012kkyby"
   },
   "outputs": [],
   "source": [
    "mytuple[:3] # Return first three items"
   ]
  },
  {
   "cell_type": "code",
   "execution_count": null,
   "metadata": {
    "executionInfo": {
     "elapsed": 197,
     "status": "aborted",
     "timestamp": 1729271174681,
     "user": {
      "displayName": "Dr. Rubaiyat Islam",
      "userId": "00143020000614467639"
     },
     "user_tz": -360
    },
    "id": "74ldJ0hbkyby"
   },
   "outputs": [],
   "source": [
    "mytuple[:2]  # Return first two items"
   ]
  },
  {
   "cell_type": "code",
   "execution_count": null,
   "metadata": {
    "executionInfo": {
     "elapsed": 197,
     "status": "aborted",
     "timestamp": 1729271174681,
     "user": {
      "displayName": "Dr. Rubaiyat Islam",
      "userId": "00143020000614467639"
     },
     "user_tz": -360
    },
    "id": "Wvp_qim0kyby"
   },
   "outputs": [],
   "source": [
    "mytuple[-3:] # Return last three items"
   ]
  },
  {
   "cell_type": "code",
   "execution_count": null,
   "metadata": {
    "executionInfo": {
     "elapsed": 197,
     "status": "aborted",
     "timestamp": 1729271174681,
     "user": {
      "displayName": "Dr. Rubaiyat Islam",
      "userId": "00143020000614467639"
     },
     "user_tz": -360
    },
    "id": "apJ51zuakyby"
   },
   "outputs": [],
   "source": [
    "mytuple[-2:] # Return last two items"
   ]
  },
  {
   "cell_type": "code",
   "execution_count": null,
   "metadata": {
    "executionInfo": {
     "elapsed": 197,
     "status": "aborted",
     "timestamp": 1729271174681,
     "user": {
      "displayName": "Dr. Rubaiyat Islam",
      "userId": "00143020000614467639"
     },
     "user_tz": -360
    },
    "id": "foqEW5knkyby"
   },
   "outputs": [],
   "source": [
    "mytuple[-1] # Return last item of the tuple"
   ]
  },
  {
   "cell_type": "code",
   "execution_count": null,
   "metadata": {
    "executionInfo": {
     "elapsed": 197,
     "status": "aborted",
     "timestamp": 1729271174681,
     "user": {
      "displayName": "Dr. Rubaiyat Islam",
      "userId": "00143020000614467639"
     },
     "user_tz": -360
    },
    "id": "MdG949v8kyby"
   },
   "outputs": [],
   "source": [
    "mytuple[:] # Return whole tuple"
   ]
  },
  {
   "cell_type": "markdown",
   "metadata": {
    "id": "w2rZmnPAkyby"
   },
   "source": [
    "### Remove & Change Items"
   ]
  },
  {
   "cell_type": "code",
   "execution_count": null,
   "metadata": {
    "executionInfo": {
     "elapsed": 197,
     "status": "aborted",
     "timestamp": 1729271174681,
     "user": {
      "displayName": "Dr. Rubaiyat Islam",
      "userId": "00143020000614467639"
     },
     "user_tz": -360
    },
    "id": "UkXaoX7Mkyby"
   },
   "outputs": [],
   "source": [
    "mytuple"
   ]
  },
  {
   "cell_type": "code",
   "execution_count": null,
   "metadata": {
    "executionInfo": {
     "elapsed": 196,
     "status": "aborted",
     "timestamp": 1729271174681,
     "user": {
      "displayName": "Dr. Rubaiyat Islam",
      "userId": "00143020000614467639"
     },
     "user_tz": -360
    },
    "id": "EWL7RUpYkyby"
   },
   "outputs": [],
   "source": [
    "del mytuple[0] # Tuples are immutable which means we can't DELETE tuple items"
   ]
  },
  {
   "cell_type": "code",
   "execution_count": null,
   "metadata": {
    "executionInfo": {
     "elapsed": 196,
     "status": "aborted",
     "timestamp": 1729271174681,
     "user": {
      "displayName": "Dr. Rubaiyat Islam",
      "userId": "00143020000614467639"
     },
     "user_tz": -360
    },
    "id": "BtGd-edekyby"
   },
   "outputs": [],
   "source": [
    "mytuple[0] = 1 # Tuples are immutable which means we can't CHANGE tuple items"
   ]
  },
  {
   "cell_type": "code",
   "execution_count": null,
   "metadata": {
    "collapsed": true,
    "executionInfo": {
     "elapsed": 196,
     "status": "aborted",
     "timestamp": 1729271174681,
     "user": {
      "displayName": "Dr. Rubaiyat Islam",
      "userId": "00143020000614467639"
     },
     "user_tz": -360
    },
    "id": "qF53rZg8kyby"
   },
   "outputs": [],
   "source": [
    "del mytuple # Deleting entire tuple object is possible"
   ]
  },
  {
   "cell_type": "markdown",
   "metadata": {
    "id": "j-9_9hF-kyby"
   },
   "source": [
    "### Loop through a tuple"
   ]
  },
  {
   "cell_type": "code",
   "execution_count": null,
   "metadata": {
    "executionInfo": {
     "elapsed": 197,
     "status": "aborted",
     "timestamp": 1729271174682,
     "user": {
      "displayName": "Dr. Rubaiyat Islam",
      "userId": "00143020000614467639"
     },
     "user_tz": -360
    },
    "id": "EwB_Ugykkyby"
   },
   "outputs": [],
   "source": [
    "mytuple"
   ]
  },
  {
   "cell_type": "code",
   "execution_count": null,
   "metadata": {
    "executionInfo": {
     "elapsed": 197,
     "status": "aborted",
     "timestamp": 1729271174682,
     "user": {
      "displayName": "Dr. Rubaiyat Islam",
      "userId": "00143020000614467639"
     },
     "user_tz": -360
    },
    "id": "sMl2Gacykyby"
   },
   "outputs": [],
   "source": [
    "for i in mytuple:\n",
    "    print(i)"
   ]
  },
  {
   "cell_type": "code",
   "execution_count": null,
   "metadata": {
    "executionInfo": {
     "elapsed": 197,
     "status": "aborted",
     "timestamp": 1729271174682,
     "user": {
      "displayName": "Dr. Rubaiyat Islam",
      "userId": "00143020000614467639"
     },
     "user_tz": -360
    },
    "id": "WOPpy1yvkyby"
   },
   "outputs": [],
   "source": [
    "for i in enumerate(mytuple):\n",
    "    print(i)"
   ]
  },
  {
   "cell_type": "markdown",
   "metadata": {
    "id": "AildeAFlkybz"
   },
   "source": [
    "### Count"
   ]
  },
  {
   "cell_type": "code",
   "execution_count": null,
   "metadata": {
    "collapsed": true,
    "executionInfo": {
     "elapsed": 197,
     "status": "aborted",
     "timestamp": 1729271174682,
     "user": {
      "displayName": "Dr. Rubaiyat Islam",
      "userId": "00143020000614467639"
     },
     "user_tz": -360
    },
    "id": "HqY9s2P2kybz"
   },
   "outputs": [],
   "source": [
    "mytuple1 =('one', 'two', 'three', 'four', 'one', 'one', 'two', 'three')"
   ]
  },
  {
   "cell_type": "code",
   "execution_count": null,
   "metadata": {
    "executionInfo": {
     "elapsed": 197,
     "status": "aborted",
     "timestamp": 1729271174682,
     "user": {
      "displayName": "Dr. Rubaiyat Islam",
      "userId": "00143020000614467639"
     },
     "user_tz": -360
    },
    "id": "vP2TlObTkybz"
   },
   "outputs": [],
   "source": [
    "mytuple1.count('one') # Number of times item \"one\" occurred in the tuple."
   ]
  },
  {
   "cell_type": "code",
   "execution_count": null,
   "metadata": {
    "executionInfo": {
     "elapsed": 197,
     "status": "aborted",
     "timestamp": 1729271174682,
     "user": {
      "displayName": "Dr. Rubaiyat Islam",
      "userId": "00143020000614467639"
     },
     "user_tz": -360
    },
    "id": "BX4R7cVFkybz"
   },
   "outputs": [],
   "source": [
    "mytuple1.count('two') # Occurence of item 'two' in the tuple"
   ]
  },
  {
   "cell_type": "code",
   "execution_count": null,
   "metadata": {
    "executionInfo": {
     "elapsed": 197,
     "status": "aborted",
     "timestamp": 1729271174682,
     "user": {
      "displayName": "Dr. Rubaiyat Islam",
      "userId": "00143020000614467639"
     },
     "user_tz": -360
    },
    "id": "E4n-GRtPkybz"
   },
   "outputs": [],
   "source": [
    "mytuple1.count('four') #Occurence of item 'four' in the tuple"
   ]
  },
  {
   "cell_type": "markdown",
   "metadata": {
    "id": "iyZoHLZ-kybz"
   },
   "source": [
    "### Tuple Membership"
   ]
  },
  {
   "cell_type": "code",
   "execution_count": null,
   "metadata": {
    "executionInfo": {
     "elapsed": 197,
     "status": "aborted",
     "timestamp": 1729271174682,
     "user": {
      "displayName": "Dr. Rubaiyat Islam",
      "userId": "00143020000614467639"
     },
     "user_tz": -360
    },
    "id": "Aa2zi63vkybz"
   },
   "outputs": [],
   "source": [
    "mytuple"
   ]
  },
  {
   "cell_type": "code",
   "execution_count": null,
   "metadata": {
    "executionInfo": {
     "elapsed": 197,
     "status": "aborted",
     "timestamp": 1729271174682,
     "user": {
      "displayName": "Dr. Rubaiyat Islam",
      "userId": "00143020000614467639"
     },
     "user_tz": -360
    },
    "id": "BJFpE9Iikybz"
   },
   "outputs": [],
   "source": [
    "'one' in mytuple # Check if 'one' exist in the list"
   ]
  },
  {
   "cell_type": "code",
   "execution_count": null,
   "metadata": {
    "executionInfo": {
     "elapsed": 197,
     "status": "aborted",
     "timestamp": 1729271174682,
     "user": {
      "displayName": "Dr. Rubaiyat Islam",
      "userId": "00143020000614467639"
     },
     "user_tz": -360
    },
    "id": "qrpbGAeRkybz"
   },
   "outputs": [],
   "source": [
    "'ten' in mytuple # Check if 'ten' exist in the list"
   ]
  },
  {
   "cell_type": "code",
   "execution_count": null,
   "metadata": {
    "executionInfo": {
     "elapsed": 197,
     "status": "aborted",
     "timestamp": 1729271174682,
     "user": {
      "displayName": "Dr. Rubaiyat Islam",
      "userId": "00143020000614467639"
     },
     "user_tz": -360
    },
    "id": "niTFV365kybz"
   },
   "outputs": [],
   "source": [
    "if 'three' in mytuple: # Check if 'three' exist in the list\n",
    "    print('Three is present in the tuple')\n",
    "else:\n",
    "    print('Three is not present in the tuple')"
   ]
  },
  {
   "cell_type": "code",
   "execution_count": null,
   "metadata": {
    "executionInfo": {
     "elapsed": 197,
     "status": "aborted",
     "timestamp": 1729271174682,
     "user": {
      "displayName": "Dr. Rubaiyat Islam",
      "userId": "00143020000614467639"
     },
     "user_tz": -360
    },
    "id": "Zbjr-XCZkybz"
   },
   "outputs": [],
   "source": [
    "if 'eleven' in mytuple:  # Check if 'eleven' exist in the list\n",
    "    print('eleven is present in the tuple')\n",
    "else:\n",
    "    print('eleven is not present in the tuple')"
   ]
  },
  {
   "cell_type": "markdown",
   "metadata": {
    "id": "CrcL8icgkybz"
   },
   "source": [
    "### Index Position"
   ]
  },
  {
   "cell_type": "code",
   "execution_count": null,
   "metadata": {
    "executionInfo": {
     "elapsed": 196,
     "status": "aborted",
     "timestamp": 1729271174682,
     "user": {
      "displayName": "Dr. Rubaiyat Islam",
      "userId": "00143020000614467639"
     },
     "user_tz": -360
    },
    "id": "TxU4DlUYkybz"
   },
   "outputs": [],
   "source": [
    "mytuple"
   ]
  },
  {
   "cell_type": "code",
   "execution_count": null,
   "metadata": {
    "executionInfo": {
     "elapsed": 196,
     "status": "aborted",
     "timestamp": 1729271174682,
     "user": {
      "displayName": "Dr. Rubaiyat Islam",
      "userId": "00143020000614467639"
     },
     "user_tz": -360
    },
    "id": "P9eaBzg3kybz"
   },
   "outputs": [],
   "source": [
    "mytuple.index('one') # Index of first element equal to 'one'"
   ]
  },
  {
   "cell_type": "code",
   "execution_count": null,
   "metadata": {
    "executionInfo": {
     "elapsed": 196,
     "status": "aborted",
     "timestamp": 1729271174682,
     "user": {
      "displayName": "Dr. Rubaiyat Islam",
      "userId": "00143020000614467639"
     },
     "user_tz": -360
    },
    "id": "Imr5jknUkybz"
   },
   "outputs": [],
   "source": [
    "mytuple.index('five') # Index of first element equal to 'five'"
   ]
  },
  {
   "cell_type": "code",
   "execution_count": null,
   "metadata": {
    "executionInfo": {
     "elapsed": 196,
     "status": "aborted",
     "timestamp": 1729271174682,
     "user": {
      "displayName": "Dr. Rubaiyat Islam",
      "userId": "00143020000614467639"
     },
     "user_tz": -360
    },
    "id": "lhXwfDVUkybz"
   },
   "outputs": [],
   "source": [
    "mytuple1"
   ]
  },
  {
   "cell_type": "code",
   "execution_count": null,
   "metadata": {
    "executionInfo": {
     "elapsed": 196,
     "status": "aborted",
     "timestamp": 1729271174682,
     "user": {
      "displayName": "Dr. Rubaiyat Islam",
      "userId": "00143020000614467639"
     },
     "user_tz": -360
    },
    "id": "olE104tDkyb0"
   },
   "outputs": [],
   "source": [
    "mytuple1.index('one') # Index of first element equal to 'one'"
   ]
  },
  {
   "cell_type": "markdown",
   "metadata": {
    "id": "0MB2TE95kyb0"
   },
   "source": [
    "### Sorting"
   ]
  },
  {
   "cell_type": "code",
   "execution_count": null,
   "metadata": {
    "collapsed": true,
    "executionInfo": {
     "elapsed": 196,
     "status": "aborted",
     "timestamp": 1729271174682,
     "user": {
      "displayName": "Dr. Rubaiyat Islam",
      "userId": "00143020000614467639"
     },
     "user_tz": -360
    },
    "id": "Tqi6bzZUkyb0"
   },
   "outputs": [],
   "source": [
    "mytuple2 = (43,67,99,12,6,90,67)"
   ]
  },
  {
   "cell_type": "code",
   "execution_count": null,
   "metadata": {
    "executionInfo": {
     "elapsed": 196,
     "status": "aborted",
     "timestamp": 1729271174682,
     "user": {
      "displayName": "Dr. Rubaiyat Islam",
      "userId": "00143020000614467639"
     },
     "user_tz": -360
    },
    "id": "hrZQhDc_kyb0"
   },
   "outputs": [],
   "source": [
    "sorted(mytuple2)  # Returns a new sorted list and doesn't change original tuple"
   ]
  },
  {
   "cell_type": "code",
   "execution_count": null,
   "metadata": {
    "executionInfo": {
     "elapsed": 196,
     "status": "aborted",
     "timestamp": 1729271174682,
     "user": {
      "displayName": "Dr. Rubaiyat Islam",
      "userId": "00143020000614467639"
     },
     "user_tz": -360
    },
    "id": "DTDUegyakyb0"
   },
   "outputs": [],
   "source": [
    "sorted(mytuple2, reverse=True) # Sort in descending order"
   ]
  },
  {
   "cell_type": "markdown",
   "metadata": {
    "id": "V2esdcxRkyb0"
   },
   "source": [
    "# Sets"
   ]
  },
  {
   "cell_type": "markdown",
   "metadata": {
    "id": "vVxD8RZ9kyb0"
   },
   "source": [
    "1) Unordered & Unindexed collection of items.\n",
    "\n",
    "2) Set elements are unique. Duplicate elements are not allowed.\n",
    "\n",
    "3) Set elements are immutable (cannot be changed).\n",
    "\n",
    "4) Set itself is mutable. We can add or remove items from it."
   ]
  },
  {
   "cell_type": "markdown",
   "metadata": {
    "id": "-sSbJfeLkyb0"
   },
   "source": [
    "### Set Creation"
   ]
  },
  {
   "cell_type": "code",
   "execution_count": null,
   "metadata": {
    "executionInfo": {
     "elapsed": 195,
     "status": "aborted",
     "timestamp": 1729271174682,
     "user": {
      "displayName": "Dr. Rubaiyat Islam",
      "userId": "00143020000614467639"
     },
     "user_tz": -360
    },
    "id": "Lf944BpGkyb0"
   },
   "outputs": [],
   "source": [
    "myset = {1,2,3,4,5} # Set of numbers\n",
    "myset"
   ]
  },
  {
   "cell_type": "code",
   "execution_count": null,
   "metadata": {
    "executionInfo": {
     "elapsed": 195,
     "status": "aborted",
     "timestamp": 1729271174682,
     "user": {
      "displayName": "Dr. Rubaiyat Islam",
      "userId": "00143020000614467639"
     },
     "user_tz": -360
    },
    "id": "7nqYpRrBkyb0"
   },
   "outputs": [],
   "source": [
    "len(myset) #Length of the set"
   ]
  },
  {
   "cell_type": "code",
   "execution_count": null,
   "metadata": {
    "executionInfo": {
     "elapsed": 196,
     "status": "aborted",
     "timestamp": 1729271174683,
     "user": {
      "displayName": "Dr. Rubaiyat Islam",
      "userId": "00143020000614467639"
     },
     "user_tz": -360
    },
    "id": "u1tKi8gQkyb0"
   },
   "outputs": [],
   "source": [
    "my_set = {1,1,2,2,3,4,5,5}\n",
    "my_set                    # Duplicate elements are not allowed."
   ]
  },
  {
   "cell_type": "code",
   "execution_count": null,
   "metadata": {
    "executionInfo": {
     "elapsed": 196,
     "status": "aborted",
     "timestamp": 1729271174683,
     "user": {
      "displayName": "Dr. Rubaiyat Islam",
      "userId": "00143020000614467639"
     },
     "user_tz": -360
    },
    "id": "h7GjL9nckyb0"
   },
   "outputs": [],
   "source": [
    "myset1 = {1.79,2.08,3.99,4.56,5.45} # Set of float numbers\n",
    "myset1"
   ]
  },
  {
   "cell_type": "code",
   "execution_count": null,
   "metadata": {
    "executionInfo": {
     "elapsed": 196,
     "status": "aborted",
     "timestamp": 1729271174683,
     "user": {
      "displayName": "Dr. Rubaiyat Islam",
      "userId": "00143020000614467639"
     },
     "user_tz": -360
    },
    "id": "vvE_pzmTkyb0"
   },
   "outputs": [],
   "source": [
    "myset2 = {'Asif' , 'John' , 'Tyrion'} # Set of Strings\n",
    "myset2"
   ]
  },
  {
   "cell_type": "code",
   "execution_count": null,
   "metadata": {
    "executionInfo": {
     "elapsed": 196,
     "status": "aborted",
     "timestamp": 1729271174683,
     "user": {
      "displayName": "Dr. Rubaiyat Islam",
      "userId": "00143020000614467639"
     },
     "user_tz": -360
    },
    "id": "23z1nm8ukyb0"
   },
   "outputs": [],
   "source": [
    "myset3 = {10,20, \"Hola\", (11, 22, 32)} # Mixed datatypes\n",
    "myset3"
   ]
  },
  {
   "cell_type": "code",
   "execution_count": null,
   "metadata": {
    "executionInfo": {
     "elapsed": 195,
     "status": "aborted",
     "timestamp": 1729271174683,
     "user": {
      "displayName": "Dr. Rubaiyat Islam",
      "userId": "00143020000614467639"
     },
     "user_tz": -360
    },
    "id": "LeYyrMb3kyb0"
   },
   "outputs": [],
   "source": [
    "myset3 = {10,20, \"Hola\", [11, 22, 32]} # set doesn't allow mutable items like lists\n",
    "myset3"
   ]
  },
  {
   "cell_type": "code",
   "execution_count": null,
   "metadata": {
    "executionInfo": {
     "elapsed": 195,
     "status": "aborted",
     "timestamp": 1729271174683,
     "user": {
      "displayName": "Dr. Rubaiyat Islam",
      "userId": "00143020000614467639"
     },
     "user_tz": -360
    },
    "id": "OuuxmDq3kyb1"
   },
   "outputs": [],
   "source": [
    "myset4 = set() # Create an empty set\n",
    "print(type(myset4))"
   ]
  },
  {
   "cell_type": "code",
   "execution_count": null,
   "metadata": {
    "executionInfo": {
     "elapsed": 195,
     "status": "aborted",
     "timestamp": 1729271174683,
     "user": {
      "displayName": "Dr. Rubaiyat Islam",
      "userId": "00143020000614467639"
     },
     "user_tz": -360
    },
    "id": "xqWvLFOhkyb1"
   },
   "outputs": [],
   "source": [
    "my_set1 = set(('one' , 'two' , 'three' , 'four'))\n",
    "my_set1"
   ]
  },
  {
   "cell_type": "markdown",
   "metadata": {
    "id": "WF9AnlDqkyb1"
   },
   "source": [
    "### Loop through a Set"
   ]
  },
  {
   "cell_type": "code",
   "execution_count": null,
   "metadata": {
    "executionInfo": {
     "elapsed": 194,
     "status": "aborted",
     "timestamp": 1729271174683,
     "user": {
      "displayName": "Dr. Rubaiyat Islam",
      "userId": "00143020000614467639"
     },
     "user_tz": -360
    },
    "id": "kzcEv4rmkyb1"
   },
   "outputs": [],
   "source": [
    "myset = {'one', 'two', 'three', 'four', 'five', 'six', 'seven', 'eight'}\n",
    "\n",
    "for i in myset:\n",
    "    print(i)"
   ]
  },
  {
   "cell_type": "code",
   "execution_count": null,
   "metadata": {
    "executionInfo": {
     "elapsed": 194,
     "status": "aborted",
     "timestamp": 1729271174683,
     "user": {
      "displayName": "Dr. Rubaiyat Islam",
      "userId": "00143020000614467639"
     },
     "user_tz": -360
    },
    "id": "714BouNPkyb1"
   },
   "outputs": [],
   "source": [
    "for i in enumerate(myset):\n",
    "    print(i)"
   ]
  },
  {
   "cell_type": "markdown",
   "metadata": {
    "id": "lm8_RdaBkyb1"
   },
   "source": [
    "### Set Membership"
   ]
  },
  {
   "cell_type": "code",
   "execution_count": null,
   "metadata": {
    "executionInfo": {
     "elapsed": 195,
     "status": "aborted",
     "timestamp": 1729271174684,
     "user": {
      "displayName": "Dr. Rubaiyat Islam",
      "userId": "00143020000614467639"
     },
     "user_tz": -360
    },
    "id": "unu3Af-Ukyb1"
   },
   "outputs": [],
   "source": [
    "myset"
   ]
  },
  {
   "cell_type": "code",
   "execution_count": null,
   "metadata": {
    "executionInfo": {
     "elapsed": 195,
     "status": "aborted",
     "timestamp": 1729271174684,
     "user": {
      "displayName": "Dr. Rubaiyat Islam",
      "userId": "00143020000614467639"
     },
     "user_tz": -360
    },
    "id": "Iusu46tLkyb1"
   },
   "outputs": [],
   "source": [
    "'one' in myset # Check if 'one' exist in the set"
   ]
  },
  {
   "cell_type": "code",
   "execution_count": null,
   "metadata": {
    "executionInfo": {
     "elapsed": 195,
     "status": "aborted",
     "timestamp": 1729271174684,
     "user": {
      "displayName": "Dr. Rubaiyat Islam",
      "userId": "00143020000614467639"
     },
     "user_tz": -360
    },
    "id": "NLbXR1rqkyb1"
   },
   "outputs": [],
   "source": [
    "'ten' in myset # Check if 'ten' exist in the set"
   ]
  },
  {
   "cell_type": "code",
   "execution_count": null,
   "metadata": {
    "executionInfo": {
     "elapsed": 195,
     "status": "aborted",
     "timestamp": 1729271174684,
     "user": {
      "displayName": "Dr. Rubaiyat Islam",
      "userId": "00143020000614467639"
     },
     "user_tz": -360
    },
    "id": "Bpm9pCjPkyb1"
   },
   "outputs": [],
   "source": [
    "if 'three' in myset: # Check if 'three' exist in the set\n",
    "    print('Three is present in the set')\n",
    "else:\n",
    "    print('Three is not present in the set')"
   ]
  },
  {
   "cell_type": "code",
   "execution_count": null,
   "metadata": {
    "executionInfo": {
     "elapsed": 195,
     "status": "aborted",
     "timestamp": 1729271174684,
     "user": {
      "displayName": "Dr. Rubaiyat Islam",
      "userId": "00143020000614467639"
     },
     "user_tz": -360
    },
    "id": "IlPPokNnkyb1"
   },
   "outputs": [],
   "source": [
    "if 'eleven' in myset:  # Check if 'eleven' exist in the list\n",
    "    print('eleven is present in the set')\n",
    "else:\n",
    "    print('eleven is not present in the set')"
   ]
  },
  {
   "cell_type": "markdown",
   "metadata": {
    "id": "qyGNwbfCkyb1"
   },
   "source": [
    "### Add & Remove Items"
   ]
  },
  {
   "cell_type": "code",
   "execution_count": null,
   "metadata": {
    "executionInfo": {
     "elapsed": 195,
     "status": "aborted",
     "timestamp": 1729271174684,
     "user": {
      "displayName": "Dr. Rubaiyat Islam",
      "userId": "00143020000614467639"
     },
     "user_tz": -360
    },
    "id": "TE1VUIJqkyb1"
   },
   "outputs": [],
   "source": [
    "myset"
   ]
  },
  {
   "cell_type": "code",
   "execution_count": null,
   "metadata": {
    "executionInfo": {
     "elapsed": 195,
     "status": "aborted",
     "timestamp": 1729271174684,
     "user": {
      "displayName": "Dr. Rubaiyat Islam",
      "userId": "00143020000614467639"
     },
     "user_tz": -360
    },
    "id": "Beq7Y_-Rkyb1"
   },
   "outputs": [],
   "source": [
    "myset.add('NINE') # Add item to a set using add() method\n",
    "myset"
   ]
  },
  {
   "cell_type": "code",
   "execution_count": null,
   "metadata": {
    "executionInfo": {
     "elapsed": 194,
     "status": "aborted",
     "timestamp": 1729271174684,
     "user": {
      "displayName": "Dr. Rubaiyat Islam",
      "userId": "00143020000614467639"
     },
     "user_tz": -360
    },
    "id": "5Y2bVtMVkyb1"
   },
   "outputs": [],
   "source": [
    "myset.update(['TEN' , 'ELEVEN' , 'TWELVE'])  # Add multiple item to a set using update() method\n",
    "myset"
   ]
  },
  {
   "cell_type": "code",
   "execution_count": null,
   "metadata": {
    "executionInfo": {
     "elapsed": 193,
     "status": "aborted",
     "timestamp": 1729271174684,
     "user": {
      "displayName": "Dr. Rubaiyat Islam",
      "userId": "00143020000614467639"
     },
     "user_tz": -360
    },
    "id": "6Q8-wnyxkyb2"
   },
   "outputs": [],
   "source": [
    "myset.remove('NINE') # remove item in a set using remove() method\n",
    "myset"
   ]
  },
  {
   "cell_type": "code",
   "execution_count": null,
   "metadata": {
    "executionInfo": {
     "elapsed": 194,
     "status": "aborted",
     "timestamp": 1729271174685,
     "user": {
      "displayName": "Dr. Rubaiyat Islam",
      "userId": "00143020000614467639"
     },
     "user_tz": -360
    },
    "id": "xwq_6MAskyb2"
   },
   "outputs": [],
   "source": [
    "myset.discard('TEN') # remove item from a set using discard() method\n",
    "myset"
   ]
  },
  {
   "cell_type": "code",
   "execution_count": null,
   "metadata": {
    "executionInfo": {
     "elapsed": 193,
     "status": "aborted",
     "timestamp": 1729271174685,
     "user": {
      "displayName": "Dr. Rubaiyat Islam",
      "userId": "00143020000614467639"
     },
     "user_tz": -360
    },
    "id": "OZE8H7n0kyb2"
   },
   "outputs": [],
   "source": [
    "myset.clear() # Delete all items in a set\n",
    "myset"
   ]
  },
  {
   "cell_type": "code",
   "execution_count": null,
   "metadata": {
    "executionInfo": {
     "elapsed": 193,
     "status": "aborted",
     "timestamp": 1729271174685,
     "user": {
      "displayName": "Dr. Rubaiyat Islam",
      "userId": "00143020000614467639"
     },
     "user_tz": -360
    },
    "id": "tgR9327pkyb2"
   },
   "outputs": [],
   "source": [
    "del myset # Delete the set object\n",
    "myset"
   ]
  },
  {
   "cell_type": "markdown",
   "metadata": {
    "id": "GHlLpAFokyb2"
   },
   "source": [
    "### Copy Set"
   ]
  },
  {
   "cell_type": "code",
   "execution_count": null,
   "metadata": {
    "executionInfo": {
     "elapsed": 193,
     "status": "aborted",
     "timestamp": 1729271174685,
     "user": {
      "displayName": "Dr. Rubaiyat Islam",
      "userId": "00143020000614467639"
     },
     "user_tz": -360
    },
    "id": "F7QmQvtZkyb2"
   },
   "outputs": [],
   "source": [
    "myset = {'one', 'two', 'three', 'four', 'five', 'six', 'seven', 'eight'}\n",
    "myset"
   ]
  },
  {
   "cell_type": "code",
   "execution_count": null,
   "metadata": {
    "executionInfo": {
     "elapsed": 193,
     "status": "aborted",
     "timestamp": 1729271174685,
     "user": {
      "displayName": "Dr. Rubaiyat Islam",
      "userId": "00143020000614467639"
     },
     "user_tz": -360
    },
    "id": "gx84enXskyb2"
   },
   "outputs": [],
   "source": [
    "myset1 = myset  # Create a new reference \"myset1\"\n",
    "myset1"
   ]
  },
  {
   "cell_type": "code",
   "execution_count": null,
   "metadata": {
    "executionInfo": {
     "elapsed": 193,
     "status": "aborted",
     "timestamp": 1729271174685,
     "user": {
      "displayName": "Dr. Rubaiyat Islam",
      "userId": "00143020000614467639"
     },
     "user_tz": -360
    },
    "id": "SVNF_VVgkyb2"
   },
   "outputs": [],
   "source": [
    "id(myset) , id(myset1)  # The address of both myset & myset1 will be the same as both are pointing to same set."
   ]
  },
  {
   "cell_type": "code",
   "execution_count": null,
   "metadata": {
    "executionInfo": {
     "elapsed": 192,
     "status": "aborted",
     "timestamp": 1729271174685,
     "user": {
      "displayName": "Dr. Rubaiyat Islam",
      "userId": "00143020000614467639"
     },
     "user_tz": -360
    },
    "id": "qqpQnuHSkyb2"
   },
   "outputs": [],
   "source": [
    "my_set = myset.copy() # Create a copy of the list\n",
    "my_set"
   ]
  },
  {
   "cell_type": "code",
   "execution_count": null,
   "metadata": {
    "executionInfo": {
     "elapsed": 192,
     "status": "aborted",
     "timestamp": 1729271174685,
     "user": {
      "displayName": "Dr. Rubaiyat Islam",
      "userId": "00143020000614467639"
     },
     "user_tz": -360
    },
    "id": "IgQtIERIkyb2"
   },
   "outputs": [],
   "source": [
    "id(my_set) # The address of my_set will be different from myset because my_set is pointing to the copy of the existing set."
   ]
  },
  {
   "cell_type": "code",
   "execution_count": null,
   "metadata": {
    "executionInfo": {
     "elapsed": 192,
     "status": "aborted",
     "timestamp": 1729271174685,
     "user": {
      "displayName": "Dr. Rubaiyat Islam",
      "userId": "00143020000614467639"
     },
     "user_tz": -360
    },
    "id": "ctmPg8awkyb2"
   },
   "outputs": [],
   "source": [
    "myset.add('nine')\n",
    "myset"
   ]
  },
  {
   "cell_type": "code",
   "execution_count": null,
   "metadata": {
    "executionInfo": {
     "elapsed": 192,
     "status": "aborted",
     "timestamp": 1729271174685,
     "user": {
      "displayName": "Dr. Rubaiyat Islam",
      "userId": "00143020000614467639"
     },
     "user_tz": -360
    },
    "id": "bueoF2MKkyb2"
   },
   "outputs": [],
   "source": [
    "myset1 # myset1 will be also impacted as it is pointing to the same Set"
   ]
  },
  {
   "cell_type": "code",
   "execution_count": null,
   "metadata": {
    "executionInfo": {
     "elapsed": 192,
     "status": "aborted",
     "timestamp": 1729271174685,
     "user": {
      "displayName": "Dr. Rubaiyat Islam",
      "userId": "00143020000614467639"
     },
     "user_tz": -360
    },
    "id": "e6qelUEpkyb2"
   },
   "outputs": [],
   "source": [
    "my_set # Copy of the set won't be impacted due to changes made on the original Set."
   ]
  },
  {
   "cell_type": "markdown",
   "metadata": {
    "id": "264ziPaQkyb2"
   },
   "source": [
    "### Set Operation"
   ]
  },
  {
   "cell_type": "markdown",
   "metadata": {
    "id": "CBWuSI0tkyb2"
   },
   "source": [
    "#### Union"
   ]
  },
  {
   "cell_type": "code",
   "execution_count": null,
   "metadata": {
    "collapsed": true,
    "executionInfo": {
     "elapsed": 193,
     "status": "aborted",
     "timestamp": 1729271174686,
     "user": {
      "displayName": "Dr. Rubaiyat Islam",
      "userId": "00143020000614467639"
     },
     "user_tz": -360
    },
    "id": "YGIJpcpSkyb2"
   },
   "outputs": [],
   "source": [
    "A = {1,2,3,4,5}\n",
    "B = {4,5,6,7,8}\n",
    "C = {8,9,10}"
   ]
  },
  {
   "cell_type": "code",
   "execution_count": null,
   "metadata": {
    "executionInfo": {
     "elapsed": 193,
     "status": "aborted",
     "timestamp": 1729271174686,
     "user": {
      "displayName": "Dr. Rubaiyat Islam",
      "userId": "00143020000614467639"
     },
     "user_tz": -360
    },
    "id": "IE-3wLGvkyb2"
   },
   "outputs": [],
   "source": [
    "A | B  # Union of A and B (All elements from both sets. NO DUPLICATES)"
   ]
  },
  {
   "cell_type": "code",
   "execution_count": null,
   "metadata": {
    "executionInfo": {
     "elapsed": 193,
     "status": "aborted",
     "timestamp": 1729271174686,
     "user": {
      "displayName": "Dr. Rubaiyat Islam",
      "userId": "00143020000614467639"
     },
     "user_tz": -360
    },
    "id": "gchYMTEykyb3"
   },
   "outputs": [],
   "source": [
    "A.union(B) # Union of A and B"
   ]
  },
  {
   "cell_type": "code",
   "execution_count": null,
   "metadata": {
    "executionInfo": {
     "elapsed": 193,
     "status": "aborted",
     "timestamp": 1729271174686,
     "user": {
      "displayName": "Dr. Rubaiyat Islam",
      "userId": "00143020000614467639"
     },
     "user_tz": -360
    },
    "id": "1ye6efNQkyb3"
   },
   "outputs": [],
   "source": [
    "A.union(B, C)  # Union of A, B and C."
   ]
  },
  {
   "cell_type": "code",
   "execution_count": null,
   "metadata": {
    "executionInfo": {
     "elapsed": 193,
     "status": "aborted",
     "timestamp": 1729271174686,
     "user": {
      "displayName": "Dr. Rubaiyat Islam",
      "userId": "00143020000614467639"
     },
     "user_tz": -360
    },
    "id": "faL-nh2Hkyb3"
   },
   "outputs": [],
   "source": [
    "\"\"\"\n",
    "Updates the set calling the update() method with union of A , B & C.\n",
    "\n",
    "For below example Set A will be updated with union of A,B & C.\n",
    "\"\"\"\n",
    "A.update(B,C)\n",
    "A"
   ]
  },
  {
   "cell_type": "markdown",
   "metadata": {
    "id": "YsSwdFlfkyb3"
   },
   "source": [
    "<img src=\"https://upload.wikimedia.org/wikipedia/commons/3/30/Venn0111.svg\">"
   ]
  },
  {
   "cell_type": "markdown",
   "metadata": {
    "id": "U9nmCBk3kyb3"
   },
   "source": [
    "#### Intersection"
   ]
  },
  {
   "cell_type": "code",
   "execution_count": null,
   "metadata": {
    "collapsed": true,
    "executionInfo": {
     "elapsed": 192,
     "status": "aborted",
     "timestamp": 1729271174686,
     "user": {
      "displayName": "Dr. Rubaiyat Islam",
      "userId": "00143020000614467639"
     },
     "user_tz": -360
    },
    "id": "tKb9OEXBkyb3"
   },
   "outputs": [],
   "source": [
    "A = {1,2,3,4,5}\n",
    "B = {4,5,6,7,8}"
   ]
  },
  {
   "cell_type": "code",
   "execution_count": null,
   "metadata": {
    "executionInfo": {
     "elapsed": 192,
     "status": "aborted",
     "timestamp": 1729271174686,
     "user": {
      "displayName": "Dr. Rubaiyat Islam",
      "userId": "00143020000614467639"
     },
     "user_tz": -360
    },
    "id": "OWYsNJJckyb3"
   },
   "outputs": [],
   "source": [
    "A & B  # Intersection of A and B (Common items in both sets)"
   ]
  },
  {
   "cell_type": "code",
   "execution_count": null,
   "metadata": {
    "executionInfo": {
     "elapsed": 192,
     "status": "aborted",
     "timestamp": 1729271174686,
     "user": {
      "displayName": "Dr. Rubaiyat Islam",
      "userId": "00143020000614467639"
     },
     "user_tz": -360
    },
    "id": "Ewlm3JrYkyb3"
   },
   "outputs": [],
   "source": [
    "A.intersection(B)  Intersection of A and B"
   ]
  },
  {
   "cell_type": "code",
   "execution_count": null,
   "metadata": {
    "executionInfo": {
     "elapsed": 192,
     "status": "aborted",
     "timestamp": 1729271174686,
     "user": {
      "displayName": "Dr. Rubaiyat Islam",
      "userId": "00143020000614467639"
     },
     "user_tz": -360
    },
    "id": "JLtJoVXwkyb3"
   },
   "outputs": [],
   "source": [
    "\"\"\"\n",
    "Updates the set calling the intersection_update() method with the intersection of sets.\n",
    "\n",
    "For below example Set A will be updated  with the intersection of A & B.\n",
    "\"\"\"\n",
    "A.intersection_update(B)\n",
    "A"
   ]
  },
  {
   "cell_type": "markdown",
   "metadata": {
    "id": "-r-yNj7Gkyb3"
   },
   "source": [
    "<img src=\"https://upload.wikimedia.org/wikipedia/commons/9/99/Venn0001.svg\">"
   ]
  },
  {
   "cell_type": "markdown",
   "metadata": {
    "id": "nGgmwN2gkyb3"
   },
   "source": [
    "#### Difference"
   ]
  },
  {
   "cell_type": "code",
   "execution_count": null,
   "metadata": {
    "collapsed": true,
    "executionInfo": {
     "elapsed": 192,
     "status": "aborted",
     "timestamp": 1729271174686,
     "user": {
      "displayName": "Dr. Rubaiyat Islam",
      "userId": "00143020000614467639"
     },
     "user_tz": -360
    },
    "id": "3CEsNLl2kyb3"
   },
   "outputs": [],
   "source": [
    "A = {1,2,3,4,5}\n",
    "B = {4,5,6,7,8}"
   ]
  },
  {
   "cell_type": "code",
   "execution_count": null,
   "metadata": {
    "executionInfo": {
     "elapsed": 192,
     "status": "aborted",
     "timestamp": 1729271174686,
     "user": {
      "displayName": "Dr. Rubaiyat Islam",
      "userId": "00143020000614467639"
     },
     "user_tz": -360
    },
    "id": "dkYvXD2Mkyb3"
   },
   "outputs": [],
   "source": [
    "A - B  # set of elements that are only in A but not in B"
   ]
  },
  {
   "cell_type": "code",
   "execution_count": null,
   "metadata": {
    "executionInfo": {
     "elapsed": 191,
     "status": "aborted",
     "timestamp": 1729271174686,
     "user": {
      "displayName": "Dr. Rubaiyat Islam",
      "userId": "00143020000614467639"
     },
     "user_tz": -360
    },
    "id": "Eu-MsBuqkyb3"
   },
   "outputs": [],
   "source": [
    "A.difference(B) # Difference of sets"
   ]
  },
  {
   "cell_type": "code",
   "execution_count": null,
   "metadata": {
    "executionInfo": {
     "elapsed": 191,
     "status": "aborted",
     "timestamp": 1729271174686,
     "user": {
      "displayName": "Dr. Rubaiyat Islam",
      "userId": "00143020000614467639"
     },
     "user_tz": -360
    },
    "id": "YdtahLS4kyb3"
   },
   "outputs": [],
   "source": [
    "B- A  # set of elements that are only in B but not in A"
   ]
  },
  {
   "cell_type": "code",
   "execution_count": null,
   "metadata": {
    "executionInfo": {
     "elapsed": 191,
     "status": "aborted",
     "timestamp": 1729271174686,
     "user": {
      "displayName": "Dr. Rubaiyat Islam",
      "userId": "00143020000614467639"
     },
     "user_tz": -360
    },
    "id": "QAtJgZALkyb3"
   },
   "outputs": [],
   "source": [
    "B.difference(A)"
   ]
  },
  {
   "cell_type": "code",
   "execution_count": null,
   "metadata": {
    "executionInfo": {
     "elapsed": 191,
     "status": "aborted",
     "timestamp": 1729271174686,
     "user": {
      "displayName": "Dr. Rubaiyat Islam",
      "userId": "00143020000614467639"
     },
     "user_tz": -360
    },
    "id": "Gw-k19pDkyb3"
   },
   "outputs": [],
   "source": [
    "\"\"\"\n",
    "Updates the set calling the difference_update() method with the difference of sets.\n",
    "\n",
    "For below example Set B will be updated  with the difference of B & A.\n",
    "\"\"\"\n",
    "B.difference_update(A)\n",
    "B"
   ]
  },
  {
   "cell_type": "markdown",
   "metadata": {
    "id": "0Zk-ljM1kyb3"
   },
   "source": [
    "<img src=\"https://upload.wikimedia.org/wikipedia/commons/5/5a/Venn0010.svg\">"
   ]
  },
  {
   "cell_type": "markdown",
   "metadata": {
    "id": "hYtf7aXOkyb3"
   },
   "source": [
    "#### Symmetric Difference"
   ]
  },
  {
   "cell_type": "code",
   "execution_count": null,
   "metadata": {
    "collapsed": true,
    "executionInfo": {
     "elapsed": 191,
     "status": "aborted",
     "timestamp": 1729271174686,
     "user": {
      "displayName": "Dr. Rubaiyat Islam",
      "userId": "00143020000614467639"
     },
     "user_tz": -360
    },
    "id": "DRA1XTUkkyb4"
   },
   "outputs": [],
   "source": [
    "A = {1,2,3,4,5}\n",
    "B = {4,5,6,7,8}"
   ]
  },
  {
   "cell_type": "code",
   "execution_count": null,
   "metadata": {
    "executionInfo": {
     "elapsed": 190,
     "status": "aborted",
     "timestamp": 1729271174686,
     "user": {
      "displayName": "Dr. Rubaiyat Islam",
      "userId": "00143020000614467639"
     },
     "user_tz": -360
    },
    "id": "zXkifsstkyb4"
   },
   "outputs": [],
   "source": [
    "A ^ B # Symmetric difference (Set of elements in A and B but not in both. \"EXCLUDING THE INTERSECTION\")."
   ]
  },
  {
   "cell_type": "code",
   "execution_count": null,
   "metadata": {
    "executionInfo": {
     "elapsed": 190,
     "status": "aborted",
     "timestamp": 1729271174686,
     "user": {
      "displayName": "Dr. Rubaiyat Islam",
      "userId": "00143020000614467639"
     },
     "user_tz": -360
    },
    "id": "BxlOIcIbkyb4"
   },
   "outputs": [],
   "source": [
    "A.symmetric_difference(B)  # Symmetric difference of sets"
   ]
  },
  {
   "cell_type": "code",
   "execution_count": null,
   "metadata": {
    "executionInfo": {
     "elapsed": 190,
     "status": "aborted",
     "timestamp": 1729271174686,
     "user": {
      "displayName": "Dr. Rubaiyat Islam",
      "userId": "00143020000614467639"
     },
     "user_tz": -360
    },
    "id": "LKYavf7ekyb4"
   },
   "outputs": [],
   "source": [
    "\"\"\"\n",
    "Updates the set calling the symmetric_difference_update() method with the symmetric difference of sets.\n",
    "\n",
    "For below example Set A will be updated  with the symmetric difference of A & B.\n",
    "\"\"\"\n",
    "\n",
    "A.symmetric_difference_update(B)\n",
    "A"
   ]
  },
  {
   "cell_type": "markdown",
   "metadata": {
    "id": "fwwQ6Viakyb4"
   },
   "source": [
    "<img src=\"https://upload.wikimedia.org/wikipedia/commons/4/46/Venn0110.svg\">"
   ]
  },
  {
   "cell_type": "markdown",
   "metadata": {
    "id": "YrIq4_DMkyb4"
   },
   "source": [
    "### Subset , Superset & Disjoint"
   ]
  },
  {
   "cell_type": "code",
   "execution_count": null,
   "metadata": {
    "collapsed": true,
    "executionInfo": {
     "elapsed": 190,
     "status": "aborted",
     "timestamp": 1729271174686,
     "user": {
      "displayName": "Dr. Rubaiyat Islam",
      "userId": "00143020000614467639"
     },
     "user_tz": -360
    },
    "id": "K1asXydGkyb4"
   },
   "outputs": [],
   "source": [
    "A = {1,2,3,4,5,6,7,8,9}\n",
    "B = {3,4,5,6,7,8}\n",
    "C = {10,20,30,40}"
   ]
  },
  {
   "cell_type": "code",
   "execution_count": null,
   "metadata": {
    "executionInfo": {
     "elapsed": 190,
     "status": "aborted",
     "timestamp": 1729271174686,
     "user": {
      "displayName": "Dr. Rubaiyat Islam",
      "userId": "00143020000614467639"
     },
     "user_tz": -360
    },
    "id": "JTMrmCqHkyb4"
   },
   "outputs": [],
   "source": [
    "B.issubset(A) # Set B is said to be the subset of set A if all elements of B are in A."
   ]
  },
  {
   "cell_type": "code",
   "execution_count": null,
   "metadata": {
    "executionInfo": {
     "elapsed": 190,
     "status": "aborted",
     "timestamp": 1729271174686,
     "user": {
      "displayName": "Dr. Rubaiyat Islam",
      "userId": "00143020000614467639"
     },
     "user_tz": -360
    },
    "id": "lm-31Cy7kyb4"
   },
   "outputs": [],
   "source": [
    "A.issuperset(B) # Set A is said to be the superset of set B if all elements of B are in A."
   ]
  },
  {
   "cell_type": "code",
   "execution_count": null,
   "metadata": {
    "executionInfo": {
     "elapsed": 191,
     "status": "aborted",
     "timestamp": 1729271174687,
     "user": {
      "displayName": "Dr. Rubaiyat Islam",
      "userId": "00143020000614467639"
     },
     "user_tz": -360
    },
    "id": "hJBMHpZnkyb4"
   },
   "outputs": [],
   "source": [
    "C.isdisjoint(A) # Two sets are said to be disjoint sets if they have no common elements."
   ]
  },
  {
   "cell_type": "code",
   "execution_count": null,
   "metadata": {
    "executionInfo": {
     "elapsed": 191,
     "status": "aborted",
     "timestamp": 1729271174687,
     "user": {
      "displayName": "Dr. Rubaiyat Islam",
      "userId": "00143020000614467639"
     },
     "user_tz": -360
    },
    "id": "b7LnsZ-zkyb4"
   },
   "outputs": [],
   "source": [
    "B.isdisjoint(A) # Two sets are said to be disjoint sets if they have no common elements."
   ]
  },
  {
   "cell_type": "markdown",
   "metadata": {
    "id": "h5lsQHYbkyb4"
   },
   "source": [
    "### Other Builtin functions"
   ]
  },
  {
   "cell_type": "code",
   "execution_count": null,
   "metadata": {
    "executionInfo": {
     "elapsed": 191,
     "status": "aborted",
     "timestamp": 1729271174687,
     "user": {
      "displayName": "Dr. Rubaiyat Islam",
      "userId": "00143020000614467639"
     },
     "user_tz": -360
    },
    "id": "ZHH6TaA6kyb4"
   },
   "outputs": [],
   "source": [
    "A"
   ]
  },
  {
   "cell_type": "code",
   "execution_count": null,
   "metadata": {
    "executionInfo": {
     "elapsed": 191,
     "status": "aborted",
     "timestamp": 1729271174687,
     "user": {
      "displayName": "Dr. Rubaiyat Islam",
      "userId": "00143020000614467639"
     },
     "user_tz": -360
    },
    "id": "tydSDO1Pkyb4"
   },
   "outputs": [],
   "source": [
    "sum(A)"
   ]
  },
  {
   "cell_type": "code",
   "execution_count": null,
   "metadata": {
    "executionInfo": {
     "elapsed": 191,
     "status": "aborted",
     "timestamp": 1729271174687,
     "user": {
      "displayName": "Dr. Rubaiyat Islam",
      "userId": "00143020000614467639"
     },
     "user_tz": -360
    },
    "id": "88nWkKXfkyb4"
   },
   "outputs": [],
   "source": [
    "max(A)"
   ]
  },
  {
   "cell_type": "code",
   "execution_count": null,
   "metadata": {
    "executionInfo": {
     "elapsed": 191,
     "status": "aborted",
     "timestamp": 1729271174687,
     "user": {
      "displayName": "Dr. Rubaiyat Islam",
      "userId": "00143020000614467639"
     },
     "user_tz": -360
    },
    "id": "aJj-Iwfskyb4"
   },
   "outputs": [],
   "source": [
    "min(A)"
   ]
  },
  {
   "cell_type": "code",
   "execution_count": null,
   "metadata": {
    "executionInfo": {
     "elapsed": 190,
     "status": "aborted",
     "timestamp": 1729271174687,
     "user": {
      "displayName": "Dr. Rubaiyat Islam",
      "userId": "00143020000614467639"
     },
     "user_tz": -360
    },
    "id": "SpIv7pmxkyb4"
   },
   "outputs": [],
   "source": [
    "len(A)"
   ]
  },
  {
   "cell_type": "code",
   "execution_count": null,
   "metadata": {
    "executionInfo": {
     "elapsed": 190,
     "status": "aborted",
     "timestamp": 1729271174687,
     "user": {
      "displayName": "Dr. Rubaiyat Islam",
      "userId": "00143020000614467639"
     },
     "user_tz": -360
    },
    "id": "MzeoDH82kyb5"
   },
   "outputs": [],
   "source": [
    "list(enumerate(A))"
   ]
  },
  {
   "cell_type": "code",
   "execution_count": null,
   "metadata": {
    "executionInfo": {
     "elapsed": 190,
     "status": "aborted",
     "timestamp": 1729271174687,
     "user": {
      "displayName": "Dr. Rubaiyat Islam",
      "userId": "00143020000614467639"
     },
     "user_tz": -360
    },
    "id": "R7jUH4Mfkyb5"
   },
   "outputs": [],
   "source": [
    "D= sorted(A,reverse=True)\n",
    "D"
   ]
  },
  {
   "cell_type": "code",
   "execution_count": null,
   "metadata": {
    "executionInfo": {
     "elapsed": 190,
     "status": "aborted",
     "timestamp": 1729271174687,
     "user": {
      "displayName": "Dr. Rubaiyat Islam",
      "userId": "00143020000614467639"
     },
     "user_tz": -360
    },
    "id": "GSkQ6hakkyb5"
   },
   "outputs": [],
   "source": [
    "sorted(D)"
   ]
  },
  {
   "cell_type": "markdown",
   "metadata": {
    "id": "tgpvzuBlkyb5"
   },
   "source": [
    "# Dictionary"
   ]
  },
  {
   "cell_type": "markdown",
   "metadata": {
    "id": "uQMVXPsckyb5"
   },
   "source": [
    "- Dictionary is a mutable data type in Python.\n",
    "\n",
    "- A python dictionary is a collection of key and value pairs separated by a colon (:) & enclosed in curly braces {}.\n",
    "\n",
    "- Keys must be unique in a dictionary, duplicate values are allowed."
   ]
  },
  {
   "cell_type": "markdown",
   "metadata": {
    "id": "nbwWAklrkyb5"
   },
   "source": [
    "<img src=\"dict.PNG\">"
   ]
  },
  {
   "cell_type": "markdown",
   "metadata": {
    "id": "98Ev_73Tkyb5"
   },
   "source": [
    "### Create Dictionary"
   ]
  },
  {
   "cell_type": "code",
   "execution_count": null,
   "metadata": {
    "executionInfo": {
     "elapsed": 189,
     "status": "aborted",
     "timestamp": 1729271174687,
     "user": {
      "displayName": "Dr. Rubaiyat Islam",
      "userId": "00143020000614467639"
     },
     "user_tz": -360
    },
    "id": "vHg2aLzikyb5"
   },
   "outputs": [],
   "source": [
    "mydict = dict() # empty dictionary\n",
    "mydict"
   ]
  },
  {
   "cell_type": "code",
   "execution_count": null,
   "metadata": {
    "executionInfo": {
     "elapsed": 189,
     "status": "aborted",
     "timestamp": 1729271174687,
     "user": {
      "displayName": "Dr. Rubaiyat Islam",
      "userId": "00143020000614467639"
     },
     "user_tz": -360
    },
    "id": "w7touyaRkyb5"
   },
   "outputs": [],
   "source": [
    "mydict = {}   # empty dictionary\n",
    "mydict"
   ]
  },
  {
   "cell_type": "code",
   "execution_count": null,
   "metadata": {
    "executionInfo": {
     "elapsed": 189,
     "status": "aborted",
     "timestamp": 1729271174687,
     "user": {
      "displayName": "Dr. Rubaiyat Islam",
      "userId": "00143020000614467639"
     },
     "user_tz": -360
    },
    "id": "h1WwlkPQkyb5"
   },
   "outputs": [],
   "source": [
    "mydict = {1:'one' , 2:'two' , 3:'three'} # dictionary with integer keys\n",
    "mydict"
   ]
  },
  {
   "cell_type": "code",
   "execution_count": null,
   "metadata": {
    "executionInfo": {
     "elapsed": 189,
     "status": "aborted",
     "timestamp": 1729271174687,
     "user": {
      "displayName": "Dr. Rubaiyat Islam",
      "userId": "00143020000614467639"
     },
     "user_tz": -360
    },
    "id": "eHipmfi2kyb5"
   },
   "outputs": [],
   "source": [
    "mydict = dict({1:'one' , 2:'two' , 3:'three'}) # Create dictionary using dict()\n",
    "mydict"
   ]
  },
  {
   "cell_type": "code",
   "execution_count": null,
   "metadata": {
    "executionInfo": {
     "elapsed": 189,
     "status": "aborted",
     "timestamp": 1729271174687,
     "user": {
      "displayName": "Dr. Rubaiyat Islam",
      "userId": "00143020000614467639"
     },
     "user_tz": -360
    },
    "id": "upygmf_ukyb5"
   },
   "outputs": [],
   "source": [
    "mydict = {'A':'one' , 'B':'two' , 'C':'three'} # dictionary with character keys\n",
    "mydict"
   ]
  },
  {
   "cell_type": "code",
   "execution_count": 145,
   "metadata": {
    "executionInfo": {
     "elapsed": 189,
     "status": "aborted",
     "timestamp": 1729271174687,
     "user": {
      "displayName": "Dr. Rubaiyat Islam",
      "userId": "00143020000614467639"
     },
     "user_tz": -360
    },
    "id": "ru67o5FGkyb5"
   },
   "outputs": [
    {
     "data": {
      "text/plain": [
       "{1: 'one', 'A': 'two', 3: 'three'}"
      ]
     },
     "execution_count": 145,
     "metadata": {},
     "output_type": "execute_result"
    }
   ],
   "source": [
    "mydict = {1:'one' , 'A':'two' , 3:'three'} # dictionary with mixed keys\n",
    "mydict"
   ]
  },
  {
   "cell_type": "code",
   "execution_count": 146,
   "metadata": {
    "executionInfo": {
     "elapsed": 189,
     "status": "aborted",
     "timestamp": 1729271174687,
     "user": {
      "displayName": "Dr. Rubaiyat Islam",
      "userId": "00143020000614467639"
     },
     "user_tz": -360
    },
    "id": "h3zgBvLqkyb5"
   },
   "outputs": [
    {
     "data": {
      "text/plain": [
       "dict_keys([1, 'A', 3])"
      ]
     },
     "execution_count": 146,
     "metadata": {},
     "output_type": "execute_result"
    }
   ],
   "source": [
    "mydict.keys() # Return Dictionary Keys using keys() method"
   ]
  },
  {
   "cell_type": "code",
   "execution_count": 147,
   "metadata": {
    "executionInfo": {
     "elapsed": 189,
     "status": "aborted",
     "timestamp": 1729271174687,
     "user": {
      "displayName": "Dr. Rubaiyat Islam",
      "userId": "00143020000614467639"
     },
     "user_tz": -360
    },
    "id": "XlXPXFKnkyb5",
    "scrolled": true
   },
   "outputs": [
    {
     "data": {
      "text/plain": [
       "dict_values(['one', 'two', 'three'])"
      ]
     },
     "execution_count": 147,
     "metadata": {},
     "output_type": "execute_result"
    }
   ],
   "source": [
    "mydict.values() # Return Dictionary Values using values() method"
   ]
  },
  {
   "cell_type": "code",
   "execution_count": null,
   "metadata": {
    "executionInfo": {
     "elapsed": 189,
     "status": "aborted",
     "timestamp": 1729271174687,
     "user": {
      "displayName": "Dr. Rubaiyat Islam",
      "userId": "00143020000614467639"
     },
     "user_tz": -360
    },
    "id": "7spZDdYRkyb6"
   },
   "outputs": [],
   "source": [
    "mydict.items() # Access each key-value pair within a dictionary"
   ]
  },
  {
   "cell_type": "code",
   "execution_count": null,
   "metadata": {
    "executionInfo": {
     "elapsed": 190,
     "status": "aborted",
     "timestamp": 1729271174688,
     "user": {
      "displayName": "Dr. Rubaiyat Islam",
      "userId": "00143020000614467639"
     },
     "user_tz": -360
    },
    "id": "xeU37mfvkyb6"
   },
   "outputs": [],
   "source": [
    "mydict = {1:'one' , 2:'two' , 'A':['asif' , 'john' , 'Maria']} # dictionary with mixed keys\n",
    "mydict"
   ]
  },
  {
   "cell_type": "code",
   "execution_count": null,
   "metadata": {
    "executionInfo": {
     "elapsed": 190,
     "status": "aborted",
     "timestamp": 1729271174688,
     "user": {
      "displayName": "Dr. Rubaiyat Islam",
      "userId": "00143020000614467639"
     },
     "user_tz": -360
    },
    "id": "nicRy6A-kyb6"
   },
   "outputs": [],
   "source": [
    "mydict = {1:'one' , 2:'two' , 'A':['asif' , 'john' , 'Maria'],  'B':('Bat' , 'cat' , 'hat')} # dictionary with mixed keys\n",
    "mydict"
   ]
  },
  {
   "cell_type": "code",
   "execution_count": null,
   "metadata": {
    "executionInfo": {
     "elapsed": 189,
     "status": "aborted",
     "timestamp": 1729271174688,
     "user": {
      "displayName": "Dr. Rubaiyat Islam",
      "userId": "00143020000614467639"
     },
     "user_tz": -360
    },
    "id": "zz5OfvhBkyb6"
   },
   "outputs": [],
   "source": [
    "mydict = {1:'one' , 2:'two' , 'A':{'Name':'asif' , 'Age' :20},  'B':('Bat' , 'cat' , 'hat')} # dictionary with mixed keys\n",
    "mydict"
   ]
  },
  {
   "cell_type": "code",
   "execution_count": null,
   "metadata": {
    "executionInfo": {
     "elapsed": 189,
     "status": "aborted",
     "timestamp": 1729271174688,
     "user": {
      "displayName": "Dr. Rubaiyat Islam",
      "userId": "00143020000614467639"
     },
     "user_tz": -360
    },
    "id": "nTdeKekjkyb6"
   },
   "outputs": [],
   "source": [
    "keys = {'a' , 'b' , 'c' , 'd'}\n",
    "mydict3 = dict.fromkeys(keys)   # Create a dictionary from a sequence of keys\n",
    "mydict3"
   ]
  },
  {
   "cell_type": "code",
   "execution_count": null,
   "metadata": {
    "executionInfo": {
     "elapsed": 189,
     "status": "aborted",
     "timestamp": 1729271174688,
     "user": {
      "displayName": "Dr. Rubaiyat Islam",
      "userId": "00143020000614467639"
     },
     "user_tz": -360
    },
    "id": "lq0FHRW6kyb6"
   },
   "outputs": [],
   "source": [
    "keys = {'a' , 'b' , 'c' , 'd'}\n",
    "value = 10\n",
    "mydict3 = dict.fromkeys(keys , value)  # Create a dictionary from a sequence of keys with value\n",
    "mydict3"
   ]
  },
  {
   "cell_type": "code",
   "execution_count": null,
   "metadata": {
    "executionInfo": {
     "elapsed": 189,
     "status": "aborted",
     "timestamp": 1729271174688,
     "user": {
      "displayName": "Dr. Rubaiyat Islam",
      "userId": "00143020000614467639"
     },
     "user_tz": -360
    },
    "id": "sKprANsPkyb6"
   },
   "outputs": [],
   "source": [
    "keys = {'a' , 'b' , 'c' , 'd'}\n",
    "value = [10,20,30]\n",
    "mydict3 = dict.fromkeys(keys , value)  # Create a dictionary from a sequence of keys with value list\n",
    "mydict3"
   ]
  },
  {
   "cell_type": "code",
   "execution_count": null,
   "metadata": {
    "executionInfo": {
     "elapsed": 189,
     "status": "aborted",
     "timestamp": 1729271174688,
     "user": {
      "displayName": "Dr. Rubaiyat Islam",
      "userId": "00143020000614467639"
     },
     "user_tz": -360
    },
    "id": "77byNNunkyb6"
   },
   "outputs": [],
   "source": [
    "value.append(40)\n",
    "mydict3"
   ]
  },
  {
   "cell_type": "markdown",
   "metadata": {
    "id": "R-T97RJ5kyb6"
   },
   "source": [
    "### Accessing Items"
   ]
  },
  {
   "cell_type": "code",
   "execution_count": null,
   "metadata": {
    "executionInfo": {
     "elapsed": 189,
     "status": "aborted",
     "timestamp": 1729271174688,
     "user": {
      "displayName": "Dr. Rubaiyat Islam",
      "userId": "00143020000614467639"
     },
     "user_tz": -360
    },
    "id": "jm08XtUIkyb6"
   },
   "outputs": [],
   "source": [
    "mydict = {1:'one' , 2:'two' , 3:'three' , 4:'four'}\n",
    "mydict"
   ]
  },
  {
   "cell_type": "code",
   "execution_count": null,
   "metadata": {
    "executionInfo": {
     "elapsed": 189,
     "status": "aborted",
     "timestamp": 1729271174688,
     "user": {
      "displayName": "Dr. Rubaiyat Islam",
      "userId": "00143020000614467639"
     },
     "user_tz": -360
    },
    "id": "hbPF8Hs6kyb6"
   },
   "outputs": [],
   "source": [
    "mydict[1] # Access item using key"
   ]
  },
  {
   "cell_type": "code",
   "execution_count": null,
   "metadata": {
    "executionInfo": {
     "elapsed": 189,
     "status": "aborted",
     "timestamp": 1729271174688,
     "user": {
      "displayName": "Dr. Rubaiyat Islam",
      "userId": "00143020000614467639"
     },
     "user_tz": -360
    },
    "id": "JjCEXXrOkyb6"
   },
   "outputs": [],
   "source": [
    "mydict.get(1) # Access item using get() method"
   ]
  },
  {
   "cell_type": "code",
   "execution_count": null,
   "metadata": {
    "executionInfo": {
     "elapsed": 189,
     "status": "aborted",
     "timestamp": 1729271174688,
     "user": {
      "displayName": "Dr. Rubaiyat Islam",
      "userId": "00143020000614467639"
     },
     "user_tz": -360
    },
    "id": "YBQ_x9MHkyb6"
   },
   "outputs": [],
   "source": [
    "mydict1 = {'Name':'Asif' , 'ID': 74123 , 'DOB': 1991 , 'job' :'Analyst'}\n",
    "mydict1"
   ]
  },
  {
   "cell_type": "code",
   "execution_count": null,
   "metadata": {
    "executionInfo": {
     "elapsed": 189,
     "status": "aborted",
     "timestamp": 1729271174688,
     "user": {
      "displayName": "Dr. Rubaiyat Islam",
      "userId": "00143020000614467639"
     },
     "user_tz": -360
    },
    "id": "_rje1VI9kyb6"
   },
   "outputs": [],
   "source": [
    "mydict1['Name']  # Access item using key"
   ]
  },
  {
   "cell_type": "code",
   "execution_count": null,
   "metadata": {
    "executionInfo": {
     "elapsed": 189,
     "status": "aborted",
     "timestamp": 1729271174688,
     "user": {
      "displayName": "Dr. Rubaiyat Islam",
      "userId": "00143020000614467639"
     },
     "user_tz": -360
    },
    "id": "fKJPW7YJkyb6"
   },
   "outputs": [],
   "source": [
    "mydict1.get('job')  # Access item using get() method"
   ]
  },
  {
   "cell_type": "markdown",
   "metadata": {
    "id": "OL9erCgTkyb6"
   },
   "source": [
    "### Add, Remove & Change Items"
   ]
  },
  {
   "cell_type": "code",
   "execution_count": null,
   "metadata": {
    "executionInfo": {
     "elapsed": 188,
     "status": "aborted",
     "timestamp": 1729271174688,
     "user": {
      "displayName": "Dr. Rubaiyat Islam",
      "userId": "00143020000614467639"
     },
     "user_tz": -360
    },
    "id": "zE_RrjCJkyb6"
   },
   "outputs": [],
   "source": [
    "mydict1 = {'Name':'Asif' , 'ID': 12345 , 'DOB': 1991 , 'Address' : 'Hilsinki'}\n",
    "mydict1"
   ]
  },
  {
   "cell_type": "code",
   "execution_count": null,
   "metadata": {
    "executionInfo": {
     "elapsed": 188,
     "status": "aborted",
     "timestamp": 1729271174688,
     "user": {
      "displayName": "Dr. Rubaiyat Islam",
      "userId": "00143020000614467639"
     },
     "user_tz": -360
    },
    "id": "DBLHREWvkyb7"
   },
   "outputs": [],
   "source": [
    "mydict1['DOB'] = 1992  # Changing Dictionary Items\n",
    "mydict1['Address'] = 'Delhi'\n",
    "mydict1"
   ]
  },
  {
   "cell_type": "code",
   "execution_count": null,
   "metadata": {
    "executionInfo": {
     "elapsed": 188,
     "status": "aborted",
     "timestamp": 1729271174688,
     "user": {
      "displayName": "Dr. Rubaiyat Islam",
      "userId": "00143020000614467639"
     },
     "user_tz": -360
    },
    "id": "n3wr4TeJkyb7"
   },
   "outputs": [],
   "source": [
    "dict1 = {'DOB':1995}\n",
    "mydict1.update(dict1)\n",
    "mydict1"
   ]
  },
  {
   "cell_type": "code",
   "execution_count": null,
   "metadata": {
    "executionInfo": {
     "elapsed": 188,
     "status": "aborted",
     "timestamp": 1729271174688,
     "user": {
      "displayName": "Dr. Rubaiyat Islam",
      "userId": "00143020000614467639"
     },
     "user_tz": -360
    },
    "id": "ICYBqwfokyb7"
   },
   "outputs": [],
   "source": [
    "mydict1['Job'] = 'Analyst' # Adding items in the dictionary\n",
    "mydict1"
   ]
  },
  {
   "cell_type": "code",
   "execution_count": null,
   "metadata": {
    "executionInfo": {
     "elapsed": 188,
     "status": "aborted",
     "timestamp": 1729271174688,
     "user": {
      "displayName": "Dr. Rubaiyat Islam",
      "userId": "00143020000614467639"
     },
     "user_tz": -360
    },
    "id": "s19yeVx5kyb7"
   },
   "outputs": [],
   "source": [
    "mydict1.pop('Job') # Removing items in the dictionary using Pop method\n",
    "mydict1"
   ]
  },
  {
   "cell_type": "code",
   "execution_count": null,
   "metadata": {
    "executionInfo": {
     "elapsed": 187,
     "status": "aborted",
     "timestamp": 1729271174688,
     "user": {
      "displayName": "Dr. Rubaiyat Islam",
      "userId": "00143020000614467639"
     },
     "user_tz": -360
    },
    "id": "Ct3nLS1Pkyb7"
   },
   "outputs": [],
   "source": [
    "mydict1.popitem() # A random item is removed"
   ]
  },
  {
   "cell_type": "code",
   "execution_count": null,
   "metadata": {
    "executionInfo": {
     "elapsed": 187,
     "status": "aborted",
     "timestamp": 1729271174688,
     "user": {
      "displayName": "Dr. Rubaiyat Islam",
      "userId": "00143020000614467639"
     },
     "user_tz": -360
    },
    "id": "VITNBeLQkyb7"
   },
   "outputs": [],
   "source": [
    "mydict1"
   ]
  },
  {
   "cell_type": "code",
   "execution_count": null,
   "metadata": {
    "executionInfo": {
     "elapsed": 187,
     "status": "aborted",
     "timestamp": 1729271174688,
     "user": {
      "displayName": "Dr. Rubaiyat Islam",
      "userId": "00143020000614467639"
     },
     "user_tz": -360
    },
    "id": "lcPzIUgfkyb7"
   },
   "outputs": [],
   "source": [
    "del[mydict1['ID']] # Removing item using del method\n",
    "mydict1"
   ]
  },
  {
   "cell_type": "code",
   "execution_count": null,
   "metadata": {
    "executionInfo": {
     "elapsed": 187,
     "status": "aborted",
     "timestamp": 1729271174688,
     "user": {
      "displayName": "Dr. Rubaiyat Islam",
      "userId": "00143020000614467639"
     },
     "user_tz": -360
    },
    "id": "ZvLmUAlPkyb7"
   },
   "outputs": [],
   "source": [
    "mydict1.clear() # Delete all items of the dictionary using clear method\n",
    "mydict1"
   ]
  },
  {
   "cell_type": "code",
   "execution_count": null,
   "metadata": {
    "executionInfo": {
     "elapsed": 187,
     "status": "aborted",
     "timestamp": 1729271174688,
     "user": {
      "displayName": "Dr. Rubaiyat Islam",
      "userId": "00143020000614467639"
     },
     "user_tz": -360
    },
    "id": "aYcpMvnAkyb7"
   },
   "outputs": [],
   "source": [
    "del mydict1 # Delete the dictionary object\n",
    "mydict1"
   ]
  },
  {
   "cell_type": "markdown",
   "metadata": {
    "id": "0JWJgTCNkyb7"
   },
   "source": [
    "### Copy Dictionary"
   ]
  },
  {
   "cell_type": "code",
   "execution_count": null,
   "metadata": {
    "executionInfo": {
     "elapsed": 186,
     "status": "aborted",
     "timestamp": 1729271174688,
     "user": {
      "displayName": "Dr. Rubaiyat Islam",
      "userId": "00143020000614467639"
     },
     "user_tz": -360
    },
    "id": "rfiyFDFikyb7"
   },
   "outputs": [],
   "source": [
    "mydict = {'Name':'Asif' , 'ID': 12345 , 'DOB': 1991 , 'Address' : 'Hilsinki'}\n",
    "mydict"
   ]
  },
  {
   "cell_type": "code",
   "execution_count": null,
   "metadata": {
    "collapsed": true,
    "executionInfo": {
     "elapsed": 187,
     "status": "aborted",
     "timestamp": 1729271174689,
     "user": {
      "displayName": "Dr. Rubaiyat Islam",
      "userId": "00143020000614467639"
     },
     "user_tz": -360
    },
    "id": "U89VP6SIkyb7"
   },
   "outputs": [],
   "source": [
    "mydict1 = mydict # Create a new reference \"mydict1\""
   ]
  },
  {
   "cell_type": "code",
   "execution_count": null,
   "metadata": {
    "executionInfo": {
     "elapsed": 187,
     "status": "aborted",
     "timestamp": 1729271174689,
     "user": {
      "displayName": "Dr. Rubaiyat Islam",
      "userId": "00143020000614467639"
     },
     "user_tz": -360
    },
    "id": "ZFF-wZnBkyb7"
   },
   "outputs": [],
   "source": [
    "id(mydict) , id(mydict1) # The address of both mydict & mydict1 will be the same as both are pointing to same dictionary."
   ]
  },
  {
   "cell_type": "code",
   "execution_count": null,
   "metadata": {
    "collapsed": true,
    "executionInfo": {
     "elapsed": 187,
     "status": "aborted",
     "timestamp": 1729271174689,
     "user": {
      "displayName": "Dr. Rubaiyat Islam",
      "userId": "00143020000614467639"
     },
     "user_tz": -360
    },
    "id": "aAirbLihkyb7"
   },
   "outputs": [],
   "source": [
    "mydict2 = mydict.copy() # Create a copy of the dictionary"
   ]
  },
  {
   "cell_type": "code",
   "execution_count": null,
   "metadata": {
    "executionInfo": {
     "elapsed": 187,
     "status": "aborted",
     "timestamp": 1729271174689,
     "user": {
      "displayName": "Dr. Rubaiyat Islam",
      "userId": "00143020000614467639"
     },
     "user_tz": -360
    },
    "id": "71FgX4Mtkyb7"
   },
   "outputs": [],
   "source": [
    "id(mydict2) # The address of mydict2 will be different from mydict because mydict2 is pointing to the copy of the existing dict."
   ]
  },
  {
   "cell_type": "code",
   "execution_count": null,
   "metadata": {
    "collapsed": true,
    "executionInfo": {
     "elapsed": 186,
     "status": "aborted",
     "timestamp": 1729271174689,
     "user": {
      "displayName": "Dr. Rubaiyat Islam",
      "userId": "00143020000614467639"
     },
     "user_tz": -360
    },
    "id": "KTWs5WWhkyb7"
   },
   "outputs": [],
   "source": [
    "mydict['Address'] = 'Mumbai'"
   ]
  },
  {
   "cell_type": "code",
   "execution_count": null,
   "metadata": {
    "executionInfo": {
     "elapsed": 186,
     "status": "aborted",
     "timestamp": 1729271174689,
     "user": {
      "displayName": "Dr. Rubaiyat Islam",
      "userId": "00143020000614467639"
     },
     "user_tz": -360
    },
    "id": "RD5KYs1hkyb7"
   },
   "outputs": [],
   "source": [
    "mydict"
   ]
  },
  {
   "cell_type": "code",
   "execution_count": null,
   "metadata": {
    "executionInfo": {
     "elapsed": 186,
     "status": "aborted",
     "timestamp": 1729271174689,
     "user": {
      "displayName": "Dr. Rubaiyat Islam",
      "userId": "00143020000614467639"
     },
     "user_tz": -360
    },
    "id": "ESUAlK-kkyb7"
   },
   "outputs": [],
   "source": [
    "mydict1 # mydict1 will be also impacted as it is pointing to the same dictionary"
   ]
  },
  {
   "cell_type": "code",
   "execution_count": null,
   "metadata": {
    "executionInfo": {
     "elapsed": 186,
     "status": "aborted",
     "timestamp": 1729271174689,
     "user": {
      "displayName": "Dr. Rubaiyat Islam",
      "userId": "00143020000614467639"
     },
     "user_tz": -360
    },
    "id": "dblDrrppkyb8"
   },
   "outputs": [],
   "source": [
    "mydict2 # Copy of list won't be impacted due to the changes made in the original dictionary"
   ]
  },
  {
   "cell_type": "markdown",
   "metadata": {
    "id": "rn7eWxDLkyb8"
   },
   "source": [
    "### Loop through a Dictionary"
   ]
  },
  {
   "cell_type": "code",
   "execution_count": 148,
   "metadata": {
    "executionInfo": {
     "elapsed": 186,
     "status": "aborted",
     "timestamp": 1729271174689,
     "user": {
      "displayName": "Dr. Rubaiyat Islam",
      "userId": "00143020000614467639"
     },
     "user_tz": -360
    },
    "id": "ExbskQT-kyb8"
   },
   "outputs": [
    {
     "data": {
      "text/plain": [
       "{'Name': 'Asif',\n",
       " 'ID': 12345,\n",
       " 'DOB': 1991,\n",
       " 'Address': 'Hilsinki',\n",
       " 'Job': 'Analyst'}"
      ]
     },
     "execution_count": 148,
     "metadata": {},
     "output_type": "execute_result"
    }
   ],
   "source": [
    "mydict1 = {'Name':'Asif' , 'ID': 12345 , 'DOB': 1991 , 'Address' : 'Hilsinki' , 'Job': 'Analyst'}\n",
    "mydict1"
   ]
  },
  {
   "cell_type": "code",
   "execution_count": 149,
   "metadata": {
    "executionInfo": {
     "elapsed": 186,
     "status": "aborted",
     "timestamp": 1729271174689,
     "user": {
      "displayName": "Dr. Rubaiyat Islam",
      "userId": "00143020000614467639"
     },
     "user_tz": -360
    },
    "id": "73d0_eTkkyb8"
   },
   "outputs": [
    {
     "name": "stdout",
     "output_type": "stream",
     "text": [
      "Name : Asif\n",
      "ID : 12345\n",
      "DOB : 1991\n",
      "Address : Hilsinki\n",
      "Job : Analyst\n"
     ]
    }
   ],
   "source": [
    "for i in mydict1:\n",
    "    print(i , ':' , mydict1[i]) # Key & value pair"
   ]
  },
  {
   "cell_type": "code",
   "execution_count": null,
   "metadata": {
    "executionInfo": {
     "elapsed": 186,
     "status": "aborted",
     "timestamp": 1729271174689,
     "user": {
      "displayName": "Dr. Rubaiyat Islam",
      "userId": "00143020000614467639"
     },
     "user_tz": -360
    },
    "id": "Qsbc7L2Fkyb8"
   },
   "outputs": [],
   "source": [
    "for i in mydict1:\n",
    "    print(mydict1[i]) # Dictionary items"
   ]
  },
  {
   "cell_type": "markdown",
   "metadata": {
    "id": "CQuFAUyGkyb8"
   },
   "source": [
    "### Dictionary Membership"
   ]
  },
  {
   "cell_type": "code",
   "execution_count": null,
   "metadata": {
    "executionInfo": {
     "elapsed": 186,
     "status": "aborted",
     "timestamp": 1729271174689,
     "user": {
      "displayName": "Dr. Rubaiyat Islam",
      "userId": "00143020000614467639"
     },
     "user_tz": -360
    },
    "id": "xD8-T_r3kyb8"
   },
   "outputs": [],
   "source": [
    "mydict1 = {'Name':'Asif' , 'ID': 12345 , 'DOB': 1991 , 'Job': 'Analyst'}\n",
    "mydict1"
   ]
  },
  {
   "cell_type": "code",
   "execution_count": null,
   "metadata": {
    "executionInfo": {
     "elapsed": 185,
     "status": "aborted",
     "timestamp": 1729271174689,
     "user": {
      "displayName": "Dr. Rubaiyat Islam",
      "userId": "00143020000614467639"
     },
     "user_tz": -360
    },
    "id": "obb4vxI6kyb8"
   },
   "outputs": [],
   "source": [
    "'Name' in mydict1 # Test if a key is in a dictionary or not."
   ]
  },
  {
   "cell_type": "code",
   "execution_count": null,
   "metadata": {
    "executionInfo": {
     "elapsed": 185,
     "status": "aborted",
     "timestamp": 1729271174689,
     "user": {
      "displayName": "Dr. Rubaiyat Islam",
      "userId": "00143020000614467639"
     },
     "user_tz": -360
    },
    "id": "ir17DX8ikyb8"
   },
   "outputs": [],
   "source": [
    "'Asif' in mydict1  # Membership test can be only done for keys."
   ]
  },
  {
   "cell_type": "code",
   "execution_count": null,
   "metadata": {
    "executionInfo": {
     "elapsed": 185,
     "status": "aborted",
     "timestamp": 1729271174689,
     "user": {
      "displayName": "Dr. Rubaiyat Islam",
      "userId": "00143020000614467639"
     },
     "user_tz": -360
    },
    "id": "FXLuXQuQkyb8"
   },
   "outputs": [],
   "source": [
    "'ID' in mydict1"
   ]
  },
  {
   "cell_type": "code",
   "execution_count": null,
   "metadata": {
    "executionInfo": {
     "elapsed": 185,
     "status": "aborted",
     "timestamp": 1729271174689,
     "user": {
      "displayName": "Dr. Rubaiyat Islam",
      "userId": "00143020000614467639"
     },
     "user_tz": -360
    },
    "id": "m5YZqDcXkyb8"
   },
   "outputs": [],
   "source": [
    "'Address' in mydict1"
   ]
  },
  {
   "cell_type": "markdown",
   "metadata": {
    "id": "TO_kTwbAkyb8"
   },
   "source": [
    "### All / Any"
   ]
  },
  {
   "cell_type": "markdown",
   "metadata": {
    "id": "19DsMZaukyb8"
   },
   "source": [
    "The __all()__ method returns:\n",
    "\n",
    "- __True__ - If all all keys of the dictionary are true\n",
    "- __False__ - If any key of the dictionary is false\n",
    "\n",
    "\n",
    "The __any()__ function returns True if any key of the dictionary is True. If not, any() returns False."
   ]
  },
  {
   "cell_type": "code",
   "execution_count": null,
   "metadata": {
    "executionInfo": {
     "elapsed": 185,
     "status": "aborted",
     "timestamp": 1729271174689,
     "user": {
      "displayName": "Dr. Rubaiyat Islam",
      "userId": "00143020000614467639"
     },
     "user_tz": -360
    },
    "id": "2rulGptvkyb8"
   },
   "outputs": [],
   "source": [
    "mydict1 = {'Name':'Asif' , 'ID': 12345 , 'DOB': 1991 , 'Job': 'Analyst'}\n",
    "mydict1"
   ]
  },
  {
   "cell_type": "code",
   "execution_count": null,
   "metadata": {
    "executionInfo": {
     "elapsed": 185,
     "status": "aborted",
     "timestamp": 1729271174689,
     "user": {
      "displayName": "Dr. Rubaiyat Islam",
      "userId": "00143020000614467639"
     },
     "user_tz": -360
    },
    "id": "TjpphG7Pkyb8"
   },
   "outputs": [],
   "source": [
    "all(mydict1) # Will Return false as one value is false (Value 0)"
   ]
  },
  {
   "cell_type": "code",
   "execution_count": null,
   "metadata": {
    "executionInfo": {
     "elapsed": 185,
     "status": "aborted",
     "timestamp": 1729271174689,
     "user": {
      "displayName": "Dr. Rubaiyat Islam",
      "userId": "00143020000614467639"
     },
     "user_tz": -360
    },
    "id": "qZS47MuFkyb8"
   },
   "outputs": [],
   "source": [
    "any(mydict1)  # Will Return True as we have items in the dictionary with True value"
   ]
  },
  {
   "cell_type": "code",
   "execution_count": null,
   "metadata": {
    "executionInfo": {
     "elapsed": 185,
     "status": "aborted",
     "timestamp": 1729271174689,
     "user": {
      "displayName": "Dr. Rubaiyat Islam",
      "userId": "00143020000614467639"
     },
     "user_tz": -360
    },
    "id": "q95g77YgkycA"
   },
   "outputs": [],
   "source": [
    "mydict1[0] = 'test1'\n",
    "mydict1"
   ]
  },
  {
   "cell_type": "code",
   "execution_count": null,
   "metadata": {
    "executionInfo": {
     "elapsed": 184,
     "status": "aborted",
     "timestamp": 1729271174689,
     "user": {
      "displayName": "Dr. Rubaiyat Islam",
      "userId": "00143020000614467639"
     },
     "user_tz": -360
    },
    "id": "ciIJY4dXkycA"
   },
   "outputs": [],
   "source": [
    "all(mydict1) # Returns false as one value is false"
   ]
  },
  {
   "cell_type": "code",
   "execution_count": null,
   "metadata": {
    "executionInfo": {
     "elapsed": 184,
     "status": "aborted",
     "timestamp": 1729271174689,
     "user": {
      "displayName": "Dr. Rubaiyat Islam",
      "userId": "00143020000614467639"
     },
     "user_tz": -360
    },
    "id": "-QBVS2d1kycA"
   },
   "outputs": [],
   "source": [
    "any(mydict1)  # Will Return True as we have items in the dictionary with True value"
   ]
  },
  {
   "cell_type": "markdown",
   "metadata": {
    "id": "51H1xHN_kycA"
   },
   "source": [
    "### Dictionary Comprehension"
   ]
  },
  {
   "cell_type": "code",
   "execution_count": null,
   "metadata": {
    "executionInfo": {
     "elapsed": 184,
     "status": "aborted",
     "timestamp": 1729271174689,
     "user": {
      "displayName": "Dr. Rubaiyat Islam",
      "userId": "00143020000614467639"
     },
     "user_tz": -360
    },
    "id": "GBDSBTMckycA"
   },
   "outputs": [],
   "source": [
    "double = {i:i*2 for i in range(10)} #double each value using dict comprehension\n",
    "double"
   ]
  },
  {
   "cell_type": "code",
   "execution_count": null,
   "metadata": {
    "executionInfo": {
     "elapsed": 184,
     "status": "aborted",
     "timestamp": 1729271174689,
     "user": {
      "displayName": "Dr. Rubaiyat Islam",
      "userId": "00143020000614467639"
     },
     "user_tz": -360
    },
    "id": "Lds2x2o2kycB"
   },
   "outputs": [],
   "source": [
    "square = {i:i**2 for i in range(10)}\n",
    "square"
   ]
  },
  {
   "cell_type": "markdown",
   "metadata": {
    "id": "TtjI0z8skycB"
   },
   "source": [
    "<img src=\"Dcomprehension.PNG\">"
   ]
  },
  {
   "cell_type": "code",
   "execution_count": null,
   "metadata": {
    "executionInfo": {
     "elapsed": 184,
     "status": "aborted",
     "timestamp": 1729271174689,
     "user": {
      "displayName": "Dr. Rubaiyat Islam",
      "userId": "00143020000614467639"
     },
     "user_tz": -360
    },
    "id": "PElTmgIrkycB"
   },
   "outputs": [],
   "source": [
    "key = ['one' , 'two' , 'three' , 'four' , 'five']\n",
    "value = [1,2,3,4,5]\n",
    "\n",
    "mydict = {k:v for (k,v) in zip(key,value)} # using dict comprehension to create dictionary\n",
    "mydict"
   ]
  },
  {
   "cell_type": "code",
   "execution_count": null,
   "metadata": {
    "executionInfo": {
     "elapsed": 185,
     "status": "aborted",
     "timestamp": 1729271174690,
     "user": {
      "displayName": "Dr. Rubaiyat Islam",
      "userId": "00143020000614467639"
     },
     "user_tz": -360
    },
    "id": "H-gxXRbgkycB"
   },
   "outputs": [],
   "source": [
    "mydict1 = {'a':10 , 'b':20 , 'c':30 , 'd':40 , 'e':50}\n",
    "mydict1 = {k:v/10 for (k,v) in mydict1.items()} # Divide all values in a dictionary by 10\n",
    "mydict1"
   ]
  },
  {
   "cell_type": "code",
   "execution_count": null,
   "metadata": {
    "executionInfo": {
     "elapsed": 183,
     "status": "aborted",
     "timestamp": 1729271174690,
     "user": {
      "displayName": "Dr. Rubaiyat Islam",
      "userId": "00143020000614467639"
     },
     "user_tz": -360
    },
    "id": "LZF128xDkycB"
   },
   "outputs": [],
   "source": [
    "str1 = \"Natural Language Processing\"\n",
    "\n",
    "mydict2 = {k:v for (k,v) in enumerate(str1)} # Store enumerated values in a dictionary\n",
    "mydict2"
   ]
  },
  {
   "cell_type": "code",
   "execution_count": null,
   "metadata": {
    "executionInfo": {
     "elapsed": 183,
     "status": "aborted",
     "timestamp": 1729271174690,
     "user": {
      "displayName": "Dr. Rubaiyat Islam",
      "userId": "00143020000614467639"
     },
     "user_tz": -360
    },
    "id": "mtbqbIJgkycB"
   },
   "outputs": [],
   "source": [
    "str1 = \"abcdefghijklmnopqrstuvwxyz\"\n",
    "mydict3 = {i:i.upper() for i in str1} # Lower to Upper Case\n",
    "mydict3"
   ]
  },
  {
   "cell_type": "markdown",
   "metadata": {
    "id": "xwwWZFcykycB"
   },
   "source": [
    "### Word Frequency using dictionary"
   ]
  },
  {
   "cell_type": "code",
   "execution_count": null,
   "metadata": {
    "collapsed": true,
    "executionInfo": {
     "elapsed": 182,
     "status": "aborted",
     "timestamp": 1729271174690,
     "user": {
      "displayName": "Dr. Rubaiyat Islam",
      "userId": "00143020000614467639"
     },
     "user_tz": -360
    },
    "id": "zPpaJ31BkycB"
   },
   "outputs": [],
   "source": [
    "mystr4 = \"one two three four one two two three five five six seven six seven one one one ten eight ten nine eleven ten ten nine\""
   ]
  },
  {
   "cell_type": "code",
   "execution_count": null,
   "metadata": {
    "executionInfo": {
     "elapsed": 182,
     "status": "aborted",
     "timestamp": 1729271174690,
     "user": {
      "displayName": "Dr. Rubaiyat Islam",
      "userId": "00143020000614467639"
     },
     "user_tz": -360
    },
    "id": "wUMzqrhLkycB"
   },
   "outputs": [],
   "source": [
    "mylist = mystr4.split() # Split String into substrings\n",
    "mylist"
   ]
  },
  {
   "cell_type": "code",
   "execution_count": null,
   "metadata": {
    "executionInfo": {
     "elapsed": 182,
     "status": "aborted",
     "timestamp": 1729271174690,
     "user": {
      "displayName": "Dr. Rubaiyat Islam",
      "userId": "00143020000614467639"
     },
     "user_tz": -360
    },
    "id": "XHVGDfVwkycB"
   },
   "outputs": [],
   "source": [
    "mylist1 = set(mylist) # Unique values in a list\n",
    "mylist1 = list (mylist1)\n",
    "mylist1"
   ]
  },
  {
   "cell_type": "code",
   "execution_count": null,
   "metadata": {
    "executionInfo": {
     "elapsed": 182,
     "status": "aborted",
     "timestamp": 1729271174690,
     "user": {
      "displayName": "Dr. Rubaiyat Islam",
      "userId": "00143020000614467639"
     },
     "user_tz": -360
    },
    "id": "tEzQGu-6kycB"
   },
   "outputs": [],
   "source": [
    "# Calculate frequenct of each word\n",
    "count1 = [0] * len(mylist1)\n",
    "mydict5 = dict()\n",
    "for i in range(len(mylist1)):\n",
    "    for j in range(len(mylist)):\n",
    "        if mylist1[i] == mylist[j]:\n",
    "            count1[i] += 1\n",
    "    mydict5[mylist1[i]] = count1[i]\n",
    "print(mydict5)"
   ]
  },
  {
   "cell_type": "markdown",
   "metadata": {
    "id": "yMbQSBfmkycB"
   },
   "source": [
    "# Operators"
   ]
  },
  {
   "cell_type": "markdown",
   "metadata": {
    "id": "IcNJaeLmkycB"
   },
   "source": [
    "- __Operators are special symbols in Python which are used to perform operations on variables/values.__"
   ]
  },
  {
   "cell_type": "markdown",
   "metadata": {
    "id": "TkFZ36AdkycB"
   },
   "source": [
    "### Arithmetic Operators"
   ]
  },
  {
   "cell_type": "code",
   "execution_count": null,
   "metadata": {
    "executionInfo": {
     "elapsed": 186,
     "status": "aborted",
     "timestamp": 1729271174694,
     "user": {
      "displayName": "Dr. Rubaiyat Islam",
      "userId": "00143020000614467639"
     },
     "user_tz": -360
    },
    "id": "sXGAw_R0kycB"
   },
   "outputs": [],
   "source": [
    "a = 5\n",
    "b = 2\n",
    "\n",
    "x = 'Asif'\n",
    "y = 'Bhat'\n",
    "\n",
    "# Addition\n",
    "c = a + b\n",
    "print('Addition of {} and {} will give :- {}\\n'.format(a,b,c))\n",
    "\n",
    "#Concatenate string using plus operator\n",
    "z = x+y\n",
    "print ('Concatenate string \\'x\\' and \\'y\\' using \\'+\\' operaotr :- {}\\n'.format(z))\n",
    "\n",
    "# Subtraction\n",
    "c = a - b\n",
    "print('Subtracting {} from {} will give :- {}\\n'.format(b,a,c))\n",
    "\n",
    "# Multiplication\n",
    "c = a * b\n",
    "print('Multiplying {} and {} will give :- {}\\n'.format(a,b,c))\n",
    "\n",
    "# Division\n",
    "c = a / b\n",
    "print('Dividing {} by {} will give :- {}\\n'.format(a,b,c))\n",
    "\n",
    "# Modulo of both number\n",
    "c = a % b\n",
    "print('Modulo of {} , {} will give :- {}\\n'.format(a,b,c))\n",
    "\n",
    "# Power\n",
    "c = a ** b\n",
    "print('{} raised to the power {} will give :- {}\\n'.format(a,b,c))\n",
    "\n",
    "# Division(floor)\n",
    "c = a // b\n",
    "print('Floor division of {} by {} will give :- {}\\n'.format(a,b,c))"
   ]
  },
  {
   "cell_type": "markdown",
   "metadata": {
    "id": "Wj8IAcdWkycB"
   },
   "source": [
    "### Comparison Operators"
   ]
  },
  {
   "cell_type": "markdown",
   "metadata": {
    "id": "KeyZqN9FkycB"
   },
   "source": [
    "Comparison operators are used to compare values."
   ]
  },
  {
   "cell_type": "code",
   "execution_count": null,
   "metadata": {
    "executionInfo": {
     "elapsed": 186,
     "status": "aborted",
     "timestamp": 1729271174694,
     "user": {
      "displayName": "Dr. Rubaiyat Islam",
      "userId": "00143020000614467639"
     },
     "user_tz": -360
    },
    "id": "QQO_FtMykycB"
   },
   "outputs": [],
   "source": [
    "x = 20\n",
    "y = 30\n",
    "\n",
    "print('Is x greater than y :- ',x>y)\n",
    "\n",
    "print('\\nIs x less than  y :- ',x<y)\n",
    "\n",
    "print('\\nIs x equal to  y :- ',x==y)\n",
    "\n",
    "print('\\nIs x not equal to y :- ',x!=y)\n",
    "\n",
    "print('\\nIs x greater than or equal to y :- ',x>=y)\n",
    "\n",
    "print('\\nIs x less than or equal to y :- ',x<=y)"
   ]
  },
  {
   "cell_type": "code",
   "execution_count": null,
   "metadata": {
    "executionInfo": {
     "elapsed": 186,
     "status": "aborted",
     "timestamp": 1729271174694,
     "user": {
      "displayName": "Dr. Rubaiyat Islam",
      "userId": "00143020000614467639"
     },
     "user_tz": -360
    },
    "id": "W3SpKSPtkycC"
   },
   "outputs": [],
   "source": [
    "a = 'Asif'\n",
    "b = 'Bhat'\n",
    "c = 'Asif'\n",
    "\n",
    "a == b , a ==c , a != b # Comparison operators on string"
   ]
  },
  {
   "cell_type": "markdown",
   "metadata": {
    "id": "pV8CLJmQkycC"
   },
   "source": [
    "### Logical Operators"
   ]
  },
  {
   "cell_type": "code",
   "execution_count": null,
   "metadata": {
    "executionInfo": {
     "elapsed": 186,
     "status": "aborted",
     "timestamp": 1729271174694,
     "user": {
      "displayName": "Dr. Rubaiyat Islam",
      "userId": "00143020000614467639"
     },
     "user_tz": -360
    },
    "id": "HuocsFIhkycC"
   },
   "outputs": [],
   "source": [
    "x = True\n",
    "y = False\n",
    "\n",
    "print('Logical AND operation :- ',x and y) # True if both values are true\n",
    "print('Logical OR operation :- ',x or y) # True if either of the values is true\n",
    "print('NOT operation :- ',not x ) # True if operand is false"
   ]
  },
  {
   "cell_type": "markdown",
   "metadata": {
    "id": "svrFbbcmkycC"
   },
   "source": [
    "### Bitwise operators"
   ]
  },
  {
   "cell_type": "markdown",
   "metadata": {
    "id": "L84Sf6TGkycC"
   },
   "source": [
    "__Bitwise operators act on bits and performs bit by bit operation.__"
   ]
  },
  {
   "cell_type": "code",
   "execution_count": null,
   "metadata": {
    "executionInfo": {
     "elapsed": 186,
     "status": "aborted",
     "timestamp": 1729271174694,
     "user": {
      "displayName": "Dr. Rubaiyat Islam",
      "userId": "00143020000614467639"
     },
     "user_tz": -360
    },
    "id": "JKhl-JQjkycC"
   },
   "outputs": [],
   "source": [
    "x = 18  # binary form 10010\n",
    "y = 6  # binary form 00110\n",
    "\n",
    "print('Bitwise AND operation - {}'.format(x&y))\n",
    "print('Bitwise OR operation - {}'.format(x|y))\n",
    "print('Bitwise XOR operation - {}'.format(x^y))\n",
    "print('Bitwise NOT operation - {}'.format(~x))\n",
    "print('Bitwise right shift operation - {}'.format(x>>2))\n",
    "print('Bitwise left shift operation - {}'.format(x<<2))"
   ]
  },
  {
   "cell_type": "markdown",
   "metadata": {
    "id": "_gQfi5nMkycC"
   },
   "source": [
    "### Assignment Operators"
   ]
  },
  {
   "cell_type": "code",
   "execution_count": null,
   "metadata": {
    "executionInfo": {
     "elapsed": 186,
     "status": "aborted",
     "timestamp": 1729271174694,
     "user": {
      "displayName": "Dr. Rubaiyat Islam",
      "userId": "00143020000614467639"
     },
     "user_tz": -360
    },
    "id": "5_x8d5XXkycC"
   },
   "outputs": [],
   "source": [
    "x = 10\n",
    "\n",
    "print('Initialize x with value 10 (x=10)) :- ',x)\n",
    "\n",
    "\n",
    "x+=20 # x = x+20\n",
    "print ('Add 20 to x :- ',x)\n",
    "\n",
    "\n",
    "x-=20 # x = x-20\n",
    "print ('subtract 20 from x :- ',x)\n",
    "\n",
    "\n",
    "x/=10 # x = x/10\n",
    "print ('Divide x by 10 :- ',x)\n",
    "\n",
    "\n",
    "\n",
    "x*=10 # x = x/10\n",
    "print ('Multiply x by 10 :- ',x)\n",
    "\n",
    "x = int(x)\n",
    "\n",
    "\n",
    "x**=2 # x = x/10\n",
    "print ('x raised to the power 2 :- ',x)\n",
    "\n",
    "\n",
    "\n",
    "x%=2\n",
    "print ('Modulo Division :- ',x)\n",
    "\n",
    "\n",
    "x = 20\n",
    "\n",
    "\n",
    "x//=3\n",
    "print ('Floor Division :- ',x)\n",
    "\n",
    "\n",
    "x&=2\n",
    "print('Bitwise AND :- ',x)\n",
    "\n",
    "\n",
    "x|=2\n",
    "print('Bitwise OR :- ',x)\n",
    "\n",
    "\n",
    "x^=2\n",
    "print('Bitwise XOR :- ',x)\n",
    "\n",
    "\n",
    "x = 10\n",
    "\n",
    "\n",
    "x<<=2\n",
    "print('Bitwise left shift operation',x)\n",
    "\n",
    "\n",
    "x>>=2\n",
    "print('Bitwise right shift operation',x)"
   ]
  },
  {
   "cell_type": "markdown",
   "metadata": {
    "id": "ds27NRchkycC"
   },
   "source": [
    "### Membership Operators"
   ]
  },
  {
   "cell_type": "markdown",
   "metadata": {
    "id": "8QX4THgVkycC"
   },
   "source": [
    "__Membership Operators are used to test whether a value / variable is present in a sequence.__"
   ]
  },
  {
   "cell_type": "code",
   "execution_count": null,
   "metadata": {
    "executionInfo": {
     "elapsed": 186,
     "status": "aborted",
     "timestamp": 1729271174695,
     "user": {
      "displayName": "Dr. Rubaiyat Islam",
      "userId": "00143020000614467639"
     },
     "user_tz": -360
    },
    "id": "XgNF6fgIkycC"
   },
   "outputs": [],
   "source": [
    "mystr = 'Asif Ali Bhat'\n",
    "\n",
    "'Asif' in mystr , 'John' in mystr"
   ]
  },
  {
   "cell_type": "code",
   "execution_count": null,
   "metadata": {
    "executionInfo": {
     "elapsed": 186,
     "status": "aborted",
     "timestamp": 1729271174695,
     "user": {
      "displayName": "Dr. Rubaiyat Islam",
      "userId": "00143020000614467639"
     },
     "user_tz": -360
    },
    "id": "yGvhuAb-kycC"
   },
   "outputs": [],
   "source": [
    "mystr = 'Asif Ali Bhat'\n",
    "\n",
    "'Asif' not in mystr , 'John' not in mystr"
   ]
  },
  {
   "cell_type": "markdown",
   "metadata": {
    "id": "IRtW8uaAkycC"
   },
   "source": [
    "# Functions"
   ]
  },
  {
   "cell_type": "markdown",
   "metadata": {
    "id": "80iX9kJjkycC"
   },
   "source": [
    "- A function is a block of organized code written to carry out a specified task.\n",
    "\n",
    "- Functions help break our program into smaller and modular chunks for better readability.\n",
    "\n",
    "- Information can be passed into a function as arguments.\n",
    "\n",
    "- Parameters are specified after the function name inside the parentheses.\n",
    "\n",
    "- We can add as many parameters as we want. Parameters must be separated with a comma.\n",
    "\n",
    "- A function may or may not return data.\n",
    "\n",
    "- In Python a function is defined using the __def__ keyword\n",
    "\n",
    "### Parameter VS Argument\n",
    "\n",
    " - A parameter is the variable listed inside the parentheses in the function definition.\n",
    "\n",
    " - An argument is the value that is sent to the function when it is called.\n",
    "\n",
    "### Three types of functions in Python:-\n",
    "\n",
    "- __Built-in function :-__  Python predefined functions that are readily available for use like min() , max() , sum() , print() etc.\n",
    "\n",
    "- __User-Defined Functions:-__ Function that we define ourselves to perform a specific task.\n",
    "\n",
    "- __Anonymous functions :__ Function that is defined without a name. Anonymous functions are also called as lambda functions. They are not declared with the __def__ keyword.\n",
    "\n",
    "### Syntax"
   ]
  },
  {
   "cell_type": "markdown",
   "metadata": {
    "id": "TqHPiDe3kycC"
   },
   "source": [
    "<img src=\"functions.PNG\">"
   ]
  },
  {
   "cell_type": "markdown",
   "metadata": {
    "id": "C82tsZDMkycC"
   },
   "source": [
    "### Modularity"
   ]
  },
  {
   "cell_type": "markdown",
   "metadata": {
    "id": "3c1-9gAskycC"
   },
   "source": [
    "<img src=\"modularity.PNG\">"
   ]
  },
  {
   "cell_type": "code",
   "execution_count": null,
   "metadata": {
    "executionInfo": {
     "elapsed": 186,
     "status": "aborted",
     "timestamp": 1729271174695,
     "user": {
      "displayName": "Dr. Rubaiyat Islam",
      "userId": "00143020000614467639"
     },
     "user_tz": -360
    },
    "id": "FnvEX2K7kycC"
   },
   "outputs": [],
   "source": [
    "def myfunc():\n",
    "  print(\"Hello Python Lovers\")\n",
    "\n",
    "myfunc()"
   ]
  },
  {
   "cell_type": "code",
   "execution_count": null,
   "metadata": {
    "executionInfo": {
     "elapsed": 186,
     "status": "aborted",
     "timestamp": 1729271174695,
     "user": {
      "displayName": "Dr. Rubaiyat Islam",
      "userId": "00143020000614467639"
     },
     "user_tz": -360
    },
    "id": "JbPSN_-ZkycD"
   },
   "outputs": [],
   "source": [
    "def details(name,userid,country): # Function to print User details\n",
    "    print('Name :- ', name)\n",
    "    print('User ID is :- ', userid)\n",
    "    print('Country :- ',country)\n",
    "\n",
    "details('Asif' , 'asif123' , 'India')"
   ]
  },
  {
   "cell_type": "code",
   "execution_count": null,
   "metadata": {
    "executionInfo": {
     "elapsed": 186,
     "status": "aborted",
     "timestamp": 1729271174695,
     "user": {
      "displayName": "Dr. Rubaiyat Islam",
      "userId": "00143020000614467639"
     },
     "user_tz": -360
    },
    "id": "100QCxi8kycD"
   },
   "outputs": [],
   "source": [
    "def square (n): #function to find square of a number\n",
    "    n= n*n\n",
    "    return n\n",
    "\n",
    "square (10)"
   ]
  },
  {
   "cell_type": "code",
   "execution_count": null,
   "metadata": {
    "executionInfo": {
     "elapsed": 186,
     "status": "aborted",
     "timestamp": 1729271174695,
     "user": {
      "displayName": "Dr. Rubaiyat Islam",
      "userId": "00143020000614467639"
     },
     "user_tz": -360
    },
    "id": "jmus86RAkycD"
   },
   "outputs": [],
   "source": [
    "def even_odd (num): #Even odd test\n",
    "    \"\"\" This function will check whether a number is even or odd\"\"\"\n",
    "    if num % 2 ==0:\n",
    "        print (num, ' is even number')\n",
    "    else:\n",
    "        print (num, ' is odd number')\n",
    "\n",
    "even_odd(3)\n",
    "even_odd(4)\n",
    "print(even_odd.__doc__) # Print function documentation string"
   ]
  },
  {
   "cell_type": "code",
   "execution_count": null,
   "metadata": {
    "executionInfo": {
     "elapsed": 187,
     "status": "aborted",
     "timestamp": 1729271174696,
     "user": {
      "displayName": "Dr. Rubaiyat Islam",
      "userId": "00143020000614467639"
     },
     "user_tz": -360
    },
    "id": "I3iHWORDkycD"
   },
   "outputs": [],
   "source": [
    "def fullname (firstname , middlename ,lastname): #Concatenate Strings\n",
    "    fullname = \"{} {} {}\".format(firstname,middlename,lastname)\n",
    "    print (fullname)\n",
    "\n",
    "fullname('Asif' , 'Ali' , 'Bhat')"
   ]
  },
  {
   "cell_type": "code",
   "execution_count": null,
   "metadata": {
    "executionInfo": {
     "elapsed": 187,
     "status": "aborted",
     "timestamp": 1729271174696,
     "user": {
      "displayName": "Dr. Rubaiyat Islam",
      "userId": "00143020000614467639"
     },
     "user_tz": -360
    },
    "id": "CDZg0p_EkycD"
   },
   "outputs": [],
   "source": [
    "def fullname (firstname , middlename ,lastname): #Concatenate Strings\n",
    "    fullname = \"{} {} {}\".format(firstname,middlename,lastname)\n",
    "    print (fullname)\n",
    "\n",
    "fullname(lastname = 'Bhat' , middlename='Ali' , firstname='Asif') # Keyword Arguments. Order of the arguments does not matter."
   ]
  },
  {
   "cell_type": "code",
   "execution_count": null,
   "metadata": {
    "executionInfo": {
     "elapsed": 187,
     "status": "aborted",
     "timestamp": 1729271174696,
     "user": {
      "displayName": "Dr. Rubaiyat Islam",
      "userId": "00143020000614467639"
     },
     "user_tz": -360
    },
    "id": "epF0a2FxkycD"
   },
   "outputs": [],
   "source": [
    "fullname ('Asif') # This will throw error as function is expecting 3 arguments."
   ]
  },
  {
   "cell_type": "code",
   "execution_count": null,
   "metadata": {
    "executionInfo": {
     "elapsed": 187,
     "status": "aborted",
     "timestamp": 1729271174696,
     "user": {
      "displayName": "Dr. Rubaiyat Islam",
      "userId": "00143020000614467639"
     },
     "user_tz": -360
    },
    "id": "UuUtnavxkycE"
   },
   "outputs": [],
   "source": [
    "def myfunc(city = 'Mumbai'):\n",
    "    print('Most Populous City :- ', city)\n",
    "\n",
    "myfunc() # When a function is called without an argument it will use default value"
   ]
  },
  {
   "cell_type": "code",
   "execution_count": null,
   "metadata": {
    "executionInfo": {
     "elapsed": 187,
     "status": "aborted",
     "timestamp": 1729271174696,
     "user": {
      "displayName": "Dr. Rubaiyat Islam",
      "userId": "00143020000614467639"
     },
     "user_tz": -360
    },
    "id": "aC3872WrkycF"
   },
   "outputs": [],
   "source": [
    "var1 = 100 # Variable with Global scope.\n",
    "\n",
    "def myfunc():\n",
    "    print(var1) # Value 100 will be displayed due to global scope of var1\n",
    "\n",
    "\n",
    "myfunc()\n",
    "print(var1)"
   ]
  },
  {
   "cell_type": "code",
   "execution_count": null,
   "metadata": {
    "executionInfo": {
     "elapsed": 186,
     "status": "aborted",
     "timestamp": 1729271174696,
     "user": {
      "displayName": "Dr. Rubaiyat Islam",
      "userId": "00143020000614467639"
     },
     "user_tz": -360
    },
    "id": "_sTMXGZGkycF"
   },
   "outputs": [],
   "source": [
    "def myfunc1():\n",
    "    var2 = 10  # Variable with Local scope\n",
    "    print(var2)\n",
    "\n",
    "\n",
    "def myfunc2():\n",
    "    print(var2) # This will throw error because var2 has a local scope. Var2 is only accessible in myfunc1()\n",
    "\n",
    "myfunc1()\n",
    "myfunc2()"
   ]
  },
  {
   "cell_type": "code",
   "execution_count": null,
   "metadata": {
    "executionInfo": {
     "elapsed": 186,
     "status": "aborted",
     "timestamp": 1729271174696,
     "user": {
      "displayName": "Dr. Rubaiyat Islam",
      "userId": "00143020000614467639"
     },
     "user_tz": -360
    },
    "id": "xyoMw4aYkycF"
   },
   "outputs": [],
   "source": [
    "var1 = 100 # Variable with Global scope.\n",
    "\n",
    "def myfunc():\n",
    "    var1 = 99  # Local scope\n",
    "    print(var1)\n",
    "\n",
    "\n",
    "myfunc()\n",
    "print(var1) # The original value of var1 (100) will be retained due to global scope."
   ]
  },
  {
   "cell_type": "code",
   "execution_count": null,
   "metadata": {
    "executionInfo": {
     "elapsed": 186,
     "status": "aborted",
     "timestamp": 1729271174696,
     "user": {
      "displayName": "Dr. Rubaiyat Islam",
      "userId": "00143020000614467639"
     },
     "user_tz": -360
    },
    "id": "ieTPd262kycF"
   },
   "outputs": [],
   "source": [
    "list1 = [11,22,33,44,55]\n",
    "\n",
    "def myfunc(list1):\n",
    "    del list1[0]\n",
    "\n",
    "print('\"List1\" before calling the function:- ',list1)\n",
    "myfunc(list1)  # Pass by reference (Any change in the parameter within the function is reflected back in the calling function.)\n",
    "print('\"List1\" after calling the function:- ',list1)"
   ]
  },
  {
   "cell_type": "code",
   "execution_count": null,
   "metadata": {
    "executionInfo": {
     "elapsed": 186,
     "status": "aborted",
     "timestamp": 1729271174696,
     "user": {
      "displayName": "Dr. Rubaiyat Islam",
      "userId": "00143020000614467639"
     },
     "user_tz": -360
    },
    "id": "W5OnBbfakycG"
   },
   "outputs": [],
   "source": [
    "list1 = [11,22,33,44,55]\n",
    "\n",
    "def myfunc(list1):\n",
    "    list1.append(100)\n",
    "\n",
    "print('\"List1\" before calling the function:- ',list1)\n",
    "myfunc(list1)  # Pass by reference (Any change in the parameter within the function is reflected back in the calling function.)\n",
    "print('\"List1\" after calling the function:- ',list1)"
   ]
  },
  {
   "cell_type": "code",
   "execution_count": null,
   "metadata": {
    "executionInfo": {
     "elapsed": 186,
     "status": "aborted",
     "timestamp": 1729271174696,
     "user": {
      "displayName": "Dr. Rubaiyat Islam",
      "userId": "00143020000614467639"
     },
     "user_tz": -360
    },
    "id": "vmyw-WFUkycG"
   },
   "outputs": [],
   "source": [
    "list1 = [11,22,33,44,55]\n",
    "\n",
    "def myfunc(list1):\n",
    "    list1 = [10,100,1000,10000] # link of 'list1' with previous object is broken now as new object is assigned to 'list1'.\n",
    "\n",
    "print('\"List1\" before calling the function:- ',list1)\n",
    "myfunc(list1)  # Pass by reference (Any change in the parameter within the function is reflected back in the calling function.)\n",
    "print('\"List1\" after calling the function:- ',list1)"
   ]
  },
  {
   "cell_type": "code",
   "execution_count": null,
   "metadata": {
    "executionInfo": {
     "elapsed": 186,
     "status": "aborted",
     "timestamp": 1729271174696,
     "user": {
      "displayName": "Dr. Rubaiyat Islam",
      "userId": "00143020000614467639"
     },
     "user_tz": -360
    },
    "id": "OI0tiFbXkycG"
   },
   "outputs": [],
   "source": [
    "def swap(a,b):\n",
    "    temp = a\n",
    "    a = b      # link of 'a' with previous object is broken now as new object is assigned to 'a'.\n",
    "    b = temp   # link of 'b' with previous object is broken now as new object is assigned to 'b'.\n",
    "\n",
    "a = 10\n",
    "b = 20\n",
    "swap(a,b)\n",
    "a,b"
   ]
  },
  {
   "cell_type": "code",
   "execution_count": null,
   "metadata": {
    "executionInfo": {
     "elapsed": 186,
     "status": "aborted",
     "timestamp": 1729271174696,
     "user": {
      "displayName": "Dr. Rubaiyat Islam",
      "userId": "00143020000614467639"
     },
     "user_tz": -360
    },
    "id": "BLcGYe_ekycG"
   },
   "outputs": [],
   "source": [
    "def factorial(num):  # Calculate factorial of a number using recursive function call.\n",
    "    if num <=1 :\n",
    "        return 1\n",
    "    else:\n",
    "        return num * factorial(num-1)\n",
    "\n",
    "factorial(4)"
   ]
  },
  {
   "cell_type": "code",
   "execution_count": null,
   "metadata": {
    "executionInfo": {
     "elapsed": 186,
     "status": "aborted",
     "timestamp": 1729271174696,
     "user": {
      "displayName": "Dr. Rubaiyat Islam",
      "userId": "00143020000614467639"
     },
     "user_tz": -360
    },
    "id": "7D-e5VQFkycG"
   },
   "outputs": [],
   "source": [
    "def add(num):  # Sum of first n natural numbers\n",
    "    if num == 0:\n",
    "        return 0\n",
    "    else:\n",
    "        return num + add(num-1)\n",
    "\n",
    "add(5) # Sum of first five natural numbers (1,2,3,4,5)"
   ]
  },
  {
   "cell_type": "code",
   "execution_count": null,
   "metadata": {
    "executionInfo": {
     "elapsed": 186,
     "status": "aborted",
     "timestamp": 1729271174696,
     "user": {
      "displayName": "Dr. Rubaiyat Islam",
      "userId": "00143020000614467639"
     },
     "user_tz": -360
    },
    "id": "rdCvd6DfkycG"
   },
   "outputs": [],
   "source": [
    "def fiboacci(num):\n",
    "    if num <= 1:\n",
    "        return num\n",
    "    if num == 2:\n",
    "        return 1\n",
    "    else:\n",
    "        return(fiboacci(num-1) + fiboacci(num-2))\n",
    "\n",
    "nums = int(input(\"How many fibonacci numbers you want to generate -\"))\n",
    "\n",
    "\n",
    "\n",
    "for i in range(nums):\n",
    "    print(fiboacci(i))  # Generate Fibonacci series"
   ]
  },
  {
   "cell_type": "markdown",
   "metadata": {
    "id": "Dcqyn0R5kycG"
   },
   "source": [
    "# args & kwargs"
   ]
  },
  {
   "cell_type": "markdown",
   "metadata": {
    "id": "eG6ErN2GkycG"
   },
   "source": [
    " *__args__\n",
    "- When we are not sure about the number of arguments being passed to a function then we can use *args as function parameter.\n",
    "\n",
    "- *args allow us to pass the variable number of __Non Keyword Arguments__ to function.\n",
    "\n",
    "- We can simply use an asterisk * before the parameter name to pass variable length arguments.\n",
    "\n",
    "- The arguments are always passed as a tuple.\n",
    "\n",
    "- We can rename it to anything as long as it is preceded by a single asterisk (*). It's best practice to keep naming it args to make it immediately recognizable."
   ]
  },
  {
   "cell_type": "markdown",
   "metadata": {
    "id": "tWJjOuIYkycG"
   },
   "source": [
    "__**kwargs__\n",
    "- **kwargs allows us to pass the variable number of __Keyword Arguments__ to the function.\n",
    "\n",
    "- We can simply use an double asterisk ** before the parameter name to pass variable length arguments.\n",
    "\n",
    "- The arguments are passed as a dictionary.\n",
    "\n",
    "- We can rename it to anything as long as it is preceded by a double asterisk (**). It's best practice to keep naming it kwargs to make it immediately recognizable.\n",
    "\n"
   ]
  },
  {
   "cell_type": "markdown",
   "metadata": {
    "id": "3FFpfKoMkycG"
   },
   "source": [
    "<img src=\"argument.PNG\">"
   ]
  },
  {
   "cell_type": "code",
   "execution_count": null,
   "metadata": {
    "executionInfo": {
     "elapsed": 186,
     "status": "aborted",
     "timestamp": 1729271174696,
     "user": {
      "displayName": "Dr. Rubaiyat Islam",
      "userId": "00143020000614467639"
     },
     "user_tz": -360
    },
    "id": "LBkPSOntkycH"
   },
   "outputs": [],
   "source": [
    "def add(a,b,c):\n",
    "    return a+b+c\n",
    "\n",
    "print(add(10,20,30)) # Sum of two numbers"
   ]
  },
  {
   "cell_type": "code",
   "execution_count": null,
   "metadata": {
    "executionInfo": {
     "elapsed": 186,
     "status": "aborted",
     "timestamp": 1729271174696,
     "user": {
      "displayName": "Dr. Rubaiyat Islam",
      "userId": "00143020000614467639"
     },
     "user_tz": -360
    },
    "id": "U_TVRgz4kycH"
   },
   "outputs": [],
   "source": [
    "print(add(1,2,3,4)) '''This will throw below error as this function will only take two argumengts.\n",
    "If we want to make argument list dynamic then *args wil come in picture'''"
   ]
  },
  {
   "cell_type": "code",
   "execution_count": null,
   "metadata": {
    "executionInfo": {
     "elapsed": 185,
     "status": "aborted",
     "timestamp": 1729271174696,
     "user": {
      "displayName": "Dr. Rubaiyat Islam",
      "userId": "00143020000614467639"
     },
     "user_tz": -360
    },
    "id": "BFEDPNoykycH"
   },
   "outputs": [],
   "source": [
    "def some_args(arg_1, arg_2, arg_3):\n",
    "    print(\"arg_1:\", arg_1)\n",
    "    print(\"arg_2:\", arg_2)\n",
    "    print(\"arg_3:\", arg_3)\n",
    "\n",
    "my_list = [2, 3]\n",
    "some_args(1, *my_list)"
   ]
  },
  {
   "cell_type": "code",
   "execution_count": null,
   "metadata": {
    "executionInfo": {
     "elapsed": 185,
     "status": "aborted",
     "timestamp": 1729271174696,
     "user": {
      "displayName": "Dr. Rubaiyat Islam",
      "userId": "00143020000614467639"
     },
     "user_tz": -360
    },
    "id": "SvbCyo6-kycH"
   },
   "outputs": [],
   "source": [
    "def add1(*args):\n",
    "    return sum(args)\n",
    "\n",
    "print(add(1,2,3))\n",
    "print(add(1,2,3,4))  # *args will take dynamic argument list. So add() function will perform addition of any number of arguments\n",
    "print(add(1,2,3,4,5))\n",
    "print(add(1,2,3,4,5,6))\n",
    "print(add(1,2,3,4,5,6,7))"
   ]
  },
  {
   "cell_type": "code",
   "execution_count": null,
   "metadata": {
    "executionInfo": {
     "elapsed": 185,
     "status": "aborted",
     "timestamp": 1729271174696,
     "user": {
      "displayName": "Dr. Rubaiyat Islam",
      "userId": "00143020000614467639"
     },
     "user_tz": -360
    },
    "id": "oekPZ4tSkycH"
   },
   "outputs": [],
   "source": [
    "list1 = [1,2,3,4,5,6,7]\n",
    "tuple1 = (1,2,3,4,5,6,7)\n",
    "\n",
    "add1(*list1) , add1(*tuple1) #tuple & list items will be passed as argument list and sum will be returned for both cases."
   ]
  },
  {
   "cell_type": "code",
   "execution_count": null,
   "metadata": {
    "executionInfo": {
     "elapsed": 185,
     "status": "aborted",
     "timestamp": 1729271174696,
     "user": {
      "displayName": "Dr. Rubaiyat Islam",
      "userId": "00143020000614467639"
     },
     "user_tz": -360
    },
    "id": "3DL8uMvgkycH"
   },
   "outputs": [],
   "source": [
    "list1 = [1,2,3,4,5,6,7]\n",
    "list2 = [1,2,3,4,5,6,7]\n",
    "list3 = [1,2,3,4,5,6,7]\n",
    "list4 = [1,2,3,4,5,6,7]\n",
    "\n",
    "add1(*list1 , *list2 , *list3 , *list4 ) #All four lists are unpacked and each individual item is passed to add1() function"
   ]
  },
  {
   "cell_type": "code",
   "execution_count": null,
   "metadata": {
    "executionInfo": {
     "elapsed": 185,
     "status": "aborted",
     "timestamp": 1729271174696,
     "user": {
      "displayName": "Dr. Rubaiyat Islam",
      "userId": "00143020000614467639"
     },
     "user_tz": -360
    },
    "id": "iqit5o_4kycH"
   },
   "outputs": [],
   "source": [
    "def UserDetails(*args):\n",
    "    print(args)\n",
    "\n",
    "UserDetails('Asif' , 7412 , 41102 , 33 ,  'India' , 'Hindi')\n",
    "\n",
    "''' For the above example we have no idea about the parameters passed e.g 7412 , 41102 , 33 etc.\n",
    "    In such cases we can take help of Keyworded arguments (**kwargs) '''"
   ]
  },
  {
   "cell_type": "code",
   "execution_count": null,
   "metadata": {
    "executionInfo": {
     "elapsed": 185,
     "status": "aborted",
     "timestamp": 1729271174696,
     "user": {
      "displayName": "Dr. Rubaiyat Islam",
      "userId": "00143020000614467639"
     },
     "user_tz": -360
    },
    "id": "baezDztAkycH"
   },
   "outputs": [],
   "source": [
    "def UserDetails(**kwargs):\n",
    "    print(kwargs)\n",
    "\n",
    "UserDetails(Name='Asif' , ID=7412 , Pincode=41102 , Age= 33 ,  Country= 'India' , Language= 'Hindi')"
   ]
  },
  {
   "cell_type": "code",
   "execution_count": null,
   "metadata": {
    "executionInfo": {
     "elapsed": 185,
     "status": "aborted",
     "timestamp": 1729271174696,
     "user": {
      "displayName": "Dr. Rubaiyat Islam",
      "userId": "00143020000614467639"
     },
     "user_tz": -360
    },
    "id": "MdubWKBCkycH"
   },
   "outputs": [],
   "source": [
    "def UserDetails(**kwargs):\n",
    "    for key,val in kwargs.items():\n",
    "        print(\"{} :- {}\".format(key,val))\n",
    "\n",
    "UserDetails(Name='Asif' , ID=7412 , Pincode=41102 , Age= 33 ,  Country= 'India' , Language= 'Hindi')"
   ]
  },
  {
   "cell_type": "code",
   "execution_count": null,
   "metadata": {
    "executionInfo": {
     "elapsed": 186,
     "status": "aborted",
     "timestamp": 1729271174697,
     "user": {
      "displayName": "Dr. Rubaiyat Islam",
      "userId": "00143020000614467639"
     },
     "user_tz": -360
    },
    "id": "TqCzKR16kycH"
   },
   "outputs": [],
   "source": [
    "mydict = {'Name': 'Asif', 'ID': 7412, 'Pincode': 41102, 'Age': 33, 'Country': 'India', 'Language': 'Hindi'}\n",
    "\n",
    "UserDetails(**mydict)"
   ]
  },
  {
   "cell_type": "code",
   "execution_count": null,
   "metadata": {
    "executionInfo": {
     "elapsed": 186,
     "status": "aborted",
     "timestamp": 1729271174697,
     "user": {
      "displayName": "Dr. Rubaiyat Islam",
      "userId": "00143020000614467639"
     },
     "user_tz": -360
    },
    "id": "6W3ZpItikycH"
   },
   "outputs": [],
   "source": [
    "def UserDetails(licenseNo,  *args , phoneNo=0 , **kwargs): # Using all four arguments types\n",
    "    print('License No :- ', licenseNo)\n",
    "    j=''\n",
    "    for i in args:\n",
    "        j = j+i\n",
    "    print('Full Name :-',j)\n",
    "    print('Phone Number:- ',phoneNo)\n",
    "    for key,val in kwargs.items():\n",
    "        print(\"{} :- {}\".format(key,val))\n",
    "\n",
    "\n",
    "name = ['Asif' , ' ' , 'Ali' , ' ','Bhat']\n",
    "mydict = {'Name': 'Asif', 'ID': 7412, 'Pincode': 41102, 'Age': 33, 'Country': 'India', 'Language': 'Hindi'}\n",
    "\n",
    "UserDetails('BHT145' , *name , phoneNo=1234567890,**mydict )"
   ]
  },
  {
   "cell_type": "code",
   "execution_count": null,
   "metadata": {
    "collapsed": true,
    "executionInfo": {
     "elapsed": 186,
     "status": "aborted",
     "timestamp": 1729271174697,
     "user": {
      "displayName": "Dr. Rubaiyat Islam",
      "userId": "00143020000614467639"
     },
     "user_tz": -360
    },
    "id": "m1RGDZdTkycI"
   },
   "outputs": [],
   "source": [
    "def UserDetails(licenseNo, *args , phoneNo=0, **kwargs): # Using all four arguments types. CORRECT ORDER\n",
    "    print('Nothing')"
   ]
  },
  {
   "cell_type": "code",
   "execution_count": null,
   "metadata": {
    "executionInfo": {
     "elapsed": 186,
     "status": "aborted",
     "timestamp": 1729271174697,
     "user": {
      "displayName": "Dr. Rubaiyat Islam",
      "userId": "00143020000614467639"
     },
     "user_tz": -360
    },
    "id": "Nbzya85ukycI"
   },
   "outputs": [],
   "source": [
    "def UserDetails(licenseNo, **kwargs , *args): # This will fail. *args MUST come before **kwargs in the argument list\n",
    "    print('Nothing')"
   ]
  },
  {
   "cell_type": "code",
   "execution_count": null,
   "metadata": {
    "executionInfo": {
     "elapsed": 185,
     "status": "aborted",
     "timestamp": 1729271174697,
     "user": {
      "displayName": "Dr. Rubaiyat Islam",
      "userId": "00143020000614467639"
     },
     "user_tz": -360
    },
    "id": "tkECuXzhkycI"
   },
   "outputs": [],
   "source": [
    "#The below function will fail. Default argument/positional argument (licenseNo) MUST come before Keyword argument(ID)\n",
    "def UserDetails(ID = 1, licenseNo, *args):\n",
    "    print('Nothing')"
   ]
  },
  {
   "cell_type": "markdown",
   "metadata": {
    "id": "u3lrh-ytkycI"
   },
   "source": [
    "# Lambda, Filter, Map and Reduce"
   ]
  },
  {
   "cell_type": "markdown",
   "metadata": {
    "id": "q32pIxPrkycI"
   },
   "source": [
    "__Lambda__\n",
    "\n",
    "- A lambda function is an anonymous function (function without a name).\n",
    "\n",
    "\n",
    "- Lambda functions can have any number of arguments but only one expression. The expression is evaluated and returned.\n",
    "\n",
    "\n",
    "- We use lambda functions when we require a nameless function for a short period of time.\n",
    "\n",
    "\n",
    "__Syntax:-__"
   ]
  },
  {
   "cell_type": "markdown",
   "metadata": {
    "id": "bVfeDmJ2kycI"
   },
   "source": [
    "<img src=\"lambda1.PNG\">"
   ]
  },
  {
   "cell_type": "markdown",
   "metadata": {
    "id": "-XbFInC5kycI"
   },
   "source": [
    "__Filter__\n",
    "\n",
    "\n",
    "- It is used to filter the iterables/sequence as per the conditions.\n",
    "\n",
    "\n",
    "- Filter function filters the original iterable and passes the items that returns True for the function provided to filter.\n",
    "\n",
    "\n",
    "- It is normally used with Lambda functions to filter list, tuple, or sets.\n",
    "\n",
    "\n",
    "\n",
    "filter() method takes two parameters:\n",
    "\n",
    "- __function__ - function tests if elements of an iterable returns true or false\n",
    "\n",
    "- __iterable__ - Sequence which needs to be filtered, could be sets, lists, tuples, or any iterators\n",
    "\n",
    "\n",
    "\n",
    "\n",
    "__Syntax:__"
   ]
  },
  {
   "cell_type": "markdown",
   "metadata": {
    "id": "fz1M3JeKkycI"
   },
   "source": [
    "<img src=\"filter.PNG\">"
   ]
  },
  {
   "cell_type": "markdown",
   "metadata": {
    "id": "Y8acpz-MkycI"
   },
   "source": [
    "__Map__\n",
    "\n",
    "- The map() function applies a given function to each item of an iterable (list, tuple etc.) and returns a list of the results.\n",
    "\n",
    "\n",
    "\n",
    "\n",
    "map() function takes two Parameters :\n",
    "\n",
    "-   __function__ :  The function to execute for each item of given iterable.\n",
    "\n",
    "\n",
    "-   __iterable__ : It is a iterable which is to be mapped.\n",
    "\n",
    "\n",
    "__Returns__ : Returns a list of the results after applying the given function to each item of a given iterable (list, tuple etc.)\n",
    "\n",
    "__Syntax:__"
   ]
  },
  {
   "cell_type": "markdown",
   "metadata": {
    "id": "aAz_gqqdkycI"
   },
   "source": [
    "<img src=\"map.PNG\">"
   ]
  },
  {
   "cell_type": "markdown",
   "metadata": {
    "id": "h4ZnEruikycI"
   },
   "source": [
    "__Reduce__\n",
    "\n",
    "- The reduce() function is defined in the __functools__ python module.The reduce() function receives two arguments, a function and an iterable. However, it doesn't return another iterable, instead it returns a single value.\n",
    "\n",
    "\n",
    "__Working:__\n",
    "\n",
    " 1)  Apply a function to the first two items in an iterable and generate a partial result.\n",
    "\n",
    " 2)  The function is then called again with the result obtained in __step 1__ and the next value in the sequence. This process keeps on repeating until there are items in the sequence.\n",
    "\n",
    " 3)  The final returned result is returned and printed on console.\n",
    "\n",
    "\n",
    "\n",
    "__Syntax:__"
   ]
  },
  {
   "cell_type": "markdown",
   "metadata": {
    "id": "kbT-F9AHkycI"
   },
   "source": [
    "<img src=\"reduce.PNG\">"
   ]
  },
  {
   "cell_type": "code",
   "execution_count": null,
   "metadata": {
    "executionInfo": {
     "elapsed": 185,
     "status": "aborted",
     "timestamp": 1729271174697,
     "user": {
      "displayName": "Dr. Rubaiyat Islam",
      "userId": "00143020000614467639"
     },
     "user_tz": -360
    },
    "id": "IMt48i2qkycI"
   },
   "outputs": [],
   "source": [
    "addition = lambda a : a + 10  # This lambda function adds value 10 to an argument.\n",
    "print(addition(5))"
   ]
  },
  {
   "cell_type": "code",
   "execution_count": null,
   "metadata": {
    "executionInfo": {
     "elapsed": 185,
     "status": "aborted",
     "timestamp": 1729271174697,
     "user": {
      "displayName": "Dr. Rubaiyat Islam",
      "userId": "00143020000614467639"
     },
     "user_tz": -360
    },
    "id": "QE09i9AWkycI"
   },
   "outputs": [],
   "source": [
    "product = lambda a, b : a * b #This lambda function takes two arguments (a,b) and returns their product (a*b).\n",
    "print(product(5, 6))"
   ]
  },
  {
   "cell_type": "code",
   "execution_count": null,
   "metadata": {
    "executionInfo": {
     "elapsed": 185,
     "status": "aborted",
     "timestamp": 1729271174697,
     "user": {
      "displayName": "Dr. Rubaiyat Islam",
      "userId": "00143020000614467639"
     },
     "user_tz": -360
    },
    "id": "yWXU-GytkycI"
   },
   "outputs": [],
   "source": [
    "addition = lambda a, b, c : a + b + c  #This lambda function takes three arguments (a,b,c) and returns their sum (a+b+c).\n",
    "print(addition(5, 6, 2))"
   ]
  },
  {
   "cell_type": "code",
   "execution_count": null,
   "metadata": {
    "executionInfo": {
     "elapsed": 185,
     "status": "aborted",
     "timestamp": 1729271174697,
     "user": {
      "displayName": "Dr. Rubaiyat Islam",
      "userId": "00143020000614467639"
     },
     "user_tz": -360
    },
    "id": "ffePTFHskycJ"
   },
   "outputs": [],
   "source": [
    "res = (lambda *args: sum(args))  # This lambda function can take any number of arguments and return thier sum.\n",
    "res(10,20) , res(10,20,30,40) ,  res(10,20,30,40,50,60,70)"
   ]
  },
  {
   "cell_type": "code",
   "execution_count": null,
   "metadata": {
    "executionInfo": {
     "elapsed": 185,
     "status": "aborted",
     "timestamp": 1729271174697,
     "user": {
      "displayName": "Dr. Rubaiyat Islam",
      "userId": "00143020000614467639"
     },
     "user_tz": -360
    },
    "id": "BJFwnYEdkycJ"
   },
   "outputs": [],
   "source": [
    "res1 = (lambda **kwargs: sum(kwargs.values())) # This lambda function can take any number of arguments and return thier sum.\n",
    "res1(a = 10 , b= 20 , c = 30) , res1(a = 10 , b= 20 , c = 30, d = 40 , e = 50)"
   ]
  },
  {
   "cell_type": "code",
   "execution_count": null,
   "metadata": {
    "executionInfo": {
     "elapsed": 185,
     "status": "aborted",
     "timestamp": 1729271174697,
     "user": {
      "displayName": "Dr. Rubaiyat Islam",
      "userId": "00143020000614467639"
     },
     "user_tz": -360
    },
    "id": "G8g9ZhL-kycJ"
   },
   "outputs": [],
   "source": [
    "res1 = (lambda **kwargs: sum(kwargs.values())) # This lambda function can take any number of arguments and return thier sum.\n",
    "res1(a = 10 , b= 20 , c = 30) , res1(a = 10 , b= 20 , c = 30, d = 40 , e = 50)"
   ]
  },
  {
   "cell_type": "code",
   "execution_count": null,
   "metadata": {
    "executionInfo": {
     "elapsed": 185,
     "status": "aborted",
     "timestamp": 1729271174697,
     "user": {
      "displayName": "Dr. Rubaiyat Islam",
      "userId": "00143020000614467639"
     },
     "user_tz": -360
    },
    "id": "gk1DpKJfkycJ"
   },
   "outputs": [],
   "source": [
    "# User defined function to find product of numbers\n",
    "def product(nums):\n",
    "    total = 1\n",
    "    for i in nums:\n",
    "        total *= i\n",
    "    return total\n",
    "\n",
    "# This lambda function can take any number of arguments and return thier product.\n",
    "res1 = (lambda **kwargs: product(kwargs.values()))\n",
    "res1(a = 10 , b= 20 , c = 30) , res1(a = 10 , b= 20 , c = 30, d = 40 , e = 50)"
   ]
  },
  {
   "cell_type": "code",
   "execution_count": null,
   "metadata": {
    "executionInfo": {
     "elapsed": 184,
     "status": "aborted",
     "timestamp": 1729271174697,
     "user": {
      "displayName": "Dr. Rubaiyat Islam",
      "userId": "00143020000614467639"
     },
     "user_tz": -360
    },
    "id": "chsOcC2gkycJ"
   },
   "outputs": [],
   "source": [
    "def myfunc(n):\n",
    "  return lambda a : a + n\n",
    "\n",
    "add10 = myfunc(10)\n",
    "add20 = myfunc(20)\n",
    "add30 = myfunc(30)\n",
    "\n",
    "print(add10(5))\n",
    "print(add20(5))\n",
    "print(add30(5))"
   ]
  },
  {
   "cell_type": "code",
   "execution_count": null,
   "metadata": {
    "executionInfo": {
     "elapsed": 184,
     "status": "aborted",
     "timestamp": 1729271174697,
     "user": {
      "displayName": "Dr. Rubaiyat Islam",
      "userId": "00143020000614467639"
     },
     "user_tz": -360
    },
    "id": "TSYmf2qXkycJ"
   },
   "outputs": [],
   "source": [
    "list1 = [1,2,3,4,5,6,7,8,9]\n",
    "\n",
    "def odd(n):\n",
    "    if n%2 ==1: return True\n",
    "    else: return False\n",
    "\n",
    "odd_num = list(filter(odd,list1)) # This Filter function filters list1 and passes all odd numbers to filter().\n",
    "odd_num"
   ]
  },
  {
   "cell_type": "code",
   "execution_count": null,
   "metadata": {
    "executionInfo": {
     "elapsed": 184,
     "status": "aborted",
     "timestamp": 1729271174697,
     "user": {
      "displayName": "Dr. Rubaiyat Islam",
      "userId": "00143020000614467639"
     },
     "user_tz": -360
    },
    "id": "xz9zDXfVkycJ"
   },
   "outputs": [],
   "source": [
    "list1 = [1,2,3,4,5,6,7,8,9]\n",
    "# The below Filter function filters \"list1\" and passes all odd numbers using lambda function to filter().\n",
    "odd_num = list(filter(lambda n: n%2 ==1 ,list1))\n",
    "odd_num"
   ]
  },
  {
   "cell_type": "code",
   "execution_count": null,
   "metadata": {
    "executionInfo": {
     "elapsed": 184,
     "status": "aborted",
     "timestamp": 1729271174697,
     "user": {
      "displayName": "Dr. Rubaiyat Islam",
      "userId": "00143020000614467639"
     },
     "user_tz": -360
    },
    "id": "VsqiEmmWkycJ"
   },
   "outputs": [],
   "source": [
    "def twice(n):\n",
    "    return n*2\n",
    "\n",
    "doubles = list(map(twice,odd_num)) # The map function will apply user defined \"twice()\" function on all items of the list\n",
    "doubles"
   ]
  },
  {
   "cell_type": "code",
   "execution_count": null,
   "metadata": {
    "executionInfo": {
     "elapsed": 184,
     "status": "aborted",
     "timestamp": 1729271174697,
     "user": {
      "displayName": "Dr. Rubaiyat Islam",
      "userId": "00143020000614467639"
     },
     "user_tz": -360
    },
    "id": "KVTnD4NhkycJ"
   },
   "outputs": [],
   "source": [
    "doubles = list(map(lambda n:n*2,odd_num)) # This map function will double all items of the list using lambda function.\n",
    "doubles"
   ]
  },
  {
   "cell_type": "code",
   "execution_count": null,
   "metadata": {
    "executionInfo": {
     "elapsed": 184,
     "status": "aborted",
     "timestamp": 1729271174697,
     "user": {
      "displayName": "Dr. Rubaiyat Islam",
      "userId": "00143020000614467639"
     },
     "user_tz": -360
    },
    "id": "eMrq7YTOkycJ"
   },
   "outputs": [],
   "source": [
    "from functools import reduce\n",
    "\n",
    "def add(a,b):\n",
    "    return a+b\n",
    "\n",
    "sum_all = reduce(add,doubles) # This reduce function will perform sum of all items in the list using user defined \"add()\" func.\n",
    "sum_all"
   ]
  },
  {
   "cell_type": "code",
   "execution_count": null,
   "metadata": {
    "executionInfo": {
     "elapsed": 184,
     "status": "aborted",
     "timestamp": 1729271174697,
     "user": {
      "displayName": "Dr. Rubaiyat Islam",
      "userId": "00143020000614467639"
     },
     "user_tz": -360
    },
    "id": "USCc9wUzkycJ"
   },
   "outputs": [],
   "source": [
    "#The below reduce() function will perform sum of all items in the list using lambda function.\n",
    "sum_all = reduce(lambda a,b : a+b,doubles)\n",
    "sum_all"
   ]
  },
  {
   "cell_type": "code",
   "execution_count": null,
   "metadata": {
    "executionInfo": {
     "elapsed": 184,
     "status": "aborted",
     "timestamp": 1729271174697,
     "user": {
      "displayName": "Dr. Rubaiyat Islam",
      "userId": "00143020000614467639"
     },
     "user_tz": -360
    },
    "id": "2prL6ERpkycJ"
   },
   "outputs": [],
   "source": [
    "# Putting all together\n",
    "\n",
    "sum_all = reduce(lambda a,b : a+b,list(map(lambda n:n*2,list(filter(lambda n: n%2 ==1 ,list1)))))\n",
    "sum_all"
   ]
  },
  {
   "cell_type": "markdown",
   "metadata": {
    "id": "UwVFzH4CkycK"
   },
   "source": [
    "<img src=\"fmr.PNG\">"
   ]
  },
  {
   "cell_type": "code",
   "execution_count": null,
   "metadata": {
    "collapsed": true,
    "executionInfo": {
     "elapsed": 184,
     "status": "aborted",
     "timestamp": 1729271174697,
     "user": {
      "displayName": "Dr. Rubaiyat Islam",
      "userId": "00143020000614467639"
     },
     "user_tz": -360
    },
    "id": "16pn143jkycK"
   },
   "outputs": [],
   "source": [
    "# More examples on Map , Filter , Reduce"
   ]
  },
  {
   "cell_type": "code",
   "execution_count": null,
   "metadata": {
    "executionInfo": {
     "elapsed": 183,
     "status": "aborted",
     "timestamp": 1729271174697,
     "user": {
      "displayName": "Dr. Rubaiyat Islam",
      "userId": "00143020000614467639"
     },
     "user_tz": -360
    },
    "id": "t0en1TpbkycK"
   },
   "outputs": [],
   "source": [
    "list1 = [1,2,3,4,5,6,7,8,9,10]\n",
    "even = list(filter(lambda n: n%2 ==0 ,list1)) # Filter even numbers from the list\n",
    "odd =  list(filter(lambda n: n%2 !=0 ,list1))   # Filter odd numbers from the list\n",
    "\n",
    "print('--------')\n",
    "print(even)\n",
    "print(odd)\n",
    "print('--------')\n",
    "\n",
    "list2 = ['one' , 'TWO' , 'three' , 'FOUR']\n",
    "\n",
    "upper = list(filter(lambda x: x.isupper() , list2)) # filter uppercase strings from the list\n",
    "\n",
    "lower = list(filter(lambda x: x.islower() , list2)) # filter lowercase strings from the list\n",
    "\n",
    "\n",
    "print(upper)\n",
    "print(lower)\n",
    "print('--------')\n",
    "\n",
    "list3 = ['one' , 'two2' , 'three3' ,'88' , '99' , '102']\n",
    "\n",
    "numeric = list(filter(lambda x:x.isnumeric(), list3))  # filter numbers from the list\n",
    "\n",
    "alpha = list(filter(lambda x:x.isalpha(), list3))      # filter character strings from the list\n",
    "\n",
    "alphanum = list(filter(lambda x:x.isalnum(), list3)) # filtr numbers & character strings from the list\n",
    "\n",
    "\n",
    "print(alpha)\n",
    "print(numeric)\n",
    "print(alphanum)\n",
    "print('--------')\n",
    "\n",
    "\n",
    "#Vowel Test\n"
   ]
  },
  {
   "cell_type": "code",
   "execution_count": null,
   "metadata": {
    "executionInfo": {
     "elapsed": 183,
     "status": "aborted",
     "timestamp": 1729271174697,
     "user": {
      "displayName": "Dr. Rubaiyat Islam",
      "userId": "00143020000614467639"
     },
     "user_tz": -360
    },
    "id": "4cQ6-gSUkycK"
   },
   "outputs": [],
   "source": [
    "list1 = [1,2,3,4]\n",
    "list2 = [5,6,7,8]\n",
    "\n",
    "def double(x):\n",
    "    return x+x\n",
    "\n",
    "def add(x,y):\n",
    "    return x+y\n",
    "\n",
    "def square(x):\n",
    "    return x*x\n",
    "\n",
    "print('---------------')\n",
    "\n",
    "print(list(map(double, list1))) # Double each number using map & User defined function\n",
    "print(list(map(add, list1, list2))) # add two items  using map & User defined function\n",
    "print(list(map(square, list1))) #Square numbers using map & User defined function\n",
    "\n",
    "print('---------------')\n",
    "\n",
    "print(list(map(lambda x: x + x, list1))) # Double each number using map & lambda\n",
    "print(list(map(lambda x, y: x + y, list1, list2))) # add two items  using map & lambda\n",
    "print(list(map(lambda x: x*x, list1))) #Square numbers using map & lambda\n",
    "\n",
    "print('---------------')"
   ]
  },
  {
   "cell_type": "code",
   "execution_count": null,
   "metadata": {
    "executionInfo": {
     "elapsed": 183,
     "status": "aborted",
     "timestamp": 1729271174697,
     "user": {
      "displayName": "Dr. Rubaiyat Islam",
      "userId": "00143020000614467639"
     },
     "user_tz": -360
    },
    "id": "L-f3vKkkkycK"
   },
   "outputs": [],
   "source": [
    "list2 = [1,2,3,4]\n",
    "\n",
    "product = reduce (operator.mul,list2) # Product of all numbers in a list\n",
    "\n",
    "add = reduce(operator.add,list2) # Add all numbers in the list\n",
    "\n",
    "concat_str = reduce(operator.add , ['Python' , ' ' , 'Rocks']) # Concatenate string using reduce\n",
    "\n",
    "prod = reduce(operator.mul,['Hello ' , 3]) #Repeat a string multiple times\n",
    "\n",
    "min_num = reduce(lambda a, b: a if a < b else b, list2) # Minimum number in the list using reduce () & lambda\n",
    "\n",
    "max_num = reduce(lambda a, b: a if a > b else b, list2) # Maximum number in the list using reduce () & lambda\n",
    "\n",
    "print(product)\n",
    "\n",
    "print(add)\n",
    "\n",
    "print(concat_str)\n",
    "\n",
    "print(prod)\n",
    "\n",
    "print(min_num)\n",
    "\n",
    "print(max_num)"
   ]
  },
  {
   "cell_type": "code",
   "execution_count": null,
   "metadata": {
    "executionInfo": {
     "elapsed": 183,
     "status": "aborted",
     "timestamp": 1729271174697,
     "user": {
      "displayName": "Dr. Rubaiyat Islam",
      "userId": "00143020000614467639"
     },
     "user_tz": -360
    },
    "id": "WYqtu5OYkycK"
   },
   "outputs": [],
   "source": [
    "def min_func(a, b):\n",
    "        return a if a < b else b\n",
    "\n",
    "\n",
    "def max_func(a, b):\n",
    "    return a if a > b else b\n",
    "\n",
    "min_num = reduce(min_func, list2) # Minimum number in the list using reduce () & User defined min function\n",
    "\n",
    "max_num = reduce(max_func, list2) # Maximum number in the list using reduce () & User defined min function\n",
    "\n",
    "min_num , max_num"
   ]
  },
  {
   "cell_type": "code",
   "execution_count": null,
   "metadata": {
    "executionInfo": {
     "elapsed": 184,
     "status": "aborted",
     "timestamp": 1729271174698,
     "user": {
      "displayName": "Dr. Rubaiyat Islam",
      "userId": "00143020000614467639"
     },
     "user_tz": -360
    },
    "id": "kEYYPH3dkycK",
    "scrolled": true
   },
   "outputs": [],
   "source": [
    "print('------')\n",
    "print(reduce(lambda a, b: bool(a and b), [0, 0, 1, 0, 0])) # Returns True if all values in the list are True\n",
    "print(reduce(lambda a, b: bool(a and b), [2, 3, 1, 5, 6])) # Returns True if all items in the list are True\n",
    "print(reduce(lambda a, b: bool(a and b), [8, 9, 1, 0, 9])) # Returns True if all values in the list are True\n",
    "\n",
    "print('------')\n",
    "\n",
    "print(reduce(lambda a, b: bool(a or b), [0, 0, 0, 0, 0]))  # Returns True if any item in the list is True\n",
    "print(reduce(lambda a, b: bool(a or b), [2, 3, 1, 5, 6]))  # Returns True if any item in the list is True\n",
    "print(reduce(lambda a, b: bool(a or b), [8, 9, 1, 0, 9]))  # Returns True if any item in the list is True\n",
    "\n",
    "print('------')"
   ]
  },
  {
   "cell_type": "markdown",
   "metadata": {
    "id": "1Lm74TLpkycS"
   },
   "source": [
    "# END"
   ]
  }
 ],
 "metadata": {
  "colab": {
   "provenance": []
  },
  "kernelspec": {
   "display_name": "base",
   "language": "python",
   "name": "python3"
  },
  "language_info": {
   "codemirror_mode": {
    "name": "ipython",
    "version": 3
   },
   "file_extension": ".py",
   "mimetype": "text/x-python",
   "name": "python",
   "nbconvert_exporter": "python",
   "pygments_lexer": "ipython3",
   "version": "3.9.13"
  }
 },
 "nbformat": 4,
 "nbformat_minor": 0
}
