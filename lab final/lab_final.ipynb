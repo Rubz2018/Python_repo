{
 "cells": [
  {
   "cell_type": "markdown",
   "metadata": {},
   "source": [
    "### QS 1\n",
    "### Write a function is_square(number) that returns a square"
   ]
  },
  {
   "cell_type": "code",
   "execution_count": 2,
   "metadata": {},
   "outputs": [
    {
     "name": "stdout",
     "output_type": "stream",
     "text": [
      "49\n"
     ]
    }
   ],
   "source": [
    "def is_square(number):\n",
    "    sq=number ** 2\n",
    "    print(sq)\n",
    "\n",
    "is_square(7)\n"
   ]
  },
  {
   "cell_type": "markdown",
   "metadata": {},
   "source": [
    "### Qs 2\n",
    "### Define a class of emplyee \n",
    "## Display employee details"
   ]
  },
  {
   "cell_type": "code",
   "execution_count": 5,
   "metadata": {},
   "outputs": [
    {
     "name": "stdout",
     "output_type": "stream",
     "text": [
      "Employee ID: 0023\n",
      "Name: Hasan\n",
      "salary: 30000\n"
     ]
    }
   ],
   "source": [
    "class Employee:\n",
    "    def __init__(self, emp_id, name,salary):\n",
    "        self.emp_id = emp_id\n",
    "        self.name= name\n",
    "        self.salary= salary\n",
    "    def display(self):\n",
    "        print(\"Employee ID:\", self.emp_id)\n",
    "        print(\"Name:\", self.name)\n",
    "        print(\"salary:\", self.salary)\n",
    "    \n",
    "employee1= Employee(\"0023\", \"Hasan\", 30000)\n",
    "employee1.display()\n",
    "        \n",
    "        "
   ]
  },
  {
   "cell_type": "markdown",
   "metadata": {},
   "source": [
    "# QS 3\n",
    "Write a function that performs division of two numbers entered by the user. \n",
    "handle zerodivisionerror and display:\n",
    "\"Error: Division by zero is not allowed.\""
   ]
  },
  {
   "cell_type": "code",
   "execution_count": 7,
   "metadata": {},
   "outputs": [
    {
     "name": "stdout",
     "output_type": "stream",
     "text": [
      "Result: 6.0\n"
     ]
    }
   ],
   "source": [
    "def divide_numbers():\n",
    "    try:\n",
    "        num1 = float(input(\"Enter the 1st number: \"))\n",
    "        num2 = float(input(\"Enter the 2nd number: \"))\n",
    "        result = num1 / num2\n",
    "        print(\"Result:\", result)\n",
    "    except ZeroDivisionError:\n",
    "        print(\"Error: Division by zero is not allowed.\")\n",
    "\n",
    "divide_numbers()\n"
   ]
  }
 ],
 "metadata": {
  "kernelspec": {
   "display_name": "Python 3",
   "language": "python",
   "name": "python3"
  },
  "language_info": {
   "codemirror_mode": {
    "name": "ipython",
    "version": 3
   },
   "file_extension": ".py",
   "mimetype": "text/x-python",
   "name": "python",
   "nbconvert_exporter": "python",
   "pygments_lexer": "ipython3",
   "version": "3.11.9"
  }
 },
 "nbformat": 4,
 "nbformat_minor": 2
}
