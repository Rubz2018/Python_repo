{
 "cells": [
  {
   "cell_type": "markdown",
   "id": "0308a726",
   "metadata": {},
   "source": [
    "1. A system where a SmartDevice class represents a smart home device (like a light bulb) that can be turned on or off.\n",
    "\n",
    "2. A system where a Book class manages book information and checks if a book is available for borrowing.\n",
    "\n",
    "3. Vehicle Management System: This system has a base class Vehicle and two subclasses: Car and Bike that inherit common attributes and define additional ones."
   ]
  },
  {
   "cell_type": "code",
   "execution_count": 1,
   "id": "f2aba7d0",
   "metadata": {},
   "outputs": [
    {
     "name": "stdout",
     "output_type": "stream",
     "text": [
      "Wasique's Smart Bulb is currently OFF.\n",
      "Wasique's Smart Bulb is now ON.\n",
      "Wasique's Smart Bulb is currently ON.\n",
      "Wasique's Smart Bulb is now OFF.\n",
      "Wasique's Smart Bulb is currently OFF.\n"
     ]
    }
   ],
   "source": [
    "#A system where a SmartDevice class represents a smart home device (like a light bulb) that can be turned on or off.\n",
    "class SmartDevice:\n",
    "    def __init__(self, name):\n",
    "        self.name = name\n",
    "        self.status = False \n",
    "\n",
    "    def turn_on(self):\n",
    "        self.status = True\n",
    "        print(f\"{self.name} is now ON.\")\n",
    "\n",
    "    def turn_off(self):\n",
    "        self.status = False\n",
    "        print(f\"{self.name} is now OFF.\")\n",
    "\n",
    "    def show_status(self):\n",
    "        state = \"ON\" if self.status else \"OFF\"\n",
    "        print(f\"{self.name} is currently {state}.\")\n",
    "\n",
    "bulb = SmartDevice(\"Wasique's Smart Bulb\")\n",
    "bulb.show_status()\n",
    "bulb.turn_on()\n",
    "bulb.show_status()\n",
    "bulb.turn_off()\n",
    "bulb.show_status()\n"
   ]
  },
  {
   "cell_type": "code",
   "execution_count": 2,
   "id": "cacb330e",
   "metadata": {},
   "outputs": [
    {
     "name": "stdout",
     "output_type": "stream",
     "text": [
      "'Python for Beginners' is currently available.\n",
      "Digonta borrowed 'Python for Beginners' by Azad.\n",
      "'Python for Beginners' is currently not available.\n",
      "Sorry Wasique, 'Python for Beginners' is not available.\n",
      "'Python for Beginners' has been returned and is now available.\n",
      "'Python for Beginners' is currently available.\n"
     ]
    }
   ],
   "source": [
    "#A system where a Book class manages book information and checks if a book is available for borrowing.\n",
    "class Book:\n",
    "    def __init__(self, title, author):\n",
    "        self.title = title\n",
    "        self.author = author\n",
    "        self.available = True\n",
    "\n",
    "    def borrow(self, reader_name):\n",
    "        if self.available:\n",
    "            self.available = False\n",
    "            print(f\"{reader_name} borrowed '{self.title}' by {self.author}.\")\n",
    "        else:\n",
    "            print(f\"Sorry {reader_name}, '{self.title}' is not available.\")\n",
    "\n",
    "    def return_book(self):\n",
    "        self.available = True\n",
    "        print(f\"'{self.title}' has been returned and is now available.\")\n",
    "\n",
    "    def check_status(self):\n",
    "        status = \"available\" if self.available else \"not available\"\n",
    "        print(f\"'{self.title}' is currently {status}.\")\n",
    "\n",
    "book1 = Book(\"Python for Beginners\", \"Azad\")\n",
    "book1.check_status()\n",
    "book1.borrow(\"Digonta\")\n",
    "book1.check_status()\n",
    "book1.borrow(\"Wasique\")\n",
    "book1.return_book()\n",
    "book1.check_status()\n"
   ]
  },
  {
   "cell_type": "code",
   "execution_count": 4,
   "id": "e8f2906f",
   "metadata": {},
   "outputs": [
    {
     "name": "stdout",
     "output_type": "stream",
     "text": [
      "Brand: Toyota, Model: 2025\n",
      "Type: Car, Seats: 5\n",
      "---------------------\n",
      "Brand: Yamaha, Model: R15\n",
      "Type: Bike, Engine: 150cc\n"
     ]
    }
   ],
   "source": [
    "#Vehicle Management System: This system has a base class Vehicle and two subclasses: Car and Bike that inherit common attributes and define additional ones.\n",
    "class Vehicle:\n",
    "    def __init__(self, brand, model):\n",
    "        self.brand = brand\n",
    "        self.model = model\n",
    "\n",
    "    def show_info(self):\n",
    "        print(f\"Brand: {self.brand}, Model: {self.model}\")\n",
    "\n",
    "class Car(Vehicle):\n",
    "    def __init__(self, brand, model, seats):\n",
    "        super().__init__(brand, model)\n",
    "        self.seats = seats\n",
    "\n",
    "    def show_info(self):\n",
    "        super().show_info()\n",
    "        print(f\"Type: Car, Seats: {self.seats}\")\n",
    "\n",
    "class Bike(Vehicle):\n",
    "    def __init__(self, brand, model, cc):\n",
    "        super().__init__(brand, model)\n",
    "        self.cc = cc\n",
    "\n",
    "    def show_info(self):\n",
    "        super().show_info()\n",
    "        print(f\"Type: Bike, Engine: {self.cc}cc\")\n",
    "\n",
    "car1 = Car(\"Toyota\", \"2025\", 5)\n",
    "bike1 = Bike(\"Yamaha\", \"R15\", 150)\n",
    "\n",
    "car1.show_info()\n",
    "print(\"---------------------\")\n",
    "bike1.show_info()\n"
   ]
  }
 ],
 "metadata": {
  "kernelspec": {
   "display_name": "Python 3",
   "language": "python",
   "name": "python3"
  },
  "language_info": {
   "codemirror_mode": {
    "name": "ipython",
    "version": 3
   },
   "file_extension": ".py",
   "mimetype": "text/x-python",
   "name": "python",
   "nbconvert_exporter": "python",
   "pygments_lexer": "ipython3",
   "version": "3.12.4"
  }
 },
 "nbformat": 4,
 "nbformat_minor": 5
}
