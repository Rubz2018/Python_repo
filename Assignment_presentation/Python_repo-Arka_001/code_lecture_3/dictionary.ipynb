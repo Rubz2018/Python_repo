{
 "cells": [
  {
<<<<<<< HEAD
   "cell_type": "code",
   "execution_count": 31,
=======
   "cell_type": "markdown",
   "metadata": {},
   "source": [
    "### Dictionary\n"
   ]
  },
  {
   "cell_type": "code",
   "execution_count": 10,
>>>>>>> c6ca9a25a6d52516c8a40d5c4b1cb1188628e495
   "metadata": {},
   "outputs": [
    {
     "name": "stdout",
     "output_type": "stream",
     "text": [
<<<<<<< HEAD
      "key:a and value: 1\n",
      "key:b and value: 2\n",
      "key:c and value: 3\n"
=======
      "key: a and value: 1 \n",
      "key: b and value: 2 \n",
      "key: c and value: 3 \n",
      "key: d and value: 3 \n"
>>>>>>> c6ca9a25a6d52516c8a40d5c4b1cb1188628e495
     ]
    }
   ],
   "source": [
<<<<<<< HEAD
    "#Loop through a dictionary and print each key and value.\n",
    "data = {'a':1,'b':2, 'c':3}\n",
    "#print(data)\n",
    "for key, value in data.items():\n",
    "    print(f\"key:{key} and value: {value}\")\n",
    "    "
=======
    "# loop through dictionary\n",
    "\n",
    "data =  {'a':1, 'b': 2 , 'c':3, 'd':3}\n",
    "#print(data)\n",
    "for key, value in data.items():\n",
    "    print(f\"key: {key} and value: {value} \")\n"
>>>>>>> c6ca9a25a6d52516c8a40d5c4b1cb1188628e495
   ]
  },
  {
   "cell_type": "code",
<<<<<<< HEAD
   "execution_count": 32,
=======
   "execution_count": 7,
>>>>>>> c6ca9a25a6d52516c8a40d5c4b1cb1188628e495
   "metadata": {},
   "outputs": [
    {
     "name": "stdout",
     "output_type": "stream",
     "text": [
<<<<<<< HEAD
      "temperature: 25\n",
      "pressure: 101.3\n",
      "pH: 7.0\n"
=======
      "key: c, value 3\n"
>>>>>>> c6ca9a25a6d52516c8a40d5c4b1cb1188628e495
     ]
    }
   ],
   "source": [
<<<<<<< HEAD
    "data = {\n",
    "    \"temperature\": 25, \n",
    "    \"pressure\": 101.3, \n",
    "    \"pH\": 7.0  \n",
    "}\n",
    "\n",
    "for key, value in data.items():\n",
    "    print(f\"{key}: {value}\") #\n",
    "\n"
   ]
  },
  {
   "cell_type": "code",
   "execution_count": 34,
   "metadata": {},
   "outputs": [
    {
     "name": "stdout",
     "output_type": "stream",
     "text": [
      "pressure has a value greater than 40.0: 101\n"
     ]
    }
   ],
   "source": [
    "#Find and print all keys that have values greater than a given number.\n",
    "data = {\n",
    "    \"temperature\": 25,\n",
    "    \"pressure\": 101,\n",
    "    \"pH\": 7.0\n",
    "}\n",
    "\n",
    "threshold = float(input(\"Please Insert the theshold Value\"))  \n",
    "# threshold = 50\n",
    "\n",
    "for key, value in data.items():\n",
    "    if value > threshold:\n",
    "        print(f\"{key} has a value greater than {threshold}: {value}\")\n"
=======
    "threshold = int(input(\"Enter the threshold value\"))\n",
    "\n",
    "for key, value in data.items():\n",
    "    if value > threshold:\n",
    "        print(f\"key: {key}, value {value}\")\n"
>>>>>>> c6ca9a25a6d52516c8a40d5c4b1cb1188628e495
   ]
  },
  {
   "cell_type": "code",
<<<<<<< HEAD
   "execution_count": 35,
=======
   "execution_count": 21,
>>>>>>> c6ca9a25a6d52516c8a40d5c4b1cb1188628e495
   "metadata": {},
   "outputs": [
    {
     "name": "stdout",
     "output_type": "stream",
     "text": [
<<<<<<< HEAD
      "{25: 1, 101: 1, 7.0: 1}\n"
=======
      "{1: 1, 2: 1, 3: 2}\n"
>>>>>>> c6ca9a25a6d52516c8a40d5c4b1cb1188628e495
     ]
    }
   ],
   "source": [
<<<<<<< HEAD
    "# Count the occurrences of each value in a dictionary.\n",
    "value_counts = {}\n",
    "for value in data.values():\n",
    "    if value in value_counts:\n",
    "        value_counts[value]+1\n",
    "    else:\n",
    "        value_counts[value]=1\n",
    "print(value_counts)"
=======
    "value_counts = {}\n",
    "for value in data.values():\n",
    "    if value in value_counts:\n",
    "        value_counts[value]+=1\n",
    "    else:\n",
    "        value_counts[value] =1\n",
    "print(value_counts)\n"
>>>>>>> c6ca9a25a6d52516c8a40d5c4b1cb1188628e495
   ]
  },
  {
   "cell_type": "code",
<<<<<<< HEAD
   "execution_count": 36,
=======
   "execution_count": 17,
>>>>>>> c6ca9a25a6d52516c8a40d5c4b1cb1188628e495
   "metadata": {},
   "outputs": [
    {
     "name": "stdout",
     "output_type": "stream",
     "text": [
<<<<<<< HEAD
      "temperature has a value less than 40.0: 25\n",
      "pH has a value less than 40.0: 7.0\n"
=======
      "key: a, value 1\n",
      "key: b, value 2\n"
>>>>>>> c6ca9a25a6d52516c8a40d5c4b1cb1188628e495
     ]
    }
   ],
   "source": [
<<<<<<< HEAD
    "data = {\n",
    "    \"temperature\": 25,\n",
    "    \"pressure\": 101,\n",
    "    \"pH\": 7.0\n",
    "}\n",
    "\n",
    "threshold = float(input(\"Please Insert the theshold Value\"))  \n",
    "# threshold = 50\n",
    "\n",
    "for key, value in data.items():\n",
    "    if value < threshold:\n",
    "        print(f\"{key} has a value less than {threshold}: {value}\")"
=======
    "threshold = int(input(\"Enter the threshold value\"))\n",
    "\n",
    "for key, value in data.items():\n",
    "    if value < threshold:\n",
    "        print(f\"key: {key}, value {value}\")"
>>>>>>> c6ca9a25a6d52516c8a40d5c4b1cb1188628e495
   ]
  },
  {
   "cell_type": "code",
<<<<<<< HEAD
   "execution_count": 37,
=======
   "execution_count": 20,
>>>>>>> c6ca9a25a6d52516c8a40d5c4b1cb1188628e495
   "metadata": {},
   "outputs": [
    {
     "name": "stdout",
     "output_type": "stream",
     "text": [
<<<<<<< HEAD
      "{1: 'Arka', 2: 'Nisa', 3: 'Taukir'}\n"
=======
      "{1: 'Tuhin', 2: 'Nisa', 3: 'Arka', 4: 'taukir', 5: 'wasik'}\n"
>>>>>>> c6ca9a25a6d52516c8a40d5c4b1cb1188628e495
     ]
    }
   ],
   "source": [
<<<<<<< HEAD
    "#Print dictionary items in sorted order of their keys.\n",
    "data1={\n",
    "   3:\"Taukir\" , 2:\"Nisa\",1:\"Arka\" \n",
    "}\n",
    "sorted_dict= dict(sorted(data1.items()))\n",
=======
    "data1 = {4:'taukir', 2:'Nisa', 3: 'Arka', 5 :'wasik', 1: 'Tuhin'}\n",
    "\n",
    "sorted_dict = dict(sorted(data1.items()))\n",
>>>>>>> c6ca9a25a6d52516c8a40d5c4b1cb1188628e495
    "print(sorted_dict)"
   ]
  },
  {
   "cell_type": "code",
   "execution_count": null,
   "metadata": {},
   "outputs": [],
<<<<<<< HEAD
   "source": [
    ".\n"
   ]
=======
   "source": []
>>>>>>> c6ca9a25a6d52516c8a40d5c4b1cb1188628e495
  }
 ],
 "metadata": {
  "kernelspec": {
<<<<<<< HEAD
   "display_name": "Python 3",
=======
   "display_name": "base",
>>>>>>> c6ca9a25a6d52516c8a40d5c4b1cb1188628e495
   "language": "python",
   "name": "python3"
  },
  "language_info": {
   "codemirror_mode": {
    "name": "ipython",
    "version": 3
   },
   "file_extension": ".py",
   "mimetype": "text/x-python",
   "name": "python",
   "nbconvert_exporter": "python",
   "pygments_lexer": "ipython3",
<<<<<<< HEAD
   "version": "3.12.8"
=======
   "version": "3.9.13"
>>>>>>> c6ca9a25a6d52516c8a40d5c4b1cb1188628e495
  }
 },
 "nbformat": 4,
 "nbformat_minor": 2
}
