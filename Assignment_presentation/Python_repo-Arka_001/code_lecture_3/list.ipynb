{
 "cells": [
  {
   "cell_type": "markdown",
   "metadata": {},
   "source": [
<<<<<<< HEAD
    "- Using List comprehension Generate a list of squares of numbers from 1 to 10.\n",
    "- Using List Comprehension Create a list of even numbers from 1 to 20"
=======
    "### List"
   ]
  },
  {
   "cell_type": "markdown",
   "metadata": {},
   "source": [
    " - Using List comprehension Generate a list of squares of numbers from 1 to 10.\n",
    "- Using List Comprehension Create a list of even numbers from 1 to 20\n",
    "### Built-in Functions\n",
    "- Find the minimum, maximum, length, and sum of a list.\n",
    "- Find the longest word in a list of words.\n",
    "- Compute the sum of even numbers in a list.\n",
    "- Find the shortest string in a list.\n",
    "- Sort a list of tuples based on the second element."
>>>>>>> c6ca9a25a6d52516c8a40d5c4b1cb1188628e495
   ]
  },
  {
   "cell_type": "code",
<<<<<<< HEAD
   "execution_count": 77,
=======
   "execution_count": null,
   "metadata": {},
   "outputs": [],
   "source": []
  },
  {
   "cell_type": "code",
   "execution_count": 18,
>>>>>>> c6ca9a25a6d52516c8a40d5c4b1cb1188628e495
   "metadata": {},
   "outputs": [
    {
     "name": "stdout",
     "output_type": "stream",
     "text": [
      "[1, 4, 9, 16, 25, 36, 49, 64, 81, 100]\n"
     ]
    }
   ],
   "source": [
<<<<<<< HEAD
    "squares = [x**2 for x in range(1,11)]\n",
    "print(squares)\n"
=======
    "squared_num_list = [item**2 for item in range(1,11)]\n",
    "print(squared_num_list)"
>>>>>>> c6ca9a25a6d52516c8a40d5c4b1cb1188628e495
   ]
  },
  {
   "cell_type": "code",
<<<<<<< HEAD
   "execution_count": 78,
=======
   "execution_count": 19,
>>>>>>> c6ca9a25a6d52516c8a40d5c4b1cb1188628e495
   "metadata": {},
   "outputs": [
    {
     "name": "stdout",
     "output_type": "stream",
     "text": [
<<<<<<< HEAD
      "[2, 4, 6, 8, 10, 12, 14, 16, 18, 20]\n",
      "[1, 3, 5, 7, 9, 11, 13, 15, 17, 19]\n"
=======
      "[2, 4, 6, 8, 10]\n"
>>>>>>> c6ca9a25a6d52516c8a40d5c4b1cb1188628e495
     ]
    }
   ],
   "source": [
<<<<<<< HEAD
    "evenNum = [x for x in range(1, 21) if x % 2 == 0]\n",
    "print(evenNum)\n",
    "oddNum = [x for x in range(1, 21) if x % 2 != 0]\n",
    "print(oddNum)"
=======
    "even_num_list = [item for item in range(1,11) if item % 2 == 0]\n",
    "print(even_num_list)"
>>>>>>> c6ca9a25a6d52516c8a40d5c4b1cb1188628e495
   ]
  },
  {
   "cell_type": "code",
<<<<<<< HEAD
   "execution_count": 90,
=======
   "execution_count": 20,
>>>>>>> c6ca9a25a6d52516c8a40d5c4b1cb1188628e495
   "metadata": {},
   "outputs": [
    {
     "name": "stdout",
     "output_type": "stream",
     "text": [
<<<<<<< HEAD
      "10\n",
      "80\n",
      "360\n"
=======
      "[2, 4, 6, 8, 10]\n"
>>>>>>> c6ca9a25a6d52516c8a40d5c4b1cb1188628e495
     ]
    }
   ],
   "source": [
<<<<<<< HEAD
    "numbers=[10,20,30,40,50,60,70,80]\n",
    "minValue=min(numbers)\n",
    "maxValue=max(numbers)\n",
    "# length = len(numbers)\n",
    "total=sum(numbers)\n",
    "print(minValue)\n",
    "print(maxValue)\n",
    "# print(length)\n",
    "print(total)\n",
    "# print(len(numbers))\n"
=======
    "even_num_list = []\n",
    "for item in range(1,11):\n",
    "    if item % 2 == 0:\n",
    "        even_num_list.append(item)\n",
    "print(even_num_list)"
>>>>>>> c6ca9a25a6d52516c8a40d5c4b1cb1188628e495
   ]
  },
  {
   "cell_type": "code",
<<<<<<< HEAD
   "execution_count": 91,
=======
   "execution_count": 25,
>>>>>>> c6ca9a25a6d52516c8a40d5c4b1cb1188628e495
   "metadata": {},
   "outputs": [
    {
     "name": "stdout",
     "output_type": "stream",
     "text": [
<<<<<<< HEAD
      "Minimum value: 10\n",
      "Maximum value: 50\n",
      "Sum of list: 150\n"
=======
      "Minimum: 1\n",
      "Maximum: 43\n",
      "Length: 4\n",
      "Sum: 88\n"
>>>>>>> c6ca9a25a6d52516c8a40d5c4b1cb1188628e495
     ]
    }
   ],
   "source": [
<<<<<<< HEAD
    "numbers = [10, 20, 30, 40, 50]\n",
    "\n",
    "# Finding the minimum, maximum, length, and sum\n",
    "min_value = min(numbers)\n",
    "max_value = max(numbers)\n",
    "# length = len(numbers)\n",
    "total_sum = sum(numbers)\n",
    "\n",
    "# Printing the results\n",
    "print(\"Minimum value:\", min_value)\n",
    "print(\"Maximum value:\", max_value)\n",
    "# print(\"Length of list:\", length)\n",
    "print(\"Sum of list:\", total_sum)\n",
    "\n"
   ]
=======
    "numbers = [int(x) for x in input(\"Enter numbers separated by spaces: \").split()]\n",
    "print(\"Minimum:\", min(numbers))\n",
    "print(\"Maximum:\", max(numbers))\n",
    "print(\"Length:\", len(numbers))\n",
    "print(\"Sum:\", sum(numbers))"
   ]
  },
  {
   "cell_type": "code",
   "execution_count": 27,
   "metadata": {},
   "outputs": [
    {
     "name": "stdout",
     "output_type": "stream",
     "text": [
      "Longest word: this\n"
     ]
    }
   ],
   "source": [
    "# Find the longest word in a list of words using list comprehension\n",
    "words = [word.strip() for word in input(\"Enter words separated by commas: \").split(',')]\n",
    "longest_word = max(words, key=len)\n",
    "print(\"Longest word:\", longest_word)\n",
    "\n",
    "\n"
   ]
  },
  {
   "cell_type": "code",
   "execution_count": 29,
   "metadata": {},
   "outputs": [
    {
     "name": "stdout",
     "output_type": "stream",
     "text": [
      "Sum of even numbers: 20\n"
     ]
    }
   ],
   "source": [
    "# Compute the sum of even numbers in a list using list comprehension\n",
    "even_sum = sum([x for x in range(10) if x % 2 == 0])\n",
    "print(\"Sum of even numbers:\", even_sum)"
   ]
  },
  {
   "cell_type": "code",
   "execution_count": null,
   "metadata": {},
   "outputs": [],
   "source": [
    "# Sort a list of tuples based on the second element using list comprehension\n",
    "tuples_list = [(x.split()[0], int(x.split()[1])) for x in input(\"Enter tuples (word number) separated by commas: \").split(',')]\n",
    "sorted_tuples = sorted([tup for tup in tuples_list], key=lambda x: x[1])\n",
    "print(\"Sorted tuples:\", sorted_tuples)"
   ]
  },
  {
   "cell_type": "code",
   "execution_count": 30,
   "metadata": {},
   "outputs": [
    {
     "name": "stdout",
     "output_type": "stream",
     "text": [
      "Shortest string: a\n"
     ]
    }
   ],
   "source": [
    "# Find the shortest string in a list using list comprehension\n",
    "shortest_string = min(words, key=len)\n",
    "print(\"Shortest string:\", shortest_string)"
   ]
>>>>>>> c6ca9a25a6d52516c8a40d5c4b1cb1188628e495
  }
 ],
 "metadata": {
  "kernelspec": {
<<<<<<< HEAD
   "display_name": "Python 3",
=======
   "display_name": "base",
>>>>>>> c6ca9a25a6d52516c8a40d5c4b1cb1188628e495
   "language": "python",
   "name": "python3"
  },
  "language_info": {
   "codemirror_mode": {
    "name": "ipython",
    "version": 3
   },
   "file_extension": ".py",
   "mimetype": "text/x-python",
   "name": "python",
   "nbconvert_exporter": "python",
   "pygments_lexer": "ipython3",
<<<<<<< HEAD
   "version": "3.12.8"
=======
   "version": "3.9.13"
>>>>>>> c6ca9a25a6d52516c8a40d5c4b1cb1188628e495
  }
 },
 "nbformat": 4,
 "nbformat_minor": 2
}
