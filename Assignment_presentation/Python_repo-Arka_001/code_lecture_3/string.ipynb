{
 "cells": [
  {
   "cell_type": "markdown",
   "metadata": {},
   "source": [
<<<<<<< HEAD
    "String Manipulation"
=======
    "#### String Manipulation"
   ]
  },
  {
   "cell_type": "markdown",
   "metadata": {},
   "source": [
    "- Extract the first 5 and last 5 characters from a given string.\n",
    "- Remove every alternate character from a string.\n",
    "- Extract the substring from index 2 to 7.\n",
    "- Iterate through a string and print each character.\n",
    "- Reverse a string using slicing."
>>>>>>> c6ca9a25a6d52516c8a40d5c4b1cb1188628e495
   ]
  },
  {
   "cell_type": "code",
<<<<<<< HEAD
   "execution_count": 10,
=======
   "execution_count": 2,
>>>>>>> c6ca9a25a6d52516c8a40d5c4b1cb1188628e495
   "metadata": {},
   "outputs": [
    {
     "name": "stdout",
     "output_type": "stream",
     "text": [
<<<<<<< HEAD
      "We Lo ython\n"
=======
      "We lo\n",
      "ython\n"
>>>>>>> c6ca9a25a6d52516c8a40d5c4b1cb1188628e495
     ]
    }
   ],
   "source": [
<<<<<<< HEAD
    "# Extract the first 5 and last 5 characters from a given string\n",
    "string = \"We Love Python\"\n",
    "\n",
    "firstFive=string[:5]\n",
    "lastFiver=string[-5:]\n",
    "print(firstFive,lastFiver)\n"
=======
    "string = 'We love python'\n",
    "#print(string)\n",
    "\n",
    "first_five = string[:5]\n",
    "last_five = string[-5:]\n",
    "print(first_five)\n",
    "print(last_five)"
>>>>>>> c6ca9a25a6d52516c8a40d5c4b1cb1188628e495
   ]
  },
  {
   "cell_type": "code",
<<<<<<< HEAD
   "execution_count": 11,
=======
   "execution_count": 6,
>>>>>>> c6ca9a25a6d52516c8a40d5c4b1cb1188628e495
   "metadata": {},
   "outputs": [
    {
     "name": "stdout",
     "output_type": "stream",
     "text": [
<<<<<<< HEAD
      "W oePto\n"
=======
      "W oepto\n"
>>>>>>> c6ca9a25a6d52516c8a40d5c4b1cb1188628e495
     ]
    }
   ],
   "source": [
<<<<<<< HEAD
    "#Remove every alternate character from a string.\n",
    "alternateRemove=string[::2]\n",
    "print(alternateRemove)"
=======
    "alternate_removed = string[::2]\n",
    "print(alternate_removed)"
>>>>>>> c6ca9a25a6d52516c8a40d5c4b1cb1188628e495
   ]
  },
  {
   "cell_type": "code",
<<<<<<< HEAD
   "execution_count": 21,
=======
   "execution_count": 7,
>>>>>>> c6ca9a25a6d52516c8a40d5c4b1cb1188628e495
   "metadata": {},
   "outputs": [
    {
     "name": "stdout",
     "output_type": "stream",
     "text": [
<<<<<<< HEAD
      "Love\n"
=======
      " love \n"
>>>>>>> c6ca9a25a6d52516c8a40d5c4b1cb1188628e495
     ]
    }
   ],
   "source": [
<<<<<<< HEAD
    "#Extract the substring from index 2 to 7.\n",
    "subStringIndex=string[3:7]\n",
    "print(subStringIndex)"
=======
    "two_seven_str = string[2:8]\n",
    "print(two_seven_str)"
>>>>>>> c6ca9a25a6d52516c8a40d5c4b1cb1188628e495
   ]
  },
  {
   "cell_type": "code",
<<<<<<< HEAD
   "execution_count": 23,
=======
   "execution_count": 8,
>>>>>>> c6ca9a25a6d52516c8a40d5c4b1cb1188628e495
   "metadata": {},
   "outputs": [
    {
     "name": "stdout",
     "output_type": "stream",
     "text": [
      "W\n",
      "e\n",
      " \n",
<<<<<<< HEAD
      "L\n",
=======
      "l\n",
>>>>>>> c6ca9a25a6d52516c8a40d5c4b1cb1188628e495
      "o\n",
      "v\n",
      "e\n",
      " \n",
<<<<<<< HEAD
      "P\n",
=======
      "p\n",
>>>>>>> c6ca9a25a6d52516c8a40d5c4b1cb1188628e495
      "y\n",
      "t\n",
      "h\n",
      "o\n",
      "n\n"
     ]
    }
   ],
   "source": [
<<<<<<< HEAD
    "#Iterate through a string and print each character.\n",
    "for iterateChar in string:\n",
    "    print(iterateChar)"
=======
    "for char in string:\n",
    "    print(char)"
>>>>>>> c6ca9a25a6d52516c8a40d5c4b1cb1188628e495
   ]
  },
  {
   "cell_type": "code",
<<<<<<< HEAD
   "execution_count": 30,
=======
   "execution_count": 9,
>>>>>>> c6ca9a25a6d52516c8a40d5c4b1cb1188628e495
   "metadata": {},
   "outputs": [
    {
     "name": "stdout",
     "output_type": "stream",
     "text": [
<<<<<<< HEAD
      "nohtyP evoL eW\n"
=======
      "nohtyp evol eW\n"
>>>>>>> c6ca9a25a6d52516c8a40d5c4b1cb1188628e495
     ]
    }
   ],
   "source": [
<<<<<<< HEAD
    "#Reverse a string using slicing.\n",
    "reverseString=string[::-1]\n",
    "print(reverseString)"
   ]
  },
  {
   "cell_type": "markdown",
   "metadata": {},
   "source": [
    "String Strip Functions"
=======
    "reverse_str = string[::-1]\n",
    "print(reverse_str)"
   ]
  },
  {
   "cell_type": "code",
   "execution_count": null,
   "metadata": {},
   "outputs": [],
   "source": []
  },
  {
   "cell_type": "markdown",
   "metadata": {},
   "source": [
    "### String \n",
    "- Remove leading spaces using lstrip().\n",
    "- Remove trailing spaces using rstrip().\n",
    "- Strip both leading and trailing spaces from a string.\n",
    "- Remove specific characters (e.g., #) from the start of a string.\n",
    "- Remove specific characters from the end of a string.\n"
>>>>>>> c6ca9a25a6d52516c8a40d5c4b1cb1188628e495
   ]
  },
  {
   "cell_type": "code",
<<<<<<< HEAD
   "execution_count": 40,
=======
   "execution_count": 12,
>>>>>>> c6ca9a25a6d52516c8a40d5c4b1cb1188628e495
   "metadata": {},
   "outputs": [
    {
     "name": "stdout",
     "output_type": "stream",
     "text": [
<<<<<<< HEAD
      "we Love Python\n",
      "we Love Python   \n",
      "   we Love Python\n"
=======
      "after ls strip: This is a test\n"
>>>>>>> c6ca9a25a6d52516c8a40d5c4b1cb1188628e495
     ]
    }
   ],
   "source": [
<<<<<<< HEAD
    "#Remove leading spaces using lstrip().\n",
    "string1 = \"    we Love Python   \"\n",
    "string2 = \"   we Love Python   \" # String with leading spaces\n",
    "\n",
    "\n",
    "print(string1.strip())#Strip both leading and trailing spaces from a string.\n",
    "print(string1.lstrip())# Removes spaces from the left side\n",
    "print(string2.rstrip())# Removes spaces from the right side\n",
    "\n"
=======
    "string  =  input(\"Enter a string with leading spaces: \")\n",
    "print('after ls strip:', string.lstrip())\n"
>>>>>>> c6ca9a25a6d52516c8a40d5c4b1cb1188628e495
   ]
  },
  {
   "cell_type": "code",
<<<<<<< HEAD
   "execution_count": 53,
=======
   "execution_count": 13,
>>>>>>> c6ca9a25a6d52516c8a40d5c4b1cb1188628e495
   "metadata": {},
   "outputs": [
    {
     "name": "stdout",
     "output_type": "stream",
     "text": [
<<<<<<< HEAD
      "kjdgfdghksjdhfkjfh\n"
=======
      "after r strip: this is another test.\n"
>>>>>>> c6ca9a25a6d52516c8a40d5c4b1cb1188628e495
     ]
    }
   ],
   "source": [
<<<<<<< HEAD
    "# Remove specific characters (e.g., #) from the start of a string.\n",
    "string= input(\"enter a string with leading with @:\")\n",
    "print(string.replace(\"@\",\"\"))"
   ]
=======
    "string  =  input(\"Enter a string with trailing with spaces: \")\n",
    "print('after r strip:', string.rstrip())"
   ]
  },
  {
   "cell_type": "code",
   "execution_count": 14,
   "metadata": {},
   "outputs": [
    {
     "name": "stdout",
     "output_type": "stream",
     "text": [
      "after ls strip: This is a hash\n"
     ]
    }
   ],
   "source": [
    "string  =  input(\"Enter a string with leading with #: \")\n",
    "print('after ls strip:', string.lstrip('#'))"
   ]
  },
  {
   "cell_type": "code",
   "execution_count": 15,
   "metadata": {},
   "outputs": [
    {
     "name": "stdout",
     "output_type": "stream",
     "text": [
      "Email after stripping: rubz@yahoo.com\n"
     ]
    }
   ],
   "source": [
    "email  = input('Enter email address')\n",
    "cleaned_email = email.strip('@')\n",
    "print('Email after stripping:', cleaned_email)"
   ]
  },
  {
   "cell_type": "code",
   "execution_count": 16,
   "metadata": {},
   "outputs": [
    {
     "name": "stdout",
     "output_type": "stream",
     "text": [
      "Email after stripping '@': rubz@yahoo.com\n"
     ]
    }
   ],
   "source": [
    "email = input(\"Enter an email address: \")\n",
    "cleaned_email = email.strip('@')\n",
    "print(\"Email after stripping '@':\", cleaned_email)"
   ]
  },
  {
   "cell_type": "code",
   "execution_count": 19,
   "metadata": {},
   "outputs": [
    {
     "name": "stdout",
     "output_type": "stream",
     "text": [
      "Email after stripping '@': rubz yahoo.com\n"
     ]
    }
   ],
   "source": [
    "# Strip '@' from the start and end of an email address\n",
    "email = input(\"Enter an email address: \")\n",
    "cleaned_email = email.replace('@', ' ')\n",
    "print(\"Email after stripping '@':\", cleaned_email)\n"
   ]
  },
  {
   "cell_type": "code",
   "execution_count": null,
   "metadata": {},
   "outputs": [],
   "source": []
>>>>>>> c6ca9a25a6d52516c8a40d5c4b1cb1188628e495
  }
 ],
 "metadata": {
  "kernelspec": {
<<<<<<< HEAD
   "display_name": "Python 3",
=======
   "display_name": "base",
>>>>>>> c6ca9a25a6d52516c8a40d5c4b1cb1188628e495
   "language": "python",
   "name": "python3"
  },
  "language_info": {
   "codemirror_mode": {
    "name": "ipython",
    "version": 3
   },
   "file_extension": ".py",
   "mimetype": "text/x-python",
   "name": "python",
   "nbconvert_exporter": "python",
   "pygments_lexer": "ipython3",
<<<<<<< HEAD
   "version": "3.12.8"
=======
   "version": "3.9.13"
>>>>>>> c6ca9a25a6d52516c8a40d5c4b1cb1188628e495
  }
 },
 "nbformat": 4,
 "nbformat_minor": 2
}
