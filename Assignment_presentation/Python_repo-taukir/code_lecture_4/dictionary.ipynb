{
 "cells": [
  {
   "cell_type": "markdown",
   "metadata": {},
   "source": [
    "### Dictionary\n"
   ]
  },
  {
   "cell_type": "code",
   "execution_count": 10,
   "metadata": {},
   "outputs": [
    {
     "name": "stdout",
     "output_type": "stream",
     "text": [
      "key: a and value: 1 \n",
      "key: b and value: 2 \n",
      "key: c and value: 3 \n",
      "key: d and value: 3 \n"
     ]
    }
   ],
   "source": [
    "# loop through dictionary\n",
    "\n",
    "data =  {'a':1, 'b': 2 , 'c':3, 'd':3}\n",
    "#print(data)\n",
    "for key, value in data.items():\n",
    "    print(f\"key: {key} and value: {value} \")\n"
   ]
  },
  {
   "cell_type": "code",
   "execution_count": 7,
   "metadata": {},
   "outputs": [
    {
     "name": "stdout",
     "output_type": "stream",
     "text": [
      "key: c, value 3\n"
     ]
    }
   ],
   "source": [
    "threshold = int(input(\"Enter the threshold value\"))\n",
    "\n",
    "for key, value in data.items():\n",
    "    if value > threshold:\n",
    "        print(f\"key: {key}, value {value}\")\n"
   ]
  },
  {
   "cell_type": "code",
   "execution_count": 21,
   "metadata": {},
   "outputs": [
    {
     "name": "stdout",
     "output_type": "stream",
     "text": [
      "{1: 1, 2: 1, 3: 2}\n"
     ]
    }
   ],
   "source": [
    "value_counts = {}\n",
    "for value in data.values():\n",
    "    if value in value_counts:\n",
    "        value_counts[value]+=1\n",
    "    else:\n",
    "        value_counts[value] =1\n",
    "print(value_counts)\n"
   ]
  },
  {
   "cell_type": "code",
   "execution_count": 17,
   "metadata": {},
   "outputs": [
    {
     "name": "stdout",
     "output_type": "stream",
     "text": [
      "key: a, value 1\n",
      "key: b, value 2\n"
     ]
    }
   ],
   "source": [
    "threshold = int(input(\"Enter the threshold value\"))\n",
    "\n",
    "for key, value in data.items():\n",
    "    if value < threshold:\n",
    "        print(f\"key: {key}, value {value}\")"
   ]
  },
  {
   "cell_type": "code",
   "execution_count": 20,
   "metadata": {},
   "outputs": [
    {
     "name": "stdout",
     "output_type": "stream",
     "text": [
      "{1: 'Tuhin', 2: 'Nisa', 3: 'Arka', 4: 'taukir', 5: 'wasik'}\n"
     ]
    }
   ],
   "source": [
    "data1 = {4:'taukir', 2:'Nisa', 3: 'Arka', 5 :'wasik', 1: 'Tuhin'}\n",
    "\n",
    "sorted_dict = dict(sorted(data1.items()))\n",
    "print(sorted_dict)"
   ]
  },
  {
   "cell_type": "code",
   "execution_count": null,
   "metadata": {},
   "outputs": [],
   "source": []
  }
 ],
 "metadata": {
  "kernelspec": {
   "display_name": "base",
   "language": "python",
   "name": "python3"
  },
  "language_info": {
   "codemirror_mode": {
    "name": "ipython",
    "version": 3
   },
   "file_extension": ".py",
   "mimetype": "text/x-python",
   "name": "python",
   "nbconvert_exporter": "python",
   "pygments_lexer": "ipython3",
   "version": "3.9.13"
  }
 },
 "nbformat": 4,
 "nbformat_minor": 2
}
