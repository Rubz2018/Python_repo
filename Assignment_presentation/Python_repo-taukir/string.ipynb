{
 "cells": [
  {
   "cell_type": "markdown",
   "metadata": {},
   "source": [
    "# String Strip Functions\n",
    "Remove leading spaces using lstrip().\n",
    "Remove trailing spaces using rstrip().\n",
    "Strip both leading and trailing spaces from a string.\n",
    "Remove specific characters (e.g., #) from the start of a string.\n",
    "Remove specific characters from the end of a string.\n",
    "Using List comprehension Generate a list of squares of numbers from 1 to 10.\n",
    "Using List Comprehension Create a list of even numbers from 1 to 2"
   ]
  },
  {
   "cell_type": "markdown",
   "metadata": {},
   "source": [
    "String manipulation"
   ]
  },
  {
   "cell_type": "code",
   "execution_count": 8,
   "metadata": {},
   "outputs": [
    {
     "name": "stdout",
     "output_type": "stream",
     "text": [
      "we love python\n",
      "we lo\n",
      "ython\n"
     ]
    }
   ],
   "source": [
    "string = \"we love python\"\n",
    "print(string)\n",
    "slice1=string[:5]\n",
    "slice2=string[-5:]\n",
    "print(slice1)\n",
    "print(slice2)"
   ]
  },
  {
   "cell_type": "code",
   "execution_count": 9,
   "metadata": {},
   "outputs": [
    {
     "name": "stdout",
     "output_type": "stream",
     "text": [
      "w oepto\n"
     ]
    }
   ],
   "source": [
    "alt_remove=string[::2]\n",
    "print(alt_remove)"
   ]
  },
  {
   "cell_type": "code",
   "execution_count": 13,
   "metadata": {},
   "outputs": [
    {
     "name": "stdout",
     "output_type": "stream",
     "text": [
      " love \n"
     ]
    }
   ],
   "source": [
    "string3=string[2:8]\n",
    "print(string3)"
   ]
  },
  {
   "cell_type": "code",
   "execution_count": 14,
   "metadata": {},
   "outputs": [
    {
     "name": "stdout",
     "output_type": "stream",
     "text": [
      "w\n",
      "e\n",
      " \n",
      "l\n",
      "o\n",
      "v\n",
      "e\n",
      " \n",
      "p\n",
      "y\n",
      "t\n",
      "h\n",
      "o\n",
      "n\n"
     ]
    }
   ],
   "source": [
    "for i in string:\n",
    "    print(i)"
   ]
  },
  {
   "cell_type": "code",
   "execution_count": 24,
   "metadata": {},
   "outputs": [
    {
     "name": "stdout",
     "output_type": "stream",
     "text": [
      "nohtyp evol ew\n"
     ]
    }
   ],
   "source": [
    "string4= string[::-1]\n",
    "print(string4)"
   ]
  },
  {
   "cell_type": "markdown",
   "metadata": {},
   "source": [
    "# String Strip Functions\n",
    "Remove leading spaces using lstrip().\n",
    "Remove trailing spaces using rstrip().\n",
    "Strip both leading and trailing spaces from a string.\n",
    "Remove specific characters (e.g., #) from the start of a string.\n",
    "Remove specific characters from the end of a string.\n",
    "Using List comprehension Generate a list of squares of numbers from 1 to 10.\n",
    "Using List Comprehension Create a list of even numbers from 1 to 20"
   ]
  },
  {
   "cell_type": "code",
   "execution_count": null,
   "metadata": {},
   "outputs": [
    {
     "name": "stdout",
     "output_type": "stream",
     "text": [
      "after ls strip: dsdsgdsgdsg sgsdgsdg\n"
     ]
    }
   ],
   "source": [
    "string5=input(\"entere a string with a leading and trailing space\")\n",
    "\n",
    "print(\"after left strip:\", string5.lstrip())\n",
    "print(\"after right strip:\", string5.rstrip())"
   ]
  },
  {
   "cell_type": "code",
   "execution_count": 34,
   "metadata": {},
   "outputs": [
    {
     "name": "stdout",
     "output_type": "stream",
     "text": [
      "after left strip: fsdgsdgsd\n"
     ]
    }
   ],
   "source": [
    "string6=input(\"enter a string with a leading and trailing #\")\n",
    "\n",
    "print(\"after left strip:\", string6.lstrip(\"#\"))\n"
   ]
  },
  {
   "cell_type": "code",
   "execution_count": 41,
   "metadata": {},
   "outputs": [
    {
     "name": "stdout",
     "output_type": "stream",
     "text": [
      "ID without @: dfd\n"
     ]
    }
   ],
   "source": [
    "string7=input(\"enter email:\")\n",
    "\n",
    "print(\"ID without @:\", string7.replace(\"@\",\"\"))"
   ]
  },
  {
   "cell_type": "markdown",
   "metadata": {},
   "source": [
    "## List comprehension"
   ]
  },
  {
   "cell_type": "code",
   "execution_count": 45,
   "metadata": {},
   "outputs": [
    {
     "name": "stdout",
     "output_type": "stream",
     "text": [
      "[0, 1, 4, 9, 16, 25, 36, 49, 64, 81, 100]\n"
     ]
    }
   ],
   "source": [
    "numb= [num**2 for num in range(11)]\n",
    "print(numb)"
   ]
  },
  {
   "cell_type": "code",
   "execution_count": 47,
   "metadata": {},
   "outputs": [
    {
     "name": "stdout",
     "output_type": "stream",
     "text": [
      "[0, 2, 4, 6, 8, 10]\n"
     ]
    }
   ],
   "source": [
    "numb2= [item for item in range (11) if item %2==0]\n",
    "print(numb2)"
   ]
  },
  {
   "cell_type": "code",
   "execution_count": null,
   "metadata": {},
   "outputs": [],
   "source": [
    "even =[]\n",
    "for item in range(1,11):\n",
    "    if item%2==0:\n",
    "        even.append(item)\n",
    "print(even)"
   ]
  },
  {
   "cell_type": "code",
   "execution_count": 49,
   "metadata": {},
   "outputs": [
    {
     "name": "stdout",
     "output_type": "stream",
     "text": [
      "[1, 2, 3, 4, 5, 6, 7, 8, 9, 10]\n"
     ]
    }
   ],
   "source": [
    "oddNumb3= [item2 for item2 in range (11) if item2!=0]\n",
    "print(oddNumb3)"
   ]
  }
 ],
 "metadata": {
  "kernelspec": {
   "display_name": "Python 3",
   "language": "python",
   "name": "python3"
  },
  "language_info": {
   "codemirror_mode": {
    "name": "ipython",
    "version": 3
   },
   "file_extension": ".py",
   "mimetype": "text/x-python",
   "name": "python",
   "nbconvert_exporter": "python",
   "pygments_lexer": "ipython3",
   "version": "3.11.9"
  }
 },
 "nbformat": 4,
 "nbformat_minor": 2
}
