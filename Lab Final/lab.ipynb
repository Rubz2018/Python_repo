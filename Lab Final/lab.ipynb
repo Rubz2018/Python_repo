{
 "cells": [
  {
   "cell_type": "markdown",
   "id": "b39631d9",
   "metadata": {},
   "source": [
    "# write a function is_square(number) that returns a square of a given number "
   ]
  },
  {
   "cell_type": "code",
   "execution_count": 5,
   "id": "20c609ec",
   "metadata": {},
   "outputs": [
    {
     "name": "stdout",
     "output_type": "stream",
     "text": [
      "16\n",
      "100\n"
     ]
    }
   ],
   "source": [
    "def is_square(number):\n",
    "    return number ** 2\n",
    "print(is_square(4))  \n",
    "print(is_square(10))  \n",
    "\n"
   ]
  },
  {
   "cell_type": "markdown",
   "id": "0f7c8e8a",
   "metadata": {},
   "source": [
    "Define a class Employee with:\n",
    "attributes: emp_id, name, salary\n",
    "a method display()to show employee details\n",
    "create an object with sample data and display it"
   ]
  },
  {
   "cell_type": "code",
   "execution_count": 8,
   "id": "b2d5f864",
   "metadata": {},
   "outputs": [
    {
     "name": "stdout",
     "output_type": "stream",
     "text": [
      "Employee ID: 242\n",
      "Name: Arka Talukder\n",
      "Salary: $50000\n"
     ]
    }
   ],
   "source": [
    "class Employee:\n",
    "    def __init__(self, emp_id, name, salary):\n",
    "        self.emp_id = emp_id\n",
    "        self.name = name\n",
    "        self.salary = salary\n",
    "\n",
    "    def display(self):\n",
    "        print(f\"Employee ID: {self.emp_id}\")\n",
    "        print(f\"Name: {self.name}\")\n",
    "        print(f\"Salary: ${self.salary}\")\n",
    "\n",
    "# Creating an employee object with sample data\n",
    "employee1 = Employee(emp_id=242, name=\"Arka Talukder\", salary=50000)\n",
    "\n",
    "# Displaying employee details\n",
    "employee1.display()\n"
   ]
  },
  {
   "cell_type": "markdown",
   "id": "c97add71",
   "metadata": {},
   "source": [
    "Write a program that performs division of two numbers entered by the user \n",
    "Handle ZeroDivisionError and display\n",
    "\"Error : Division by zero is not allowed.\""
   ]
  },
  {
   "cell_type": "code",
   "execution_count": 12,
   "id": "17fa7d9b",
   "metadata": {},
   "outputs": [
    {
     "name": "stdout",
     "output_type": "stream",
     "text": [
      "Error: Division by zero is not allowed.\n"
     ]
    }
   ],
   "source": [
    "try:\n",
    "    num1 = float(input(\"Enter the first number: \"))\n",
    "    num2 = float(input(\"Enter the second number: \"))\n",
    "    \n",
    "    result = num1 / num2\n",
    "    print(f\"Result: {result}\")\n",
    "\n",
    "except ZeroDivisionError:\n",
    "    print(\"Error: Division by zero is not allowed.\")\n"
   ]
  }
 ],
 "metadata": {
  "kernelspec": {
   "display_name": "Python 3",
   "language": "python",
   "name": "python3"
  },
  "language_info": {
   "codemirror_mode": {
    "name": "ipython",
    "version": 3
   },
   "file_extension": ".py",
   "mimetype": "text/x-python",
   "name": "python",
   "nbconvert_exporter": "python",
   "pygments_lexer": "ipython3",
   "version": "3.12.10"
  }
 },
 "nbformat": 4,
 "nbformat_minor": 5
}
