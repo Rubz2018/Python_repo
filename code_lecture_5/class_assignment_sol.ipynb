{
 "cells": [
  {
   "cell_type": "markdown",
   "metadata": {},
   "source": [
    "  \n",
    "<h1>Assignment Solution</h1>\n",
    "</div>\n",
    "</body>\n",
    "</html>"
   ]
  },
  {
   "cell_type": "markdown",
   "metadata": {},
   "source": [
    "### 1. Analyzing Sales Data\n",
    "scenario: You are given a list of sales transactions. Each transaction contains a sales amount in dollars. You need to:\n",
    "\n",
    "- Use lambda to define small functions.\n",
    "- Use filter to extract sales above a threshold.\n",
    "- Use map to apply a discount to all sales.\n",
    "- Use reduce to compute the total sales amount."
   ]
  },
  {
   "cell_type": "code",
   "execution_count": 3,
   "metadata": {},
   "outputs": [
    {
     "name": "stdout",
     "output_type": "stream",
     "text": [
      "Expensive products :  [320, 600, 220, 480, 350]\n",
      "Discounted prices : [127.5, 272.0, 38.25, 510.0, 106.25, 63.75, 187.0, 76.5, 408.0, 297.5]\n",
      "Total Sale :  2455\n"
     ]
    }
   ],
   "source": [
    "from functools import reduce\n",
    "\n",
    "prices = [150, 320, 45, 600, 125, 75, 220, 90, 480, 350]\n",
    "# Filter out expensive products (above $200)\n",
    "expensive_product  = list(filter(lambda n: n>200, prices))\n",
    "print(\"Expensive products : \", expensive_product)\n",
    "\n",
    "# we ant 15% discount on all sales\n",
    "discount_prices = list(map(lambda x: x*0.85, prices))\n",
    "print(\"Discounted prices :\", discount_prices)\n",
    "\n",
    "# calculate total sale price\n",
    "total_sales = reduce(lambda x,y : x+y, prices )\n",
    "print(\"Total Sale : \", total_sales) "
   ]
  },
  {
   "cell_type": "markdown",
   "metadata": {},
   "source": [
    "### 2. Student Grades Processing\n",
    "Scenario: Given a list of student scores, filter out passing grades, curve scores, and find the highest score."
   ]
  },
  {
   "cell_type": "code",
   "execution_count": 4,
   "metadata": {},
   "outputs": [
    {
     "name": "stdout",
     "output_type": "stream",
     "text": [
      "passing grade:  [55, 88, 74, 90, 45, 67, 80, 93, 76]\n",
      "Grade after curving scores:  [57.75, 92.4, 77.7, 94.5, 47.25, 70.35000000000001, 84.0, 97.65, 39.9, 79.8]\n",
      "Highest score after curving:  97.65\n"
     ]
    }
   ],
   "source": [
    "from functools import reduce\n",
    "\n",
    "scores = [55, 88, 74, 90, 45, 67, 80, 93, 38, 76]\n",
    "\n",
    "# Filter passing grade(pass mark : 40)\n",
    "\n",
    "passing_grade =  list(filter(lambda x: x>40, scores))\n",
    "print(\"passing grade: \", passing_grade)\n",
    "\n",
    "# Apply 5% curve on grades\n",
    "curved_score =  list(map(lambda x: x * 1.05, scores))\n",
    "print(\"Grade after curving scores: \", curved_score)\n",
    "\n",
    "# The total scores \n",
    "highest_socres = reduce(lambda x,y : x if x>y else y, curved_score)\n",
    "print(\"Highest score after curving: \", highest_socres) "
   ]
  },
  {
   "cell_type": "markdown",
   "metadata": {},
   "source": [
    "### 4. Word Processing: Sentence Transformation\n",
    "Scenario: Given a list of words, filter long words, capitalize all words, and count total characters."
   ]
  },
  {
   "cell_type": "code",
   "execution_count": null,
   "metadata": {},
   "outputs": [
    {
     "name": "stdout",
     "output_type": "stream",
     "text": [
      "Long words list :  ['lambda', 'filter', 'reduce', 'python', 'programming']\n",
      "Uppercase Words :  ['LAMBDA', 'MAP', 'FILTER', 'REDUCE', 'PYTHON', 'PROGRAMMING']\n",
      "total character:  38\n"
     ]
    }
   ],
   "source": [
    "from functools import reduce\n",
    "\n",
    "words = [\"lambda\", \"map\", \"filter\", \"reduce\", \"python\", \"programming\"]\n",
    "\n",
    "# Long words filter out if greater than 5 characters\n",
    "\n",
    "long_words = list(filter(lambda x: len(x)>5, words))\n",
    "print(\"Long words list : \", long_words)\n",
    "\n",
    "# upper case words converison\n",
    "\n",
    "uppercase_words = list(map(lambda  x : x.upper(), words ))\n",
    "print(\"Uppercase Words : \", uppercase_words)\n",
    "\n",
    "# total characters in all words\n",
    "total_character = reduce(lambda x,y : x + len(y), words, 0)\n",
    "print(\"total character: \", total_character)"
   ]
  },
  {
   "cell_type": "markdown",
   "metadata": {},
   "source": [
    "### 5. Employee Salary Processing\n",
    "Scenario: Given employee salaries, apply a bonus, filter high earners, and find the highest salary."
   ]
  },
  {
   "cell_type": "code",
   "execution_count": 16,
   "metadata": {},
   "outputs": [
    {
     "name": "stdout",
     "output_type": "stream",
     "text": [
      "High Earners: [4200, 5500, 4800, 6000, 7200]\n",
      "Salaries After Bonus: [2675.0, 4494.0, 4066.0000000000005, 5885.0, 3210.0, 5136.0, 2140.0, 6420.0, 7704.0]\n",
      "Highest Salary: 7200\n"
     ]
    }
   ],
   "source": [
    "from functools import reduce\n",
    "\n",
    "salaries = [2500, 4200, 3800, 5500, 3000, 4800, 2000, 6000, 7200]\n",
    "# Filter high earners (above $4000)\n",
    "high_earners = list(filter(lambda x: x > 4000, salaries))\n",
    "print(\"High Earners:\", high_earners)\n",
    "\n",
    "# Apply a 7% bonus to all salaries\n",
    "new_salaries = list(map(lambda x: x * 1.07, salaries))\n",
    "print(\"Salaries After Bonus:\", new_salaries)\n",
    "\n",
    "# Find the highest salary\n",
    "max_salary = reduce(lambda x, y: x if x > y else y, salaries)\n",
    "print(\"Highest Salary:\", max_salary)"
   ]
  },
  {
   "cell_type": "markdown",
   "metadata": {},
   "source": [
    "### 6. List of Numbers: Even Filtering and Summation\n",
    "Scenario: Given a list of numbers, filter even numbers, square all numbers, and sum them up."
   ]
  },
  {
   "cell_type": "code",
   "execution_count": 17,
   "metadata": {},
   "outputs": [
    {
     "name": "stdout",
     "output_type": "stream",
     "text": [
      "Even Numbers: [12, 34, 18, 30]\n",
      "Squared Numbers: [144, 49, 81, 441, 1156, 324, 25, 900, 729]\n",
      "Sum of Numbers: 163\n"
     ]
    }
   ],
   "source": [
    "from functools import reduce\n",
    "\n",
    "numbers = [12, 7, 9, 21, 34, 18, 5, 30, 27]\n",
    "\n",
    "# Filter even numbers\n",
    "even_numbers = list(filter(lambda x: x % 2 == 0, numbers))\n",
    "print(\"Even Numbers:\", even_numbers)\n",
    "\n",
    "# Square all numbers\n",
    "squared_numbers = list(map(lambda x: x ** 2, numbers))\n",
    "print(\"Squared Numbers:\", squared_numbers)\n",
    "\n",
    "# Sum of all numbers\n",
    "sum_numbers = reduce(lambda x, y: x + y, numbers)\n",
    "print(\"Sum of Numbers:\", sum_numbers)"
   ]
  },
  {
   "cell_type": "code",
   "execution_count": null,
   "metadata": {},
   "outputs": [],
   "source": []
  }
 ],
 "metadata": {
  "kernelspec": {
   "display_name": "base",
   "language": "python",
   "name": "python3"
  },
  "language_info": {
   "codemirror_mode": {
    "name": "ipython",
    "version": 3
   },
   "file_extension": ".py",
   "mimetype": "text/x-python",
   "name": "python",
   "nbconvert_exporter": "python",
   "pygments_lexer": "ipython3",
   "version": "3.9.13"
  }
 },
 "nbformat": 4,
 "nbformat_minor": 2
}
