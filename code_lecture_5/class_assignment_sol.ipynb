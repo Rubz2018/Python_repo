{
 "cells": [
  {
   "cell_type": "markdown",
   "metadata": {},
   "source": [
    "  \n",
    "<h1>Assignment Solution</h1>\n",
    "</div>\n",
    "</body>\n",
    "</html>"
   ]
  },
  {
   "cell_type": "markdown",
   "metadata": {},
   "source": [
    "### 1. Analyzing Sales Data\n",
    "scenario: You are given a list of sales transactions. Each transaction contains a sales amount in dollars. You need to:\n",
    "\n",
    "- Use lambda to define small functions.\n",
    "- Use filter to extract sales above a threshold.\n",
    "- Use map to apply a discount to all sales.\n",
    "- Use reduce to compute the total sales amount."
   ]
  },
  {
   "cell_type": "code",
   "execution_count": null,
   "metadata": {},
   "outputs": [
    {
     "name": "stdout",
     "output_type": "stream",
     "text": [
      "Sales above 200 BDT: [340, 560, 980, 250]\n",
      "Sales after 10% discount: [108.0, 306.0, 504.0, 67.5, 882.0, 135.0, 27.0, 225.0]\n",
      "Total sales amount: 2505\n"
     ]
    }
   ],
   "source": [
    "from functools import reduce\n",
    "\n",
    "# Sample sales data \n",
    "sales = [120, 340, 560, 75, 980, 150, 30, 250]\n",
    "\n",
    "# Use filter to extract sales above a threshold.\n",
    "threshold = 200\n",
    "high_sales = list(filter(lambda x: x > threshold, sales))\n",
    "print(\"Sales above 200 BDT:\", high_sales)\n",
    "\n",
    "# Use map to apply a discount to all sales.\n",
    "discounted_sales = list(map(lambda x: x * 0.9, sales))\n",
    "print(\"Sales after 10% discount:\", discounted_sales)\n",
    "\n",
    "# Use reduce to compute the total sales amount.\n",
    "total_sales = reduce(lambda x, y: x + y, sales)\n",
    "print(\"Total sales amount:\", total_sales)\n"
   ]
  },
  {
   "cell_type": "markdown",
   "metadata": {},
   "source": [
    "### 2. Student Grades Processing\n",
    "Scenario: Given a list of student scores, filter out passing grades, curve scores, and find the highest score."
   ]
  },
  {
   "cell_type": "code",
   "execution_count": 11,
   "metadata": {},
   "outputs": [
    {
     "name": "stdout",
     "output_type": "stream",
     "text": [
      "Passing Scores: [42, 67, 89, 75, 90, 98]\n",
      "Curved Scores: [36.75, 44.1, 70.35, 93.45, 29.4, 78.75, 94.5, 39.9, 100]\n",
      "Highest Score: 98\n"
     ]
    }
   ],
   "source": [
    "from functools import reduce\n",
    "\n",
    "scores = [35, 42, 67, 89, 28, 75, 90, 38, 98]\n",
    "\n",
    "# filter out passing grades\n",
    "passing_scores = list(filter(lambda x: x >= 40, scores))\n",
    "print(\"Passing Scores:\", passing_scores)\n",
    "\n",
    "# Curve the Scores (+5 marks)\n",
    "curved_scores = list(map(lambda x: round(x * 1.05 if x * 1.05 <= 100 else 100,2), scores))\n",
    "print(\"Curved Scores:\", curved_scores)\n",
    "\n",
    "# find the highest score\n",
    "highest_score = reduce(lambda x, y: x if x > y else y, scores)\n",
    "print(\"Highest Score:\", highest_score)\n",
    "\n"
   ]
  },
  {
   "cell_type": "markdown",
   "metadata": {},
   "source": [
    "### 3. E-commerce Product Price Analysis\n",
    "Scenario: You have a list of product prices and need to apply discounts, filter expensive items, and calculate total revenue."
   ]
  },
  {
   "cell_type": "code",
   "execution_count": 3,
   "metadata": {},
   "outputs": [
    {
     "name": "stdout",
     "output_type": "stream",
     "text": [
      "Discounted Prices: [108, 68, 180, 45, 274, 90]\n",
      "Expensive Items after Discount: [120, 200, 305, 100]\n",
      "Total revenue:  850\n"
     ]
    }
   ],
   "source": [
    "from functools import reduce\n",
    "\n",
    "prices = [120, 75, 200, 50, 305, 100]\n",
    "\n",
    "\n",
    "# apply discounts (10%)\n",
    "discounted_prices = list(map(lambda x: round(x * 0.9), prices))\n",
    "print(\"Discounted Prices:\", discounted_prices)\n",
    "\n",
    "# filter expensive items.Let's say, threshold is 100 BDT\n",
    "expensive_items = list(filter(lambda x: x >= 100,prices))\n",
    "print(\"Expensive Items after Discount:\", expensive_items)\n",
    "\n",
    "# calculate total revenue\n",
    "total= reduce(lambda x,y: x+y, prices)\n",
    "print(\"Total revenue: \",total)\n",
    "\n"
   ]
  },
  {
   "cell_type": "markdown",
   "metadata": {},
   "source": [
    "### 4. Word Processing: Sentence Transformation\n",
    "Scenario: Given a list of words, filter long words, capitalize all words, and count total characters."
   ]
  },
  {
   "cell_type": "code",
   "execution_count": 25,
   "metadata": {},
   "outputs": [
    {
     "name": "stdout",
     "output_type": "stream",
     "text": [
      "Long wordlist:  ['programming']\n",
      "Uppercase:  ['LAMBDA', 'MAP', 'FILTER', 'REDUCE', 'PYTHON', 'PROGRAMMING']\n",
      "total characters:  38\n"
     ]
    }
   ],
   "source": [
    "from functools import reduce\n",
    "word= [\"lambda\", \"map\", \"filter\", \"reduce\", \"python\", \"programming\"]\n",
    "# long words filter out\n",
    "long_word = list(filter(lambda x: len(x)>6, word))\n",
    "print(\"Long wordlist: \",long_word)\n",
    "\n",
    "# Upper case word conversion\n",
    "uppercase_word= list(map(lambda x: x.upper(),word))\n",
    "print(\"Uppercase: \", uppercase_word)\n",
    "\n",
    "# Count total characters in all words\n",
    "total_char=reduce(lambda x,y : x+ len(y),word, 0)\n",
    "print(\"total characters: \",total_char)\n"
   ]
  },
  {
   "cell_type": "markdown",
   "metadata": {},
   "source": [
    "### 5. Employee Salary Processing\n",
    "Scenario: Given employee salaries, apply a bonus, filter high earners, and find the highest salary."
   ]
  },
  {
   "cell_type": "code",
   "execution_count": null,
   "metadata": {},
   "outputs": [
    {
     "name": "stdout",
     "output_type": "stream",
     "text": [
      "Salaries with Bonus: [35200, 49500, 63800, 79200, 42900, 89100]\n",
      "Highest earner:  89100\n",
      "Highest salary:  81000\n"
     ]
    }
   ],
   "source": [
    "from functools import reduce\n",
    "salaries = [32000, 45000, 58000, 72000, 39000, 81000]\n",
    "\n",
    "# Apply a 10% bonus\n",
    "with_bonus = list(map(lambda s: round(s * 1.10), salaries))\n",
    "print(\"Salaries with Bonus:\", with_bonus)\n",
    "\n",
    "# filter high earners\n",
    "high_earner= reduce(lambda x,y: x if x>y else y, with_bonus)\n",
    "print(\"Highest earner: \",high_earner)\n",
    "\n",
    "# find the highest salary\n",
    "high_salary= reduce(lambda x,y: x if x>y else y, salaries)\n",
    "print(\"Highest salary: \",high_salary)"
   ]
  },
  {
   "cell_type": "markdown",
   "metadata": {},
   "source": [
    "### 6. List of Numbers: Even Filtering and Summation\n",
    "Scenario: Given a list of numbers, filter even numbers, square all numbers, and sum them up."
   ]
  },
  {
   "cell_type": "code",
   "execution_count": 37,
   "metadata": {},
   "outputs": [
    {
     "name": "stdout",
     "output_type": "stream",
     "text": [
      "Even numbers:  [2, 4, 6, 8, 10]\n",
      "Square numbers:  [1, 4, 9, 16, 25, 36, 49, 64, 81, 100]\n",
      "Total:  55\n"
     ]
    }
   ],
   "source": [
    "from functools import reduce\n",
    "\n",
    "numbers = [1, 2, 3, 4, 5, 6, 7, 8, 9, 10]\n",
    "\n",
    "# filter even numbers\n",
    "even= list(filter(lambda x:x%2==0,numbers))\n",
    "print(\"Even numbers: \",even)\n",
    "\n",
    "# square all numbers\n",
    "sqr= list(map(lambda x:x**2,numbers))\n",
    "print(\"Square numbers: \",sqr)\n",
    "\n",
    "# sum them up\n",
    "sum= reduce(lambda x,y:x+y,numbers)\n",
    "print(\"Total: \",sum)"
   ]
  }
 ],
 "metadata": {
  "kernelspec": {
   "display_name": "Python 3",
   "language": "python",
   "name": "python3"
  },
  "language_info": {
   "codemirror_mode": {
    "name": "ipython",
    "version": 3
   },
   "file_extension": ".py",
   "mimetype": "text/x-python",
   "name": "python",
   "nbconvert_exporter": "python",
   "pygments_lexer": "ipython3",
   "version": "3.11.9"
  }
 },
 "nbformat": 4,
 "nbformat_minor": 2
}
