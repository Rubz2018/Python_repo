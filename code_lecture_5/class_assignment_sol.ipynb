{
 "cells": [
  {
   "cell_type": "markdown",
   "metadata": {},
   "source": [
    "  \n",
    "<h1>Assignment Solution</h1>\n",
    "</div>\n",
    "</body>\n",
    "</html>"
   ]
  },
  {
   "cell_type": "markdown",
   "metadata": {},
   "source": []
  },
  {
   "cell_type": "markdown",
   "metadata": {},
   "source": [
    "### 1. Analyzing Sales Data"
   ]
  },
  {
   "cell_type": "markdown",
   "metadata": {},
   "source": []
  },
  {
   "cell_type": "code",
   "execution_count": null,
   "metadata": {},
   "outputs": [
    {
     "name": "stdout",
     "output_type": "stream",
     "text": [
      "<filter object at 0x000001DF2F8E6AD0>\n"
     ]
    }
   ],
   "source": [
    "prices= [140,200,240,300,120,222]\n",
    "# filter\n",
    "expensive= filter(lambda n: n>200, prices)\n",
    "print(expensive)\n",
    "\n",
    "# We want 15% discount\n",
    "discounted= list(map(lambda(x: x*0.85, prices)))"
   ]
  },
  {
   "cell_type": "markdown",
   "metadata": {},
   "source": [
    "### 2. Student Grades Processing"
   ]
  },
  {
   "cell_type": "code",
   "execution_count": 4,
   "metadata": {},
   "outputs": [
    {
     "name": "stdout",
     "output_type": "stream",
     "text": [
      "<filter object at 0x0000015FB57E6E90>\n",
      "[23.1, 46.2, 69.3, 80.85000000000001, 92.4, 103.95, 34.65, 47.25]\n"
     ]
    }
   ],
   "source": [
    "from functools import reduce\n",
    "scores=[22,44,66,77,88,99,33,45]\n",
    "# filter\n",
    "passing_grade=filter(lambda i:i>40, scores)\n",
    "print(passing_grade)\n",
    "\n",
    "### Apply 5% grace\n",
    "curverd_score= list(map(lambda x:x*1.05,scores))\n",
    "print(curverd_score)\n",
    "\n",
    "# Highest score\n",
    "highest= reduce(lambda x,y: x if x>y else y, curverd_score)"
   ]
  },
  {
   "cell_type": "markdown",
   "metadata": {},
   "source": [
    "### 4. Word Processing: Sentence Transformation\n",
    "Scenario: Given a list of words, filter long words, capitalize all words, and count total characters."
   ]
  },
  {
   "cell_type": "code",
   "execution_count": null,
   "metadata": {},
   "outputs": [],
   "source": [
    "from functools import reduce\n",
    "word= [\"lambda\", \"map\", \"filter\", \"reduce\", \"python\", \"programming\"]\n",
    "# long words filter out\n",
    "long_word= list(filter(lambda x: len(x)>6), word)\n",
    "print(\"Long wordlist: \",long_word)\n",
    "\n",
    "# Upper case word conversion\n",
    "uppercase_word= list(map(lambda x: x.upper(),word))\n",
    "print(\"Uppercase: \", uppercase_word)\n",
    "\n",
    "# Count total characters in all words\n",
    "total_char=reduce(lambda x,y : x+ len(y),word, 0)\n",
    "print(\"total characters: \",total_char)\n"
   ]
  },
  {
   "cell_type": "markdown",
   "metadata": {},
   "source": [
    "### 5. Employee Salary Processing\n",
    "Scenario: Given employee salaries, apply a bonus, filter high earners, and find the highest salary."
   ]
  }
 ],
 "metadata": {
  "kernelspec": {
   "display_name": "Python 3",
   "language": "python",
   "name": "python3"
  },
  "language_info": {
   "codemirror_mode": {
    "name": "ipython",
    "version": 3
   },
   "file_extension": ".py",
   "mimetype": "text/x-python",
   "name": "python",
   "nbconvert_exporter": "python",
   "pygments_lexer": "ipython3",
   "version": "3.11.9"
  }
 },
 "nbformat": 4,
 "nbformat_minor": 2
}
