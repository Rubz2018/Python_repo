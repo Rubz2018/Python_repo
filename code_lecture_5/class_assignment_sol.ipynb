{
 "cells": [
  {
   "cell_type": "markdown",
   "metadata": {},
   "source": [
    "  \n",
    "<h1>Assignment Solution</h1>\n",
    "</div>\n",
    "</body>\n",
    "</html>"
   ]
  },
  {
   "cell_type": "markdown",
   "metadata": {},
   "source": []
  },
  {
   "cell_type": "markdown",
   "metadata": {},
   "source": [
    "### 1. Analyzing Sales Data\n",
    "scenario: You are given a list of sales transactions. Each transaction contains a sales amount in dollars. You need to:\n",
    "\n",
    "- Use lambda to define small functions.\n",
    "- Use filter to extract sales above a threshold.\n",
    "- Use map to apply a discount to all sales.\n",
    "- Use reduce to compute the total sales amount."
   ]
  },
  {
   "cell_type": "code",
   "execution_count": null,
   "metadata": {},
   "outputs": [
    {
     "name": "stdout",
     "output_type": "stream",
     "text": [
      "expensive products: [450, 700, 350, 900]\n",
      "Discounted price: [170.0, 382.5, 85.0, 595.0, 297.5, 765.0, 127.5]\n",
      "Total price after discount: 2422.5\n"
     ]
    }
   ],
   "source": [
    "from functools import reduce\n",
    "\n",
    "prices = [200, 450, 100, 700, 350, 900, 150]\n",
    "#filter out expensive products(above 200)\n",
    "expensive_product = list(filter(lambda n: n>200,prices))\n",
    "print(\"expensive products:\", expensive_product)\n",
    "\n",
    "#15% discount\n",
    "\n",
    "discount_prices = list(map(lambda x: x*0.85, prices))\n",
    "print(\"Discounted price:\", discount_prices)\n",
    "\n",
    "#Use reduce to compute total sales amount\n",
    "total_price = reduce(lambda x, y: x + y, discount_prices)\n",
    "print(\"Total price after discount:\", total_price)\n",
    "\n"
   ]
  },
  {
   "cell_type": "markdown",
   "metadata": {},
   "source": []
  },
  {
   "cell_type": "markdown",
   "metadata": {},
   "source": [
    "### 2. Student Grades Processing\n",
    "Scenario: Given a list of student scores, filter out passing grades, curve scores, and find the highest score.\n"
   ]
  },
  {
   "cell_type": "code",
   "execution_count": 8,
   "metadata": {},
   "outputs": [
    {
     "name": "stdout",
     "output_type": "stream",
     "text": [
      "Passing scores: [50, 75, 90, 42, 88, 76, 44, 88, 90]\n",
      "Curved scores: [36.75, 52.5, 78.75, 31.5, 94.5, 44.1, 92.4, 21.0, 79.8, 46.2, 92.4, 39.9, 94.5]\n",
      "Highest score: 94.5\n"
     ]
    }
   ],
   "source": [
    "from functools import reduce\n",
    "\n",
    "# List of student scores\n",
    "scores = [35, 50, 75, 30, 90, 42, 88, 20, 76, 44, 88, 38, 90]\n",
    "\n",
    "# Filter out passing grades (>= 40)\n",
    "passing_scores = list(filter(lambda x: x >= 40, scores))\n",
    "print(\"Passing scores:\", passing_scores)\n",
    "\n",
    "# Curve scores by adding 5 points\n",
    "curved_scores = list(map(lambda x: x * 1.05, scores))\n",
    "print(\"Curved scores:\", curved_scores)\n",
    "\n",
    "# Find the highest score using reduce\n",
    "highest_score = reduce(lambda x, y: x if x > y else y, curved_scores)\n",
    "print(\"Highest score:\", highest_score)\n"
   ]
  },
  {
   "cell_type": "markdown",
   "metadata": {},
   "source": [
    "### 4. Word Processing: Sentence Transformation\n",
    "Scenario: Given a list of words, filter long words, capitalize all words, and count total characters."
   ]
  },
  {
   "cell_type": "code",
   "execution_count": 14,
   "metadata": {},
   "outputs": [
    {
     "name": "stdout",
     "output_type": "stream",
     "text": [
      "Long words list: ['lambda', 'filter', 'reduce', 'python', 'programming']\n",
      "Capitalized words: ['LAMBDA', 'MAP', 'FILTER', 'REDUCE', 'PYTHON', 'PROGRAMMING']\n",
      "Total characters: 38\n"
     ]
    }
   ],
   "source": [
    "from functools import reduce\n",
    "\n",
    "#List of words\n",
    "words = [\"lambda\", \"map\", \"filter\", \"reduce\", \"python\", \"programming\"]\n",
    "\n",
    "#Filter words longer than 5 characters\n",
    "long_words = list(filter(lambda x: len(x) > 5, words))\n",
    "print(\"Long words list:\", long_words)\n",
    "\n",
    "#Capitalize all words\n",
    "capitalized_words = list(map(lambda x: x.upper(), words))\n",
    "print(\"Capitalized words:\", capitalized_words)\n",
    "\n",
    "#Count total characters\n",
    "total_characters = reduce(lambda x,y : x+len(y), words, 0)\n",
    "print(\"Total characters:\", total_characters)"
   ]
  }
 ],
 "metadata": {
  "kernelspec": {
   "display_name": "Python 3",
   "language": "python",
   "name": "python3"
  },
  "language_info": {
   "codemirror_mode": {
    "name": "ipython",
    "version": 3
   },
   "file_extension": ".py",
   "mimetype": "text/x-python",
   "name": "python",
   "nbconvert_exporter": "python",
   "pygments_lexer": "ipython3",
   "version": "3.12.4"
  }
 },
 "nbformat": 4,
 "nbformat_minor": 2
}
