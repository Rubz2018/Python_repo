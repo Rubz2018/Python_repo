{
 "cells": [
  {
   "cell_type": "markdown",
   "metadata": {},
   "source": [
    "### 1. Analyzing Sales Data"
   ]
  },
  {
   "cell_type": "code",
   "execution_count": 1,
   "metadata": {},
   "outputs": [
    {
     "name": "stdout",
     "output_type": "stream",
     "text": [
      "High Sales: [340, 560, 980]\n",
      "Discounted Sales: [108.0, 306.0, 504.0, 67.5, 882.0, 135.0]\n",
      "Total Sales: 2002.5\n"
     ]
    }
   ],
   "source": [
    "from functools import reduce\n",
    "\n",
    "sales = [120, 340, 560, 75, 980, 150]\n",
    "threshold = 200\n",
    "discount_rate = 0.9  # 10% discount\n",
    "\n",
    "# Filter sales above the threshold\n",
    "high_sales = list(filter(lambda x: x > threshold, sales))\n",
    "\n",
    "# Apply discount\n",
    "discounted_sales = list(map(lambda x: x * discount_rate, sales))\n",
    "\n",
    "# Total sales after discount\n",
    "total_sales = reduce(lambda x, y: x + y, discounted_sales)\n",
    "\n",
    "print(\"High Sales:\", high_sales)\n",
    "print(\"Discounted Sales:\", discounted_sales)\n",
    "print(\"Total Sales:\", total_sales)\n"
   ]
  },
  {
   "cell_type": "markdown",
   "metadata": {},
   "source": [
    "### 2. Student Grades Processing"
   ]
  },
  {
   "cell_type": "code",
   "execution_count": null,
   "metadata": {},
   "outputs": [],
   "source": [
    "from functools import reduce\n",
    "\n",
    "scores = [45, 89, 76, 33, 59, 95, 62]\n",
    "passing_mark = 50\n",
    "curve = 5  # Add 5 marks\n",
    "\n",
    "# Filter passing grades\n",
    "passing = list(filter(lambda x: x >= passing_mark, scores))\n",
    "\n",
    "# Curve the scores\n",
    "curved_scores = list(map(lambda x: x + curve, scores))\n",
    "\n",
    "# Find highest score\n",
    "highest = reduce(lambda x, y: x if x > y else y, curved_scores)\n",
    "\n",
    "print(\"Passing Scores:\", passing)\n",
    "print(\"Curved Scores:\", curved_scores)\n",
    "print(\"Highest Score:\", highest)\n"
   ]
  },
  {
   "cell_type": "markdown",
   "metadata": {},
   "source": [
    "### 3. E-commerce Product Price Analysis"
   ]
  },
  {
   "cell_type": "code",
   "execution_count": null,
   "metadata": {},
   "outputs": [],
   "source": [
    "from functools import reduce\n",
    "\n",
    "prices = [99.99, 249.99, 19.99, 499.99, 89.99]\n",
    "discount = 0.8  # 20% off\n",
    "expensive_threshold = 100\n",
    "\n",
    "# Apply discount\n",
    "discounted_prices = list(map(lambda x: x * discount, prices))\n",
    "\n",
    "# Filter expensive items after discount\n",
    "expensive_items = list(filter(lambda x: x > expensive_threshold, discounted_prices))\n",
    "\n",
    "# Calculate total revenue\n",
    "revenue = reduce(lambda x, y: x + y, discounted_prices)\n",
    "\n",
    "print(\"Discounted Prices:\", discounted_prices)\n",
    "print(\"Expensive Items:\", expensive_items)\n",
    "print(\"Total Revenue:\", revenue)\n"
   ]
  },
  {
   "cell_type": "markdown",
   "metadata": {},
   "source": [
    "### 4. Word Processing: Sentence Transformation"
   ]
  },
  {
   "cell_type": "code",
   "execution_count": null,
   "metadata": {},
   "outputs": [],
   "source": [
    "from functools import reduce\n",
    "\n",
    "words = [\"apple\", \"banana\", \"kiwi\", \"watermelon\", \"grape\"]\n",
    "length_threshold = 5\n",
    "\n",
    "# Filter long words\n",
    "long_words = list(filter(lambda x: len(x) > length_threshold, words))\n",
    "\n",
    "# Capitalize all words\n",
    "capitalized = list(map(lambda x: x.upper(), words))\n",
    "\n",
    "# Count total characters\n",
    "total_chars = reduce(lambda x, y: x + y, map(len, words))\n",
    "\n",
    "print(\"Long Words:\", long_words)\n",
    "print(\"Capitalized:\", capitalized)\n",
    "print(\"Total Characters:\", total_chars)\n"
   ]
  },
  {
   "cell_type": "markdown",
   "metadata": {},
   "source": [
    "### 5. Employee Salary Processing"
   ]
  },
  {
   "cell_type": "code",
   "execution_count": null,
   "metadata": {},
   "outputs": [],
   "source": [
    "from functools import reduce\n",
    "\n",
    "salaries = [35000, 47000, 55000, 62000, 49000]\n",
    "bonus = 0.1  # 10% bonus\n",
    "high_earner_threshold = 50000\n",
    "\n",
    "# Apply bonus\n",
    "with_bonus = list(map(lambda x: x + x * bonus, salaries))\n",
    "\n",
    "# Filter high earners\n",
    "high_earners = list(filter(lambda x: x > high_earner_threshold, with_bonus))\n",
    "\n",
    "# Find highest salary\n",
    "highest_salary = reduce(lambda x, y: x if x > y else y, with_bonus)\n",
    "\n",
    "print(\"Salaries with Bonus:\", with_bonus)\n",
    "print(\"High Earners:\", high_earners)\n",
    "print(\"Highest Salary:\", highest_salary)\n"
   ]
  },
  {
   "cell_type": "markdown",
   "metadata": {},
   "source": [
    "### 6. List of Numbers: Even Filtering and Summation"
   ]
  },
  {
   "cell_type": "code",
   "execution_count": null,
   "metadata": {},
   "outputs": [],
   "source": [
    "from functools import reduce\n",
    "\n",
    "numbers = [1, 2, 3, 4, 5, 6, 7, 8, 9, 10]\n",
    "\n",
    "# Filter even numbers\n",
    "evens = list(filter(lambda x: x % 2 == 0, numbers))\n",
    "\n",
    "# Square all numbers\n",
    "squared = list(map(lambda x: x ** 2, evens))\n",
    "\n",
    "# Sum them up\n",
    "sum_of_squares = reduce(lambda x, y: x + y, squared)\n",
    "\n",
    "print(\"Even Numbers:\", evens)\n",
    "print(\"Squared Evens:\", squared)\n",
    "print(\"Sum of Squares:\", sum_of_squares)\n"
   ]
  }
 ],
 "metadata": {
  "kernelspec": {
   "display_name": "Python 3",
   "language": "python",
   "name": "python3"
  },
  "language_info": {
   "codemirror_mode": {
    "name": "ipython",
    "version": 3
   },
   "file_extension": ".py",
   "mimetype": "text/x-python",
   "name": "python",
   "nbconvert_exporter": "python",
   "pygments_lexer": "ipython3",
   "version": "3.11.9"
  }
 },
 "nbformat": 4,
 "nbformat_minor": 2
}
