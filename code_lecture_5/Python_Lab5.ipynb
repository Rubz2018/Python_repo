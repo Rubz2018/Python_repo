{
 "cells": [
  {
   "cell_type": "markdown",
   "metadata": {
    "id": "v23odpAkkybT"
   },
   "source": [
    "  \n",
    "<h1>Python Tutorial Lab 5</h1>\n",
    "</div>\n",
    "</body>\n",
    "</html>"
   ]
  },
  {
   "cell_type": "code",
   "execution_count": null,
   "metadata": {
    "colab": {
     "base_uri": "https://localhost:8080/"
    },
    "executionInfo": {
     "elapsed": 5619,
     "status": "ok",
     "timestamp": 1729271096016,
     "user": {
      "displayName": "Dr. Rubaiyat Islam",
      "userId": "00143020000614467639"
     },
     "user_tz": -360
    },
    "id": "rExgZVnFk_UH",
    "outputId": "b0d0b3b5-3549-476c-992f-99bb18af5a15"
   },
   "outputs": [],
   "source": [
    "# from google.colab import drive\n",
    "# drive.mount('/content/drive')"
   ]
  },
  {
   "cell_type": "code",
   "execution_count": 3,
   "metadata": {
    "collapsed": true,
    "executionInfo": {
     "elapsed": 119,
     "status": "ok",
     "timestamp": 1729271096016,
     "user": {
      "displayName": "Dr. Rubaiyat Islam",
      "userId": "00143020000614467639"
     },
     "user_tz": -360
    },
    "id": "sEO0BWWFkybV"
   },
   "outputs": [],
   "source": [
    "import sys\n",
    "import keyword\n",
    "import operator\n",
    "from datetime import datetime\n",
    "import os"
   ]
  },
  {
   "cell_type": "markdown",
   "metadata": {
    "id": "u3lrh-ytkycI"
   },
   "source": [
    "# Lambda, Filter, Map and Reduce"
   ]
  },
  {
   "cell_type": "markdown",
   "metadata": {
    "id": "q32pIxPrkycI"
   },
   "source": [
    "__Lambda__\n",
    "\n",
    "- A lambda function is an anonymous function (function without a name).\n",
    "\n",
    "\n",
    "- Lambda functions can have any number of arguments but only one expression. The expression is evaluated and returned.\n",
    "\n",
    "\n",
    "- We use lambda functions when we require a nameless function for a short period of time.\n",
    "\n",
    "\n",
    "__Syntax:-__"
   ]
  },
  {
   "cell_type": "markdown",
   "metadata": {
    "id": "bVfeDmJ2kycI"
   },
   "source": [
    "<img src=\"lambda1.PNG\">"
   ]
  },
  {
   "cell_type": "markdown",
   "metadata": {
    "id": "-XbFInC5kycI"
   },
   "source": [
    "__Filter__\n",
    "\n",
    "\n",
    "- It is used to filter the iterables/sequence as per the conditions.\n",
    "\n",
    "\n",
    "- Filter function filters the original iterable and passes the items that returns True for the function provided to filter.\n",
    "\n",
    "\n",
    "- It is normally used with Lambda functions to filter list, tuple, or sets.\n",
    "\n",
    "\n",
    "\n",
    "filter() method takes two parameters:\n",
    "\n",
    "- __function__ - function tests if elements of an iterable returns true or false\n",
    "\n",
    "- __iterable__ - Sequence which needs to be filtered, could be sets, lists, tuples, or any iterators\n",
    "\n",
    "\n",
    "\n",
    "\n",
    "__Syntax:__"
   ]
  },
  {
   "cell_type": "markdown",
   "metadata": {
    "id": "fz1M3JeKkycI"
   },
   "source": [
    "<img src=\"filter.PNG\">"
   ]
  },
  {
   "cell_type": "markdown",
   "metadata": {
    "id": "Y8acpz-MkycI"
   },
   "source": [
    "__Map__\n",
    "\n",
    "- The map() function applies a given function to each item of an iterable (list, tuple etc.) and returns a list of the results.\n",
    "\n",
    "\n",
    "\n",
    "\n",
    "map() function takes two Parameters :\n",
    "\n",
    "-   __function__ :  The function to execute for each item of given iterable.\n",
    "\n",
    "\n",
    "-   __iterable__ : It is a iterable which is to be mapped.\n",
    "\n",
    "\n",
    "__Returns__ : Returns a list of the results after applying the given function to each item of a given iterable (list, tuple etc.)\n",
    "\n",
    "__Syntax:__"
   ]
  },
  {
   "cell_type": "markdown",
   "metadata": {
    "id": "aAz_gqqdkycI"
   },
   "source": [
    "<img src=\"map.PNG\">"
   ]
  },
  {
   "cell_type": "markdown",
   "metadata": {
    "id": "h4ZnEruikycI"
   },
   "source": [
    "__Reduce__\n",
    "\n",
    "- The reduce() function is defined in the __functools__ python module.The reduce() function receives two arguments, a function and an iterable. However, it doesn't return another iterable, instead it returns a single value.\n",
    "\n",
    "\n",
    "__Working:__\n",
    "\n",
    " 1)  Apply a function to the first two items in an iterable and generate a partial result.\n",
    "\n",
    " 2)  The function is then called again with the result obtained in __step 1__ and the next value in the sequence. This process keeps on repeating until there are items in the sequence.\n",
    "\n",
    " 3)  The final returned result is returned and printed on console.\n",
    "\n",
    "\n",
    "\n",
    "__Syntax:__"
   ]
  },
  {
   "cell_type": "markdown",
   "metadata": {
    "id": "kbT-F9AHkycI"
   },
   "source": [
    "<img src=\"reduce.PNG\">"
   ]
  },
  {
   "cell_type": "code",
   "execution_count": 34,
   "metadata": {
    "executionInfo": {
     "elapsed": 185,
     "status": "aborted",
     "timestamp": 1729271174697,
     "user": {
      "displayName": "Dr. Rubaiyat Islam",
      "userId": "00143020000614467639"
     },
     "user_tz": -360
    },
    "id": "IMt48i2qkycI"
   },
   "outputs": [
    {
     "name": "stdout",
     "output_type": "stream",
     "text": [
      "15\n"
     ]
    }
   ],
   "source": [
    "addition = lambda a : a + 10  # This lambda function adds value 10 to an argument.\n",
    "print(addition(5))"
   ]
  },
  {
   "cell_type": "code",
   "execution_count": 35,
   "metadata": {
    "executionInfo": {
     "elapsed": 185,
     "status": "aborted",
     "timestamp": 1729271174697,
     "user": {
      "displayName": "Dr. Rubaiyat Islam",
      "userId": "00143020000614467639"
     },
     "user_tz": -360
    },
    "id": "QE09i9AWkycI"
   },
   "outputs": [
    {
     "name": "stdout",
     "output_type": "stream",
     "text": [
      "30\n"
     ]
    }
   ],
   "source": [
    "product = lambda a, b : a * b #This lambda function takes two arguments (a,b) and returns their product (a*b).\n",
    "print(product(5, 6))"
   ]
  },
  {
   "cell_type": "code",
   "execution_count": null,
   "metadata": {
    "executionInfo": {
     "elapsed": 185,
     "status": "aborted",
     "timestamp": 1729271174697,
     "user": {
      "displayName": "Dr. Rubaiyat Islam",
      "userId": "00143020000614467639"
     },
     "user_tz": -360
    },
    "id": "yWXU-GytkycI"
   },
   "outputs": [],
   "source": [
    "addition = lambda a, b, c : a + b + c  #This lambda function takes three arguments (a,b,c) and returns their sum (a+b+c).\n",
    "print(addition(5, 6, 2))"
   ]
  },
  {
   "cell_type": "code",
   "execution_count": null,
   "metadata": {
    "executionInfo": {
     "elapsed": 185,
     "status": "aborted",
     "timestamp": 1729271174697,
     "user": {
      "displayName": "Dr. Rubaiyat Islam",
      "userId": "00143020000614467639"
     },
     "user_tz": -360
    },
    "id": "ffePTFHskycJ"
   },
   "outputs": [],
   "source": [
    "res = (lambda *args: sum(args))  # This lambda function can take any number of arguments and return thier sum.\n",
    "res(10,20) , res(10,20,30,40) ,  res(10,20,30,40,50,60,70)"
   ]
  },
  {
   "cell_type": "code",
   "execution_count": null,
   "metadata": {
    "executionInfo": {
     "elapsed": 185,
     "status": "aborted",
     "timestamp": 1729271174697,
     "user": {
      "displayName": "Dr. Rubaiyat Islam",
      "userId": "00143020000614467639"
     },
     "user_tz": -360
    },
    "id": "BJFwnYEdkycJ"
   },
   "outputs": [],
   "source": [
    "res1 = (lambda **kwargs: sum(kwargs.values())) # This lambda function can take any number of arguments and return thier sum.\n",
    "res1(a = 10 , b= 20 , c = 30) , res1(a = 10 , b= 20 , c = 30, d = 40 , e = 50)"
   ]
  },
  {
   "cell_type": "code",
   "execution_count": null,
   "metadata": {
    "executionInfo": {
     "elapsed": 185,
     "status": "aborted",
     "timestamp": 1729271174697,
     "user": {
      "displayName": "Dr. Rubaiyat Islam",
      "userId": "00143020000614467639"
     },
     "user_tz": -360
    },
    "id": "G8g9ZhL-kycJ"
   },
   "outputs": [],
   "source": [
    "res1 = (lambda **kwargs: sum(kwargs.values())) # This lambda function can take any number of arguments and return thier sum.\n",
    "res1(a = 10 , b= 20 , c = 30) , res1(a = 10 , b= 20 , c = 30, d = 40 , e = 50)"
   ]
  },
  {
   "cell_type": "code",
   "execution_count": null,
   "metadata": {
    "executionInfo": {
     "elapsed": 185,
     "status": "aborted",
     "timestamp": 1729271174697,
     "user": {
      "displayName": "Dr. Rubaiyat Islam",
      "userId": "00143020000614467639"
     },
     "user_tz": -360
    },
    "id": "gk1DpKJfkycJ"
   },
   "outputs": [],
   "source": [
    "# User defined function to find product of numbers\n",
    "def product(nums):\n",
    "    total = 1\n",
    "    for i in nums:\n",
    "        total *= i\n",
    "    return total\n",
    "\n",
    "# This lambda function can take any number of arguments and return thier product.\n",
    "res1 = (lambda **kwargs: product(kwargs.values()))\n",
    "res1(a = 10 , b= 20 , c = 30) , res1(a = 10 , b= 20 , c = 30, d = 40 , e = 50)"
   ]
  },
  {
   "cell_type": "code",
   "execution_count": null,
   "metadata": {
    "executionInfo": {
     "elapsed": 184,
     "status": "aborted",
     "timestamp": 1729271174697,
     "user": {
      "displayName": "Dr. Rubaiyat Islam",
      "userId": "00143020000614467639"
     },
     "user_tz": -360
    },
    "id": "chsOcC2gkycJ"
   },
   "outputs": [],
   "source": [
    "def myfunc(n):\n",
    "  return lambda a : a + n\n",
    "\n",
    "add10 = myfunc(10)\n",
    "add20 = myfunc(20)\n",
    "add30 = myfunc(30)\n",
    "\n",
    "print(add10(5))\n",
    "print(add20(5))\n",
    "print(add30(5))"
   ]
  },
  {
   "cell_type": "code",
   "execution_count": 36,
   "metadata": {
    "executionInfo": {
     "elapsed": 184,
     "status": "aborted",
     "timestamp": 1729271174697,
     "user": {
      "displayName": "Dr. Rubaiyat Islam",
      "userId": "00143020000614467639"
     },
     "user_tz": -360
    },
    "id": "TSYmf2qXkycJ"
   },
   "outputs": [
    {
     "data": {
      "text/plain": [
       "[1, 3, 5, 7, 9]"
      ]
     },
     "execution_count": 36,
     "metadata": {},
     "output_type": "execute_result"
    }
   ],
   "source": [
    "list1 = [1,2,3,4,5,6,7,8,9]\n",
    "\n",
    "def odd(n):\n",
    "    if n%2 ==1: return True\n",
    "    else: return False\n",
    "\n",
    "odd_num = list(filter(odd,list1)) # This Filter function filters list1 and passes all odd numbers to filter().\n",
    "odd_num"
   ]
  },
  {
   "cell_type": "code",
   "execution_count": null,
   "metadata": {
    "executionInfo": {
     "elapsed": 184,
     "status": "aborted",
     "timestamp": 1729271174697,
     "user": {
      "displayName": "Dr. Rubaiyat Islam",
      "userId": "00143020000614467639"
     },
     "user_tz": -360
    },
    "id": "xz9zDXfVkycJ"
   },
   "outputs": [],
   "source": [
    "list1 = [1,2,3,4,5,6,7,8,9]\n",
    "# The below Filter function filters \"list1\" and passes all odd numbers using lambda function to filter().\n",
    "odd_num = list(filter(lambda n: n%2 ==1 ,list1))\n",
    "odd_num"
   ]
  },
  {
   "cell_type": "code",
   "execution_count": null,
   "metadata": {
    "executionInfo": {
     "elapsed": 184,
     "status": "aborted",
     "timestamp": 1729271174697,
     "user": {
      "displayName": "Dr. Rubaiyat Islam",
      "userId": "00143020000614467639"
     },
     "user_tz": -360
    },
    "id": "VsqiEmmWkycJ"
   },
   "outputs": [],
   "source": [
    "def twice(n):\n",
    "    return n*2\n",
    "\n",
    "doubles = list(map(twice,odd_num)) # The map function will apply user defined \"twice()\" function on all items of the list\n",
    "doubles"
   ]
  },
  {
   "cell_type": "code",
   "execution_count": null,
   "metadata": {
    "executionInfo": {
     "elapsed": 184,
     "status": "aborted",
     "timestamp": 1729271174697,
     "user": {
      "displayName": "Dr. Rubaiyat Islam",
      "userId": "00143020000614467639"
     },
     "user_tz": -360
    },
    "id": "KVTnD4NhkycJ"
   },
   "outputs": [],
   "source": [
    "doubles = list(map(lambda n:n*2,odd_num)) # This map function will double all items of the list using lambda function.\n",
    "doubles"
   ]
  },
  {
   "cell_type": "code",
   "execution_count": null,
   "metadata": {
    "executionInfo": {
     "elapsed": 184,
     "status": "aborted",
     "timestamp": 1729271174697,
     "user": {
      "displayName": "Dr. Rubaiyat Islam",
      "userId": "00143020000614467639"
     },
     "user_tz": -360
    },
    "id": "eMrq7YTOkycJ"
   },
   "outputs": [],
   "source": [
    "from functools import reduce\n",
    "\n",
    "def add(a,b):\n",
    "    return a+b\n",
    "\n",
    "sum_all = reduce(add,doubles) # This reduce function will perform sum of all items in the list using user defined \"add()\" func.\n",
    "sum_all"
   ]
  },
  {
   "cell_type": "code",
   "execution_count": null,
   "metadata": {
    "executionInfo": {
     "elapsed": 184,
     "status": "aborted",
     "timestamp": 1729271174697,
     "user": {
      "displayName": "Dr. Rubaiyat Islam",
      "userId": "00143020000614467639"
     },
     "user_tz": -360
    },
    "id": "USCc9wUzkycJ"
   },
   "outputs": [],
   "source": [
    "#The below reduce() function will perform sum of all items in the list using lambda function.\n",
    "sum_all = reduce(lambda a,b : a+b,doubles)\n",
    "sum_all"
   ]
  },
  {
   "cell_type": "code",
   "execution_count": null,
   "metadata": {
    "executionInfo": {
     "elapsed": 184,
     "status": "aborted",
     "timestamp": 1729271174697,
     "user": {
      "displayName": "Dr. Rubaiyat Islam",
      "userId": "00143020000614467639"
     },
     "user_tz": -360
    },
    "id": "2prL6ERpkycJ"
   },
   "outputs": [],
   "source": [
    "# Putting all together\n",
    "\n",
    "sum_all = reduce(lambda a,b : a+b,list(map(lambda n:n*2,list(filter(lambda n: n%2 ==1 ,list1)))))\n",
    "sum_all"
   ]
  },
  {
   "cell_type": "markdown",
   "metadata": {
    "id": "UwVFzH4CkycK"
   },
   "source": [
    "<img src=\"fmr.PNG\">"
   ]
  },
  {
   "cell_type": "code",
   "execution_count": null,
   "metadata": {
    "collapsed": true,
    "executionInfo": {
     "elapsed": 184,
     "status": "aborted",
     "timestamp": 1729271174697,
     "user": {
      "displayName": "Dr. Rubaiyat Islam",
      "userId": "00143020000614467639"
     },
     "user_tz": -360
    },
    "id": "16pn143jkycK"
   },
   "outputs": [],
   "source": [
    "# More examples on Map , Filter , Reduce"
   ]
  },
  {
   "cell_type": "code",
   "execution_count": null,
   "metadata": {
    "executionInfo": {
     "elapsed": 183,
     "status": "aborted",
     "timestamp": 1729271174697,
     "user": {
      "displayName": "Dr. Rubaiyat Islam",
      "userId": "00143020000614467639"
     },
     "user_tz": -360
    },
    "id": "t0en1TpbkycK"
   },
   "outputs": [],
   "source": [
    "list1 = [1,2,3,4,5,6,7,8,9,10]\n",
    "even = list(filter(lambda n: n%2 ==0 ,list1)) # Filter even numbers from the list\n",
    "odd =  list(filter(lambda n: n%2 !=0 ,list1))   # Filter odd numbers from the list\n",
    "\n",
    "print('--------')\n",
    "print(even)\n",
    "print(odd)\n",
    "print('--------')\n",
    "\n",
    "list2 = ['one' , 'TWO' , 'three' , 'FOUR']\n",
    "\n",
    "upper = list(filter(lambda x: x.isupper() , list2)) # filter uppercase strings from the list\n",
    "\n",
    "lower = list(filter(lambda x: x.islower() , list2)) # filter lowercase strings from the list\n",
    "\n",
    "\n",
    "print(upper)\n",
    "print(lower)\n",
    "print('--------')\n",
    "\n",
    "list3 = ['one' , 'two2' , 'three3' ,'88' , '99' , '102']\n",
    "\n",
    "numeric = list(filter(lambda x:x.isnumeric(), list3))  # filter numbers from the list\n",
    "\n",
    "alpha = list(filter(lambda x:x.isalpha(), list3))      # filter character strings from the list\n",
    "\n",
    "alphanum = list(filter(lambda x:x.isalnum(), list3)) # filtr numbers & character strings from the list\n",
    "\n",
    "\n",
    "print(alpha)\n",
    "print(numeric)\n",
    "print(alphanum)\n",
    "print('--------')\n",
    "\n",
    "\n",
    "#Vowel Test\n"
   ]
  },
  {
   "cell_type": "code",
   "execution_count": null,
   "metadata": {
    "executionInfo": {
     "elapsed": 183,
     "status": "aborted",
     "timestamp": 1729271174697,
     "user": {
      "displayName": "Dr. Rubaiyat Islam",
      "userId": "00143020000614467639"
     },
     "user_tz": -360
    },
    "id": "4cQ6-gSUkycK"
   },
   "outputs": [],
   "source": [
    "list1 = [1,2,3,4]\n",
    "list2 = [5,6,7,8]\n",
    "\n",
    "def double(x):\n",
    "    return x+x\n",
    "\n",
    "def add(x,y):\n",
    "    return x+y\n",
    "\n",
    "def square(x):\n",
    "    return x*x\n",
    "\n",
    "print('---------------')\n",
    "\n",
    "print(list(map(double, list1))) # Double each number using map & User defined function\n",
    "print(list(map(add, list1, list2))) # add two items  using map & User defined function\n",
    "print(list(map(square, list1))) #Square numbers using map & User defined function\n",
    "\n",
    "print('---------------')\n",
    "\n",
    "print(list(map(lambda x: x + x, list1))) # Double each number using map & lambda\n",
    "print(list(map(lambda x, y: x + y, list1, list2))) # add two items  using map & lambda\n",
    "print(list(map(lambda x: x*x, list1))) #Square numbers using map & lambda\n",
    "\n",
    "print('---------------')"
   ]
  },
  {
   "cell_type": "code",
   "execution_count": null,
   "metadata": {
    "executionInfo": {
     "elapsed": 183,
     "status": "aborted",
     "timestamp": 1729271174697,
     "user": {
      "displayName": "Dr. Rubaiyat Islam",
      "userId": "00143020000614467639"
     },
     "user_tz": -360
    },
    "id": "L-f3vKkkkycK"
   },
   "outputs": [],
   "source": [
    "list2 = [1,2,3,4]\n",
    "\n",
    "product = reduce (operator.mul,list2) # Product of all numbers in a list\n",
    "\n",
    "add = reduce(operator.add,list2) # Add all numbers in the list\n",
    "\n",
    "concat_str = reduce(operator.add , ['Python' , ' ' , 'Rocks']) # Concatenate string using reduce\n",
    "\n",
    "prod = reduce(operator.mul,['Hello ' , 3]) #Repeat a string multiple times\n",
    "\n",
    "min_num = reduce(lambda a, b: a if a < b else b, list2) # Minimum number in the list using reduce () & lambda\n",
    "\n",
    "max_num = reduce(lambda a, b: a if a > b else b, list2) # Maximum number in the list using reduce () & lambda\n",
    "\n",
    "print(product)\n",
    "\n",
    "print(add)\n",
    "\n",
    "print(concat_str)\n",
    "\n",
    "print(prod)\n",
    "\n",
    "print(min_num)\n",
    "\n",
    "print(max_num)"
   ]
  },
  {
   "cell_type": "code",
   "execution_count": null,
   "metadata": {
    "executionInfo": {
     "elapsed": 183,
     "status": "aborted",
     "timestamp": 1729271174697,
     "user": {
      "displayName": "Dr. Rubaiyat Islam",
      "userId": "00143020000614467639"
     },
     "user_tz": -360
    },
    "id": "WYqtu5OYkycK"
   },
   "outputs": [],
   "source": [
    "def min_func(a, b):\n",
    "        return a if a < b else b\n",
    "\n",
    "\n",
    "def max_func(a, b):\n",
    "    return a if a > b else b\n",
    "\n",
    "min_num = reduce(min_func, list2) # Minimum number in the list using reduce () & User defined min function\n",
    "\n",
    "max_num = reduce(max_func, list2) # Maximum number in the list using reduce () & User defined min function\n",
    "\n",
    "min_num , max_num"
   ]
  },
  {
   "cell_type": "code",
   "execution_count": null,
   "metadata": {
    "executionInfo": {
     "elapsed": 184,
     "status": "aborted",
     "timestamp": 1729271174698,
     "user": {
      "displayName": "Dr. Rubaiyat Islam",
      "userId": "00143020000614467639"
     },
     "user_tz": -360
    },
    "id": "kEYYPH3dkycK",
    "scrolled": true
   },
   "outputs": [],
   "source": [
    "print('------')\n",
    "print(reduce(lambda a, b: bool(a and b), [0, 0, 1, 0, 0])) # Returns True if all values in the list are True\n",
    "print(reduce(lambda a, b: bool(a and b), [2, 3, 1, 5, 6])) # Returns True if all items in the list are True\n",
    "print(reduce(lambda a, b: bool(a and b), [8, 9, 1, 0, 9])) # Returns True if all values in the list are True\n",
    "\n",
    "print('------')\n",
    "\n",
    "print(reduce(lambda a, b: bool(a or b), [0, 0, 0, 0, 0]))  # Returns True if any item in the list is True\n",
    "print(reduce(lambda a, b: bool(a or b), [2, 3, 1, 5, 6]))  # Returns True if any item in the list is True\n",
    "print(reduce(lambda a, b: bool(a or b), [8, 9, 1, 0, 9]))  # Returns True if any item in the list is True\n",
    "\n",
    "print('------')"
   ]
  },
  {
   "cell_type": "markdown",
   "metadata": {
    "id": "1Lm74TLpkycS"
   },
   "source": [
    "# END"
   ]
  }
 ],
 "metadata": {
  "colab": {
   "provenance": []
  },
  "kernelspec": {
   "display_name": "base",
   "language": "python",
   "name": "python3"
  },
  "language_info": {
   "codemirror_mode": {
    "name": "ipython",
    "version": 3
   },
   "file_extension": ".py",
   "mimetype": "text/x-python",
   "name": "python",
   "nbconvert_exporter": "python",
   "pygments_lexer": "ipython3",
   "version": "3.9.13"
  }
 },
 "nbformat": 4,
 "nbformat_minor": 0
}
